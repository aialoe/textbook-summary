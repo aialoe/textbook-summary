{
 "cells": [
  {
   "cell_type": "code",
   "execution_count": 1,
   "id": "d7285287-eef1-4707-a1fc-093a2c147862",
   "metadata": {},
   "outputs": [],
   "source": [
    "import requests\n",
    "from bs4 import BeautifulSoup\n",
    "import re\n",
    "import pandas as pd"
   ]
  },
  {
   "cell_type": "code",
   "execution_count": 2,
   "id": "1f328d05-b671-4daa-854f-c406520ac140",
   "metadata": {},
   "outputs": [],
   "source": [
    "def twoDig(number):\n",
    "    if len(str(number)) == 1:\n",
    "        return '0'+str(number)\n",
    "    else:\n",
    "        return str(number)\n",
    "    \n",
    "def getText(URL):\n",
    "    r = requests.get(URL)\n",
    "    soup = BeautifulSoup(r.text, 'html.parser')\n",
    "    all_text = soup.get_text().lstrip('Learning Objectives').rstrip('PreviousNext')\n",
    "    selection_text = re.sub('PreviousNext.+', '', all_text, flags=re.DOTALL)\n",
    "    selection_text = re.sub('.+Learning Objectives', '', selection_text, flags=re.DOTALL)\n",
    "    return(selection_text)"
   ]
  },
  {
   "cell_type": "markdown",
   "id": "c22ca11e-c46d-4b32-8f80-2d97da26d5ca",
   "metadata": {
    "tags": []
   },
   "source": [
    "## List of URLS"
   ]
  },
  {
   "cell_type": "code",
   "execution_count": 3,
   "id": "3c3ce1e3-51e0-4b3f-8f59-778205fd3771",
   "metadata": {},
   "outputs": [],
   "source": [
    "chapter_urls = {'01-1': 'https://openstax.org/books/principles-macroeconomics-2e/pages/1-1-what-is-economics-and-why-is-it-important',\n",
    "                '01-2': 'https://openstax.org/books/principles-macroeconomics-2e/pages/1-2-microeconomics-and-macroeconomics',\n",
    "                '01-3': 'https://openstax.org/books/principles-macroeconomics-2e/pages/1-3-how-economists-use-theories-and-models-to-understand-economic-issues',\n",
    "                '01-4': 'https://openstax.org/books/principles-macroeconomics-2e/pages/1-4-how-to-organize-economies-an-overview-of-economic-systems',\n",
    "                '02-1': 'https://openstax.org/books/principles-macroeconomics-2e/pages/2-1-how-individuals-make-choices-based-on-their-budget-constraint',\n",
    "                '02-2': 'https://openstax.org/books/principles-macroeconomics-2e/pages/2-2-the-production-possibilities-frontier-and-social-choices',\n",
    "                '02-3': 'https://openstax.org/books/principles-macroeconomics-2e/pages/2-3-confronting-objections-to-the-economic-approach',\n",
    "                '03-1': 'https://openstax.org/books/principles-macroeconomics-2e/pages/3-1-demand-supply-and-equilibrium-in-markets-for-goods-and-services',\n",
    "                '03-2': 'https://openstax.org/books/principles-macroeconomics-2e/pages/3-2-shifts-in-demand-and-supply-for-goods-and-services',\n",
    "                '03-3': 'https://openstax.org/books/principles-macroeconomics-2e/pages/3-3-changes-in-equilibrium-price-and-quantity-the-four-step-process',\n",
    "                '03-4': 'https://openstax.org/books/principles-macroeconomics-2e/pages/3-4-price-ceilings-and-price-floors',\n",
    "                '03-5': 'https://openstax.org/books/principles-macroeconomics-2e/pages/3-5-demand-supply-and-efficiency',\n",
    "                '04-1': 'https://openstax.org/books/principles-macroeconomics-2e/pages/4-1-demand-and-supply-at-work-in-labor-markets',\n",
    "                '04-2': 'https://openstax.org/books/principles-macroeconomics-2e/pages/4-2-demand-and-supply-in-financial-markets',\n",
    "                '04-3': 'https://openstax.org/books/principles-macroeconomics-2e/pages/4-3-the-market-system-as-an-efficient-mechanism-for-information',\n",
    "                '05-1': 'https://openstax.org/books/principles-macroeconomics-2e/pages/5-1-price-elasticity-of-demand-and-price-elasticity-of-supply',\n",
    "                '05-2': 'https://openstax.org/books/principles-macroeconomics-2e/pages/5-2-polar-cases-of-elasticity-and-constant-elasticity',\n",
    "                '05-3': 'https://openstax.org/books/principles-macroeconomics-2e/pages/5-3-elasticity-and-pricing',\n",
    "                '05-4': 'https://openstax.org/books/principles-macroeconomics-2e/pages/5-4-elasticity-in-areas-other-than-price',\n",
    "                '06-1': 'https://openstax.org/books/principles-macroeconomics-2e/pages/6-1-measuring-the-size-of-the-economy-gross-domestic-product',\n",
    "                '06-2': 'https://openstax.org/books/principles-macroeconomics-2e/pages/6-2-adjusting-nominal-values-to-real-values',\n",
    "                '06-3': 'https://openstax.org/books/principles-macroeconomics-2e/pages/6-3-tracking-real-gdp-over-time',\n",
    "                '06-4': 'https://openstax.org/books/principles-macroeconomics-2e/pages/6-4-comparing-gdp-among-countries',\n",
    "                '06-5': 'https://openstax.org/books/principles-macroeconomics-2e/pages/6-5-how-well-gdp-measures-the-well-being-of-society',\n",
    "                '07-1': 'https://openstax.org/books/principles-macroeconomics-2e/pages/7-1-the-relatively-recent-arrival-of-economic-growth',\n",
    "                '07-2': 'https://openstax.org/books/principles-macroeconomics-2e/pages/7-2-labor-productivity-and-economic-growth',\n",
    "                '07-3': 'https://openstax.org/books/principles-macroeconomics-2e/pages/7-3-components-of-economic-growth',\n",
    "                '07-4': 'https://openstax.org/books/principles-macroeconomics-2e/pages/7-4-economic-convergence',\n",
    "                '08-1': 'https://openstax.org/books/principles-macroeconomics-2e/pages/8-1-how-economists-define-and-compute-unemployment-rate',\n",
    "                '08-2': 'https://openstax.org/books/principles-macroeconomics-2e/pages/8-2-patterns-of-unemployment',\n",
    "                '08-3': 'https://openstax.org/books/principles-macroeconomics-2e/pages/8-3-what-causes-changes-in-unemployment-over-the-short-run',\n",
    "                '08-4': 'https://openstax.org/books/principles-macroeconomics-2e/pages/8-4-what-causes-changes-in-unemployment-over-the-long-run',\n",
    "                '09-1': 'https://openstax.org/books/principles-macroeconomics-2e/pages/9-1-tracking-inflation',\n",
    "                '09-2': 'https://openstax.org/books/principles-macroeconomics-2e/pages/9-2-how-to-measure-changes-in-the-cost-of-living',\n",
    "                '09-3': 'https://openstax.org/books/principles-macroeconomics-2e/pages/9-3-how-the-u-s-and-other-countries-experience-inflation',\n",
    "                '09-4': 'https://openstax.org/books/principles-macroeconomics-2e/pages/9-4-the-confusion-over-inflation',\n",
    "                '09-5': 'https://openstax.org/books/principles-macroeconomics-2e/pages/9-5-indexing-and-its-limitations',\n",
    "                '10-1': 'https://openstax.org/books/principles-macroeconomics-2e/pages/10-1-measuring-trade-balances',\n",
    "                '10-2': 'https://openstax.org/books/principles-macroeconomics-2e/pages/10-2-trade-balances-in-historical-and-international-context',\n",
    "                '10-3': 'https://openstax.org/books/principles-macroeconomics-2e/pages/10-3-trade-balances-and-flows-of-financial-capital',\n",
    "                '10-4': 'https://openstax.org/books/principles-macroeconomics-2e/pages/10-4-the-national-saving-and-investment-identity',\n",
    "                '10-5': 'https://openstax.org/books/principles-macroeconomics-2e/pages/10-5-the-pros-and-cons-of-trade-deficits-and-surpluses',\n",
    "                '10-6': 'https://openstax.org/books/principles-macroeconomics-2e/pages/10-6-the-difference-between-level-of-trade-and-the-trade-balance',\n",
    "                '11-1': 'https://openstax.org/books/principles-macroeconomics-2e/pages/11-1-macroeconomic-perspectives-on-demand-and-supply',\n",
    "                '11-2': 'https://openstax.org/books/principles-macroeconomics-2e/pages/11-2-building-a-model-of-aggregate-demand-and-aggregate-supply',\n",
    "                '11-3': 'https://openstax.org/books/principles-macroeconomics-2e/pages/11-3-shifts-in-aggregate-supply',\n",
    "                '11-4': 'https://openstax.org/books/principles-macroeconomics-2e/pages/11-4-shifts-in-aggregate-demand',\n",
    "                '11-5': 'https://openstax.org/books/principles-macroeconomics-2e/pages/11-5-how-the-ad-as-model-incorporates-growth-unemployment-and-inflation',\n",
    "                '11-6': 'https://openstax.org/books/principles-macroeconomics-2e/pages/11-6-keynes-law-and-says-law-in-the-ad-as-model',\n",
    "                '12-1': 'https://openstax.org/books/principles-macroeconomics-2e/pages/12-1-aggregate-demand-in-keynesian-analysis',\n",
    "                '12-2': 'https://openstax.org/books/principles-macroeconomics-2e/pages/12-2-the-building-blocks-of-keynesian-analysis',\n",
    "                '12-3': 'https://openstax.org/books/principles-macroeconomics-2e/pages/12-3-the-phillips-curve',\n",
    "                '12-4': 'https://openstax.org/books/principles-macroeconomics-2e/pages/12-4-the-keynesian-perspective-on-market-forces',\n",
    "                '13-1': 'https://openstax.org/books/principles-macroeconomics-2e/pages/13-1-the-building-blocks-of-neoclassical-analysis',\n",
    "                '13-2': 'https://openstax.org/books/principles-macroeconomics-2e/pages/13-2-the-policy-implications-of-the-neoclassical-perspective',\n",
    "                '13-3': 'https://openstax.org/books/principles-macroeconomics-2e/pages/13-3-balancing-keynesian-and-neoclassical-models',\n",
    "                '14-1': 'https://openstax.org/books/principles-macroeconomics-2e/pages/14-1-defining-money-by-its-functions',\n",
    "                '14-2': 'https://openstax.org/books/principles-macroeconomics-2e/pages/14-2-measuring-money-currency-m1-and-m2',\n",
    "                '14-3': 'https://openstax.org/books/principles-macroeconomics-2e/pages/14-3-the-role-of-banks',\n",
    "                '14-4': 'https://openstax.org/books/principles-macroeconomics-2e/pages/14-4-how-banks-create-money',\n",
    "                '15-1': 'https://openstax.org/books/principles-macroeconomics-2e/pages/15-1-the-federal-reserve-banking-system-and-central-banks',\n",
    "                '15-2': 'https://openstax.org/books/principles-macroeconomics-2e/pages/15-2-bank-regulation',\n",
    "                '15-3': 'https://openstax.org/books/principles-macroeconomics-2e/pages/15-3-how-a-central-bank-executes-monetary-policy',\n",
    "                '15-4': 'https://openstax.org/books/principles-macroeconomics-2e/pages/15-4-monetary-policy-and-economic-outcomes',\n",
    "                '15-5': 'https://openstax.org/books/principles-macroeconomics-2e/pages/15-5-pitfalls-for-monetary-policy',\n",
    "                '16-1': 'https://openstax.org/books/principles-macroeconomics-2e/pages/16-1-how-the-foreign-exchange-market-works',\n",
    "                '16-2': 'https://openstax.org/books/principles-macroeconomics-2e/pages/16-2-demand-and-supply-shifts-in-foreign-exchange-markets',\n",
    "                '16-3': 'https://openstax.org/books/principles-macroeconomics-2e/pages/16-3-macroeconomic-effects-of-exchange-rates',\n",
    "                '16-4': 'https://openstax.org/books/principles-macroeconomics-2e/pages/16-4-exchange-rate-policies',\n",
    "                '17-1': 'https://openstax.org/books/principles-macroeconomics-2e/pages/17-1-government-spending',\n",
    "                '17-2': 'https://openstax.org/books/principles-macroeconomics-2e/pages/17-2-taxation',\n",
    "                '17-3': 'https://openstax.org/books/principles-macroeconomics-2e/pages/17-3-federal-deficits-and-the-national-debt',\n",
    "                '17-4': 'https://openstax.org/books/principles-macroeconomics-2e/pages/17-4-using-fiscal-policy-to-fight-recession-unemployment-and-inflation',\n",
    "                '17-5': 'https://openstax.org/books/principles-macroeconomics-2e/pages/17-5-automatic-stabilizers',\n",
    "                '17-6': 'https://openstax.org/books/principles-macroeconomics-2e/pages/17-6-practical-problems-with-discretionary-fiscal-policy',\n",
    "                '17-7': 'https://openstax.org/books/principles-macroeconomics-2e/pages/17-7-the-question-of-a-balanced-budget',\n",
    "                '18-1': 'https://openstax.org/books/principles-macroeconomics-2e/pages/18-1-how-government-borrowing-affects-investment-and-the-trade-balance',\n",
    "                '18-2': 'https://openstax.org/books/principles-macroeconomics-2e/pages/18-2-fiscal-policy-and-the-trade-balance',\n",
    "                '18-3': 'https://openstax.org/books/principles-macroeconomics-2e/pages/18-3-how-government-borrowing-affects-private-saving',\n",
    "                '18-4': 'https://openstax.org/books/principles-macroeconomics-2e/pages/18-4-fiscal-policy-investment-and-economic-growth',\n",
    "                '19-1': 'https://openstax.org/books/principles-macroeconomics-2e/pages/19-1-the-diversity-of-countries-and-economies-across-the-world',\n",
    "                '19-2': 'https://openstax.org/books/principles-macroeconomics-2e/pages/19-2-improving-countries-standards-of-living',\n",
    "                '19-3': 'https://openstax.org/books/principles-macroeconomics-2e/pages/19-3-causes-of-unemployment-around-the-world',\n",
    "                '19-4': 'https://openstax.org/books/principles-macroeconomics-2e/pages/19-4-causes-of-inflation-in-various-countries-and-regions',\n",
    "                '19-5': 'https://openstax.org/books/principles-macroeconomics-2e/pages/19-5-balance-of-trade-concerns',\n",
    "                '20-1': 'https://openstax.org/books/principles-macroeconomics-2e/pages/20-1-absolute-and-comparative-advantage',\n",
    "                '20-2': 'https://openstax.org/books/principles-macroeconomics-2e/pages/20-2-what-happens-when-a-country-has-an-absolute-advantage-in-all-goods',\n",
    "                '20-3': 'https://openstax.org/books/principles-macroeconomics-2e/pages/20-3-intra-industry-trade-between-similar-economies',\n",
    "                '20-4': 'https://openstax.org/books/principles-macroeconomics-2e/pages/20-4-the-benefits-of-reducing-barriers-to-international-trade',\n",
    "                '21-1': 'https://openstax.org/books/principles-macroeconomics-2e/pages/21-1-protectionism-an-indirect-subsidy-from-consumers-to-producers',\n",
    "                '21-2': 'https://openstax.org/books/principles-macroeconomics-2e/pages/21-2-international-trade-and-its-effects-on-jobs-wages-and-working-conditions',\n",
    "                '21-3': 'https://openstax.org/books/principles-macroeconomics-2e/pages/21-3-arguments-in-support-of-restricting-imports',\n",
    "                '21-4': 'https://openstax.org/books/principles-macroeconomics-2e/pages/21-4-how-governments-enact-trade-policy-globally-regionally-and-nationally',\n",
    "                '21-5': 'https://openstax.org/books/principles-macroeconomics-2e/pages/21-5-the-tradeoffs-of-trade-policy'                \n",
    "               }\n",
    "\n",
    "summary_urls = {}\n",
    "for i in range(21):\n",
    "    summary_urls[twoDig(i+1)] = 'https://openstax.org/books/principles-macroeconomics-2e/pages/' + str(i+1) + '-key-concepts-and-summary'"
   ]
  },
  {
   "cell_type": "markdown",
   "id": "c5de00fe-35bb-43c2-aa35-1e67a78b6df7",
   "metadata": {},
   "source": [
    "## Build Dataframe"
   ]
  },
  {
   "cell_type": "code",
   "execution_count": 4,
   "id": "0c6c3580-d60a-47d3-bffa-7f5031a87110",
   "metadata": {},
   "outputs": [],
   "source": [
    "sections_dict = {}\n",
    "    \n",
    "sections_dict['section'] = [i for i in chapter_urls]\n",
    "sections_dict['text'] = [getText(chapter_urls[i]) for i in chapter_urls]\n",
    "\n"
   ]
  },
  {
   "cell_type": "code",
   "execution_count": 5,
   "id": "3d3fcfb1-e58e-4314-a616-8bdc5c0fd4e0",
   "metadata": {},
   "outputs": [],
   "source": [
    "sections_df = pd.DataFrame.from_dict(sections_dict)\n",
    "sections_df['chapter'] = sections_df['section'].apply(lambda x: x.split('-')[0])\n",
    "sections_df = sections_df[['chapter', 'section', 'text']]"
   ]
  },
  {
   "cell_type": "code",
   "execution_count": 6,
   "id": "ded619ca-a5e3-48f7-ae53-884400eea811",
   "metadata": {},
   "outputs": [
    {
     "data": {
      "text/html": [
       "<div>\n",
       "<style scoped>\n",
       "    .dataframe tbody tr th:only-of-type {\n",
       "        vertical-align: middle;\n",
       "    }\n",
       "\n",
       "    .dataframe tbody tr th {\n",
       "        vertical-align: top;\n",
       "    }\n",
       "\n",
       "    .dataframe thead th {\n",
       "        text-align: right;\n",
       "    }\n",
       "</style>\n",
       "<table border=\"1\" class=\"dataframe\">\n",
       "  <thead>\n",
       "    <tr style=\"text-align: right;\">\n",
       "      <th></th>\n",
       "      <th>chapter</th>\n",
       "      <th>section</th>\n",
       "      <th>text</th>\n",
       "    </tr>\n",
       "  </thead>\n",
       "  <tbody>\n",
       "    <tr>\n",
       "      <th>0</th>\n",
       "      <td>01</td>\n",
       "      <td>01-1</td>\n",
       "      <td>By the end of this section, you will be able t...</td>\n",
       "    </tr>\n",
       "    <tr>\n",
       "      <th>1</th>\n",
       "      <td>01</td>\n",
       "      <td>01-2</td>\n",
       "      <td>By the end of this section, you will be able t...</td>\n",
       "    </tr>\n",
       "    <tr>\n",
       "      <th>2</th>\n",
       "      <td>01</td>\n",
       "      <td>01-3</td>\n",
       "      <td>By the end of this section, you will be able t...</td>\n",
       "    </tr>\n",
       "    <tr>\n",
       "      <th>3</th>\n",
       "      <td>01</td>\n",
       "      <td>01-4</td>\n",
       "      <td>By the end of this section, you will be able t...</td>\n",
       "    </tr>\n",
       "    <tr>\n",
       "      <th>4</th>\n",
       "      <td>02</td>\n",
       "      <td>02-1</td>\n",
       "      <td>By the end of this section, you will be able t...</td>\n",
       "    </tr>\n",
       "    <tr>\n",
       "      <th>...</th>\n",
       "      <td>...</td>\n",
       "      <td>...</td>\n",
       "      <td>...</td>\n",
       "    </tr>\n",
       "    <tr>\n",
       "      <th>89</th>\n",
       "      <td>21</td>\n",
       "      <td>21-1</td>\n",
       "      <td>By the end of this section, you will be able t...</td>\n",
       "    </tr>\n",
       "    <tr>\n",
       "      <th>90</th>\n",
       "      <td>21</td>\n",
       "      <td>21-2</td>\n",
       "      <td>By the end of this section, you will be able t...</td>\n",
       "    </tr>\n",
       "    <tr>\n",
       "      <th>91</th>\n",
       "      <td>21</td>\n",
       "      <td>21-3</td>\n",
       "      <td>By the end of this section, you will be able t...</td>\n",
       "    </tr>\n",
       "    <tr>\n",
       "      <th>92</th>\n",
       "      <td>21</td>\n",
       "      <td>21-4</td>\n",
       "      <td>By the end of this section, you will be able t...</td>\n",
       "    </tr>\n",
       "    <tr>\n",
       "      <th>93</th>\n",
       "      <td>21</td>\n",
       "      <td>21-5</td>\n",
       "      <td>By the end of this section, you will be able t...</td>\n",
       "    </tr>\n",
       "  </tbody>\n",
       "</table>\n",
       "<p>94 rows × 3 columns</p>\n",
       "</div>"
      ],
      "text/plain": [
       "   chapter section                                               text\n",
       "0       01    01-1  By the end of this section, you will be able t...\n",
       "1       01    01-2  By the end of this section, you will be able t...\n",
       "2       01    01-3  By the end of this section, you will be able t...\n",
       "3       01    01-4  By the end of this section, you will be able t...\n",
       "4       02    02-1  By the end of this section, you will be able t...\n",
       "..     ...     ...                                                ...\n",
       "89      21    21-1  By the end of this section, you will be able t...\n",
       "90      21    21-2  By the end of this section, you will be able t...\n",
       "91      21    21-3  By the end of this section, you will be able t...\n",
       "92      21    21-4  By the end of this section, you will be able t...\n",
       "93      21    21-5  By the end of this section, you will be able t...\n",
       "\n",
       "[94 rows x 3 columns]"
      ]
     },
     "execution_count": 6,
     "metadata": {},
     "output_type": "execute_result"
    }
   ],
   "source": [
    "sections_df"
   ]
  },
  {
   "cell_type": "markdown",
   "id": "31a8539a-d918-4c1a-9e7f-e9fb71fa203d",
   "metadata": {},
   "source": [
    "### Get Summaries for each Section"
   ]
  },
  {
   "cell_type": "code",
   "execution_count": 7,
   "id": "28414801-2c65-49fc-92b8-5c08789327aa",
   "metadata": {},
   "outputs": [],
   "source": [
    "def getSummary(row):\n",
    "    url = summary_urls[row.chapter]\n",
    "    html_content = requests.get(url).text\n",
    "    soup = BeautifulSoup(html_content, \"html.parser\")\n",
    "    texts = soup.find_all('p')\n",
    "    text_list = [text.get_text() for text in texts]\n",
    "    section_num = int(row['section'].split('-')[1])\n",
    "    return text_list[section_num-1]\n",
    " \n",
    "sections_df['textbook_summary'] = sections_df.apply(lambda row: getSummary(row), axis = 1)"
   ]
  },
  {
   "cell_type": "code",
   "execution_count": 8,
   "id": "e8b33981-94f7-4694-adc0-ce40784fe3ba",
   "metadata": {},
   "outputs": [
    {
     "data": {
      "text/html": [
       "<div>\n",
       "<style scoped>\n",
       "    .dataframe tbody tr th:only-of-type {\n",
       "        vertical-align: middle;\n",
       "    }\n",
       "\n",
       "    .dataframe tbody tr th {\n",
       "        vertical-align: top;\n",
       "    }\n",
       "\n",
       "    .dataframe thead th {\n",
       "        text-align: right;\n",
       "    }\n",
       "</style>\n",
       "<table border=\"1\" class=\"dataframe\">\n",
       "  <thead>\n",
       "    <tr style=\"text-align: right;\">\n",
       "      <th></th>\n",
       "      <th>chapter</th>\n",
       "      <th>section</th>\n",
       "      <th>text</th>\n",
       "      <th>textbook_summary</th>\n",
       "    </tr>\n",
       "  </thead>\n",
       "  <tbody>\n",
       "    <tr>\n",
       "      <th>0</th>\n",
       "      <td>01</td>\n",
       "      <td>01-1</td>\n",
       "      <td>By the end of this section, you will be able t...</td>\n",
       "      <td>Economics seeks to solve the problem of scarci...</td>\n",
       "    </tr>\n",
       "    <tr>\n",
       "      <th>1</th>\n",
       "      <td>01</td>\n",
       "      <td>01-2</td>\n",
       "      <td>By the end of this section, you will be able t...</td>\n",
       "      <td>Microeconomics and macroeconomics are two diff...</td>\n",
       "    </tr>\n",
       "    <tr>\n",
       "      <th>2</th>\n",
       "      <td>01</td>\n",
       "      <td>01-3</td>\n",
       "      <td>By the end of this section, you will be able t...</td>\n",
       "      <td>Economists analyze problems differently than d...</td>\n",
       "    </tr>\n",
       "    <tr>\n",
       "      <th>3</th>\n",
       "      <td>01</td>\n",
       "      <td>01-4</td>\n",
       "      <td>By the end of this section, you will be able t...</td>\n",
       "      <td>We can organize societies as traditional, comm...</td>\n",
       "    </tr>\n",
       "    <tr>\n",
       "      <th>4</th>\n",
       "      <td>02</td>\n",
       "      <td>02-1</td>\n",
       "      <td>By the end of this section, you will be able t...</td>\n",
       "      <td>Economists see the real world as one of scarci...</td>\n",
       "    </tr>\n",
       "    <tr>\n",
       "      <th>...</th>\n",
       "      <td>...</td>\n",
       "      <td>...</td>\n",
       "      <td>...</td>\n",
       "      <td>...</td>\n",
       "    </tr>\n",
       "    <tr>\n",
       "      <th>89</th>\n",
       "      <td>21</td>\n",
       "      <td>21-1</td>\n",
       "      <td>By the end of this section, you will be able t...</td>\n",
       "      <td>There are three tools for restricting the flow...</td>\n",
       "    </tr>\n",
       "    <tr>\n",
       "      <th>90</th>\n",
       "      <td>21</td>\n",
       "      <td>21-2</td>\n",
       "      <td>By the end of this section, you will be able t...</td>\n",
       "      <td>As international trade increases, it contribut...</td>\n",
       "    </tr>\n",
       "    <tr>\n",
       "      <th>91</th>\n",
       "      <td>21</td>\n",
       "      <td>21-3</td>\n",
       "      <td>By the end of this section, you will be able t...</td>\n",
       "      <td>In thinking about labor practices in low-incom...</td>\n",
       "    </tr>\n",
       "    <tr>\n",
       "      <th>92</th>\n",
       "      <td>21</td>\n",
       "      <td>21-4</td>\n",
       "      <td>By the end of this section, you will be able t...</td>\n",
       "      <td>There are a number of arguments that support r...</td>\n",
       "    </tr>\n",
       "    <tr>\n",
       "      <th>93</th>\n",
       "      <td>21</td>\n",
       "      <td>21-5</td>\n",
       "      <td>By the end of this section, you will be able t...</td>\n",
       "      <td>The infant industry argument for protectionism...</td>\n",
       "    </tr>\n",
       "  </tbody>\n",
       "</table>\n",
       "<p>94 rows × 4 columns</p>\n",
       "</div>"
      ],
      "text/plain": [
       "   chapter section                                               text  \\\n",
       "0       01    01-1  By the end of this section, you will be able t...   \n",
       "1       01    01-2  By the end of this section, you will be able t...   \n",
       "2       01    01-3  By the end of this section, you will be able t...   \n",
       "3       01    01-4  By the end of this section, you will be able t...   \n",
       "4       02    02-1  By the end of this section, you will be able t...   \n",
       "..     ...     ...                                                ...   \n",
       "89      21    21-1  By the end of this section, you will be able t...   \n",
       "90      21    21-2  By the end of this section, you will be able t...   \n",
       "91      21    21-3  By the end of this section, you will be able t...   \n",
       "92      21    21-4  By the end of this section, you will be able t...   \n",
       "93      21    21-5  By the end of this section, you will be able t...   \n",
       "\n",
       "                                     textbook_summary  \n",
       "0   Economics seeks to solve the problem of scarci...  \n",
       "1   Microeconomics and macroeconomics are two diff...  \n",
       "2   Economists analyze problems differently than d...  \n",
       "3   We can organize societies as traditional, comm...  \n",
       "4   Economists see the real world as one of scarci...  \n",
       "..                                                ...  \n",
       "89  There are three tools for restricting the flow...  \n",
       "90  As international trade increases, it contribut...  \n",
       "91  In thinking about labor practices in low-incom...  \n",
       "92  There are a number of arguments that support r...  \n",
       "93  The infant industry argument for protectionism...  \n",
       "\n",
       "[94 rows x 4 columns]"
      ]
     },
     "execution_count": 8,
     "metadata": {},
     "output_type": "execute_result"
    }
   ],
   "source": [
    "sections_df"
   ]
  },
  {
   "cell_type": "markdown",
   "id": "94e90b10-1d3d-4a09-b886-2a93d9f38b42",
   "metadata": {},
   "source": [
    "## Get T5 Warmed Up"
   ]
  },
  {
   "cell_type": "code",
   "execution_count": 11,
   "id": "b2d4773e-6be2-4198-885d-d3ed74184caf",
   "metadata": {},
   "outputs": [
    {
     "data": {
      "application/vnd.jupyter.widget-view+json": {
       "model_id": "474d37164f7e4bef9c019bccd42d3905",
       "version_major": 2,
       "version_minor": 0
      },
      "text/plain": [
       "Downloading:   0%|          | 0.00/1.10k [00:00<?, ?B/s]"
      ]
     },
     "metadata": {},
     "output_type": "display_data"
    },
    {
     "data": {
      "application/vnd.jupyter.widget-view+json": {
       "model_id": "40d83c9d6e6543a3a7db28db8b5d65c5",
       "version_major": 2,
       "version_minor": 0
      },
      "text/plain": [
       "Downloading:   0%|          | 0.00/945M [00:00<?, ?B/s]"
      ]
     },
     "metadata": {},
     "output_type": "display_data"
    },
    {
     "data": {
      "application/vnd.jupyter.widget-view+json": {
       "model_id": "184be76d1c854a5882b9175ca6b69560",
       "version_major": 2,
       "version_minor": 0
      },
      "text/plain": [
       "Downloading:   0%|          | 0.00/2.31k [00:00<?, ?B/s]"
      ]
     },
     "metadata": {},
     "output_type": "display_data"
    },
    {
     "data": {
      "application/vnd.jupyter.widget-view+json": {
       "model_id": "47241831d1214e33a60e5820c02fc163",
       "version_major": 2,
       "version_minor": 0
      },
      "text/plain": [
       "Downloading:   0%|          | 0.00/773k [00:00<?, ?B/s]"
      ]
     },
     "metadata": {},
     "output_type": "display_data"
    },
    {
     "data": {
      "application/vnd.jupyter.widget-view+json": {
       "model_id": "b1128ccb819b4f29b856ed16efbc3723",
       "version_major": 2,
       "version_minor": 0
      },
      "text/plain": [
       "Downloading:   0%|          | 0.00/2.31M [00:00<?, ?B/s]"
      ]
     },
     "metadata": {},
     "output_type": "display_data"
    },
    {
     "data": {
      "application/vnd.jupyter.widget-view+json": {
       "model_id": "386f8df521014f04a124648f47b78a67",
       "version_major": 2,
       "version_minor": 0
      },
      "text/plain": [
       "Downloading:   0%|          | 0.00/2.15k [00:00<?, ?B/s]"
      ]
     },
     "metadata": {},
     "output_type": "display_data"
    }
   ],
   "source": [
    "import torch\n",
    "from transformers import pipeline\n",
    "\n",
    "summarizer = pipeline(\n",
    "    \"summarization\",\n",
    "    \"pszemraj/long-t5-tglobal-base-16384-book-summary\",\n",
    "    device=0 if torch.cuda.is_available() else -1,\n",
    ")"
   ]
  },
  {
   "cell_type": "code",
   "execution_count": null,
   "id": "66581eeb-5740-40bb-a32f-e29904477957",
   "metadata": {
    "jupyter": {
     "source_hidden": true
    },
    "tags": []
   },
   "outputs": [],
   "source": [
    "# If this cell throws an error, restart the kernel and run everything again.  Don't know why that works, but it does.\n",
    "\n",
    "# chapter1_df = sections_df[sections_df['chapter']=='01']\n",
    "\n",
    "# def summarizeText(text):\n",
    "#     summary = summarizer(text)[0]['summary_text']\n",
    "#     print(summary)\n",
    "#     return summary\n",
    "\n",
    "# for i in range(2):\n",
    "#     summary_name = 'summary'+str(i)\n",
    "#     chapter1_df[summary_name] = chapter1_df.apply(lambda row: summarizer(row['text'], temperature=0.5)[0]['summary_text'], axis=1)\n",
    "\n",
    "# chapter1_df"
   ]
  },
  {
   "cell_type": "code",
   "execution_count": 18,
   "id": "84bc66f5-163c-46d5-83f9-3902663f21ae",
   "metadata": {},
   "outputs": [
    {
     "data": {
      "text/html": [
       "<div>\n",
       "<style scoped>\n",
       "    .dataframe tbody tr th:only-of-type {\n",
       "        vertical-align: middle;\n",
       "    }\n",
       "\n",
       "    .dataframe tbody tr th {\n",
       "        vertical-align: top;\n",
       "    }\n",
       "\n",
       "    .dataframe thead th {\n",
       "        text-align: right;\n",
       "    }\n",
       "</style>\n",
       "<table border=\"1\" class=\"dataframe\">\n",
       "  <thead>\n",
       "    <tr style=\"text-align: right;\">\n",
       "      <th></th>\n",
       "      <th>chapter</th>\n",
       "      <th>section</th>\n",
       "      <th>text</th>\n",
       "      <th>textbook_summary</th>\n",
       "    </tr>\n",
       "  </thead>\n",
       "  <tbody>\n",
       "    <tr>\n",
       "      <th>0</th>\n",
       "      <td>01</td>\n",
       "      <td>01-1</td>\n",
       "      <td>By the end of this section, you will be able t...</td>\n",
       "      <td>Economics seeks to solve the problem of scarci...</td>\n",
       "    </tr>\n",
       "    <tr>\n",
       "      <th>1</th>\n",
       "      <td>01</td>\n",
       "      <td>01-2</td>\n",
       "      <td>By the end of this section, you will be able t...</td>\n",
       "      <td>Microeconomics and macroeconomics are two diff...</td>\n",
       "    </tr>\n",
       "    <tr>\n",
       "      <th>2</th>\n",
       "      <td>01</td>\n",
       "      <td>01-3</td>\n",
       "      <td>By the end of this section, you will be able t...</td>\n",
       "      <td>Economists analyze problems differently than d...</td>\n",
       "    </tr>\n",
       "    <tr>\n",
       "      <th>3</th>\n",
       "      <td>01</td>\n",
       "      <td>01-4</td>\n",
       "      <td>By the end of this section, you will be able t...</td>\n",
       "      <td>We can organize societies as traditional, comm...</td>\n",
       "    </tr>\n",
       "  </tbody>\n",
       "</table>\n",
       "</div>"
      ],
      "text/plain": [
       "  chapter section                                               text  \\\n",
       "0      01    01-1  By the end of this section, you will be able t...   \n",
       "1      01    01-2  By the end of this section, you will be able t...   \n",
       "2      01    01-3  By the end of this section, you will be able t...   \n",
       "3      01    01-4  By the end of this section, you will be able t...   \n",
       "\n",
       "                                    textbook_summary  \n",
       "0  Economics seeks to solve the problem of scarci...  \n",
       "1  Microeconomics and macroeconomics are two diff...  \n",
       "2  Economists analyze problems differently than d...  \n",
       "3  We can organize societies as traditional, comm...  "
      ]
     },
     "execution_count": 18,
     "metadata": {},
     "output_type": "execute_result"
    }
   ],
   "source": [
    "from transformers import AutoModelForSeq2SeqLM, AutoTokenizer\n",
    "from rouge_score import rouge_scorer\n",
    "\n",
    "chapter1_df = sections_df[sections_df['chapter']=='01']\n",
    "\n",
    "scorer = rouge_scorer.RougeScorer(['rougeLsum'], use_stemmer=True)\n",
    "chapter1_df"
   ]
  },
  {
   "cell_type": "code",
   "execution_count": 19,
   "id": "3ac88d89-e260-46de-9bb8-efe1a49f3969",
   "metadata": {},
   "outputs": [],
   "source": [
    "def summarizeText(text, beams=4):\n",
    "    model = AutoModelForSeq2SeqLM.from_pretrained(\"pszemraj/long-t5-tglobal-base-16384-book-summary\")\n",
    "    tokenizer = AutoTokenizer.from_pretrained(\"pszemraj/long-t5-tglobal-base-16384-book-summary\")\n",
    "\n",
    "    inputs = tokenizer(\"summarize: \" + text, return_tensors=\"pt\", truncation=False).to('cuda')\n",
    "    outputs = model.to('cuda').generate(\n",
    "        inputs[\"input_ids\"], max_length=300, min_length=40, length_penalty=2, num_beams=beams, early_stopping=True, temperature = 0.8)\n",
    "    return tokenizer.decode(outputs[0], skip_special_tokens=True)\n",
    "\n",
    "def getRouge(textbook_summary, T5_summary):\n",
    "    precision, recall, fmeasure = scorer.score(textbook_summary, T5_summary)['rougeLsum']\n",
    "    return fmeasure\n",
    "    "
   ]
  },
  {
   "cell_type": "code",
   "execution_count": null,
   "id": "6b4661ae-ae6f-4089-b283-a13fd685e70d",
   "metadata": {},
   "outputs": [],
   "source": []
  },
  {
   "cell_type": "code",
   "execution_count": 17,
   "id": "27c6813c-400e-4ad6-a452-ba67accb1be3",
   "metadata": {},
   "outputs": [
    {
     "name": "stdout",
     "output_type": "stream",
     "text": [
      "generating summary using 1 beams\n"
     ]
    },
    {
     "name": "stderr",
     "output_type": "stream",
     "text": [
      "/opt/conda/lib/python3.10/site-packages/transformers/modeling_utils.py:689: FutureWarning: The `device` argument is deprecated and will be removed in v5 of Transformers.\n",
      "  warnings.warn(\n",
      "/tmp/ipykernel_526/365245560.py:25: SettingWithCopyWarning: \n",
      "A value is trying to be set on a copy of a slice from a DataFrame.\n",
      "Try using .loc[row_indexer,col_indexer] = value instead\n",
      "\n",
      "See the caveats in the documentation: https://pandas.pydata.org/pandas-docs/stable/user_guide/indexing.html#returning-a-view-versus-a-copy\n",
      "  chapter1_df[summary_name] = chapter1_df.apply(lambda row: summarizeText(row['text'], beams=i+1), axis=1)\n",
      "/tmp/ipykernel_526/365245560.py:26: SettingWithCopyWarning: \n",
      "A value is trying to be set on a copy of a slice from a DataFrame.\n",
      "Try using .loc[row_indexer,col_indexer] = value instead\n",
      "\n",
      "See the caveats in the documentation: https://pandas.pydata.org/pandas-docs/stable/user_guide/indexing.html#returning-a-view-versus-a-copy\n",
      "  chapter1_df[rouge_name] = chapter1_df.apply(lambda row: getRouge(row['textbook_summary'], row[summary_name]), axis=1)\n"
     ]
    },
    {
     "name": "stdout",
     "output_type": "stream",
     "text": [
      "generating summary using 2 beams\n"
     ]
    },
    {
     "name": "stderr",
     "output_type": "stream",
     "text": [
      "/opt/conda/lib/python3.10/site-packages/transformers/modeling_utils.py:689: FutureWarning: The `device` argument is deprecated and will be removed in v5 of Transformers.\n",
      "  warnings.warn(\n",
      "/tmp/ipykernel_526/365245560.py:25: SettingWithCopyWarning: \n",
      "A value is trying to be set on a copy of a slice from a DataFrame.\n",
      "Try using .loc[row_indexer,col_indexer] = value instead\n",
      "\n",
      "See the caveats in the documentation: https://pandas.pydata.org/pandas-docs/stable/user_guide/indexing.html#returning-a-view-versus-a-copy\n",
      "  chapter1_df[summary_name] = chapter1_df.apply(lambda row: summarizeText(row['text'], beams=i+1), axis=1)\n",
      "/tmp/ipykernel_526/365245560.py:26: SettingWithCopyWarning: \n",
      "A value is trying to be set on a copy of a slice from a DataFrame.\n",
      "Try using .loc[row_indexer,col_indexer] = value instead\n",
      "\n",
      "See the caveats in the documentation: https://pandas.pydata.org/pandas-docs/stable/user_guide/indexing.html#returning-a-view-versus-a-copy\n",
      "  chapter1_df[rouge_name] = chapter1_df.apply(lambda row: getRouge(row['textbook_summary'], row[summary_name]), axis=1)\n"
     ]
    },
    {
     "name": "stdout",
     "output_type": "stream",
     "text": [
      "generating summary using 3 beams\n"
     ]
    },
    {
     "name": "stderr",
     "output_type": "stream",
     "text": [
      "/opt/conda/lib/python3.10/site-packages/transformers/modeling_utils.py:689: FutureWarning: The `device` argument is deprecated and will be removed in v5 of Transformers.\n",
      "  warnings.warn(\n",
      "/tmp/ipykernel_526/365245560.py:25: SettingWithCopyWarning: \n",
      "A value is trying to be set on a copy of a slice from a DataFrame.\n",
      "Try using .loc[row_indexer,col_indexer] = value instead\n",
      "\n",
      "See the caveats in the documentation: https://pandas.pydata.org/pandas-docs/stable/user_guide/indexing.html#returning-a-view-versus-a-copy\n",
      "  chapter1_df[summary_name] = chapter1_df.apply(lambda row: summarizeText(row['text'], beams=i+1), axis=1)\n",
      "/tmp/ipykernel_526/365245560.py:26: SettingWithCopyWarning: \n",
      "A value is trying to be set on a copy of a slice from a DataFrame.\n",
      "Try using .loc[row_indexer,col_indexer] = value instead\n",
      "\n",
      "See the caveats in the documentation: https://pandas.pydata.org/pandas-docs/stable/user_guide/indexing.html#returning-a-view-versus-a-copy\n",
      "  chapter1_df[rouge_name] = chapter1_df.apply(lambda row: getRouge(row['textbook_summary'], row[summary_name]), axis=1)\n"
     ]
    },
    {
     "name": "stdout",
     "output_type": "stream",
     "text": [
      "generating summary using 4 beams\n"
     ]
    },
    {
     "name": "stderr",
     "output_type": "stream",
     "text": [
      "/opt/conda/lib/python3.10/site-packages/transformers/modeling_utils.py:689: FutureWarning: The `device` argument is deprecated and will be removed in v5 of Transformers.\n",
      "  warnings.warn(\n",
      "/tmp/ipykernel_526/365245560.py:25: SettingWithCopyWarning: \n",
      "A value is trying to be set on a copy of a slice from a DataFrame.\n",
      "Try using .loc[row_indexer,col_indexer] = value instead\n",
      "\n",
      "See the caveats in the documentation: https://pandas.pydata.org/pandas-docs/stable/user_guide/indexing.html#returning-a-view-versus-a-copy\n",
      "  chapter1_df[summary_name] = chapter1_df.apply(lambda row: summarizeText(row['text'], beams=i+1), axis=1)\n",
      "/tmp/ipykernel_526/365245560.py:26: SettingWithCopyWarning: \n",
      "A value is trying to be set on a copy of a slice from a DataFrame.\n",
      "Try using .loc[row_indexer,col_indexer] = value instead\n",
      "\n",
      "See the caveats in the documentation: https://pandas.pydata.org/pandas-docs/stable/user_guide/indexing.html#returning-a-view-versus-a-copy\n",
      "  chapter1_df[rouge_name] = chapter1_df.apply(lambda row: getRouge(row['textbook_summary'], row[summary_name]), axis=1)\n"
     ]
    },
    {
     "name": "stdout",
     "output_type": "stream",
     "text": [
      "generating summary using 5 beams\n"
     ]
    },
    {
     "name": "stderr",
     "output_type": "stream",
     "text": [
      "/opt/conda/lib/python3.10/site-packages/transformers/modeling_utils.py:689: FutureWarning: The `device` argument is deprecated and will be removed in v5 of Transformers.\n",
      "  warnings.warn(\n",
      "/tmp/ipykernel_526/365245560.py:25: SettingWithCopyWarning: \n",
      "A value is trying to be set on a copy of a slice from a DataFrame.\n",
      "Try using .loc[row_indexer,col_indexer] = value instead\n",
      "\n",
      "See the caveats in the documentation: https://pandas.pydata.org/pandas-docs/stable/user_guide/indexing.html#returning-a-view-versus-a-copy\n",
      "  chapter1_df[summary_name] = chapter1_df.apply(lambda row: summarizeText(row['text'], beams=i+1), axis=1)\n",
      "/tmp/ipykernel_526/365245560.py:26: SettingWithCopyWarning: \n",
      "A value is trying to be set on a copy of a slice from a DataFrame.\n",
      "Try using .loc[row_indexer,col_indexer] = value instead\n",
      "\n",
      "See the caveats in the documentation: https://pandas.pydata.org/pandas-docs/stable/user_guide/indexing.html#returning-a-view-versus-a-copy\n",
      "  chapter1_df[rouge_name] = chapter1_df.apply(lambda row: getRouge(row['textbook_summary'], row[summary_name]), axis=1)\n"
     ]
    },
    {
     "name": "stdout",
     "output_type": "stream",
     "text": [
      "generating summary using 6 beams\n"
     ]
    },
    {
     "name": "stderr",
     "output_type": "stream",
     "text": [
      "/opt/conda/lib/python3.10/site-packages/transformers/modeling_utils.py:689: FutureWarning: The `device` argument is deprecated and will be removed in v5 of Transformers.\n",
      "  warnings.warn(\n",
      "/tmp/ipykernel_526/365245560.py:25: SettingWithCopyWarning: \n",
      "A value is trying to be set on a copy of a slice from a DataFrame.\n",
      "Try using .loc[row_indexer,col_indexer] = value instead\n",
      "\n",
      "See the caveats in the documentation: https://pandas.pydata.org/pandas-docs/stable/user_guide/indexing.html#returning-a-view-versus-a-copy\n",
      "  chapter1_df[summary_name] = chapter1_df.apply(lambda row: summarizeText(row['text'], beams=i+1), axis=1)\n",
      "/tmp/ipykernel_526/365245560.py:26: SettingWithCopyWarning: \n",
      "A value is trying to be set on a copy of a slice from a DataFrame.\n",
      "Try using .loc[row_indexer,col_indexer] = value instead\n",
      "\n",
      "See the caveats in the documentation: https://pandas.pydata.org/pandas-docs/stable/user_guide/indexing.html#returning-a-view-versus-a-copy\n",
      "  chapter1_df[rouge_name] = chapter1_df.apply(lambda row: getRouge(row['textbook_summary'], row[summary_name]), axis=1)\n"
     ]
    },
    {
     "name": "stdout",
     "output_type": "stream",
     "text": [
      "generating summary using 7 beams\n"
     ]
    },
    {
     "name": "stderr",
     "output_type": "stream",
     "text": [
      "/opt/conda/lib/python3.10/site-packages/transformers/modeling_utils.py:689: FutureWarning: The `device` argument is deprecated and will be removed in v5 of Transformers.\n",
      "  warnings.warn(\n",
      "/tmp/ipykernel_526/365245560.py:25: SettingWithCopyWarning: \n",
      "A value is trying to be set on a copy of a slice from a DataFrame.\n",
      "Try using .loc[row_indexer,col_indexer] = value instead\n",
      "\n",
      "See the caveats in the documentation: https://pandas.pydata.org/pandas-docs/stable/user_guide/indexing.html#returning-a-view-versus-a-copy\n",
      "  chapter1_df[summary_name] = chapter1_df.apply(lambda row: summarizeText(row['text'], beams=i+1), axis=1)\n",
      "/tmp/ipykernel_526/365245560.py:26: SettingWithCopyWarning: \n",
      "A value is trying to be set on a copy of a slice from a DataFrame.\n",
      "Try using .loc[row_indexer,col_indexer] = value instead\n",
      "\n",
      "See the caveats in the documentation: https://pandas.pydata.org/pandas-docs/stable/user_guide/indexing.html#returning-a-view-versus-a-copy\n",
      "  chapter1_df[rouge_name] = chapter1_df.apply(lambda row: getRouge(row['textbook_summary'], row[summary_name]), axis=1)\n"
     ]
    },
    {
     "name": "stdout",
     "output_type": "stream",
     "text": [
      "generating summary using 8 beams\n"
     ]
    },
    {
     "name": "stderr",
     "output_type": "stream",
     "text": [
      "/opt/conda/lib/python3.10/site-packages/transformers/modeling_utils.py:689: FutureWarning: The `device` argument is deprecated and will be removed in v5 of Transformers.\n",
      "  warnings.warn(\n",
      "/tmp/ipykernel_526/365245560.py:25: SettingWithCopyWarning: \n",
      "A value is trying to be set on a copy of a slice from a DataFrame.\n",
      "Try using .loc[row_indexer,col_indexer] = value instead\n",
      "\n",
      "See the caveats in the documentation: https://pandas.pydata.org/pandas-docs/stable/user_guide/indexing.html#returning-a-view-versus-a-copy\n",
      "  chapter1_df[summary_name] = chapter1_df.apply(lambda row: summarizeText(row['text'], beams=i+1), axis=1)\n",
      "/tmp/ipykernel_526/365245560.py:26: SettingWithCopyWarning: \n",
      "A value is trying to be set on a copy of a slice from a DataFrame.\n",
      "Try using .loc[row_indexer,col_indexer] = value instead\n",
      "\n",
      "See the caveats in the documentation: https://pandas.pydata.org/pandas-docs/stable/user_guide/indexing.html#returning-a-view-versus-a-copy\n",
      "  chapter1_df[rouge_name] = chapter1_df.apply(lambda row: getRouge(row['textbook_summary'], row[summary_name]), axis=1)\n"
     ]
    },
    {
     "name": "stdout",
     "output_type": "stream",
     "text": [
      "generating summary using 9 beams\n"
     ]
    },
    {
     "name": "stderr",
     "output_type": "stream",
     "text": [
      "/opt/conda/lib/python3.10/site-packages/transformers/modeling_utils.py:689: FutureWarning: The `device` argument is deprecated and will be removed in v5 of Transformers.\n",
      "  warnings.warn(\n",
      "/tmp/ipykernel_526/365245560.py:25: SettingWithCopyWarning: \n",
      "A value is trying to be set on a copy of a slice from a DataFrame.\n",
      "Try using .loc[row_indexer,col_indexer] = value instead\n",
      "\n",
      "See the caveats in the documentation: https://pandas.pydata.org/pandas-docs/stable/user_guide/indexing.html#returning-a-view-versus-a-copy\n",
      "  chapter1_df[summary_name] = chapter1_df.apply(lambda row: summarizeText(row['text'], beams=i+1), axis=1)\n",
      "/tmp/ipykernel_526/365245560.py:26: SettingWithCopyWarning: \n",
      "A value is trying to be set on a copy of a slice from a DataFrame.\n",
      "Try using .loc[row_indexer,col_indexer] = value instead\n",
      "\n",
      "See the caveats in the documentation: https://pandas.pydata.org/pandas-docs/stable/user_guide/indexing.html#returning-a-view-versus-a-copy\n",
      "  chapter1_df[rouge_name] = chapter1_df.apply(lambda row: getRouge(row['textbook_summary'], row[summary_name]), axis=1)\n"
     ]
    },
    {
     "name": "stdout",
     "output_type": "stream",
     "text": [
      "generating summary using 10 beams\n"
     ]
    },
    {
     "name": "stderr",
     "output_type": "stream",
     "text": [
      "/opt/conda/lib/python3.10/site-packages/transformers/modeling_utils.py:689: FutureWarning: The `device` argument is deprecated and will be removed in v5 of Transformers.\n",
      "  warnings.warn(\n",
      "/tmp/ipykernel_526/365245560.py:25: SettingWithCopyWarning: \n",
      "A value is trying to be set on a copy of a slice from a DataFrame.\n",
      "Try using .loc[row_indexer,col_indexer] = value instead\n",
      "\n",
      "See the caveats in the documentation: https://pandas.pydata.org/pandas-docs/stable/user_guide/indexing.html#returning-a-view-versus-a-copy\n",
      "  chapter1_df[summary_name] = chapter1_df.apply(lambda row: summarizeText(row['text'], beams=i+1), axis=1)\n",
      "/tmp/ipykernel_526/365245560.py:26: SettingWithCopyWarning: \n",
      "A value is trying to be set on a copy of a slice from a DataFrame.\n",
      "Try using .loc[row_indexer,col_indexer] = value instead\n",
      "\n",
      "See the caveats in the documentation: https://pandas.pydata.org/pandas-docs/stable/user_guide/indexing.html#returning-a-view-versus-a-copy\n",
      "  chapter1_df[rouge_name] = chapter1_df.apply(lambda row: getRouge(row['textbook_summary'], row[summary_name]), axis=1)\n"
     ]
    }
   ],
   "source": [
    "for i in range(10):\n",
    "    print('generating summary using', str(i+1), 'beams')\n",
    "    summary_name = 'summary'+str(i+1)\n",
    "    rouge_name = 'rougeF1'+str(i+1)\n",
    "    chapter1_df[summary_name] = chapter1_df.apply(lambda row: summarizeText(row['text'], beams=i+1), axis=1)\n",
    "    chapter1_df[rouge_name] = chapter1_df.apply(lambda row: getRouge(row['textbook_summary'], row[summary_name]), axis=1)"
   ]
  },
  {
   "cell_type": "code",
   "execution_count": 19,
   "id": "0de1f293-accf-49b0-b53d-c749fa7debd1",
   "metadata": {},
   "outputs": [],
   "source": [
    "chapter1_df.to_csv('../data/chapter1_summaries.csv')"
   ]
  },
  {
   "cell_type": "code",
   "execution_count": 18,
   "id": "b2082553-9c78-4755-9ffe-d855b6cbcfe4",
   "metadata": {},
   "outputs": [
    {
     "data": {
      "text/html": [
       "<div>\n",
       "<style scoped>\n",
       "    .dataframe tbody tr th:only-of-type {\n",
       "        vertical-align: middle;\n",
       "    }\n",
       "\n",
       "    .dataframe tbody tr th {\n",
       "        vertical-align: top;\n",
       "    }\n",
       "\n",
       "    .dataframe thead th {\n",
       "        text-align: right;\n",
       "    }\n",
       "</style>\n",
       "<table border=\"1\" class=\"dataframe\">\n",
       "  <thead>\n",
       "    <tr style=\"text-align: right;\">\n",
       "      <th></th>\n",
       "      <th>chapter</th>\n",
       "      <th>section</th>\n",
       "      <th>text</th>\n",
       "      <th>textbook_summary</th>\n",
       "      <th>summary1</th>\n",
       "      <th>rougeF11</th>\n",
       "      <th>summary2</th>\n",
       "      <th>rougeF12</th>\n",
       "      <th>summary3</th>\n",
       "      <th>rougeF13</th>\n",
       "      <th>...</th>\n",
       "      <th>summary6</th>\n",
       "      <th>rougeF16</th>\n",
       "      <th>summary7</th>\n",
       "      <th>rougeF17</th>\n",
       "      <th>summary8</th>\n",
       "      <th>rougeF18</th>\n",
       "      <th>summary9</th>\n",
       "      <th>rougeF19</th>\n",
       "      <th>summary10</th>\n",
       "      <th>rougeF110</th>\n",
       "    </tr>\n",
       "  </thead>\n",
       "  <tbody>\n",
       "    <tr>\n",
       "      <th>0</th>\n",
       "      <td>01</td>\n",
       "      <td>01-1</td>\n",
       "      <td>By the end of this section, you will be able t...</td>\n",
       "      <td>Economics seeks to solve the problem of scarci...</td>\n",
       "      <td>In this chapter, the UM uses examples from Smi...</td>\n",
       "      <td>0.154362</td>\n",
       "      <td>In this chapter, the UM uses examples from Smi...</td>\n",
       "      <td>0.149100</td>\n",
       "      <td>In this chapter, students will learn how to an...</td>\n",
       "      <td>0.198347</td>\n",
       "      <td>...</td>\n",
       "      <td>In this chapter, Adam Smith explains how peopl...</td>\n",
       "      <td>0.137339</td>\n",
       "      <td>In this chapter, Adam Smith explains how peopl...</td>\n",
       "      <td>0.153846</td>\n",
       "      <td>In this chapter, Adam Smith explains how peopl...</td>\n",
       "      <td>0.153846</td>\n",
       "      <td>In this chapter, Adam Smith explains how peopl...</td>\n",
       "      <td>0.153846</td>\n",
       "      <td>In this chapter, Adam Smith explains how peopl...</td>\n",
       "      <td>0.166667</td>\n",
       "    </tr>\n",
       "    <tr>\n",
       "      <th>1</th>\n",
       "      <td>01</td>\n",
       "      <td>01-2</td>\n",
       "      <td>By the end of this section, you will be able t...</td>\n",
       "      <td>Microeconomics and macroeconomics are two diff...</td>\n",
       "      <td>In this chapter, the focus shifts from monetar...</td>\n",
       "      <td>0.123894</td>\n",
       "      <td>In this chapter, the focus shifts from economi...</td>\n",
       "      <td>0.206061</td>\n",
       "      <td>In this chapter, the focus shifts from economi...</td>\n",
       "      <td>0.121739</td>\n",
       "      <td>...</td>\n",
       "      <td>In this chapter, the focus shifts from economi...</td>\n",
       "      <td>0.134146</td>\n",
       "      <td>In this chapter, the focus shifts from economi...</td>\n",
       "      <td>0.179310</td>\n",
       "      <td>In this chapter, the focus shifts from economi...</td>\n",
       "      <td>0.211921</td>\n",
       "      <td>In this chapter, the focus shifts from economi...</td>\n",
       "      <td>0.201342</td>\n",
       "      <td>In this chapter, the focus shifts from economi...</td>\n",
       "      <td>0.202703</td>\n",
       "    </tr>\n",
       "    <tr>\n",
       "      <th>2</th>\n",
       "      <td>01</td>\n",
       "      <td>01-3</td>\n",
       "      <td>By the end of this section, you will be able t...</td>\n",
       "      <td>Economists analyze problems differently than d...</td>\n",
       "      <td>In this chapter, you will learn about the impo...</td>\n",
       "      <td>0.110000</td>\n",
       "      <td>In this chapter, you will learn about the impo...</td>\n",
       "      <td>0.135747</td>\n",
       "      <td>In this chapter, you will learn about the impo...</td>\n",
       "      <td>0.131737</td>\n",
       "      <td>...</td>\n",
       "      <td>In this chapter, you'll learn how to interpret...</td>\n",
       "      <td>0.148649</td>\n",
       "      <td>In this chapter, you'll learn how to interpret...</td>\n",
       "      <td>0.109705</td>\n",
       "      <td>In this chapter, you'll learn how to interpret...</td>\n",
       "      <td>0.129032</td>\n",
       "      <td>In this chapter, you'll learn how to interpret...</td>\n",
       "      <td>0.105660</td>\n",
       "      <td>In this chapter, you'll learn how to interpret...</td>\n",
       "      <td>0.169935</td>\n",
       "    </tr>\n",
       "    <tr>\n",
       "      <th>3</th>\n",
       "      <td>01</td>\n",
       "      <td>01-4</td>\n",
       "      <td>By the end of this section, you will be able t...</td>\n",
       "      <td>We can organize societies as traditional, comm...</td>\n",
       "      <td>Contrast conventional economies, command econo...</td>\n",
       "      <td>0.094488</td>\n",
       "      <td>In this chapter, you will learn about the diff...</td>\n",
       "      <td>0.106667</td>\n",
       "      <td>In this chapter, you will learn about the thre...</td>\n",
       "      <td>0.113208</td>\n",
       "      <td>...</td>\n",
       "      <td>In this chapter, you will learn about three di...</td>\n",
       "      <td>0.125000</td>\n",
       "      <td>In this chapter, students will learn about the...</td>\n",
       "      <td>0.088136</td>\n",
       "      <td>In this chapter, students will learn about the...</td>\n",
       "      <td>0.102767</td>\n",
       "      <td>In this chapter, students will learn about the...</td>\n",
       "      <td>0.120567</td>\n",
       "      <td>In this chapter, you will learn about the thre...</td>\n",
       "      <td>0.094891</td>\n",
       "    </tr>\n",
       "  </tbody>\n",
       "</table>\n",
       "<p>4 rows × 24 columns</p>\n",
       "</div>"
      ],
      "text/plain": [
       "  chapter section                                               text  \\\n",
       "0      01    01-1  By the end of this section, you will be able t...   \n",
       "1      01    01-2  By the end of this section, you will be able t...   \n",
       "2      01    01-3  By the end of this section, you will be able t...   \n",
       "3      01    01-4  By the end of this section, you will be able t...   \n",
       "\n",
       "                                    textbook_summary  \\\n",
       "0  Economics seeks to solve the problem of scarci...   \n",
       "1  Microeconomics and macroeconomics are two diff...   \n",
       "2  Economists analyze problems differently than d...   \n",
       "3  We can organize societies as traditional, comm...   \n",
       "\n",
       "                                            summary1  rougeF11  \\\n",
       "0  In this chapter, the UM uses examples from Smi...  0.154362   \n",
       "1  In this chapter, the focus shifts from monetar...  0.123894   \n",
       "2  In this chapter, you will learn about the impo...  0.110000   \n",
       "3  Contrast conventional economies, command econo...  0.094488   \n",
       "\n",
       "                                            summary2  rougeF12  \\\n",
       "0  In this chapter, the UM uses examples from Smi...  0.149100   \n",
       "1  In this chapter, the focus shifts from economi...  0.206061   \n",
       "2  In this chapter, you will learn about the impo...  0.135747   \n",
       "3  In this chapter, you will learn about the diff...  0.106667   \n",
       "\n",
       "                                            summary3  rougeF13  ...  \\\n",
       "0  In this chapter, students will learn how to an...  0.198347  ...   \n",
       "1  In this chapter, the focus shifts from economi...  0.121739  ...   \n",
       "2  In this chapter, you will learn about the impo...  0.131737  ...   \n",
       "3  In this chapter, you will learn about the thre...  0.113208  ...   \n",
       "\n",
       "                                            summary6  rougeF16  \\\n",
       "0  In this chapter, Adam Smith explains how peopl...  0.137339   \n",
       "1  In this chapter, the focus shifts from economi...  0.134146   \n",
       "2  In this chapter, you'll learn how to interpret...  0.148649   \n",
       "3  In this chapter, you will learn about three di...  0.125000   \n",
       "\n",
       "                                            summary7  rougeF17  \\\n",
       "0  In this chapter, Adam Smith explains how peopl...  0.153846   \n",
       "1  In this chapter, the focus shifts from economi...  0.179310   \n",
       "2  In this chapter, you'll learn how to interpret...  0.109705   \n",
       "3  In this chapter, students will learn about the...  0.088136   \n",
       "\n",
       "                                            summary8  rougeF18  \\\n",
       "0  In this chapter, Adam Smith explains how peopl...  0.153846   \n",
       "1  In this chapter, the focus shifts from economi...  0.211921   \n",
       "2  In this chapter, you'll learn how to interpret...  0.129032   \n",
       "3  In this chapter, students will learn about the...  0.102767   \n",
       "\n",
       "                                            summary9  rougeF19  \\\n",
       "0  In this chapter, Adam Smith explains how peopl...  0.153846   \n",
       "1  In this chapter, the focus shifts from economi...  0.201342   \n",
       "2  In this chapter, you'll learn how to interpret...  0.105660   \n",
       "3  In this chapter, students will learn about the...  0.120567   \n",
       "\n",
       "                                           summary10  rougeF110  \n",
       "0  In this chapter, Adam Smith explains how peopl...   0.166667  \n",
       "1  In this chapter, the focus shifts from economi...   0.202703  \n",
       "2  In this chapter, you'll learn how to interpret...   0.169935  \n",
       "3  In this chapter, you will learn about the thre...   0.094891  \n",
       "\n",
       "[4 rows x 24 columns]"
      ]
     },
     "execution_count": 18,
     "metadata": {},
     "output_type": "execute_result"
    }
   ],
   "source": [
    "chapter1_df"
   ]
  },
  {
   "cell_type": "code",
   "execution_count": null,
   "id": "99341f40-2d64-4678-a405-5d827ba1ef72",
   "metadata": {},
   "outputs": [],
   "source": []
  },
  {
   "cell_type": "code",
   "execution_count": null,
   "id": "c0224b8e-6754-454d-b1b1-320d74fc52ce",
   "metadata": {},
   "outputs": [],
   "source": [
    "precision, recall, fmeasure = scorer.score(chapter1_df.iloc[0]['textbook_summary'], chapter1_df.iloc[0]['summary10'])['rougeLsum']\n",
    "\n",
    "fmeasure"
   ]
  }
 ],
 "metadata": {
  "kernelspec": {
   "display_name": "Python 3 (ipykernel)",
   "language": "python",
   "name": "python3"
  },
  "language_info": {
   "codemirror_mode": {
    "name": "ipython",
    "version": 3
   },
   "file_extension": ".py",
   "mimetype": "text/x-python",
   "name": "python",
   "nbconvert_exporter": "python",
   "pygments_lexer": "ipython3",
   "version": "3.10.5"
  }
 },
 "nbformat": 4,
 "nbformat_minor": 5
}
