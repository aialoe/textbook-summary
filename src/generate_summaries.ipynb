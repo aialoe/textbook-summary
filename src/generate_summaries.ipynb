{
 "cells": [
  {
   "cell_type": "code",
   "execution_count": 12,
   "id": "d7285287-eef1-4707-a1fc-093a2c147862",
   "metadata": {},
   "outputs": [
    {
     "name": "stdout",
     "output_type": "stream",
     "text": [
      "Requirement already satisfied: transformers in /opt/conda/lib/python3.10/site-packages (4.23.1)\n",
      "Requirement already satisfied: regex!=2019.12.17 in /opt/conda/lib/python3.10/site-packages (from transformers) (2022.7.25)\n",
      "Requirement already satisfied: huggingface-hub<1.0,>=0.10.0 in /opt/conda/lib/python3.10/site-packages (from transformers) (0.10.0)\n",
      "Requirement already satisfied: tokenizers!=0.11.3,<0.14,>=0.11.1 in /opt/conda/lib/python3.10/site-packages (from transformers) (0.12.1)\n",
      "Requirement already satisfied: packaging>=20.0 in /opt/conda/lib/python3.10/site-packages (from transformers) (21.3)\n",
      "Requirement already satisfied: numpy>=1.17 in /opt/conda/lib/python3.10/site-packages (from transformers) (1.22.4)\n",
      "Requirement already satisfied: filelock in /opt/conda/lib/python3.10/site-packages (from transformers) (3.7.1)\n",
      "Requirement already satisfied: requests in /opt/conda/lib/python3.10/site-packages (from transformers) (2.28.0)\n",
      "Requirement already satisfied: tqdm>=4.27 in /opt/conda/lib/python3.10/site-packages (from transformers) (4.64.0)\n",
      "Requirement already satisfied: pyyaml>=5.1 in /opt/conda/lib/python3.10/site-packages (from transformers) (6.0)\n",
      "Requirement already satisfied: typing-extensions>=3.7.4.3 in /opt/conda/lib/python3.10/site-packages (from huggingface-hub<1.0,>=0.10.0->transformers) (4.2.0)\n",
      "Requirement already satisfied: pyparsing!=3.0.5,>=2.0.2 in /opt/conda/lib/python3.10/site-packages (from packaging>=20.0->transformers) (3.0.9)\n",
      "Requirement already satisfied: charset-normalizer~=2.0.0 in /opt/conda/lib/python3.10/site-packages (from requests->transformers) (2.0.12)\n",
      "Requirement already satisfied: certifi>=2017.4.17 in /opt/conda/lib/python3.10/site-packages (from requests->transformers) (2022.6.15)\n",
      "Requirement already satisfied: idna<4,>=2.5 in /opt/conda/lib/python3.10/site-packages (from requests->transformers) (3.3)\n",
      "Requirement already satisfied: urllib3<1.27,>=1.21.1 in /opt/conda/lib/python3.10/site-packages (from requests->transformers) (1.26.9)\n"
     ]
    }
   ],
   "source": [
    "import requests\n",
    "from bs4 import BeautifulSoup\n",
    "import json\n",
    "import re\n",
    "import pandas as pd\n",
    "from pathlib import Path\n",
    "!pip install -U transformers\n",
    "\n",
    "WD = Path.cwd().parent"
   ]
  },
  {
   "cell_type": "code",
   "execution_count": 13,
   "id": "a2f3dee9-5456-4a56-8c54-a9d364566035",
   "metadata": {},
   "outputs": [],
   "source": [
    "sections_frame = WD / 'data' / 'sections_frame.csv'\n",
    "\n",
    "if not sections_frame.exists():\n",
    "    with open (WD / 'bin' / 'chapter_urls.json', 'r') as f:\n",
    "        chapter = json.load(f)\n",
    "    with open (WD / 'bin' / 'summary_urls.json', 'r') as f:\n",
    "        summary_urls = json.load(f)\n",
    "        \n",
    "    def getText(URL):\n",
    "        r = requests.get(URL)\n",
    "        soup = BeautifulSoup(r.text, 'html.parser')\n",
    "        all_text = soup.get_text().lstrip('Learning Objectives').rstrip('PreviousNext')\n",
    "        selection_text = re.sub('PreviousNext.+', '', all_text, flags=re.DOTALL)\n",
    "        selection_text = re.sub('.+Learning Objectives', '', selection_text, flags=re.DOTALL)\n",
    "        return(selection_text)\n",
    "    \n",
    "    sections_dict = {}\n",
    "    \n",
    "    sections_dict['section'] = [i for i in chapter_urls]\n",
    "    sections_dict['text'] = [getText(chapter_urls[i]) for i in chapter_urls]\n",
    "\n",
    "    sections_df = pd.DataFrame.from_dict(sections_dict)\n",
    "    sections_df['chapter'] = sections_df['section'].apply(lambda x: x.split('-')[0]).astype(int)\n",
    "    sections_df = sections_df[['chapter', 'section', 'text']]\n",
    "    \n",
    "    def getSummary(row):\n",
    "        url = summary_urls[row.chapter]\n",
    "        html_content = requests.get(url).text\n",
    "        soup = BeautifulSoup(html_content, 'html.parser')\n",
    "        texts = soup.find_all('p')\n",
    "        text_list = [text.get_text() for text in texts]\n",
    "        section_num = int(row['section'].split('-')[1])\n",
    "        return text_list[section_num-1]\n",
    " \n",
    "    sections_df['textbook_summary'] = sections_df.apply(lambda row: getSummary(row), axis = 1)\n",
    "    \n",
    "    sections_df.to_csv(sections_frame, index=False)\n",
    "\n",
    "else:\n",
    "    sections_df = pd.read_csv(sections_frame)"
   ]
  },
  {
   "cell_type": "code",
   "execution_count": 14,
   "id": "e8b33981-94f7-4694-adc0-ce40784fe3ba",
   "metadata": {},
   "outputs": [
    {
     "data": {
      "text/html": [
       "<div>\n",
       "<style scoped>\n",
       "    .dataframe tbody tr th:only-of-type {\n",
       "        vertical-align: middle;\n",
       "    }\n",
       "\n",
       "    .dataframe tbody tr th {\n",
       "        vertical-align: top;\n",
       "    }\n",
       "\n",
       "    .dataframe thead th {\n",
       "        text-align: right;\n",
       "    }\n",
       "</style>\n",
       "<table border=\"1\" class=\"dataframe\">\n",
       "  <thead>\n",
       "    <tr style=\"text-align: right;\">\n",
       "      <th></th>\n",
       "      <th>chapter</th>\n",
       "      <th>section</th>\n",
       "      <th>text</th>\n",
       "      <th>textbook_summary</th>\n",
       "    </tr>\n",
       "  </thead>\n",
       "  <tbody>\n",
       "    <tr>\n",
       "      <th>0</th>\n",
       "      <td>1</td>\n",
       "      <td>01-1</td>\n",
       "      <td>By the end of this section, you will be able t...</td>\n",
       "      <td>Economics seeks to solve the problem of scarci...</td>\n",
       "    </tr>\n",
       "    <tr>\n",
       "      <th>1</th>\n",
       "      <td>1</td>\n",
       "      <td>01-2</td>\n",
       "      <td>By the end of this section, you will be able t...</td>\n",
       "      <td>Microeconomics and macroeconomics are two diff...</td>\n",
       "    </tr>\n",
       "    <tr>\n",
       "      <th>2</th>\n",
       "      <td>1</td>\n",
       "      <td>01-3</td>\n",
       "      <td>By the end of this section, you will be able t...</td>\n",
       "      <td>Economists analyze problems differently than d...</td>\n",
       "    </tr>\n",
       "    <tr>\n",
       "      <th>3</th>\n",
       "      <td>1</td>\n",
       "      <td>01-4</td>\n",
       "      <td>By the end of this section, you will be able t...</td>\n",
       "      <td>We can organize societies as traditional, comm...</td>\n",
       "    </tr>\n",
       "    <tr>\n",
       "      <th>4</th>\n",
       "      <td>2</td>\n",
       "      <td>02-1</td>\n",
       "      <td>By the end of this section, you will be able t...</td>\n",
       "      <td>Economists see the real world as one of scarci...</td>\n",
       "    </tr>\n",
       "    <tr>\n",
       "      <th>...</th>\n",
       "      <td>...</td>\n",
       "      <td>...</td>\n",
       "      <td>...</td>\n",
       "      <td>...</td>\n",
       "    </tr>\n",
       "    <tr>\n",
       "      <th>89</th>\n",
       "      <td>21</td>\n",
       "      <td>21-1</td>\n",
       "      <td>By the end of this section, you will be able t...</td>\n",
       "      <td>There are three tools for restricting the flow...</td>\n",
       "    </tr>\n",
       "    <tr>\n",
       "      <th>90</th>\n",
       "      <td>21</td>\n",
       "      <td>21-2</td>\n",
       "      <td>By the end of this section, you will be able t...</td>\n",
       "      <td>As international trade increases, it contribut...</td>\n",
       "    </tr>\n",
       "    <tr>\n",
       "      <th>91</th>\n",
       "      <td>21</td>\n",
       "      <td>21-3</td>\n",
       "      <td>By the end of this section, you will be able t...</td>\n",
       "      <td>In thinking about labor practices in low-incom...</td>\n",
       "    </tr>\n",
       "    <tr>\n",
       "      <th>92</th>\n",
       "      <td>21</td>\n",
       "      <td>21-4</td>\n",
       "      <td>By the end of this section, you will be able t...</td>\n",
       "      <td>There are a number of arguments that support r...</td>\n",
       "    </tr>\n",
       "    <tr>\n",
       "      <th>93</th>\n",
       "      <td>21</td>\n",
       "      <td>21-5</td>\n",
       "      <td>By the end of this section, you will be able t...</td>\n",
       "      <td>The infant industry argument for protectionism...</td>\n",
       "    </tr>\n",
       "  </tbody>\n",
       "</table>\n",
       "<p>94 rows × 4 columns</p>\n",
       "</div>"
      ],
      "text/plain": [
       "    chapter section                                               text  \\\n",
       "0         1    01-1  By the end of this section, you will be able t...   \n",
       "1         1    01-2  By the end of this section, you will be able t...   \n",
       "2         1    01-3  By the end of this section, you will be able t...   \n",
       "3         1    01-4  By the end of this section, you will be able t...   \n",
       "4         2    02-1  By the end of this section, you will be able t...   \n",
       "..      ...     ...                                                ...   \n",
       "89       21    21-1  By the end of this section, you will be able t...   \n",
       "90       21    21-2  By the end of this section, you will be able t...   \n",
       "91       21    21-3  By the end of this section, you will be able t...   \n",
       "92       21    21-4  By the end of this section, you will be able t...   \n",
       "93       21    21-5  By the end of this section, you will be able t...   \n",
       "\n",
       "                                     textbook_summary  \n",
       "0   Economics seeks to solve the problem of scarci...  \n",
       "1   Microeconomics and macroeconomics are two diff...  \n",
       "2   Economists analyze problems differently than d...  \n",
       "3   We can organize societies as traditional, comm...  \n",
       "4   Economists see the real world as one of scarci...  \n",
       "..                                                ...  \n",
       "89  There are three tools for restricting the flow...  \n",
       "90  As international trade increases, it contribut...  \n",
       "91  In thinking about labor practices in low-incom...  \n",
       "92  There are a number of arguments that support r...  \n",
       "93  The infant industry argument for protectionism...  \n",
       "\n",
       "[94 rows x 4 columns]"
      ]
     },
     "execution_count": 3,
     "metadata": {},
     "output_type": "execute_result"
    }
   ],
   "source": [
    "sections_df"
   ]
  },
  {
   "cell_type": "markdown",
   "id": "94e90b10-1d3d-4a09-b886-2a93d9f38b42",
   "metadata": {},
   "source": [
    "## Get T5"
   ]
  },
  {
   "cell_type": "code",
   "execution_count": 15,
   "id": "84bc66f5-163c-46d5-83f9-3902663f21ae",
   "metadata": {},
   "outputs": [],
   "source": [
    "from transformers import AutoModelForSeq2SeqLM, AutoTokenizer\n",
    "#from rouge_score import rouge_scorer\n",
    "\n",
    "model = AutoModelForSeq2SeqLM.from_pretrained(\"pszemraj/long-t5-tglobal-base-16384-book-summary\").to('cuda')\n",
    "tokenizer = AutoTokenizer.from_pretrained(\"pszemraj/long-t5-tglobal-base-16384-book-summary\")\n",
    "\n",
    "text = sections_df['text'][0].encode('ascii', 'ignore').decode()\n",
    "#scorer = rouge_scorer.RougeScorer(['rougeLsum'], use_stemmer=True)"
   ]
  },
  {
   "cell_type": "code",
   "execution_count": 14,
   "id": "3ac88d89-e260-46de-9bb8-efe1a49f3969",
   "metadata": {},
   "outputs": [],
   "source": [
    "def summarizeText(text, num_beams):\n",
    "    inputs = tokenizer(\"summarize: \" + text, return_tensors=\"pt\", truncation=False).to('cuda')\n",
    "    outputs = model.generate(\n",
    "        inputs[\"input_ids\"],\n",
    "        max_length=200,\n",
    "        min_length=50,\n",
    "        repetition_penalty=.8,\n",
    "        # length_penalty=2,\n",
    "        # early_stopping=True,\n",
    "        num_beams=num_beams,\n",
    "        do_sample=True,\n",
    "        # top_k=50, \n",
    "        # top_p=0.95, \n",
    "        num_return_sequences=10,\n",
    "        # temperature = 0.8,\n",
    "    )\n",
    "    return outputs\n",
    "\n",
    "def getRouge(textbook_summary, T5_summary):\n",
    "    precision, recall, fmeasure = scorer.score(textbook_summary, T5_summary)['rougeLsum']\n",
    "    return fmeasure"
   ]
  },
  {
   "cell_type": "code",
   "execution_count": 9,
   "id": "7c50bf28-a021-403b-a4fc-489ea4c73e33",
   "metadata": {},
   "outputs": [],
   "source": [
    "output=summarizeText(text)"
   ]
  },
  {
   "cell_type": "code",
   "execution_count": 11,
   "id": "2a3fa85e-1785-4578-b314-e4317117860c",
   "metadata": {},
   "outputs": [
    {
     "name": "stdout",
     "output_type": "stream",
     "text": [
      "In this chapter, students will learn how to analyze and interpret economic problems in order to make informed decisions. In order to understand economics, they must first understand the concept of \"division and specialization\" of labor. Adam Smith, the first scholar of economics in 1776, first proposed this concept in his book The World of Nations. In his book, Smith explains that people have different skills and interests so that they can better perform certain tasks than others. In other words, people can be better at certain jobs than others because they have different talents and interests. For instance, people who specialize in a certain task can learn to produce faster and with better quality than those who only produce a few things. If a business concentrates on one product, it will be more successful than if it produces a wide variety of products. If, on the other hand, it produces many different products, the cost of producing one product will be lower than that of\n",
      "In this chapter, you will learn how people make decisions about what they should do with their money and how to use it to make the most of it. You will also learn about the concept of \"scarcity,\" which means that people do not have enough resources to produce the things they want. In order to understand this concept, you must first understand that there are two kinds of people: 1) people who produce everything they want, and 2) people who do not produce anything but what they need. The first option is to produce everything, and then to trade for what you want. The second option is that we each produce what we want, but then we trade for the things we need. This is called \"division and specialization\" of labor. Smith explains that people have different skills and talents, so they can be better at certain jobs than others. In other words, people can focus on certain tasks, which will make them more effective than they are at other jobs.\n",
      "In this chapter, students will learn how to analyze and interpret economic problems in order to make informed decisions. They will also learn about the concept of \"scarcity,\" which means that people do not have enough resources to produce the things they want. In order to understand this concept, they will use a tool called FRED, which is a free, open-access, web-based platform for collecting, analyzing, and reporting on the world's economic and social problems.\n",
      "In this chapter, students will learn how to analyze and interpret economic information in order to make informed decisions about how to produce and consume the most useful goods and services in the world. They will also learn about the concept of \"scarcity\" and how to use it to understand how people make decisions about what to consume and what to do with the money they earn.\n",
      "In this chapter, the UM uses the example of a homeless person to illustrate how scarcity exists in the world. In order to understand how people make decisions, he uses the concept of \"division and specialization\" of labor. In this paper, Adam Smith, one of the first scholars on the subject of economics, explains how people can make better decisions by dividing the tasks that are most important to them into smaller, more specialized tasks.\n",
      "In this chapter, students will learn how to analyze and interpret economic problems in order to make informed decisions. They will also learn about the concept of \"scarcity\" and how to use this concept to make decisions. In order to understand scarcity, they will use a tool called FRED, which is a free, open-access, web-based platform for collecting, analyzing, and interpreting economic and social information.\n",
      "In this chapter, the UM uses the example of a homeless person to illustrate how scarcity exists in the world. In order to understand how people make decisions about what to eat, shelter, clothes, transportation, and entertainment, he focuses on the concept of \"division and specialization\" of labor. Smith explains that people have different skills and talents, so they can be better at certain jobs than others. When a business concentrates on one or only few products, the cost of making each product goes down, making it more cost effective to produce more than one person does.\n",
      "In this chapter, the UM uses the example of a homeless person to explain how people make decisions about what to eat, what to wear, and how to get the most out of their limited resources. He explains that people have different skills and interests so they can be better at certain jobs than others. He also explains how specialization in certain jobs can make it easier for businesses to compete with smaller, more affluent businesses.\n",
      "In this chapter, students are introduced to the concept of \"scarcity\" and how people make decisions about what to consume and what to do with the money they have. They will also learn how to use the FRED, a free, open-source, and free-to-use economics platform, to analyze and understand the world's economic situation. The UM uses FRED to analyze the nation's financial and social situation and to learn how people are making decisions about how to make the most of their limited resources.\n",
      "In this chapter, students will learn how to analyze and interpret economic problems in order to make informed decisions. They will also learn to interpret scarcity in terms of human needs and wants. In order to understand economics, they will need to understand the concept of \"division and specialization\" of labor. In the nineteenth century, Adam Smith, one of the first scholars on the subject, proposed that labor be divided into multiple tasks so that different people can perform the same task at the same time. In this way, workers can produce more goods and services than one person can produce by himself.\n"
     ]
    }
   ],
   "source": [
    "for i in output:\n",
    "    print(tokenizer.decode(i, skip_special_tokens=True))"
   ]
  },
  {
   "cell_type": "code",
   "execution_count": 18,
   "id": "840a145a-b897-42e2-8043-b5edb23fee6e",
   "metadata": {},
   "outputs": [],
   "source": [
    "section_num = 1\n",
    "summaries_dict = {}\n",
    "# for text in sections_df[sections_df['chapter'] == 1]:\n",
    "#     outputs = summarizeText(text)\n",
    "#     summaries = [tokenizer.decode(out, skip_special_tokens=True) for out in outputs]\n",
    "#     summaries_dict[section_num] = summaries\n",
    "#     section_num +=1\n",
    "\n",
    "for row in sections_df[sections_df['chapter'] ==  1].iterrows():                                                    \n",
    "    outputs = summarizeText(row[1]['text'], num_beams = section_num)\n",
    "    summaries = [tokenizer.decode(out, skip_special_tokens=True) for out in outputs]\n",
    "    summaries.append(row[1]['textbook_summary'])\n",
    "    summaries_dict[section_num] = summaries \n",
    "    section_num += 1"
   ]
  },
  {
   "cell_type": "code",
   "execution_count": 20,
   "id": "bd9f5198-1b98-4366-abb5-1d454360b424",
   "metadata": {},
   "outputs": [],
   "source": [
    "pd.DataFrame.from_dict(summaries_dict).to_csv('../data/summaries_df.csv')"
   ]
  },
  {
   "cell_type": "code",
   "execution_count": 16,
   "id": "6b4661ae-ae6f-4089-b283-a13fd685e70d",
   "metadata": {},
   "outputs": [],
   "source": [
    "chapter1_df = sections_df[sections_df['chapter'] == 1]"
   ]
  },
  {
   "cell_type": "code",
   "execution_count": 17,
   "id": "27c6813c-400e-4ad6-a452-ba67accb1be3",
   "metadata": {},
   "outputs": [
    {
     "name": "stdout",
     "output_type": "stream",
     "text": [
      "generating summary using 1 beams\n"
     ]
    },
    {
     "ename": "TypeError",
     "evalue": "summarizeText() got an unexpected keyword argument 'beams'",
     "output_type": "error",
     "traceback": [
      "\u001b[0;31m---------------------------------------------------------------------------\u001b[0m",
      "\u001b[0;31mTypeError\u001b[0m                                 Traceback (most recent call last)",
      "Input \u001b[0;32mIn [17]\u001b[0m, in \u001b[0;36m<cell line: 1>\u001b[0;34m()\u001b[0m\n\u001b[1;32m      3\u001b[0m summary_name \u001b[38;5;241m=\u001b[39m \u001b[38;5;124m'\u001b[39m\u001b[38;5;124msummary\u001b[39m\u001b[38;5;124m'\u001b[39m\u001b[38;5;241m+\u001b[39m\u001b[38;5;28mstr\u001b[39m(i\u001b[38;5;241m+\u001b[39m\u001b[38;5;241m1\u001b[39m)\n\u001b[1;32m      4\u001b[0m rouge_name \u001b[38;5;241m=\u001b[39m \u001b[38;5;124m'\u001b[39m\u001b[38;5;124mrougeF1\u001b[39m\u001b[38;5;124m'\u001b[39m\u001b[38;5;241m+\u001b[39m\u001b[38;5;28mstr\u001b[39m(i\u001b[38;5;241m+\u001b[39m\u001b[38;5;241m1\u001b[39m)\n\u001b[0;32m----> 5\u001b[0m chapter1_df[summary_name] \u001b[38;5;241m=\u001b[39m \u001b[43mchapter1_df\u001b[49m\u001b[38;5;241;43m.\u001b[39;49m\u001b[43mapply\u001b[49m\u001b[43m(\u001b[49m\u001b[38;5;28;43;01mlambda\u001b[39;49;00m\u001b[43m \u001b[49m\u001b[43mrow\u001b[49m\u001b[43m:\u001b[49m\u001b[43m \u001b[49m\u001b[43msummarizeText\u001b[49m\u001b[43m(\u001b[49m\u001b[43mrow\u001b[49m\u001b[43m[\u001b[49m\u001b[38;5;124;43m'\u001b[39;49m\u001b[38;5;124;43mtext\u001b[39;49m\u001b[38;5;124;43m'\u001b[39;49m\u001b[43m]\u001b[49m\u001b[43m,\u001b[49m\u001b[43m \u001b[49m\u001b[43mbeams\u001b[49m\u001b[38;5;241;43m=\u001b[39;49m\u001b[43mi\u001b[49m\u001b[38;5;241;43m+\u001b[39;49m\u001b[38;5;241;43m1\u001b[39;49m\u001b[43m)\u001b[49m\u001b[43m,\u001b[49m\u001b[43m \u001b[49m\u001b[43maxis\u001b[49m\u001b[38;5;241;43m=\u001b[39;49m\u001b[38;5;241;43m1\u001b[39;49m\u001b[43m)\u001b[49m\n\u001b[1;32m      6\u001b[0m chapter1_df[rouge_name] \u001b[38;5;241m=\u001b[39m chapter1_df\u001b[38;5;241m.\u001b[39mapply(\u001b[38;5;28;01mlambda\u001b[39;00m row: getRouge(row[\u001b[38;5;124m'\u001b[39m\u001b[38;5;124mtextbook_summary\u001b[39m\u001b[38;5;124m'\u001b[39m], row[summary_name]), axis\u001b[38;5;241m=\u001b[39m\u001b[38;5;241m1\u001b[39m)\n",
      "File \u001b[0;32m/opt/conda/lib/python3.10/site-packages/pandas/core/frame.py:8839\u001b[0m, in \u001b[0;36mDataFrame.apply\u001b[0;34m(self, func, axis, raw, result_type, args, **kwargs)\u001b[0m\n\u001b[1;32m   8828\u001b[0m \u001b[38;5;28;01mfrom\u001b[39;00m \u001b[38;5;21;01mpandas\u001b[39;00m\u001b[38;5;21;01m.\u001b[39;00m\u001b[38;5;21;01mcore\u001b[39;00m\u001b[38;5;21;01m.\u001b[39;00m\u001b[38;5;21;01mapply\u001b[39;00m \u001b[38;5;28;01mimport\u001b[39;00m frame_apply\n\u001b[1;32m   8830\u001b[0m op \u001b[38;5;241m=\u001b[39m frame_apply(\n\u001b[1;32m   8831\u001b[0m     \u001b[38;5;28mself\u001b[39m,\n\u001b[1;32m   8832\u001b[0m     func\u001b[38;5;241m=\u001b[39mfunc,\n\u001b[0;32m   (...)\u001b[0m\n\u001b[1;32m   8837\u001b[0m     kwargs\u001b[38;5;241m=\u001b[39mkwargs,\n\u001b[1;32m   8838\u001b[0m )\n\u001b[0;32m-> 8839\u001b[0m \u001b[38;5;28;01mreturn\u001b[39;00m \u001b[43mop\u001b[49m\u001b[38;5;241;43m.\u001b[39;49m\u001b[43mapply\u001b[49m\u001b[43m(\u001b[49m\u001b[43m)\u001b[49m\u001b[38;5;241m.\u001b[39m__finalize__(\u001b[38;5;28mself\u001b[39m, method\u001b[38;5;241m=\u001b[39m\u001b[38;5;124m\"\u001b[39m\u001b[38;5;124mapply\u001b[39m\u001b[38;5;124m\"\u001b[39m)\n",
      "File \u001b[0;32m/opt/conda/lib/python3.10/site-packages/pandas/core/apply.py:727\u001b[0m, in \u001b[0;36mFrameApply.apply\u001b[0;34m(self)\u001b[0m\n\u001b[1;32m    724\u001b[0m \u001b[38;5;28;01melif\u001b[39;00m \u001b[38;5;28mself\u001b[39m\u001b[38;5;241m.\u001b[39mraw:\n\u001b[1;32m    725\u001b[0m     \u001b[38;5;28;01mreturn\u001b[39;00m \u001b[38;5;28mself\u001b[39m\u001b[38;5;241m.\u001b[39mapply_raw()\n\u001b[0;32m--> 727\u001b[0m \u001b[38;5;28;01mreturn\u001b[39;00m \u001b[38;5;28;43mself\u001b[39;49m\u001b[38;5;241;43m.\u001b[39;49m\u001b[43mapply_standard\u001b[49m\u001b[43m(\u001b[49m\u001b[43m)\u001b[49m\n",
      "File \u001b[0;32m/opt/conda/lib/python3.10/site-packages/pandas/core/apply.py:851\u001b[0m, in \u001b[0;36mFrameApply.apply_standard\u001b[0;34m(self)\u001b[0m\n\u001b[1;32m    850\u001b[0m \u001b[38;5;28;01mdef\u001b[39;00m \u001b[38;5;21mapply_standard\u001b[39m(\u001b[38;5;28mself\u001b[39m):\n\u001b[0;32m--> 851\u001b[0m     results, res_index \u001b[38;5;241m=\u001b[39m \u001b[38;5;28;43mself\u001b[39;49m\u001b[38;5;241;43m.\u001b[39;49m\u001b[43mapply_series_generator\u001b[49m\u001b[43m(\u001b[49m\u001b[43m)\u001b[49m\n\u001b[1;32m    853\u001b[0m     \u001b[38;5;66;03m# wrap results\u001b[39;00m\n\u001b[1;32m    854\u001b[0m     \u001b[38;5;28;01mreturn\u001b[39;00m \u001b[38;5;28mself\u001b[39m\u001b[38;5;241m.\u001b[39mwrap_results(results, res_index)\n",
      "File \u001b[0;32m/opt/conda/lib/python3.10/site-packages/pandas/core/apply.py:867\u001b[0m, in \u001b[0;36mFrameApply.apply_series_generator\u001b[0;34m(self)\u001b[0m\n\u001b[1;32m    864\u001b[0m \u001b[38;5;28;01mwith\u001b[39;00m option_context(\u001b[38;5;124m\"\u001b[39m\u001b[38;5;124mmode.chained_assignment\u001b[39m\u001b[38;5;124m\"\u001b[39m, \u001b[38;5;28;01mNone\u001b[39;00m):\n\u001b[1;32m    865\u001b[0m     \u001b[38;5;28;01mfor\u001b[39;00m i, v \u001b[38;5;129;01min\u001b[39;00m \u001b[38;5;28menumerate\u001b[39m(series_gen):\n\u001b[1;32m    866\u001b[0m         \u001b[38;5;66;03m# ignore SettingWithCopy here in case the user mutates\u001b[39;00m\n\u001b[0;32m--> 867\u001b[0m         results[i] \u001b[38;5;241m=\u001b[39m \u001b[38;5;28;43mself\u001b[39;49m\u001b[38;5;241;43m.\u001b[39;49m\u001b[43mf\u001b[49m\u001b[43m(\u001b[49m\u001b[43mv\u001b[49m\u001b[43m)\u001b[49m\n\u001b[1;32m    868\u001b[0m         \u001b[38;5;28;01mif\u001b[39;00m \u001b[38;5;28misinstance\u001b[39m(results[i], ABCSeries):\n\u001b[1;32m    869\u001b[0m             \u001b[38;5;66;03m# If we have a view on v, we need to make a copy because\u001b[39;00m\n\u001b[1;32m    870\u001b[0m             \u001b[38;5;66;03m#  series_generator will swap out the underlying data\u001b[39;00m\n\u001b[1;32m    871\u001b[0m             results[i] \u001b[38;5;241m=\u001b[39m results[i]\u001b[38;5;241m.\u001b[39mcopy(deep\u001b[38;5;241m=\u001b[39m\u001b[38;5;28;01mFalse\u001b[39;00m)\n",
      "Input \u001b[0;32mIn [17]\u001b[0m, in \u001b[0;36m<lambda>\u001b[0;34m(row)\u001b[0m\n\u001b[1;32m      3\u001b[0m summary_name \u001b[38;5;241m=\u001b[39m \u001b[38;5;124m'\u001b[39m\u001b[38;5;124msummary\u001b[39m\u001b[38;5;124m'\u001b[39m\u001b[38;5;241m+\u001b[39m\u001b[38;5;28mstr\u001b[39m(i\u001b[38;5;241m+\u001b[39m\u001b[38;5;241m1\u001b[39m)\n\u001b[1;32m      4\u001b[0m rouge_name \u001b[38;5;241m=\u001b[39m \u001b[38;5;124m'\u001b[39m\u001b[38;5;124mrougeF1\u001b[39m\u001b[38;5;124m'\u001b[39m\u001b[38;5;241m+\u001b[39m\u001b[38;5;28mstr\u001b[39m(i\u001b[38;5;241m+\u001b[39m\u001b[38;5;241m1\u001b[39m)\n\u001b[0;32m----> 5\u001b[0m chapter1_df[summary_name] \u001b[38;5;241m=\u001b[39m chapter1_df\u001b[38;5;241m.\u001b[39mapply(\u001b[38;5;28;01mlambda\u001b[39;00m row: \u001b[43msummarizeText\u001b[49m\u001b[43m(\u001b[49m\u001b[43mrow\u001b[49m\u001b[43m[\u001b[49m\u001b[38;5;124;43m'\u001b[39;49m\u001b[38;5;124;43mtext\u001b[39;49m\u001b[38;5;124;43m'\u001b[39;49m\u001b[43m]\u001b[49m\u001b[43m,\u001b[49m\u001b[43m \u001b[49m\u001b[43mbeams\u001b[49m\u001b[38;5;241;43m=\u001b[39;49m\u001b[43mi\u001b[49m\u001b[38;5;241;43m+\u001b[39;49m\u001b[38;5;241;43m1\u001b[39;49m\u001b[43m)\u001b[49m, axis\u001b[38;5;241m=\u001b[39m\u001b[38;5;241m1\u001b[39m)\n\u001b[1;32m      6\u001b[0m chapter1_df[rouge_name] \u001b[38;5;241m=\u001b[39m chapter1_df\u001b[38;5;241m.\u001b[39mapply(\u001b[38;5;28;01mlambda\u001b[39;00m row: getRouge(row[\u001b[38;5;124m'\u001b[39m\u001b[38;5;124mtextbook_summary\u001b[39m\u001b[38;5;124m'\u001b[39m], row[summary_name]), axis\u001b[38;5;241m=\u001b[39m\u001b[38;5;241m1\u001b[39m)\n",
      "\u001b[0;31mTypeError\u001b[0m: summarizeText() got an unexpected keyword argument 'beams'"
     ]
    }
   ],
   "source": [
    "for i in range(10):\n",
    "    print('generating summary using', str(i+1), 'beams')\n",
    "    summary_name = 'summary'+str(i+1)\n",
    "    rouge_name = 'rougeF1'+str(i+1)\n",
    "    chapter1_df[summary_name] = chapter1_df.apply(lambda row: summarizeText(row['text'], num_beams=i+1), axis=1)\n",
    "    chapter1_df[rouge_name] = chapter1_df.apply(lambda row: getRouge(row['textbook_summary'], row[summary_name]), axis=1)"
   ]
  },
  {
   "cell_type": "code",
   "execution_count": null,
   "id": "0de1f293-accf-49b0-b53d-c749fa7debd1",
   "metadata": {},
   "outputs": [],
   "source": [
    "chapter1_df.to_csv('../data/chapter1_summaries.csv')"
   ]
  },
  {
   "cell_type": "code",
   "execution_count": null,
   "id": "b2082553-9c78-4755-9ffe-d855b6cbcfe4",
   "metadata": {},
   "outputs": [],
   "source": [
    "chapter1_df"
   ]
  },
  {
   "cell_type": "code",
   "execution_count": null,
   "id": "99341f40-2d64-4678-a405-5d827ba1ef72",
   "metadata": {},
   "outputs": [],
   "source": []
  },
  {
   "cell_type": "code",
   "execution_count": null,
   "id": "c0224b8e-6754-454d-b1b1-320d74fc52ce",
   "metadata": {},
   "outputs": [],
   "source": [
    "precision, recall, fmeasure = scorer.score(chapter1_df.iloc[0]['textbook_summary'], chapter1_df.iloc[0]['summary10'])['rougeLsum']\n",
    "\n",
    "fmeasure"
   ]
  }
 ],
 "metadata": {
  "kernelspec": {
   "display_name": "Python 3 (ipykernel)",
   "language": "python",
   "name": "python3"
  },
  "language_info": {
   "codemirror_mode": {
    "name": "ipython",
    "version": 3
   },
   "file_extension": ".py",
   "mimetype": "text/x-python",
   "name": "python",
   "nbconvert_exporter": "python",
   "pygments_lexer": "ipython3",
   "version": "3.10.5"
  }
 },
 "nbformat": 4,
 "nbformat_minor": 5
}
