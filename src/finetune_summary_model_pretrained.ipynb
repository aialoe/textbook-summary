{
 "cells": [
  {
   "cell_type": "markdown",
   "id": "43f4be4b-5a3e-4b90-8884-8c86f1037202",
   "metadata": {},
   "source": [
    "# Finetune the Summary Grader"
   ]
  },
  {
   "cell_type": "markdown",
   "id": "d3fc012f-d9ce-454c-8c26-4299646a49ff",
   "metadata": {},
   "source": [
    "## Initialize"
   ]
  },
  {
   "cell_type": "code",
   "execution_count": 1,
   "id": "21258e8d-edd4-4723-8240-4766751e99a9",
   "metadata": {},
   "outputs": [],
   "source": [
    "%%capture\n",
    "from pathlib import Path\n",
    "import pandas as pd\n",
    "import numpy as np\n",
    "!pip install SentencePiece\n",
    "!pip install \"ray[tune]\"\n",
    "!pip install wandb\n",
    "import seaborn as sns\n",
    "\n",
    "sns.set_theme(font='Liberation Serif',\n",
    "              rc={'figure.figsize': (7.5,3.75),\n",
    "                  'font.size': 11,\n",
    "                  'figure.dpi': 300,\n",
    "                 })"
   ]
  },
  {
   "cell_type": "code",
   "execution_count": 2,
   "id": "6050e15f-9efa-445a-8c8b-4f8906c49662",
   "metadata": {},
   "outputs": [],
   "source": [
    "DATA = Path.cwd().parent / 'data'\n",
    "SUMM_FOLDER = DATA / 'summaries_finetune'\n",
    "TEXT_FILES = SUMM_FOLDER / 'text_files_copy'\n",
    "SOURCE_TEXTS = SUMM_FOLDER / 'source_texts'"
   ]
  },
  {
   "cell_type": "markdown",
   "id": "fd3ac55c-5818-4434-93a5-a7cf77ffa122",
   "metadata": {},
   "source": [
    "## Load and clean the data"
   ]
  },
  {
   "cell_type": "code",
   "execution_count": 3,
   "id": "f2160889-7b00-4443-a7ab-dd71118c8c4a",
   "metadata": {},
   "outputs": [],
   "source": [
    "summaries_df = pd.read_csv(SUMM_FOLDER / 'final_summaries_ai_aloe_fixed.csv')\n",
    "\n",
    "from sklearn.preprocessing import MinMaxScaler\n",
    "import numpy as np\n",
    "  \n",
    "# copy the data\n",
    "df_normalized = summaries_df.copy()\n",
    "  \n",
    "# apply normalization techniques\n",
    "df_normalized['content_pca'] = MinMaxScaler().fit_transform(np.array(df_normalized['content_pca']).reshape(-1,1))\n",
    "df_normalized['paraphrase_pca'] = MinMaxScaler().fit_transform(np.array(df_normalized['paraphrase_pca']).reshape(-1,1))  "
   ]
  },
  {
   "cell_type": "code",
   "execution_count": 4,
   "id": "34e72196-c52a-4bce-9065-d42e768a297a",
   "metadata": {},
   "outputs": [
    {
     "data": {
      "image/png": "[encoded data removed]",
      "text/plain": [
       "<Figure size 432x288 with 1 Axes>"
      ]
     },
     "metadata": {
      "needs_background": "light"
     },
     "output_type": "display_data"
    }
   ],
   "source": [
    "from matplotlib import pyplot as plt\n",
    "sns.boxplot(x=\"variable\", y=\"value\", data=pd.melt(df_normalized[['content_pca', 'paraphrase_pca']]), showmeans=True)\n",
    "\n",
    "plt.title('Scores of Content and Paraphrase after Normalization')\n",
    "plt.xlabel('Criteria')\n",
    "plt.ylabel('Score')\n",
    "plt.show()"
   ]
  },
  {
   "cell_type": "code",
   "execution_count": 5,
   "id": "c074d42f-1a98-4340-8bd6-3f2d88907897",
   "metadata": {},
   "outputs": [],
   "source": [
    "df_normalized.describe().to_csv('table.csv')"
   ]
  },
  {
   "cell_type": "markdown",
   "id": "9d1073ed-3744-4ad7-a97a-6ec852e15c54",
   "metadata": {},
   "source": [
    "### Seperate out a test set to avoid prompt effect"
   ]
  },
  {
   "cell_type": "code",
   "execution_count": 6,
   "id": "269955cc-ef88-4bc2-8a04-624d30ba1020",
   "metadata": {},
   "outputs": [],
   "source": [
    "source_texts = df_normalized['source_text_filename_clean'].value_counts().to_frame().reset_index()\n",
    "texts_to_remove = list(source_texts.iloc[15:31]['index'])"
   ]
  },
  {
   "cell_type": "code",
   "execution_count": 7,
   "id": "6a4b909a-6e93-40db-b517-e6db448e00e4",
   "metadata": {},
   "outputs": [
    {
     "name": "stdout",
     "output_type": "stream",
     "text": [
      "test n: 703\n",
      "train n: 3987\n"
     ]
    }
   ],
   "source": [
    "# source_texts = df_normalized['source_text'].value_counts().to_frame()\n",
    "# texts_to_remove = list(source_texts.iloc[1:6].index)\n",
    "\n",
    "test_df = df_normalized[df_normalized['source_text_filename_clean'].isin(texts_to_remove)]\n",
    "train_df = df_normalized[df_normalized['source_text_filename_clean'].isin(texts_to_remove) == False]\n",
    "print('test n:', len(test_df))\n",
    "print('train n:', len(train_df))"
   ]
  },
  {
   "cell_type": "markdown",
   "id": "631dbfab-201f-4f62-978a-c031f80dde42",
   "metadata": {},
   "source": [
    "## Transformer time"
   ]
  },
  {
   "cell_type": "code",
   "execution_count": 8,
   "id": "1122fb77-194d-4e32-8184-417cd1f5d2e2",
   "metadata": {},
   "outputs": [],
   "source": [
    "from datasets import load_dataset, load_metric, Dataset, Value, ClassLabel, Features, DatasetDict\n",
    "# from transformers import LongformerTokenizer, LongformerForSequenceClassification, LongformerConfig\n",
    "from transformers import RobertaTokenizer, RobertaForSequenceClassification, RobertaConfig, DataCollatorWithPadding, Trainer, TrainingArguments, EarlyStoppingCallback\n",
    "from transformers import LongformerTokenizer, LongformerForSequenceClassification, LongformerConfig\n",
    "\n",
    "\n",
    "import torch\n",
    "seed = 42\n",
    "model_name =  'roberta-base'# #\"google/bigbird-roberta-base\"'allenai/longformer-base-4096'# \n",
    "tokenizer = RobertaTokenizer.from_pretrained(model_name)# LongformerTokenizer.from_pretrained(model_name)#, padding=True)# #\n",
    "#torch.cuda.empty_cache()\n",
    "\n",
    "device = torch.device(\"cpu\")\n",
    "if torch.cuda.is_available():\n",
    "    device = torch.device(\"cuda\")"
   ]
  },
  {
   "cell_type": "markdown",
   "id": "6f4c0386-b00b-46b6-a76d-2fbc3b19f688",
   "metadata": {},
   "source": [
    "### Build datasets"
   ]
  },
  {
   "cell_type": "code",
   "execution_count": 9,
   "id": "f836f89c-97d1-449d-944e-11a61c18f151",
   "metadata": {},
   "outputs": [],
   "source": [
    "def buildDataset(df):\n",
    "    full_dataset = Dataset.from_pandas(df, preserve_index=False)\n",
    "    # 70% train, 30% test\n",
    "    train_valid = full_dataset.train_test_split(test_size=0.176, seed=seed)\n",
    "    # gather everyone if you want to have a single DatasetDict\n",
    "    final_dataset = DatasetDict({\n",
    "        'train': train_valid['train'],\n",
    "        'valid': train_valid['test']})\n",
    "    return final_dataset"
   ]
  },
  {
   "cell_type": "code",
   "execution_count": 10,
   "id": "2dc5499d-2a60-4707-845e-ac4ac6a702aa",
   "metadata": {},
   "outputs": [],
   "source": [
    "content_df = train_df[['text', 'content_pca']]\n",
    "content_df.columns = ['text', 'labels']\n",
    "content_ds = buildDataset(content_df)\n",
    "\n",
    "paraphrase_df = train_df[['text', 'paraphrase_pca']]\n",
    "paraphrase_df.columns = ['text', 'labels']\n",
    "paraphrase_ds = buildDataset(paraphrase_df)"
   ]
  },
  {
   "cell_type": "code",
   "execution_count": 11,
   "id": "4650f96e-0fbb-4b69-9c0e-e33f4f5c0903",
   "metadata": {},
   "outputs": [],
   "source": [
    "# this adds the test set in that we seperated earlier\n",
    "content_ds['test'] = Dataset.from_pandas(test_df[['text', 'content_pca']].rename(columns={'content_pca':'labels'}), preserve_index=False)\n",
    "paraphrase_ds['test'] = Dataset.from_pandas(test_df[['text', 'paraphrase_pca']].rename(columns={'paraphrase_pca':'labels'}), preserve_index=False)"
   ]
  },
  {
   "cell_type": "code",
   "execution_count": null,
   "id": "5753ef83-3dbb-4c43-8bb7-6809279436df",
   "metadata": {},
   "outputs": [],
   "source": []
  },
  {
   "cell_type": "code",
   "execution_count": 12,
   "id": "774e2c55-3579-4810-b6d2-e358ffccc099",
   "metadata": {},
   "outputs": [],
   "source": [
    "model_name = model_name\n",
    "tokenizer = tokenizer"
   ]
  },
  {
   "cell_type": "code",
   "execution_count": 21,
   "id": "0c1ab814-0ff6-4389-a330-398e531cd3ea",
   "metadata": {},
   "outputs": [
    {
     "data": {
      "application/vnd.jupyter.widget-view+json": {
       "model_id": "30ee149fc83941daa3a3efe3c45aaf58",
       "version_major": 2,
       "version_minor": 0
      },
      "text/plain": [
       "  0%|          | 0/4 [00:00<?, ?ba/s]"
      ]
     },
     "metadata": {},
     "output_type": "display_data"
    },
    {
     "name": "stderr",
     "output_type": "stream",
     "text": [
      "Token indices sequence length is longer than the specified maximum sequence length for this model (519 > 512). Running this sequence through the model will result in indexing errors\n"
     ]
    },
    {
     "data": {
      "application/vnd.jupyter.widget-view+json": {
       "model_id": "46fbd0f95a3d40ccb4bf811df10d824e",
       "version_major": 2,
       "version_minor": 0
      },
      "text/plain": [
       "  0%|          | 0/1 [00:00<?, ?ba/s]"
      ]
     },
     "metadata": {},
     "output_type": "display_data"
    },
    {
     "data": {
      "application/vnd.jupyter.widget-view+json": {
       "model_id": "09a535ce258645c0987af8277a6d673b",
       "version_major": 2,
       "version_minor": 0
      },
      "text/plain": [
       "  0%|          | 0/1 [00:00<?, ?ba/s]"
      ]
     },
     "metadata": {},
     "output_type": "display_data"
    },
    {
     "data": {
      "application/vnd.jupyter.widget-view+json": {
       "model_id": "33c8d07792cd446faedcf6f83ba943b1",
       "version_major": 2,
       "version_minor": 0
      },
      "text/plain": [
       "  0%|          | 0/4 [00:00<?, ?ba/s]"
      ]
     },
     "metadata": {},
     "output_type": "display_data"
    },
    {
     "data": {
      "application/vnd.jupyter.widget-view+json": {
       "model_id": "75976876c52844d2962a02b086cbe3e7",
       "version_major": 2,
       "version_minor": 0
      },
      "text/plain": [
       "  0%|          | 0/1 [00:00<?, ?ba/s]"
      ]
     },
     "metadata": {},
     "output_type": "display_data"
    },
    {
     "data": {
      "application/vnd.jupyter.widget-view+json": {
       "model_id": "24322cd245c4423fbd566591a4d77a5e",
       "version_major": 2,
       "version_minor": 0
      },
      "text/plain": [
       "  0%|          | 0/1 [00:00<?, ?ba/s]"
      ]
     },
     "metadata": {},
     "output_type": "display_data"
    }
   ],
   "source": [
    "# tokenize them\n",
    "def tokenize_inputs(example):\n",
    "    return tokenizer(example['text'])#, truncation = True)\n",
    "\n",
    "content_ds_t = content_ds.map(tokenize_inputs, batched=True)\n",
    "paraphrase_ds_t = paraphrase_ds.map(tokenize_inputs, batched=True)"
   ]
  },
  {
   "cell_type": "code",
   "execution_count": 25,
   "id": "4243caa6-8ed3-4e86-8629-dfb445a56a7a",
   "metadata": {},
   "outputs": [
    {
     "name": "stdout",
     "output_type": "stream",
     "text": [
      "519\n",
      "664\n",
      "536\n",
      "578\n",
      "525\n",
      "685\n",
      "570\n",
      "523\n",
      "684\n"
     ]
    }
   ],
   "source": [
    "content_ds_t['train']['input_ids']\n",
    "\n",
    "for i in content_ds_t['train']['input_ids']:\n",
    "    if len(i) > 500:\n",
    "        print(len(i))"
   ]
  },
  {
   "cell_type": "markdown",
   "id": "46f68cf4-6412-4d1b-ac35-36a2441b691d",
   "metadata": {},
   "source": [
    "### Define metrics"
   ]
  },
  {
   "cell_type": "code",
   "execution_count": 15,
   "id": "a09f01ba-3e92-4511-b414-282c600a0068",
   "metadata": {},
   "outputs": [],
   "source": [
    "from sklearn.metrics import mean_squared_error, r2_score, mean_squared_error, mean_absolute_error\n",
    "from scipy.stats import pearsonr \n",
    "\n",
    "def compute_metrics_for_regression(eval_pred):\n",
    "    logits, labels = eval_pred\n",
    "    mse = mean_squared_error(labels, logits)\n",
    "    rmse = mean_squared_error(labels, logits, squared=False)\n",
    "    mae = mean_absolute_error(labels, logits)\n",
    "    r2 = r2_score(labels, logits)\n",
    "    smape = 1/len(labels) * np.sum(2 * np.abs(logits-labels) / (np.abs(labels) + np.abs(logits))*100)\n",
    "\n",
    "    return {\"mse\": mse, \"rmse\": rmse, \"mae\": mae, \"r2\": r2, \"smape\": smape}"
   ]
  },
  {
   "cell_type": "markdown",
   "id": "324a1235-bc9a-4f32-b965-fa1927b40ef7",
   "metadata": {},
   "source": [
    "### Set hyperparameters"
   ]
  },
  {
   "cell_type": "code",
   "execution_count": 16,
   "id": "b6a2745a-31a6-4cf8-9310-1e7c3a48f173",
   "metadata": {},
   "outputs": [],
   "source": [
    "learning_rate = 3e-05\n",
    "batch_size = 36\n",
    "seed = 42\n",
    "num_epochs = 6\n",
    "da_model_name = './results/checkpoint-78500'\n",
    "\n",
    "def model_init():\n",
    "    return RobertaForSequenceClassification.from_pretrained(model_name,\n",
    "                                                              num_labels=1).to(device)\n",
    "# def model_init():\n",
    "#     return RobertaForSequenceClassification.from_pretrained(da_model_name,\n",
    "#                                                               num_labels=1).to(device)\n",
    "data_collator = DataCollatorWithPadding(tokenizer=tokenizer)"
   ]
  },
  {
   "cell_type": "markdown",
   "id": "2db1ee81-659f-4f75-a385-f90e7896537e",
   "metadata": {},
   "source": [
    "### Train the content model"
   ]
  },
  {
   "cell_type": "code",
   "execution_count": 17,
   "id": "342b9b50-e943-4da0-9316-0cf71866e7a4",
   "metadata": {},
   "outputs": [
    {
     "name": "stderr",
     "output_type": "stream",
     "text": [
      "loading configuration file https://huggingface.co/roberta-base/resolve/main/config.json from cache at /home/jovyan/.cache/huggingface/transformers/733bade19e5f0ce98e6531021dd5180994bb2f7b8bd7e80c7968805834ba351e.35205c6cfc956461d8515139f0f8dd5d207a2f336c0c3a83b4bc8dca3518e37b\n",
      "Model config RobertaConfig {\n",
      "  \"architectures\": [\n",
      "    \"RobertaForMaskedLM\"\n",
      "  ],\n",
      "  \"attention_probs_dropout_prob\": 0.1,\n",
      "  \"bos_token_id\": 0,\n",
      "  \"classifier_dropout\": null,\n",
      "  \"eos_token_id\": 2,\n",
      "  \"hidden_act\": \"gelu\",\n",
      "  \"hidden_dropout_prob\": 0.1,\n",
      "  \"hidden_size\": 768,\n",
      "  \"id2label\": {\n",
      "    \"0\": \"LABEL_0\"\n",
      "  },\n",
      "  \"initializer_range\": 0.02,\n",
      "  \"intermediate_size\": 3072,\n",
      "  \"label2id\": {\n",
      "    \"LABEL_0\": 0\n",
      "  },\n",
      "  \"layer_norm_eps\": 1e-05,\n",
      "  \"max_position_embeddings\": 514,\n",
      "  \"model_type\": \"roberta\",\n",
      "  \"num_attention_heads\": 12,\n",
      "  \"num_hidden_layers\": 12,\n",
      "  \"pad_token_id\": 1,\n",
      "  \"position_embedding_type\": \"absolute\",\n",
      "  \"transformers_version\": \"4.20.1\",\n",
      "  \"type_vocab_size\": 1,\n",
      "  \"use_cache\": true,\n",
      "  \"vocab_size\": 50265\n",
      "}\n",
      "\n",
      "loading weights file https://huggingface.co/roberta-base/resolve/main/pytorch_model.bin from cache at /home/jovyan/.cache/huggingface/transformers/51ba668f7ff34e7cdfa9561e8361747738113878850a7d717dbc69de8683aaad.c7efaa30a0d80b2958b876969faa180e485944a849deee4ad482332de65365a7\n",
      "Some weights of the model checkpoint at roberta-base were not used when initializing RobertaForSequenceClassification: ['lm_head.dense.bias', 'lm_head.layer_norm.weight', 'lm_head.layer_norm.bias', 'lm_head.bias', 'lm_head.dense.weight', 'roberta.pooler.dense.weight', 'lm_head.decoder.weight', 'roberta.pooler.dense.bias']\n",
      "- This IS expected if you are initializing RobertaForSequenceClassification from the checkpoint of a model trained on another task or with another architecture (e.g. initializing a BertForSequenceClassification model from a BertForPreTraining model).\n",
      "- This IS NOT expected if you are initializing RobertaForSequenceClassification from the checkpoint of a model that you expect to be exactly identical (initializing a BertForSequenceClassification model from a BertForSequenceClassification model).\n",
      "Some weights of RobertaForSequenceClassification were not initialized from the model checkpoint at roberta-base and are newly initialized: ['classifier.dense.bias', 'classifier.out_proj.weight', 'classifier.dense.weight', 'classifier.out_proj.bias']\n",
      "You should probably TRAIN this model on a down-stream task to be able to use it for predictions and inference.\n",
      "PyTorch: setting up devices\n",
      "The default value for the training argument `--report_to` will change in v5 (from all installed integrations to none). In v5, you will need to use `--report_to all` to get the same behavior as now. You should start updating your code and make this info disappear :-).\n",
      "Failed to detect the name of this notebook, you can set it manually with the WANDB_NOTEBOOK_NAME environment variable to enable code saving.\n",
      "\u001b[34m\u001b[1mwandb\u001b[0m: Currently logged in as: \u001b[33mtiedaar1\u001b[0m. Use \u001b[1m`wandb login --relogin`\u001b[0m to force relogin\n"
     ]
    },
    {
     "data": {
      "text/html": [
       "Tracking run with wandb version 0.13.5"
      ],
      "text/plain": [
       "<IPython.core.display.HTML object>"
      ]
     },
     "metadata": {},
     "output_type": "display_data"
    },
    {
     "data": {
      "text/html": [
       "Run data is saved locally in <code>/home/jovyan/shared/2022_09_21_textbook/src/wandb/run-20221107_230040-1lg1xvxz</code>"
      ],
      "text/plain": [
       "<IPython.core.display.HTML object>"
      ]
     },
     "metadata": {},
     "output_type": "display_data"
    },
    {
     "data": {
      "text/html": [
       "Syncing run <strong><a href=\"https://wandb.ai/tiedaar1/huggingface/runs/1lg1xvxz\" target=\"_blank\">./results/roberta_content_checkpoints</a></strong> to <a href=\"https://wandb.ai/tiedaar1/huggingface\" target=\"_blank\">Weights & Biases</a> (<a href=\"https://wandb.me/run\" target=\"_blank\">docs</a>)<br/>"
      ],
      "text/plain": [
       "<IPython.core.display.HTML object>"
      ]
     },
     "metadata": {},
     "output_type": "display_data"
    },
    {
     "data": {
      "text/html": [
       "\n",
       "    <div>\n",
       "      \n",
       "      <progress value='552' max='552' style='width:300px; height:20px; vertical-align: middle;'></progress>\n",
       "      [552/552 04:56, Epoch 6/6]\n",
       "    </div>\n",
       "    <table border=\"1\" class=\"dataframe\">\n",
       "  <thead>\n",
       " <tr style=\"text-align: left;\">\n",
       "      <th>Epoch</th>\n",
       "      <th>Training Loss</th>\n",
       "      <th>Validation Loss</th>\n",
       "      <th>Mse</th>\n",
       "      <th>Rmse</th>\n",
       "      <th>Mae</th>\n",
       "      <th>R2</th>\n",
       "      <th>Smape</th>\n",
       "    </tr>\n",
       "  </thead>\n",
       "  <tbody>\n",
       "    <tr>\n",
       "      <td>1</td>\n",
       "      <td>No log</td>\n",
       "      <td>0.025309</td>\n",
       "      <td>0.025309</td>\n",
       "      <td>0.159087</td>\n",
       "      <td>0.114396</td>\n",
       "      <td>0.386654</td>\n",
       "      <td>21185.021368</td>\n",
       "    </tr>\n",
       "    <tr>\n",
       "      <td>2</td>\n",
       "      <td>No log</td>\n",
       "      <td>0.026084</td>\n",
       "      <td>0.026084</td>\n",
       "      <td>0.161507</td>\n",
       "      <td>0.121129</td>\n",
       "      <td>0.367853</td>\n",
       "      <td>21190.992877</td>\n",
       "    </tr>\n",
       "    <tr>\n",
       "      <td>3</td>\n",
       "      <td>No log</td>\n",
       "      <td>0.022764</td>\n",
       "      <td>0.022764</td>\n",
       "      <td>0.150879</td>\n",
       "      <td>0.116279</td>\n",
       "      <td>0.448314</td>\n",
       "      <td>21420.062678</td>\n",
       "    </tr>\n",
       "    <tr>\n",
       "      <td>4</td>\n",
       "      <td>No log</td>\n",
       "      <td>0.015061</td>\n",
       "      <td>0.015061</td>\n",
       "      <td>0.122725</td>\n",
       "      <td>0.089890</td>\n",
       "      <td>0.634992</td>\n",
       "      <td>22241.850427</td>\n",
       "    </tr>\n",
       "    <tr>\n",
       "      <td>5</td>\n",
       "      <td>No log</td>\n",
       "      <td>0.012957</td>\n",
       "      <td>0.012957</td>\n",
       "      <td>0.113831</td>\n",
       "      <td>0.083353</td>\n",
       "      <td>0.685982</td>\n",
       "      <td>22621.682336</td>\n",
       "    </tr>\n",
       "    <tr>\n",
       "      <td>6</td>\n",
       "      <td>0.021100</td>\n",
       "      <td>0.014606</td>\n",
       "      <td>0.014606</td>\n",
       "      <td>0.120855</td>\n",
       "      <td>0.089983</td>\n",
       "      <td>0.646032</td>\n",
       "      <td>22809.386040</td>\n",
       "    </tr>\n",
       "  </tbody>\n",
       "</table><p>"
      ],
      "text/plain": [
       "<IPython.core.display.HTML object>"
      ]
     },
     "metadata": {},
     "output_type": "display_data"
    },
    {
     "data": {
      "text/plain": [
       "TrainOutput(global_step=552, training_loss=0.020089578369389408, metrics={'train_runtime': 300.5756, 'train_samples_per_second': 65.574, 'train_steps_per_second': 1.836, 'total_flos': 3155141377449306.0, 'train_loss': 0.020089578369389408, 'epoch': 6.0})"
      ]
     },
     "execution_count": 17,
     "metadata": {},
     "output_type": "execute_result"
    }
   ],
   "source": [
    "trainer = Trainer(\n",
    "    model_init=model_init,\n",
    ")\n",
    "\n",
    "training_args = TrainingArguments(\n",
    "    output_dir = f'./results/roberta_content_checkpoints',\n",
    "    optim = 'adamw_torch',\n",
    "    num_train_epochs = num_epochs,\n",
    "    per_device_train_batch_size = batch_size,\n",
    "    per_device_eval_batch_size = batch_size,\n",
    "    weight_decay = 0.01,\n",
    "    learning_rate = learning_rate,\n",
    "    logging_dir = f'./logs/content',\n",
    "    save_total_limit = 10,\n",
    "    load_best_model_at_end = True,\n",
    "    metric_for_best_model = 'mse',\n",
    "    evaluation_strategy = \"epoch\",\n",
    "    save_strategy = \"epoch\", \n",
    "    greater_is_better = False,\n",
    "    seed=seed,\n",
    "    log_level = 'error',  # took me ages to find these options\n",
    "    disable_tqdm = False, # enable output cell scrolling in JupyterLab for even more beautiful output :D\n",
    ") \n",
    "\n",
    "    # Call the Trainer\n",
    "content_trainer = Trainer(\n",
    "    model_init = model_init,\n",
    "    args = training_args,\n",
    "    data_collator=data_collator,\n",
    "    train_dataset = content_ds_t['train'],\n",
    "    eval_dataset = content_ds_t['valid'],\n",
    "    compute_metrics = compute_metrics_for_regression,\n",
    "    #callbacks = [EarlyStoppingCallback(early_stopping_patience=3)]\n",
    ")\n",
    "\n",
    "# Train the model\n",
    "content_trainer.train()"
   ]
  },
  {
   "cell_type": "markdown",
   "id": "3725ba63-7082-409b-83ef-6c81bd473405",
   "metadata": {},
   "source": [
    "### Train the paraphrase model"
   ]
  },
  {
   "cell_type": "code",
   "execution_count": 18,
   "id": "dc16194a-1452-48da-ba03-bdb2d7fde56d",
   "metadata": {},
   "outputs": [
    {
     "name": "stderr",
     "output_type": "stream",
     "text": [
      "loading configuration file https://huggingface.co/roberta-base/resolve/main/config.json from cache at /home/jovyan/.cache/huggingface/transformers/733bade19e5f0ce98e6531021dd5180994bb2f7b8bd7e80c7968805834ba351e.35205c6cfc956461d8515139f0f8dd5d207a2f336c0c3a83b4bc8dca3518e37b\n",
      "Model config RobertaConfig {\n",
      "  \"architectures\": [\n",
      "    \"RobertaForMaskedLM\"\n",
      "  ],\n",
      "  \"attention_probs_dropout_prob\": 0.1,\n",
      "  \"bos_token_id\": 0,\n",
      "  \"classifier_dropout\": null,\n",
      "  \"eos_token_id\": 2,\n",
      "  \"hidden_act\": \"gelu\",\n",
      "  \"hidden_dropout_prob\": 0.1,\n",
      "  \"hidden_size\": 768,\n",
      "  \"id2label\": {\n",
      "    \"0\": \"LABEL_0\"\n",
      "  },\n",
      "  \"initializer_range\": 0.02,\n",
      "  \"intermediate_size\": 3072,\n",
      "  \"label2id\": {\n",
      "    \"LABEL_0\": 0\n",
      "  },\n",
      "  \"layer_norm_eps\": 1e-05,\n",
      "  \"max_position_embeddings\": 514,\n",
      "  \"model_type\": \"roberta\",\n",
      "  \"num_attention_heads\": 12,\n",
      "  \"num_hidden_layers\": 12,\n",
      "  \"pad_token_id\": 1,\n",
      "  \"position_embedding_type\": \"absolute\",\n",
      "  \"transformers_version\": \"4.20.1\",\n",
      "  \"type_vocab_size\": 1,\n",
      "  \"use_cache\": true,\n",
      "  \"vocab_size\": 50265\n",
      "}\n",
      "\n",
      "loading weights file https://huggingface.co/roberta-base/resolve/main/pytorch_model.bin from cache at /home/jovyan/.cache/huggingface/transformers/51ba668f7ff34e7cdfa9561e8361747738113878850a7d717dbc69de8683aaad.c7efaa30a0d80b2958b876969faa180e485944a849deee4ad482332de65365a7\n",
      "Some weights of the model checkpoint at roberta-base were not used when initializing RobertaForSequenceClassification: ['lm_head.dense.bias', 'lm_head.layer_norm.weight', 'lm_head.layer_norm.bias', 'lm_head.bias', 'lm_head.dense.weight', 'roberta.pooler.dense.weight', 'lm_head.decoder.weight', 'roberta.pooler.dense.bias']\n",
      "- This IS expected if you are initializing RobertaForSequenceClassification from the checkpoint of a model trained on another task or with another architecture (e.g. initializing a BertForSequenceClassification model from a BertForPreTraining model).\n",
      "- This IS NOT expected if you are initializing RobertaForSequenceClassification from the checkpoint of a model that you expect to be exactly identical (initializing a BertForSequenceClassification model from a BertForSequenceClassification model).\n",
      "Some weights of RobertaForSequenceClassification were not initialized from the model checkpoint at roberta-base and are newly initialized: ['classifier.dense.bias', 'classifier.out_proj.weight', 'classifier.dense.weight', 'classifier.out_proj.bias']\n",
      "You should probably TRAIN this model on a down-stream task to be able to use it for predictions and inference.\n",
      "PyTorch: setting up devices\n",
      "The default value for the training argument `--report_to` will change in v5 (from all installed integrations to none). In v5, you will need to use `--report_to all` to get the same behavior as now. You should start updating your code and make this info disappear :-).\n"
     ]
    },
    {
     "data": {
      "text/html": [
       "\n",
       "    <div>\n",
       "      \n",
       "      <progress value='552' max='552' style='width:300px; height:20px; vertical-align: middle;'></progress>\n",
       "      [552/552 05:00, Epoch 6/6]\n",
       "    </div>\n",
       "    <table border=\"1\" class=\"dataframe\">\n",
       "  <thead>\n",
       " <tr style=\"text-align: left;\">\n",
       "      <th>Epoch</th>\n",
       "      <th>Training Loss</th>\n",
       "      <th>Validation Loss</th>\n",
       "      <th>Mse</th>\n",
       "      <th>Rmse</th>\n",
       "      <th>Mae</th>\n",
       "      <th>R2</th>\n",
       "      <th>Smape</th>\n",
       "    </tr>\n",
       "  </thead>\n",
       "  <tbody>\n",
       "    <tr>\n",
       "      <td>1</td>\n",
       "      <td>No log</td>\n",
       "      <td>0.023556</td>\n",
       "      <td>0.023556</td>\n",
       "      <td>0.153480</td>\n",
       "      <td>0.118648</td>\n",
       "      <td>0.382470</td>\n",
       "      <td>25280.584046</td>\n",
       "    </tr>\n",
       "    <tr>\n",
       "      <td>2</td>\n",
       "      <td>No log</td>\n",
       "      <td>0.032384</td>\n",
       "      <td>0.032384</td>\n",
       "      <td>0.179956</td>\n",
       "      <td>0.142187</td>\n",
       "      <td>0.151040</td>\n",
       "      <td>28754.592593</td>\n",
       "    </tr>\n",
       "    <tr>\n",
       "      <td>3</td>\n",
       "      <td>No log</td>\n",
       "      <td>0.024550</td>\n",
       "      <td>0.024550</td>\n",
       "      <td>0.156684</td>\n",
       "      <td>0.122110</td>\n",
       "      <td>0.356420</td>\n",
       "      <td>25914.182336</td>\n",
       "    </tr>\n",
       "    <tr>\n",
       "      <td>4</td>\n",
       "      <td>No log</td>\n",
       "      <td>0.016516</td>\n",
       "      <td>0.016516</td>\n",
       "      <td>0.128514</td>\n",
       "      <td>0.096117</td>\n",
       "      <td>0.567034</td>\n",
       "      <td>28421.182336</td>\n",
       "    </tr>\n",
       "    <tr>\n",
       "      <td>5</td>\n",
       "      <td>No log</td>\n",
       "      <td>0.014592</td>\n",
       "      <td>0.014592</td>\n",
       "      <td>0.120797</td>\n",
       "      <td>0.090674</td>\n",
       "      <td>0.617467</td>\n",
       "      <td>28276.569801</td>\n",
       "    </tr>\n",
       "    <tr>\n",
       "      <td>6</td>\n",
       "      <td>0.023000</td>\n",
       "      <td>0.016006</td>\n",
       "      <td>0.016006</td>\n",
       "      <td>0.126513</td>\n",
       "      <td>0.094215</td>\n",
       "      <td>0.580409</td>\n",
       "      <td>27733.638177</td>\n",
       "    </tr>\n",
       "  </tbody>\n",
       "</table><p>"
      ],
      "text/plain": [
       "<IPython.core.display.HTML object>"
      ]
     },
     "metadata": {},
     "output_type": "display_data"
    },
    {
     "data": {
      "text/plain": [
       "TrainOutput(global_step=552, training_loss=0.021905332803726196, metrics={'train_runtime': 300.9898, 'train_samples_per_second': 65.484, 'train_steps_per_second': 1.834, 'total_flos': 3155141377449306.0, 'train_loss': 0.021905332803726196, 'epoch': 6.0})"
      ]
     },
     "execution_count": 18,
     "metadata": {},
     "output_type": "execute_result"
    }
   ],
   "source": [
    "trainer = Trainer(\n",
    "    model_init=model_init,\n",
    ")\n",
    "\n",
    "training_args = TrainingArguments(\n",
    "    output_dir = f'./results/roberta_paraphrase_checkpoints',\n",
    "    optim = 'adamw_torch',\n",
    "    num_train_epochs = num_epochs,\n",
    "    per_device_train_batch_size = batch_size,\n",
    "    per_device_eval_batch_size = batch_size,\n",
    "    weight_decay = 0.01,\n",
    "    learning_rate = learning_rate,\n",
    "    logging_dir = f'./logs/paraphrase',\n",
    "    save_total_limit = 10,\n",
    "    load_best_model_at_end = True,\n",
    "    metric_for_best_model = 'mse',\n",
    "    evaluation_strategy = \"epoch\",\n",
    "    save_strategy = \"epoch\",\n",
    "    greater_is_better = False,\n",
    "    seed=seed,\n",
    "    log_level = 'error', # took me ages to find these options\n",
    "    disable_tqdm = False, # enable output cell scrolling in JupyterLab for even more beautiful output :D\n",
    ") \n",
    "\n",
    "    # Call the Trainer\n",
    "paraphrase_trainer = Trainer(\n",
    "    model_init = model_init,\n",
    "    args = training_args,\n",
    "    data_collator=data_collator,\n",
    "    train_dataset = paraphrase_ds_t['train'],\n",
    "    eval_dataset = paraphrase_ds_t['valid'],\n",
    "    compute_metrics = compute_metrics_for_regression,\n",
    "    #callbacks = [EarlyStoppingCallback(early_stopping_patience=3)]\n",
    ")\n",
    "\n",
    "# Train the model\n",
    "paraphrase_trainer.train()"
   ]
  },
  {
   "cell_type": "markdown",
   "id": "ba09d479-5c97-4f4b-897f-590611fc38e7",
   "metadata": {},
   "source": [
    "## Evaluate the models on the test groups"
   ]
  },
  {
   "cell_type": "code",
   "execution_count": 19,
   "id": "b42ba88e-c412-40bc-8827-39cfacd29181",
   "metadata": {},
   "outputs": [
    {
     "data": {
      "text/html": [
       "\n",
       "    <div>\n",
       "      \n",
       "      <progress value='20' max='20' style='width:300px; height:20px; vertical-align: middle;'></progress>\n",
       "      [20/20 00:01]\n",
       "    </div>\n",
       "    "
      ],
      "text/plain": [
       "<IPython.core.display.HTML object>"
      ]
     },
     "metadata": {},
     "output_type": "display_data"
    },
    {
     "name": "stdout",
     "output_type": "stream",
     "text": [
      "(array([0.8216409431233901], dtype=object), 2.7233747182451042e-173)\n"
     ]
    },
    {
     "data": {
      "image/png": "[encoded data removed]",
      "text/plain": [
       "<Figure size 432x288 with 1 Axes>"
      ]
     },
     "metadata": {
      "needs_background": "light"
     },
     "output_type": "display_data"
    }
   ],
   "source": [
    "import scipy.stats\n",
    "\n",
    "con_preds, con_labs, con_metrics = content_trainer.predict(content_ds_t['test'])\n",
    "con_actual = content_ds_t['test']['labels']\n",
    "print(scipy.stats.pearsonr(con_actual, con_preds))\n",
    "\n",
    "from matplotlib import pyplot as plt\n",
    "con_preds.flatten()\n",
    "plt.scatter(con_preds, con_actual, alpha=0.5)\n",
    "plt.ylabel('true content score')\n",
    "plt.xlabel('predicted content score')\n",
    "plt.title('Content Model Accuracy')\n",
    "plt.show()"
   ]
  },
  {
   "cell_type": "code",
   "execution_count": null,
   "id": "df6935e1-d16b-4d57-9baa-0a806941e6da",
   "metadata": {},
   "outputs": [],
   "source": [
    "content_ds_t"
   ]
  },
  {
   "cell_type": "code",
   "execution_count": 20,
   "id": "a5e6a06d-bc89-4904-99ad-46f5387703e1",
   "metadata": {},
   "outputs": [
    {
     "data": {
      "text/html": [
       "\n",
       "    <div>\n",
       "      \n",
       "      <progress value='20' max='20' style='width:300px; height:20px; vertical-align: middle;'></progress>\n",
       "      [20/20 00:01]\n",
       "    </div>\n",
       "    "
      ],
      "text/plain": [
       "<IPython.core.display.HTML object>"
      ]
     },
     "metadata": {},
     "output_type": "display_data"
    },
    {
     "name": "stdout",
     "output_type": "stream",
     "text": [
      "(array([0.599488939349459], dtype=object), 8.163247401324821e-70)\n"
     ]
    },
    {
     "data": {
      "image/png": "[encoded data removed]",
      "text/plain": [
       "<Figure size 432x288 with 1 Axes>"
      ]
     },
     "metadata": {
      "needs_background": "light"
     },
     "output_type": "display_data"
    }
   ],
   "source": [
    "para_preds, para_labs, para_metrics = paraphrase_trainer.predict(paraphrase_ds_t['test'])\n",
    "paraphrase_actual = paraphrase_ds_t['test']['labels']\n",
    "print(scipy.stats.pearsonr(paraphrase_actual, para_preds))\n",
    "\n",
    "from matplotlib import pyplot as plt\n",
    "para_preds.flatten()\n",
    "plt.scatter(para_preds, paraphrase_actual, alpha=0.5)\n",
    "plt.ylabel('true paraphrase score')\n",
    "plt.xlabel('predicted paraphrase score')\n",
    "plt.title('Paraphrase Model Accuracy')\n",
    "plt.show()"
   ]
  },
  {
   "cell_type": "code",
   "execution_count": 21,
   "id": "6dde87fd-00b9-4cfb-8471-ff6f7c7ea4aa",
   "metadata": {},
   "outputs": [
    {
     "data": {
      "text/plain": [
       "('/home/jovyan/shared/2022_09_21_textbook/data/summaries_finetune/content_model_roberta_seperate_test/tokenizer.json/tokenizer_config.json',\n",
       " '/home/jovyan/shared/2022_09_21_textbook/data/summaries_finetune/content_model_roberta_seperate_test/tokenizer.json/special_tokens_map.json',\n",
       " '/home/jovyan/shared/2022_09_21_textbook/data/summaries_finetune/content_model_roberta_seperate_test/tokenizer.json/vocab.json',\n",
       " '/home/jovyan/shared/2022_09_21_textbook/data/summaries_finetune/content_model_roberta_seperate_test/tokenizer.json/merges.txt',\n",
       " '/home/jovyan/shared/2022_09_21_textbook/data/summaries_finetune/content_model_roberta_seperate_test/tokenizer.json/added_tokens.json')"
      ]
     },
     "execution_count": 21,
     "metadata": {},
     "output_type": "execute_result"
    }
   ],
   "source": [
    "paraphrase_trainer.save_model(SUMM_FOLDER / 'paraphrase_model_roberta_seperate_test')\n",
    "content_trainer.save_model(SUMM_FOLDER / 'content_model_roberta_seperate_test')\n",
    "tokenizer.save_pretrained(SUMM_FOLDER / 'paraphrase_model_roberta_seperate_test/tokenizer.json')\n",
    "tokenizer.save_pretrained(SUMM_FOLDER / 'content_model_roberta_seperate_test/tokenizer.json')"
   ]
  },
  {
   "cell_type": "code",
   "execution_count": null,
   "id": "32100d71-5828-4662-b5ff-02e54c4e70da",
   "metadata": {},
   "outputs": [],
   "source": []
  }
 ],
 "metadata": {
  "kernelspec": {
   "display_name": "Python [conda env:root] *",
   "language": "python",
   "name": "conda-root-py"
  },
  "language_info": {
   "codemirror_mode": {
    "name": "ipython",
    "version": 3
   },
   "file_extension": ".py",
   "mimetype": "text/x-python",
   "name": "python",
   "nbconvert_exporter": "python",
   "pygments_lexer": "ipython3",
   "version": "3.10.5"
  }
 },
 "nbformat": 4,
 "nbformat_minor": 5
}
