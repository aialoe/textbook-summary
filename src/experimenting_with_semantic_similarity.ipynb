{
 "cells": [
  {
   "cell_type": "code",
   "execution_count": 4,
   "id": "b2df1298-ac27-498b-aed0-963302517eb1",
   "metadata": {},
   "outputs": [],
   "source": [
    "%%capture\n",
    "!pip install SentencePiece\n",
    "!pip install -r rouge/requirements.txt\n",
    "!pip install rouge-score\n",
    "\n",
    "from pathlib import Path\n",
    "import pandas as pd\n",
    "import numpy as np\n",
    "from datasets import Dataset\n",
    "import seaborn as sns\n",
    "from scipy import spatial\n",
    "from rouge_score import rouge_scorer\n",
    "\n",
    "sns.set_theme(font='Liberation Serif',\n",
    "              rc={'figure.figsize': (7.5,3.75),\n",
    "                  'font.size': 11,\n",
    "                  'figure.dpi': 300,\n",
    "                 })"
   ]
  },
  {
   "cell_type": "markdown",
   "id": "97f25ba7-922b-4b8c-aa8b-68e4942be901",
   "metadata": {},
   "source": [
    "## Load and prepare the dataframe"
   ]
  },
  {
   "cell_type": "code",
   "execution_count": 5,
   "id": "ab578dc3-7534-43f8-b805-18b0474649a6",
   "metadata": {},
   "outputs": [],
   "source": [
    "DATA = Path.cwd().parent / 'data'\n",
    "SUMM_FOLDER = DATA / 'summaries_finetune'\n",
    "TEXT_FILES = SUMM_FOLDER / 'text_files_copy'\n",
    "SOURCE_TEXTS = SUMM_FOLDER / 'source_texts_clean'"
   ]
  },
  {
   "cell_type": "code",
   "execution_count": 6,
   "id": "2b639158-e4ca-4158-b2b1-f5f84e8e5fd0",
   "metadata": {},
   "outputs": [],
   "source": [
    "summaries_df = pd.read_csv(SUMM_FOLDER / 'final_summaries_ai_aloe_fixed.csv', index_col=False)"
   ]
  },
  {
   "cell_type": "code",
   "execution_count": 7,
   "id": "6ff53bc1-59c6-4a94-ae18-ffad2793b0c2",
   "metadata": {},
   "outputs": [
    {
     "name": "stdout",
     "output_type": "stream",
     "text": [
      "4690\n"
     ]
    }
   ],
   "source": [
    "df = summaries_df[['text', 'source', 'Main.Point', 'Details']]\n",
    "ds = Dataset.from_pandas(df.reset_index(drop=True))\n",
    "print(len(df))"
   ]
  },
  {
   "cell_type": "markdown",
   "id": "609dc179-dca0-4a08-ba27-aa065d44e1f6",
   "metadata": {},
   "source": [
    "## Run the transformer"
   ]
  },
  {
   "cell_type": "code",
   "execution_count": 8,
   "id": "854f5641-14af-411e-86f6-6e23c77450e0",
   "metadata": {},
   "outputs": [
    {
     "name": "stderr",
     "output_type": "stream",
     "text": [
      "Some weights of the model checkpoint at allenai/longformer-base-4096 were not used when initializing LongformerModel: ['lm_head.layer_norm.bias', 'lm_head.dense.bias', 'lm_head.dense.weight', 'lm_head.layer_norm.weight', 'lm_head.bias', 'lm_head.decoder.weight']\n",
      "- This IS expected if you are initializing LongformerModel from the checkpoint of a model trained on another task or with another architecture (e.g. initializing a BertForSequenceClassification model from a BertForPreTraining model).\n",
      "- This IS NOT expected if you are initializing LongformerModel from the checkpoint of a model that you expect to be exactly identical (initializing a BertForSequenceClassification model from a BertForSequenceClassification model).\n"
     ]
    }
   ],
   "source": [
    "from transformers import AutoModel, AutoTokenizer, DataCollatorWithPadding\n",
    "from transformers import LongformerTokenizer\n",
    "\n",
    "import torch\n",
    "\n",
    "seed = 42\n",
    "model_name = \"allenai/longformer-base-4096\" #\"google/bigbird-roberta-base\"\n",
    "DEVICE = torch.device('cuda' if torch.cuda.is_available() else 'cpu')\n",
    "\n",
    "model = AutoModel.from_pretrained(model_name, output_hidden_states=True).to(DEVICE)\n",
    "tokenizer = LongformerTokenizer.from_pretrained(model_name, use_fast=True)\n",
    "\n"
   ]
  },
  {
   "cell_type": "code",
   "execution_count": 9,
   "id": "28b10ec6-c64b-4c5e-ae00-ca418795349d",
   "metadata": {},
   "outputs": [
    {
     "data": {
      "text/plain": [
       "device(type='cuda')"
      ]
     },
     "execution_count": 9,
     "metadata": {},
     "output_type": "execute_result"
    }
   ],
   "source": [
    "# Check the device\n",
    "DEVICE"
   ]
  },
  {
   "cell_type": "markdown",
   "id": "666cc7fd-dcfc-4b79-8bef-c54f0af50670",
   "metadata": {},
   "source": [
    "### Run the transformer operation in cuda, then detach results and compare to make list of cos similarities"
   ]
  },
  {
   "cell_type": "code",
   "execution_count": 24,
   "id": "c71190ca-a7ff-4bac-840f-3544c0ae09d3",
   "metadata": {},
   "outputs": [],
   "source": [
    "def getLastState(text):\n",
    "    tokenized_text = tokenizer(text, return_tensors='pt').to(DEVICE)\n",
    "    outputs = model(**tokenized_text)\n",
    "    return outputs.last_hidden_state[0][0]\n",
    "\n",
    "def getLongformerSimilarity(summary, source):\n",
    "# cos_similarities = []\n",
    "# counter = 0\n",
    "# for row in df.iterrows():\n",
    "#     print(counter, end='\\r')\n",
    "#     text = row[1]['text']\n",
    "#     source = row[1]['source']\n",
    "    text_embedding = getLastState(summary).cpu().detach().numpy()\n",
    "    source_embedding = getLastState(source).cpu().detach().numpy()\n",
    "    cos_similarity = 1 - spatial.distance.cosine(text_embedding, source_embedding)\n",
    "    return cos_similarity\n",
    "    # counter += 1\n",
    "#df['longformer_cos'] = df.apply(lambda x: getLongformerSimilarity(x['text'], x['source']), axis=1)"
   ]
  },
  {
   "cell_type": "markdown",
   "id": "2a28d09c-1702-4846-8fc5-c0b381e1faab",
   "metadata": {},
   "source": [
    "### Attach the list to the dataframe"
   ]
  },
  {
   "cell_type": "code",
   "execution_count": 12,
   "id": "9d72ac8a-fb8e-450c-a752-1cdbab7072d7",
   "metadata": {},
   "outputs": [],
   "source": [
    "%%capture\n",
    "from pathlib import Path\n",
    "import pandas as pd\n",
    "import numpy as np\n",
    "from datasets import Dataset\n",
    "import seaborn as sns\n",
    "from scipy import spatial\n",
    "from tqdm import tqdm\n",
    "tqdm.pandas(desc=\"progress-bar\")\n",
    "from gensim.models import Doc2Vec\n",
    "from gensim.models.doc2vec import TaggedDocument\n",
    "from sklearn import utils"
   ]
  },
  {
   "cell_type": "code",
   "execution_count": 13,
   "id": "26aa91cc-ba3e-421d-a20c-8de444399352",
   "metadata": {},
   "outputs": [],
   "source": [
    "DATA = Path.cwd().parent / 'data'\n",
    "SUMM_FOLDER = DATA / 'summaries_finetune'\n",
    "TEXT_FILES = SUMM_FOLDER / 'text_files_copy'\n",
    "SOURCE_TEXTS = SUMM_FOLDER / 'source_texts_clean'"
   ]
  },
  {
   "cell_type": "code",
   "execution_count": 14,
   "id": "b75e91b6-bb1d-4a51-8468-53375cbb1f6d",
   "metadata": {},
   "outputs": [],
   "source": [
    "summaries_df = pd.read_csv(SUMM_FOLDER / 'final_summaries_ai_aloe_fixed.csv', index_col=False)"
   ]
  },
  {
   "cell_type": "code",
   "execution_count": 15,
   "id": "1ed6081c-9062-4fbe-a14e-2a6fa865baf0",
   "metadata": {},
   "outputs": [],
   "source": [
    "import nltk\n",
    "from nltk.corpus import stopwords\n",
    "\n",
    "def tagged_document(list_of_list_of_words):\n",
    "    for i, list_of_words in enumerate(list_of_list_of_words):\n",
    "        yield gensim.models.doc2vec.TaggedDocument(list_of_words, [i])\n",
    "\n",
    "def tokenize_text(text):\n",
    "    tokens = []\n",
    "    for sent in nltk.sent_tokenize(text):\n",
    "        for word in nltk.word_tokenize(sent):\n",
    "            if len(word) < 2:\n",
    "                continue\n",
    "            tokens.append(word.lower())\n",
    "    return tokens\n",
    "\n",
    "def getDoc2vecSimilarity(df):\n",
    "    cos_similarities = []\n",
    "    text_tokenized = df['text'].apply(lambda t: tokenize_text(t)).to_frame()\n",
    "    source_tokenized = df['source'].apply(lambda t: tokenize_text(t)).to_frame().rename(columns={'source': 'text'})\n",
    "    all_tokenized = pd.concat([text_tokenized, source_tokenized]).reset_index()\n",
    "    all_tagged = all_tokenized.apply(lambda r: TaggedDocument(words=r['text'], tags='text'), axis=1)\n",
    "    \n",
    "    model_dbow = Doc2Vec(dm=0, vector_size=300, negative=5, hs=0, min_count=2, sample=0)\n",
    "    model_dbow.build_vocab([x for x in tqdm(all_tagged)])\n",
    "    for epoch in range(30):\n",
    "        model_dbow.train(utils.shuffle([x for x in tqdm(all_tagged.values)]), total_examples=len(all_tagged.values), epochs=1)\n",
    "    for i in range(len(text_tokenized)):\n",
    "        text_vector = model_dbow.infer_vector(text_tokenized.iloc[i]['text'])\n",
    "        source_vector = model_dbow.infer_vector(source_tokenized.iloc[i]['text'])\n",
    "        cos_similarities.append(1 - spatial.distance.cosine(text_vector, source_vector))\n",
    "    df['doc2vec_cos'] = cos_similarities\n",
    "    return df"
   ]
  },
  {
   "cell_type": "markdown",
   "id": "89bd4c82-12c8-4879-a773-ebf99bfe1233",
   "metadata": {},
   "source": [
    "## Get Rouge Scores"
   ]
  },
  {
   "cell_type": "code",
   "execution_count": 16,
   "id": "5601a59d-0eb5-4a07-b7a5-db4cdc1e3009",
   "metadata": {},
   "outputs": [],
   "source": [
    "def getRougeScore(df):\n",
    "    scorer = rouge_scorer.RougeScorer(['rougeL'], use_stemmer=True)\n",
    "    df['rouge_score'] = df.apply(lambda x: scorer.score(x['text'], x['source'])['rougeL'].fmeasure, axis=1)\n",
    "    return df"
   ]
  },
  {
   "cell_type": "markdown",
   "id": "b45a3526-798b-4bcc-b2bb-9b7fb4b8e924",
   "metadata": {
    "tags": []
   },
   "source": [
    "## Examine the results"
   ]
  },
  {
   "cell_type": "code",
   "execution_count": 114,
   "id": "cf9ab452-e606-437c-8809-44c40e564844",
   "metadata": {},
   "outputs": [
    {
     "data": {
      "image/png": "[encoded data removed]",
      "text/plain": [
       "<Figure size 432x288 with 1 Axes>"
      ]
     },
     "metadata": {
      "needs_background": "light"
     },
     "output_type": "display_data"
    }
   ],
   "source": [
    "from matplotlib import pyplot as plt\n",
    "sns.histplot(data = df, x='doc2vec_cos', bins=30)\n",
    "plt.show()"
   ]
  },
  {
   "cell_type": "code",
   "execution_count": 140,
   "id": "1e3f60c4-64c5-4f6b-b676-cf798a0236b8",
   "metadata": {},
   "outputs": [
    {
     "data": {
      "image/png": "[encoded data removed]",
      "text/plain": [
       "<Figure size 432x288 with 1 Axes>"
      ]
     },
     "metadata": {
      "needs_background": "light"
     },
     "output_type": "display_data"
    }
   ],
   "source": [
    "from matplotlib import pyplot as plt\n",
    "sns.histplot(data = df, x='cos_similarity', bins=30)\n",
    "plt.xlabel('longformer_cos')\n",
    "plt.show()"
   ]
  },
  {
   "cell_type": "code",
   "execution_count": 135,
   "id": "4467e31a-b8d0-417f-9965-03f578c352cc",
   "metadata": {},
   "outputs": [
    {
     "data": {
      "image/png": "[encoded data removed]",
      "text/plain": [
       "<Figure size 432x288 with 1 Axes>"
      ]
     },
     "metadata": {
      "needs_background": "light"
     },
     "output_type": "display_data"
    }
   ],
   "source": [
    "from matplotlib import pyplot as plt\n",
    "sns.histplot(data = df, x='rouge_score', bins=30)\n",
    "plt.show()"
   ]
  },
  {
   "cell_type": "code",
   "execution_count": 139,
   "id": "6046e2ed-c3b4-4f41-867d-7824ee442a08",
   "metadata": {},
   "outputs": [
    {
     "data": {
      "text/html": [
       "<div>\n",
       "<style scoped>\n",
       "    .dataframe tbody tr th:only-of-type {\n",
       "        vertical-align: middle;\n",
       "    }\n",
       "\n",
       "    .dataframe tbody tr th {\n",
       "        vertical-align: top;\n",
       "    }\n",
       "\n",
       "    .dataframe thead th {\n",
       "        text-align: right;\n",
       "    }\n",
       "</style>\n",
       "<table border=\"1\" class=\"dataframe\">\n",
       "  <thead>\n",
       "    <tr style=\"text-align: right;\">\n",
       "      <th></th>\n",
       "      <th>Main.Point</th>\n",
       "      <th>Details</th>\n",
       "      <th>num_words</th>\n",
       "      <th>doc2vec_cos</th>\n",
       "      <th>cos_similarity</th>\n",
       "      <th>rouge_score</th>\n",
       "    </tr>\n",
       "  </thead>\n",
       "  <tbody>\n",
       "    <tr>\n",
       "      <th>Main.Point</th>\n",
       "      <td>1.000000</td>\n",
       "      <td>0.740816</td>\n",
       "      <td>0.215992</td>\n",
       "      <td>0.309451</td>\n",
       "      <td>0.390716</td>\n",
       "      <td>0.212663</td>\n",
       "    </tr>\n",
       "    <tr>\n",
       "      <th>Details</th>\n",
       "      <td>0.740816</td>\n",
       "      <td>1.000000</td>\n",
       "      <td>0.344446</td>\n",
       "      <td>0.412377</td>\n",
       "      <td>0.426577</td>\n",
       "      <td>0.302583</td>\n",
       "    </tr>\n",
       "    <tr>\n",
       "      <th>num_words</th>\n",
       "      <td>0.215992</td>\n",
       "      <td>0.344446</td>\n",
       "      <td>1.000000</td>\n",
       "      <td>0.350916</td>\n",
       "      <td>0.347158</td>\n",
       "      <td>0.671450</td>\n",
       "    </tr>\n",
       "    <tr>\n",
       "      <th>doc2vec_cos</th>\n",
       "      <td>0.309451</td>\n",
       "      <td>0.412377</td>\n",
       "      <td>0.350916</td>\n",
       "      <td>1.000000</td>\n",
       "      <td>0.401170</td>\n",
       "      <td>0.696127</td>\n",
       "    </tr>\n",
       "    <tr>\n",
       "      <th>cos_similarity</th>\n",
       "      <td>0.390716</td>\n",
       "      <td>0.426577</td>\n",
       "      <td>0.347158</td>\n",
       "      <td>0.401170</td>\n",
       "      <td>1.000000</td>\n",
       "      <td>0.403195</td>\n",
       "    </tr>\n",
       "    <tr>\n",
       "      <th>rouge_score</th>\n",
       "      <td>0.212663</td>\n",
       "      <td>0.302583</td>\n",
       "      <td>0.671450</td>\n",
       "      <td>0.696127</td>\n",
       "      <td>0.403195</td>\n",
       "      <td>1.000000</td>\n",
       "    </tr>\n",
       "  </tbody>\n",
       "</table>\n",
       "</div>"
      ],
      "text/plain": [
       "                Main.Point   Details  num_words  doc2vec_cos  cos_similarity  \\\n",
       "Main.Point        1.000000  0.740816   0.215992     0.309451        0.390716   \n",
       "Details           0.740816  1.000000   0.344446     0.412377        0.426577   \n",
       "num_words         0.215992  0.344446   1.000000     0.350916        0.347158   \n",
       "doc2vec_cos       0.309451  0.412377   0.350916     1.000000        0.401170   \n",
       "cos_similarity    0.390716  0.426577   0.347158     0.401170        1.000000   \n",
       "rouge_score       0.212663  0.302583   0.671450     0.696127        0.403195   \n",
       "\n",
       "                rouge_score  \n",
       "Main.Point         0.212663  \n",
       "Details            0.302583  \n",
       "num_words          0.671450  \n",
       "doc2vec_cos        0.696127  \n",
       "cos_similarity     0.403195  \n",
       "rouge_score        1.000000  "
      ]
     },
     "execution_count": 139,
     "metadata": {},
     "output_type": "execute_result"
    }
   ],
   "source": [
    "df[['Main.Point', 'Details', 'num_words', 'doc2vec_cos', 'cos_similarity', 'rouge_score']].corr()"
   ]
  },
  {
   "cell_type": "code",
   "execution_count": 98,
   "id": "3dfb0fe9-e532-42db-b4f0-4a9089b7d3f0",
   "metadata": {},
   "outputs": [
    {
     "data": {
      "text/html": [
       "<div>\n",
       "<style scoped>\n",
       "    .dataframe tbody tr th:only-of-type {\n",
       "        vertical-align: middle;\n",
       "    }\n",
       "\n",
       "    .dataframe tbody tr th {\n",
       "        vertical-align: top;\n",
       "    }\n",
       "\n",
       "    .dataframe thead th {\n",
       "        text-align: right;\n",
       "    }\n",
       "</style>\n",
       "<table border=\"1\" class=\"dataframe\">\n",
       "  <thead>\n",
       "    <tr style=\"text-align: right;\">\n",
       "      <th></th>\n",
       "      <th>doc2vec_cos</th>\n",
       "      <th>Details</th>\n",
       "    </tr>\n",
       "  </thead>\n",
       "  <tbody>\n",
       "    <tr>\n",
       "      <th>doc2vec_cos</th>\n",
       "      <td>1.000000</td>\n",
       "      <td>0.412377</td>\n",
       "    </tr>\n",
       "    <tr>\n",
       "      <th>Details</th>\n",
       "      <td>0.412377</td>\n",
       "      <td>1.000000</td>\n",
       "    </tr>\n",
       "  </tbody>\n",
       "</table>\n",
       "</div>"
      ],
      "text/plain": [
       "             doc2vec_cos   Details\n",
       "doc2vec_cos     1.000000  0.412377\n",
       "Details         0.412377  1.000000"
      ]
     },
     "execution_count": 98,
     "metadata": {},
     "output_type": "execute_result"
    }
   ],
   "source": [
    "df[['doc2vec_cos', 'Details']].corr()"
   ]
  },
  {
   "cell_type": "markdown",
   "id": "5c59f76a-bba5-40fe-8236-5e72ac93f617",
   "metadata": {},
   "source": [
    "## Run Experiment\n",
    "This will divide the data into two sets, one where the source is shuffled. We will run the three similarity measures, and see which one does the best"
   ]
  },
  {
   "cell_type": "code",
   "execution_count": 17,
   "id": "af12d21a-3e9a-4a51-a020-6854eee3bec1",
   "metadata": {},
   "outputs": [
    {
     "name": "stdout",
     "output_type": "stream",
     "text": [
      "2345 2345\n"
     ]
    }
   ],
   "source": [
    "from sklearn.model_selection import train_test_split\n",
    "from sklearn.utils import shuffle\n",
    "import time\n",
    "\n",
    "# split the data\n",
    "original_df = summaries_df[['text', 'source']]\n",
    "off_topic, on_topic = train_test_split(original_df, test_size = 0.5)\n",
    "print(len(off_topic), len(on_topic))"
   ]
  },
  {
   "cell_type": "code",
   "execution_count": 18,
   "id": "e29924a3-df72-494c-b7eb-b1c7016d1c4f",
   "metadata": {},
   "outputs": [],
   "source": [
    "# shuffle the sources in the off topic condition\n",
    "off_topic['source'] = np.random.permutation(off_topic['source'].values)"
   ]
  },
  {
   "cell_type": "code",
   "execution_count": 19,
   "id": "98d5a6e3-3bcc-44c6-aa15-f01a03f830ac",
   "metadata": {},
   "outputs": [],
   "source": [
    "# label the two conditions and rejoin\n",
    "off_topic['condition'] = 'off_topic'\n",
    "on_topic['condition'] = 'on_topic'\n",
    "df = pd.concat([off_topic, on_topic])"
   ]
  },
  {
   "cell_type": "code",
   "execution_count": 23,
   "id": "1014d69e-4d46-4f0b-9d9a-8c86310b51e8",
   "metadata": {},
   "outputs": [
    {
     "data": {
      "text/html": [
       "<div>\n",
       "<style scoped>\n",
       "    .dataframe tbody tr th:only-of-type {\n",
       "        vertical-align: middle;\n",
       "    }\n",
       "\n",
       "    .dataframe tbody tr th {\n",
       "        vertical-align: top;\n",
       "    }\n",
       "\n",
       "    .dataframe thead th {\n",
       "        text-align: right;\n",
       "    }\n",
       "</style>\n",
       "<table border=\"1\" class=\"dataframe\">\n",
       "  <thead>\n",
       "    <tr style=\"text-align: right;\">\n",
       "      <th></th>\n",
       "      <th>text</th>\n",
       "      <th>source</th>\n",
       "      <th>condition</th>\n",
       "    </tr>\n",
       "  </thead>\n",
       "  <tbody>\n",
       "    <tr>\n",
       "      <th>3745</th>\n",
       "      <td>America has changed in recent years there are ...</td>\n",
       "      <td>Adding aerobic exercise to your routine is an ...</td>\n",
       "      <td>off_topic</td>\n",
       "    </tr>\n",
       "    <tr>\n",
       "      <th>381</th>\n",
       "      <td>The summary is that Alzheimer's is a disease t...</td>\n",
       "      <td>Some children are sent to school with empty st...</td>\n",
       "      <td>off_topic</td>\n",
       "    </tr>\n",
       "    <tr>\n",
       "      <th>7</th>\n",
       "      <td>There are two types of skin cancer: basal-cell...</td>\n",
       "      <td>Ultraviolet radiation\\n\\nUltraviolet radiation...</td>\n",
       "      <td>off_topic</td>\n",
       "    </tr>\n",
       "    <tr>\n",
       "      <th>3269</th>\n",
       "      <td>People can seriously hurt themselves or others...</td>\n",
       "      <td>Source A\\n \\nHealth effects related to cell ph...</td>\n",
       "      <td>off_topic</td>\n",
       "    </tr>\n",
       "    <tr>\n",
       "      <th>4411</th>\n",
       "      <td>The CIVIL SERVICE is a place where all men and...</td>\n",
       "      <td>The Impact of El Nino\\nDifferent parts of the ...</td>\n",
       "      <td>off_topic</td>\n",
       "    </tr>\n",
       "    <tr>\n",
       "      <th>...</th>\n",
       "      <td>...</td>\n",
       "      <td>...</td>\n",
       "      <td>...</td>\n",
       "    </tr>\n",
       "    <tr>\n",
       "      <th>3132</th>\n",
       "      <td>Smoking is a dangerous activity that has a hig...</td>\n",
       "      <td>Smoking kills more Americans than AIDS, drug a...</td>\n",
       "      <td>on_topic</td>\n",
       "    </tr>\n",
       "    <tr>\n",
       "      <th>2049</th>\n",
       "      <td>Car inspections are useful for many reason. To...</td>\n",
       "      <td>\\nSome cars do not run the way they should. Ba...</td>\n",
       "      <td>on_topic</td>\n",
       "    </tr>\n",
       "    <tr>\n",
       "      <th>2766</th>\n",
       "      <td>Behind fire, floods are one of the most common...</td>\n",
       "      <td>Floods are second only to fire as the most com...</td>\n",
       "      <td>on_topic</td>\n",
       "    </tr>\n",
       "    <tr>\n",
       "      <th>238</th>\n",
       "      <td>It is esay to reduce the risk of developing sk...</td>\n",
       "      <td>American Cancer Society\\n\\n \\n\\nUV radiation a...</td>\n",
       "      <td>on_topic</td>\n",
       "    </tr>\n",
       "    <tr>\n",
       "      <th>1055</th>\n",
       "      <td>Ultraviolet (UV) radiation from the sun and ta...</td>\n",
       "      <td>American Cancer Society\\n\\n \\n\\nUV radiation a...</td>\n",
       "      <td>on_topic</td>\n",
       "    </tr>\n",
       "  </tbody>\n",
       "</table>\n",
       "<p>4690 rows × 3 columns</p>\n",
       "</div>"
      ],
      "text/plain": [
       "                                                   text  \\\n",
       "3745  America has changed in recent years there are ...   \n",
       "381   The summary is that Alzheimer's is a disease t...   \n",
       "7     There are two types of skin cancer: basal-cell...   \n",
       "3269  People can seriously hurt themselves or others...   \n",
       "4411  The CIVIL SERVICE is a place where all men and...   \n",
       "...                                                 ...   \n",
       "3132  Smoking is a dangerous activity that has a hig...   \n",
       "2049  Car inspections are useful for many reason. To...   \n",
       "2766  Behind fire, floods are one of the most common...   \n",
       "238   It is esay to reduce the risk of developing sk...   \n",
       "1055  Ultraviolet (UV) radiation from the sun and ta...   \n",
       "\n",
       "                                                 source  condition  \n",
       "3745  Adding aerobic exercise to your routine is an ...  off_topic  \n",
       "381   Some children are sent to school with empty st...  off_topic  \n",
       "7     Ultraviolet radiation\\n\\nUltraviolet radiation...  off_topic  \n",
       "3269  Source A\\n \\nHealth effects related to cell ph...  off_topic  \n",
       "4411  The Impact of El Nino\\nDifferent parts of the ...  off_topic  \n",
       "...                                                 ...        ...  \n",
       "3132  Smoking kills more Americans than AIDS, drug a...   on_topic  \n",
       "2049  \\nSome cars do not run the way they should. Ba...   on_topic  \n",
       "2766  Floods are second only to fire as the most com...   on_topic  \n",
       "238   American Cancer Society\\n\\n \\n\\nUV radiation a...   on_topic  \n",
       "1055  American Cancer Society\\n\\n \\n\\nUV radiation a...   on_topic  \n",
       "\n",
       "[4690 rows x 3 columns]"
      ]
     },
     "execution_count": 23,
     "metadata": {},
     "output_type": "execute_result"
    }
   ],
   "source": [
    "df"
   ]
  },
  {
   "cell_type": "code",
   "execution_count": 25,
   "id": "0bc6dea4-72b8-4e4c-a902-44ffda6224f5",
   "metadata": {},
   "outputs": [
    {
     "name": "stdout",
     "output_type": "stream",
     "text": [
      "That took 200.68014907836914 seconds\n",
      "Or 0.04278894436639001 seconds per essay on average.\n"
     ]
    }
   ],
   "source": [
    "beginning_time = time.time()\n",
    "df['longformer_cos'] = df.apply(lambda x: getLongformerSimilarity(x['text'], x['source']), axis=1)\n",
    "end_time = time.time()\n",
    "duration = end_time - beginning_time\n",
    "\n",
    "print('That took', duration, 'seconds')\n",
    "print('Or', duration/len(df), 'seconds per essay on average.')"
   ]
  },
  {
   "cell_type": "code",
   "execution_count": 27,
   "id": "780b47df-fd34-4dd3-8e16-3d7a7653ab2b",
   "metadata": {},
   "outputs": [
    {
     "name": "stderr",
     "output_type": "stream",
     "text": [
      "100%|██████████| 9380/9380 [00:00<00:00, 4402704.96it/s]\n",
      "100%|██████████| 9380/9380 [00:00<00:00, 5297235.97it/s]\n",
      "100%|██████████| 9380/9380 [00:00<00:00, 1604509.44it/s]\n",
      "100%|██████████| 9380/9380 [00:00<00:00, 1614252.89it/s]\n",
      "100%|██████████| 9380/9380 [00:00<00:00, 1627676.62it/s]\n",
      "100%|██████████| 9380/9380 [00:00<00:00, 1580975.35it/s]\n",
      "100%|██████████| 9380/9380 [00:00<00:00, 1604574.88it/s]\n",
      "100%|██████████| 9380/9380 [00:00<00:00, 1529292.21it/s]\n",
      "100%|██████████| 9380/9380 [00:00<00:00, 1609629.80it/s]\n",
      "100%|██████████| 9380/9380 [00:00<00:00, 1579515.48it/s]\n",
      "100%|██████████| 9380/9380 [00:00<00:00, 1622641.74it/s]\n",
      "100%|██████████| 9380/9380 [00:00<00:00, 1641462.43it/s]\n",
      "100%|██████████| 9380/9380 [00:00<00:00, 1622106.52it/s]\n",
      "100%|██████████| 9380/9380 [00:00<00:00, 1655135.53it/s]\n",
      "100%|██████████| 9380/9380 [00:00<00:00, 1624450.70it/s]\n",
      "100%|██████████| 9380/9380 [00:00<00:00, 1643450.92it/s]\n",
      "100%|██████████| 9380/9380 [00:00<00:00, 1645857.24it/s]\n",
      "100%|██████████| 9380/9380 [00:00<00:00, 1575404.30it/s]\n",
      "100%|██████████| 9380/9380 [00:00<00:00, 1615578.66it/s]\n",
      "100%|██████████| 9380/9380 [00:00<00:00, 1598511.76it/s]\n",
      "100%|██████████| 9380/9380 [00:00<00:00, 1638454.59it/s]\n",
      "100%|██████████| 9380/9380 [00:00<00:00, 1638591.07it/s]\n",
      "100%|██████████| 9380/9380 [00:00<00:00, 1617305.41it/s]\n",
      "100%|██████████| 9380/9380 [00:00<00:00, 1647994.45it/s]\n",
      "100%|██████████| 9380/9380 [00:00<00:00, 1545391.29it/s]\n",
      "100%|██████████| 9380/9380 [00:00<00:00, 1634302.81it/s]\n",
      "100%|██████████| 9380/9380 [00:00<00:00, 1641051.62it/s]\n",
      "100%|██████████| 9380/9380 [00:00<00:00, 1557751.49it/s]\n",
      "100%|██████████| 9380/9380 [00:00<00:00, 1621438.00it/s]\n",
      "100%|██████████| 9380/9380 [00:00<00:00, 1622775.59it/s]\n",
      "100%|██████████| 9380/9380 [00:00<00:00, 1458104.35it/s]\n"
     ]
    },
    {
     "name": "stdout",
     "output_type": "stream",
     "text": [
      "That took 236.5424563884735 seconds\n",
      "Or 0.05043549176726514 seconds per essay on average.\n"
     ]
    }
   ],
   "source": [
    "\n",
    "# import nltk\n",
    "# from nltk.corpus import stopwords\n",
    "\n",
    "# def tagged_document(list_of_list_of_words):\n",
    "#     for i, list_of_words in enumerate(list_of_list_of_words):\n",
    "#         yield gensim.models.doc2vec.TaggedDocument(list_of_words, [i])\n",
    "\n",
    "# def tokenize_text(text):\n",
    "#     tokens = []\n",
    "#     for sent in nltk.sent_tokenize(text):\n",
    "#         for word in nltk.word_tokenize(sent):\n",
    "#             if len(word) < 2:\n",
    "#                 continue\n",
    "#             tokens.append(word.lower())\n",
    "#     return tokens\n",
    "\n",
    "# text_tokenized = df['text'].apply(lambda t: tokenize_text(t)).to_frame()\n",
    "# source_tokenized = df['source'].apply(lambda t: tokenize_text(t)).to_frame().rename(columns={'source': 'text'})\n",
    "# all_tokenized = pd.concat([text_tokenized, source_tokenized]).reset_index()\n",
    "\n",
    "\n",
    "# all_tagged = all_tokenized.apply(lambda r: TaggedDocument(words=r['text'], tags='text'), axis=1)\n",
    "# model_dbow = Doc2Vec(dm=0, vector_size=300, negative=5, hs=0, min_count=2, sample=0)\n",
    "# model_dbow.build_vocab([x for x in tqdm(all_tagged)])\n",
    "# for epoch in range(30):\n",
    "#     model_dbow.train(utils.shuffle([x for x in tqdm(all_tagged.values)]), total_examples=len(all_tagged.values), epochs=1)\n",
    "# for i in range(len(text_tokenized)):\n",
    "#     text_vector = model_dbow.infer_vector(text_tokenized.iloc[i]['text'])\n",
    "#     source_vector = model_dbow.infer_vector(source_tokenized.iloc[i]['text'])\n",
    "#     cos_similarities.append(1 - spatial.distance.cosine(text_vector, source_vector))\n",
    "# # df['doc2vec_cos'] = cos_similarities\n",
    "beginning_time = time.time()    \n",
    "df = getDoc2vecSimilarity(df)\n",
    "end_time = time.time()\n",
    "duration = end_time - beginning_time\n",
    "print('That took', duration, 'seconds')\n",
    "print('Or', duration/len(df), 'seconds per essay on average.')"
   ]
  },
  {
   "cell_type": "code",
   "execution_count": 29,
   "id": "3dd24735-c2bc-416e-a92f-f9a11855c003",
   "metadata": {},
   "outputs": [
    {
     "name": "stdout",
     "output_type": "stream",
     "text": [
      "That took 44.58302426338196 seconds\n",
      "Or 0.00950597532268272 seconds per essay on average.\n"
     ]
    }
   ],
   "source": [
    "beginning_time = time.time()\n",
    "df = getRougeScore(df)\n",
    "end_time = time.time()\n",
    "duration = end_time - beginning_time\n",
    "print('That took', duration, 'seconds')\n",
    "print('Or', duration/len(df), 'seconds per essay on average.')"
   ]
  },
  {
   "cell_type": "code",
   "execution_count": 38,
   "id": "e0cabfcb-ee47-4021-9d21-1d5b5fb2433b",
   "metadata": {},
   "outputs": [],
   "source": [
    "#define samples\n",
    "group1 = df[df['condition']=='off_topic']\n",
    "group2 = df[df['condition']=='on_topic']"
   ]
  },
  {
   "cell_type": "code",
   "execution_count": 39,
   "id": "4bbc9f9b-9ed9-45b3-bec2-decca8900b84",
   "metadata": {},
   "outputs": [
    {
     "name": "stdout",
     "output_type": "stream",
     "text": [
      "Ttest_indResult(statistic=-95.93909601380211, pvalue=0.0)\n"
     ]
    },
    {
     "data": {
      "image/png": "[encoded data removed]",
      "text/plain": [
       "<Figure size 432x288 with 1 Axes>"
      ]
     },
     "metadata": {
      "needs_background": "light"
     },
     "output_type": "display_data"
    }
   ],
   "source": [
    "from matplotlib import pyplot as plt\n",
    "from scipy.stats import ttest_ind\n",
    "\n",
    "print(ttest_ind(group1['doc2vec_cos'], group2['doc2vec_cos']))\n",
    "sns.boxplot(data=df, y='doc2vec_cos', x='condition')\n",
    "plt.title('doc2vec Difference between On-Topic and Off-Topic')\n",
    "plt.show()"
   ]
  },
  {
   "cell_type": "code",
   "execution_count": 40,
   "id": "5960174c-5170-41fd-9052-c1cfe76e0566",
   "metadata": {},
   "outputs": [
    {
     "name": "stdout",
     "output_type": "stream",
     "text": [
      "Ttest_indResult(statistic=-23.930470139950444, pvalue=1.6689310444243112e-119)\n"
     ]
    },
    {
     "data": {
      "image/png": "[encoded data removed]",
      "text/plain": [
       "<Figure size 432x288 with 1 Axes>"
      ]
     },
     "metadata": {
      "needs_background": "light"
     },
     "output_type": "display_data"
    }
   ],
   "source": [
    "\n",
    "print(ttest_ind(group1['longformer_cos'], group2['longformer_cos']))\n",
    "sns.boxplot(data=df, y='longformer_cos', x='condition')\n",
    "plt.title('Longformer Difference between On-Topic and Off-Topic')\n",
    "plt.show()"
   ]
  },
  {
   "cell_type": "code",
   "execution_count": 41,
   "id": "039382bb-34ad-4896-ab9b-cecbc6e9164c",
   "metadata": {},
   "outputs": [
    {
     "name": "stdout",
     "output_type": "stream",
     "text": [
      "Ttest_indResult(statistic=-48.29168935523394, pvalue=0.0)\n"
     ]
    },
    {
     "data": {
      "image/png": "[encoded data removed]",
      "text/plain": [
       "<Figure size 432x288 with 1 Axes>"
      ]
     },
     "metadata": {
      "needs_background": "light"
     },
     "output_type": "display_data"
    }
   ],
   "source": [
    "print(ttest_ind(group1['rouge_score'], group2['rouge_score']))\n",
    "sns.boxplot(data=df, y='rouge_score', x='condition')\n",
    "plt.title('Rouge Difference between On-Topic and Off-Topic')\n",
    "plt.show()"
   ]
  },
  {
   "cell_type": "code",
   "execution_count": 42,
   "id": "e227d4b5-a270-49ff-a9b7-9ed978f82fd4",
   "metadata": {},
   "outputs": [
    {
     "data": {
      "text/plain": [
       "4690"
      ]
     },
     "execution_count": 42,
     "metadata": {},
     "output_type": "execute_result"
    }
   ],
   "source": [
    "len(df)"
   ]
  },
  {
   "cell_type": "code",
   "execution_count": 83,
   "id": "82ac1fdc-0bf5-40a7-bcea-57a1c5477645",
   "metadata": {},
   "outputs": [],
   "source": [
    "import matplotlib.pyplot as plt\n",
    "import numpy as np\n",
    "from sklearn.linear_model import LogisticRegression\n",
    "from sklearn.metrics import classification_report, confusion_matrix\n",
    "from sklearn.model_selection import train_test_split\n",
    "from sklearn.metrics import accuracy_score\n",
    "from sklearn.model_selection import cross_val_score\n",
    "import statsmodels.api as sm\n",
    "from statsmodels.discrete.discrete_model import MNLogit"
   ]
  },
  {
   "cell_type": "code",
   "execution_count": 70,
   "id": "3b75c706-bcea-44ef-9423-322979ff472c",
   "metadata": {},
   "outputs": [],
   "source": [
    "train_df, test_df = train_test_split(df, test_size = 0.15)"
   ]
  },
  {
   "cell_type": "markdown",
   "id": "a3ae0363-f566-407a-b8fb-60651d147607",
   "metadata": {},
   "source": [
    "## Rouge Score"
   ]
  },
  {
   "cell_type": "code",
   "execution_count": 82,
   "id": "020b6cae-70aa-4e23-a5d3-2bbc82a6209c",
   "metadata": {},
   "outputs": [],
   "source": [
    "train_x = train_df['rouge_score'].to_numpy().reshape(-1,1)\n",
    "train_y = train_df['condition']\n",
    "test_x = test_df['rouge_score'].to_numpy().reshape(-1,1)\n",
    "test_y = test_df['condition']\n",
    "\n",
    "log_reg = LogisticRegression()\n",
    "log_reg.fit(train_x, train_y)\n",
    "y_pred = log_reg.predict(test_x)"
   ]
  },
  {
   "cell_type": "code",
   "execution_count": 84,
   "id": "397ab863-d449-4179-a31d-5ac3c86619cc",
   "metadata": {},
   "outputs": [
    {
     "name": "stdout",
     "output_type": "stream",
     "text": [
      "Accuracy: 0.87\n",
      "Error rate: 0.13\n"
     ]
    }
   ],
   "source": [
    "print('Accuracy: {:.2f}'.format(accuracy_score(test_y, y_pred)))\n",
    "print('Error rate: {:.2f}'.format(1 - accuracy_score(test_y, y_pred)))"
   ]
  },
  {
   "cell_type": "code",
   "execution_count": 91,
   "id": "d8434a1a-f4dd-47ba-ae63-200ef72b8f13",
   "metadata": {},
   "outputs": [
    {
     "name": "stdout",
     "output_type": "stream",
     "text": [
      "Accuracy: 0.92\n",
      "Error rate: 0.08\n"
     ]
    }
   ],
   "source": [
    "train_x = train_df['doc2vec_cos'].to_numpy().reshape(-1,1)\n",
    "train_y = train_df['condition']\n",
    "test_x = test_df['doc2vec_cos'].to_numpy().reshape(-1,1)\n",
    "test_y = test_df['condition']\n",
    "\n",
    "log_reg = LogisticRegression()\n",
    "log_reg.fit(train_x, train_y)\n",
    "y_pred = log_reg.predict(test_x)\n",
    "\n",
    "print('Accuracy: {:.2f}'.format(accuracy_score(test_y, y_pred)))\n",
    "print('Error rate: {:.2f}'.format(1 - accuracy_score(test_y, y_pred)))"
   ]
  },
  {
   "cell_type": "code",
   "execution_count": 92,
   "id": "9f01d57c-0c56-4eff-b1e2-3d00416affc4",
   "metadata": {},
   "outputs": [
    {
     "name": "stdout",
     "output_type": "stream",
     "text": [
      "Accuracy: 0.48\n",
      "Error rate: 0.52\n"
     ]
    }
   ],
   "source": [
    "train_x = train_df['longformer_cos'].to_numpy().reshape(-1,1)\n",
    "train_y = train_df['condition']\n",
    "test_x = test_df['longformer_cos'].to_numpy().reshape(-1,1)\n",
    "test_y = test_df['condition']\n",
    "\n",
    "log_reg = LogisticRegression()\n",
    "log_reg.fit(train_x, train_y)\n",
    "y_pred = log_reg.predict(test_x)\n",
    "\n",
    "print('Accuracy: {:.2f}'.format(accuracy_score(test_y, y_pred)))\n",
    "print('Error rate: {:.2f}'.format(1 - accuracy_score(test_y, y_pred)))"
   ]
  },
  {
   "cell_type": "code",
   "execution_count": null,
   "id": "7038bcee-b2ac-4d2f-a02b-5926f99c1549",
   "metadata": {},
   "outputs": [],
   "source": []
  }
 ],
 "metadata": {
  "kernelspec": {
   "display_name": "Python [conda env:root] *",
   "language": "python",
   "name": "conda-root-py"
  },
  "language_info": {
   "codemirror_mode": {
    "name": "ipython",
    "version": 3
   },
   "file_extension": ".py",
   "mimetype": "text/x-python",
   "name": "python",
   "nbconvert_exporter": "python",
   "pygments_lexer": "ipython3",
   "version": "3.10.5"
  }
 },
 "nbformat": 4,
 "nbformat_minor": 5
}
