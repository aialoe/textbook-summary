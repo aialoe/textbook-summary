{
 "cells": [
  {
   "cell_type": "code",
   "execution_count": 2,
   "id": "38a05b88-5d25-4103-83d3-5d807a59d81d",
   "metadata": {},
   "outputs": [
    {
     "name": "stdout",
     "output_type": "stream",
     "text": [
      "Cohen's kappa for main_points = 0.3265306122448979\n",
      "Cohen's kappa for details = 0.2763157894736842\n",
      "Cohen's kappa for organization = 0.011235955056179692\n",
      "Cohen's kappa for voice = 0.27472527472527475\n",
      "Cohen's kappa for paraphrasing = -0.009174311926605672\n",
      "Cohen's kappa for language = 0.4698795180722891\n"
     ]
    }
   ],
   "source": [
    "r1= {'main_points': [2,1,2,2,3,2,2,1,2,3,2],\n",
    "     'details': [1,1,2,2,2,2,2,1,2,2,2],\n",
    "     'organization': [2,1,2,3,3,3,3,2,3,3,3],\n",
    "     'voice': [3,1,2,2,3,3,4,2,4,4,4],\n",
    "     'paraphrasing': [4,4,4,4,4,4,4,4,2,4,4],\n",
    "     'language': [1,1,3,3,4,4,3,2,3,3,3]}\n",
    "\n",
    "r2= {'main_points': [2,2,2,2,3,2,2,2,2,2,2],\n",
    "     'details': [1,1,2,1,3,1,1,1,2,1,2],\n",
    "     'organization': [2,1,3,2,4,2,2,1,3,1,2],\n",
    "     'voice': [3,1,3,1,4,3,3,1,4,3,4],\n",
    "     'paraphrasing': [3,1,3,2,4,3,1,2,3,3,3],\n",
    "     'language': [2,1,3,3,4,3,2,2,3,2,3]}\n",
    "\n",
    "from sklearn.metrics import cohen_kappa_score\n",
    "for domain in r1:\n",
    "    kappa_score = cohen_kappa_score(r1[domain], r2[domain])\n",
    "    print(\"Cohen's kappa for\", domain, '=', kappa_score)"
   ]
  },
  {
   "cell_type": "code",
   "execution_count": 36,
   "id": "0e947b6f-ac53-4a2a-b319-826a292bb83f",
   "metadata": {},
   "outputs": [],
   "source": []
  },
  {
   "cell_type": "code",
   "execution_count": 46,
   "id": "3f08d0e0-ec9f-4b5d-8021-1315a0f3fdc7",
   "metadata": {},
   "outputs": [
    {
     "name": "stdout",
     "output_type": "stream",
     "text": [
      "summary score: 3.72\n",
      "it took 0.257 seconds\n"
     ]
    }
   ],
   "source": []
  },
  {
   "cell_type": "code",
   "execution_count": null,
   "id": "6fa0a736-ef92-4c3e-a47e-97e2f51b7e13",
   "metadata": {},
   "outputs": [],
   "source": []
  }
 ],
 "metadata": {
  "kernelspec": {
   "display_name": "Python 3 (ipykernel)",
   "language": "python",
   "name": "python3"
  },
  "language_info": {
   "codemirror_mode": {
    "name": "ipython",
    "version": 3
   },
   "file_extension": ".py",
   "mimetype": "text/x-python",
   "name": "python",
   "nbconvert_exporter": "python",
   "pygments_lexer": "ipython3",
   "version": "3.10.5"
  }
 },
 "nbformat": 4,
 "nbformat_minor": 5
}
