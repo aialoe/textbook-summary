{
 "cells": [
  {
   "cell_type": "code",
   "execution_count": 1,
   "id": "d7285287-eef1-4707-a1fc-093a2c147862",
   "metadata": {},
   "outputs": [],
   "source": [
    "import requests\n",
    "from bs4 import BeautifulSoup\n",
    "import re\n",
    "import pandas as pd"
   ]
  },
  {
   "cell_type": "code",
   "execution_count": 2,
   "id": "1f328d05-b671-4daa-854f-c406520ac140",
   "metadata": {},
   "outputs": [],
   "source": [
    "def twoDig(number):\n",
    "    if len(str(number)) == 1:\n",
    "        return '0'+str(number)\n",
    "    else:\n",
    "        return str(number)\n",
    "    \n",
    "def getText(URL):\n",
    "    r = requests.get(URL)\n",
    "    soup = BeautifulSoup(r.text, 'html.parser')\n",
    "    all_text = soup.get_text().lstrip('Learning Objectives').rstrip('PreviousNext')\n",
    "    selection_text = re.sub('PreviousNext.+', '', all_text, flags=re.DOTALL)\n",
    "    selection_text = re.sub('.+Learning Objectives', '', selection_text, flags=re.DOTALL)\n",
    "    return(selection_text)"
   ]
  },
  {
   "cell_type": "markdown",
   "id": "c22ca11e-c46d-4b32-8f80-2d97da26d5ca",
   "metadata": {
    "tags": []
   },
   "source": [
    "## List of URLS"
   ]
  },
  {
   "cell_type": "code",
   "execution_count": 3,
   "id": "3c3ce1e3-51e0-4b3f-8f59-778205fd3771",
   "metadata": {},
   "outputs": [],
   "source": [
    "chapter_urls = {'01-1': 'https://openstax.org/books/principles-macroeconomics-2e/pages/1-1-what-is-economics-and-why-is-it-important',\n",
    "                '01-2': 'https://openstax.org/books/principles-macroeconomics-2e/pages/1-2-microeconomics-and-macroeconomics',\n",
    "                '01-3': 'https://openstax.org/books/principles-macroeconomics-2e/pages/1-3-how-economists-use-theories-and-models-to-understand-economic-issues',\n",
    "                '01-4': 'https://openstax.org/books/principles-macroeconomics-2e/pages/1-4-how-to-organize-economies-an-overview-of-economic-systems',\n",
    "                '02-1': 'https://openstax.org/books/principles-macroeconomics-2e/pages/2-1-how-individuals-make-choices-based-on-their-budget-constraint',\n",
    "                '02-2': 'https://openstax.org/books/principles-macroeconomics-2e/pages/2-2-the-production-possibilities-frontier-and-social-choices',\n",
    "                '02-3': 'https://openstax.org/books/principles-macroeconomics-2e/pages/2-3-confronting-objections-to-the-economic-approach',\n",
    "                '03-1': 'https://openstax.org/books/principles-macroeconomics-2e/pages/3-1-demand-supply-and-equilibrium-in-markets-for-goods-and-services',\n",
    "                '03-2': 'https://openstax.org/books/principles-macroeconomics-2e/pages/3-2-shifts-in-demand-and-supply-for-goods-and-services',\n",
    "                '03-3': 'https://openstax.org/books/principles-macroeconomics-2e/pages/3-3-changes-in-equilibrium-price-and-quantity-the-four-step-process',\n",
    "                '03-4': 'https://openstax.org/books/principles-macroeconomics-2e/pages/3-4-price-ceilings-and-price-floors',\n",
    "                '03-5': 'https://openstax.org/books/principles-macroeconomics-2e/pages/3-5-demand-supply-and-efficiency',\n",
    "                '04-1': 'https://openstax.org/books/principles-macroeconomics-2e/pages/4-1-demand-and-supply-at-work-in-labor-markets',\n",
    "                '04-2': 'https://openstax.org/books/principles-macroeconomics-2e/pages/4-2-demand-and-supply-in-financial-markets',\n",
    "                '04-3': 'https://openstax.org/books/principles-macroeconomics-2e/pages/4-3-the-market-system-as-an-efficient-mechanism-for-information',\n",
    "                '05-1': 'https://openstax.org/books/principles-macroeconomics-2e/pages/5-1-price-elasticity-of-demand-and-price-elasticity-of-supply',\n",
    "                '05-2': 'https://openstax.org/books/principles-macroeconomics-2e/pages/5-2-polar-cases-of-elasticity-and-constant-elasticity',\n",
    "                '05-3': 'https://openstax.org/books/principles-macroeconomics-2e/pages/5-3-elasticity-and-pricing',\n",
    "                '05-4': 'https://openstax.org/books/principles-macroeconomics-2e/pages/5-4-elasticity-in-areas-other-than-price',\n",
    "                '06-1': 'https://openstax.org/books/principles-macroeconomics-2e/pages/6-1-measuring-the-size-of-the-economy-gross-domestic-product',\n",
    "                '06-2': 'https://openstax.org/books/principles-macroeconomics-2e/pages/6-2-adjusting-nominal-values-to-real-values',\n",
    "                '06-3': 'https://openstax.org/books/principles-macroeconomics-2e/pages/6-3-tracking-real-gdp-over-time',\n",
    "                '06-4': 'https://openstax.org/books/principles-macroeconomics-2e/pages/6-4-comparing-gdp-among-countries',\n",
    "                '06-5': 'https://openstax.org/books/principles-macroeconomics-2e/pages/6-5-how-well-gdp-measures-the-well-being-of-society',\n",
    "                '07-1': 'https://openstax.org/books/principles-macroeconomics-2e/pages/7-1-the-relatively-recent-arrival-of-economic-growth',\n",
    "                '07-2': 'https://openstax.org/books/principles-macroeconomics-2e/pages/7-2-labor-productivity-and-economic-growth',\n",
    "                '07-3': 'https://openstax.org/books/principles-macroeconomics-2e/pages/7-3-components-of-economic-growth',\n",
    "                '07-4': 'https://openstax.org/books/principles-macroeconomics-2e/pages/7-4-economic-convergence',\n",
    "                '08-1': 'https://openstax.org/books/principles-macroeconomics-2e/pages/8-1-how-economists-define-and-compute-unemployment-rate',\n",
    "                '08-2': 'https://openstax.org/books/principles-macroeconomics-2e/pages/8-2-patterns-of-unemployment',\n",
    "                '08-3': 'https://openstax.org/books/principles-macroeconomics-2e/pages/8-3-what-causes-changes-in-unemployment-over-the-short-run',\n",
    "                '08-4': 'https://openstax.org/books/principles-macroeconomics-2e/pages/8-4-what-causes-changes-in-unemployment-over-the-long-run',\n",
    "                '09-1': 'https://openstax.org/books/principles-macroeconomics-2e/pages/9-1-tracking-inflation',\n",
    "                '09-2': 'https://openstax.org/books/principles-macroeconomics-2e/pages/9-2-how-to-measure-changes-in-the-cost-of-living',\n",
    "                '09-3': 'https://openstax.org/books/principles-macroeconomics-2e/pages/9-3-how-the-u-s-and-other-countries-experience-inflation',\n",
    "                '09-4': 'https://openstax.org/books/principles-macroeconomics-2e/pages/9-4-the-confusion-over-inflation',\n",
    "                '09-5': 'https://openstax.org/books/principles-macroeconomics-2e/pages/9-5-indexing-and-its-limitations',\n",
    "                '10-1': 'https://openstax.org/books/principles-macroeconomics-2e/pages/10-1-measuring-trade-balances',\n",
    "                '10-2': 'https://openstax.org/books/principles-macroeconomics-2e/pages/10-2-trade-balances-in-historical-and-international-context',\n",
    "                '10-3': 'https://openstax.org/books/principles-macroeconomics-2e/pages/10-3-trade-balances-and-flows-of-financial-capital',\n",
    "                '10-4': 'https://openstax.org/books/principles-macroeconomics-2e/pages/10-4-the-national-saving-and-investment-identity',\n",
    "                '10-5': 'https://openstax.org/books/principles-macroeconomics-2e/pages/10-5-the-pros-and-cons-of-trade-deficits-and-surpluses',\n",
    "                '10-6': 'https://openstax.org/books/principles-macroeconomics-2e/pages/10-6-the-difference-between-level-of-trade-and-the-trade-balance',\n",
    "                '11-1': 'https://openstax.org/books/principles-macroeconomics-2e/pages/11-1-macroeconomic-perspectives-on-demand-and-supply',\n",
    "                '11-2': 'https://openstax.org/books/principles-macroeconomics-2e/pages/11-2-building-a-model-of-aggregate-demand-and-aggregate-supply',\n",
    "                '11-3': 'https://openstax.org/books/principles-macroeconomics-2e/pages/11-3-shifts-in-aggregate-supply',\n",
    "                '11-4': 'https://openstax.org/books/principles-macroeconomics-2e/pages/11-4-shifts-in-aggregate-demand',\n",
    "                '11-5': 'https://openstax.org/books/principles-macroeconomics-2e/pages/11-5-how-the-ad-as-model-incorporates-growth-unemployment-and-inflation',\n",
    "                '11-6': 'https://openstax.org/books/principles-macroeconomics-2e/pages/11-6-keynes-law-and-says-law-in-the-ad-as-model',\n",
    "                '12-1': 'https://openstax.org/books/principles-macroeconomics-2e/pages/12-1-aggregate-demand-in-keynesian-analysis',\n",
    "                '12-2': 'https://openstax.org/books/principles-macroeconomics-2e/pages/12-2-the-building-blocks-of-keynesian-analysis',\n",
    "                '12-3': 'https://openstax.org/books/principles-macroeconomics-2e/pages/12-3-the-phillips-curve',\n",
    "                '12-4': 'https://openstax.org/books/principles-macroeconomics-2e/pages/12-4-the-keynesian-perspective-on-market-forces',\n",
    "                '13-1': 'https://openstax.org/books/principles-macroeconomics-2e/pages/13-1-the-building-blocks-of-neoclassical-analysis',\n",
    "                '13-2': 'https://openstax.org/books/principles-macroeconomics-2e/pages/13-2-the-policy-implications-of-the-neoclassical-perspective',\n",
    "                '13-3': 'https://openstax.org/books/principles-macroeconomics-2e/pages/13-3-balancing-keynesian-and-neoclassical-models',\n",
    "                '14-1': 'https://openstax.org/books/principles-macroeconomics-2e/pages/14-1-defining-money-by-its-functions',\n",
    "                '14-2': 'https://openstax.org/books/principles-macroeconomics-2e/pages/14-2-measuring-money-currency-m1-and-m2',\n",
    "                '14-3': 'https://openstax.org/books/principles-macroeconomics-2e/pages/14-3-the-role-of-banks',\n",
    "                '14-4': 'https://openstax.org/books/principles-macroeconomics-2e/pages/14-4-how-banks-create-money',\n",
    "                '15-1': 'https://openstax.org/books/principles-macroeconomics-2e/pages/15-1-the-federal-reserve-banking-system-and-central-banks',\n",
    "                '15-2': 'https://openstax.org/books/principles-macroeconomics-2e/pages/15-2-bank-regulation',\n",
    "                '15-3': 'https://openstax.org/books/principles-macroeconomics-2e/pages/15-3-how-a-central-bank-executes-monetary-policy',\n",
    "                '15-4': 'https://openstax.org/books/principles-macroeconomics-2e/pages/15-4-monetary-policy-and-economic-outcomes',\n",
    "                '15-5': 'https://openstax.org/books/principles-macroeconomics-2e/pages/15-5-pitfalls-for-monetary-policy',\n",
    "                '16-1': 'https://openstax.org/books/principles-macroeconomics-2e/pages/16-1-how-the-foreign-exchange-market-works',\n",
    "                '16-2': 'https://openstax.org/books/principles-macroeconomics-2e/pages/16-2-demand-and-supply-shifts-in-foreign-exchange-markets',\n",
    "                '16-3': 'https://openstax.org/books/principles-macroeconomics-2e/pages/16-3-macroeconomic-effects-of-exchange-rates',\n",
    "                '16-4': 'https://openstax.org/books/principles-macroeconomics-2e/pages/16-4-exchange-rate-policies',\n",
    "                '17-1': 'https://openstax.org/books/principles-macroeconomics-2e/pages/17-1-government-spending',\n",
    "                '17-2': 'https://openstax.org/books/principles-macroeconomics-2e/pages/17-2-taxation',\n",
    "                '17-3': 'https://openstax.org/books/principles-macroeconomics-2e/pages/17-3-federal-deficits-and-the-national-debt',\n",
    "                '17-4': 'https://openstax.org/books/principles-macroeconomics-2e/pages/17-4-using-fiscal-policy-to-fight-recession-unemployment-and-inflation',\n",
    "                '17-5': 'https://openstax.org/books/principles-macroeconomics-2e/pages/17-5-automatic-stabilizers',\n",
    "                '17-6': 'https://openstax.org/books/principles-macroeconomics-2e/pages/17-6-practical-problems-with-discretionary-fiscal-policy',\n",
    "                '17-7': 'https://openstax.org/books/principles-macroeconomics-2e/pages/17-7-the-question-of-a-balanced-budget',\n",
    "                '18-1': 'https://openstax.org/books/principles-macroeconomics-2e/pages/18-1-how-government-borrowing-affects-investment-and-the-trade-balance',\n",
    "                '18-2': 'https://openstax.org/books/principles-macroeconomics-2e/pages/18-2-fiscal-policy-and-the-trade-balance',\n",
    "                '18-3': 'https://openstax.org/books/principles-macroeconomics-2e/pages/18-3-how-government-borrowing-affects-private-saving',\n",
    "                '18-4': 'https://openstax.org/books/principles-macroeconomics-2e/pages/18-4-fiscal-policy-investment-and-economic-growth',\n",
    "                '19-1': 'https://openstax.org/books/principles-macroeconomics-2e/pages/19-1-the-diversity-of-countries-and-economies-across-the-world',\n",
    "                '19-2': 'https://openstax.org/books/principles-macroeconomics-2e/pages/19-2-improving-countries-standards-of-living',\n",
    "                '19-3': 'https://openstax.org/books/principles-macroeconomics-2e/pages/19-3-causes-of-unemployment-around-the-world',\n",
    "                '19-4': 'https://openstax.org/books/principles-macroeconomics-2e/pages/19-4-causes-of-inflation-in-various-countries-and-regions',\n",
    "                '19-5': 'https://openstax.org/books/principles-macroeconomics-2e/pages/19-5-balance-of-trade-concerns',\n",
    "                '20-1': 'https://openstax.org/books/principles-macroeconomics-2e/pages/20-1-absolute-and-comparative-advantage',\n",
    "                '20-2': 'https://openstax.org/books/principles-macroeconomics-2e/pages/20-2-what-happens-when-a-country-has-an-absolute-advantage-in-all-goods',\n",
    "                '20-3': 'https://openstax.org/books/principles-macroeconomics-2e/pages/20-3-intra-industry-trade-between-similar-economies',\n",
    "                '20-4': 'https://openstax.org/books/principles-macroeconomics-2e/pages/20-4-the-benefits-of-reducing-barriers-to-international-trade',\n",
    "                '21-1': 'https://openstax.org/books/principles-macroeconomics-2e/pages/21-1-protectionism-an-indirect-subsidy-from-consumers-to-producers',\n",
    "                '21-2': 'https://openstax.org/books/principles-macroeconomics-2e/pages/21-2-international-trade-and-its-effects-on-jobs-wages-and-working-conditions',\n",
    "                '21-3': 'https://openstax.org/books/principles-macroeconomics-2e/pages/21-3-arguments-in-support-of-restricting-imports',\n",
    "                '21-4': 'https://openstax.org/books/principles-macroeconomics-2e/pages/21-4-how-governments-enact-trade-policy-globally-regionally-and-nationally',\n",
    "                '21-5': 'https://openstax.org/books/principles-macroeconomics-2e/pages/21-5-the-tradeoffs-of-trade-policy'                \n",
    "               }\n",
    "\n",
    "summary_urls = {}\n",
    "for i in range(21):\n",
    "    summary_urls[twoDig(i+1)] = 'https://openstax.org/books/principles-macroeconomics-2e/pages/' + str(i+1) + '-key-concepts-and-summary'"
   ]
  },
  {
   "cell_type": "markdown",
   "id": "c5de00fe-35bb-43c2-aa35-1e67a78b6df7",
   "metadata": {},
   "source": [
    "## Build Dataframe"
   ]
  },
  {
   "cell_type": "code",
   "execution_count": 4,
   "id": "0c6c3580-d60a-47d3-bffa-7f5031a87110",
   "metadata": {},
   "outputs": [],
   "source": [
    "sections_dict = {}\n",
    "    \n",
    "sections_dict['section'] = [i for i in chapter_urls]\n",
    "sections_dict['text'] = [getText(chapter_urls[i]) for i in chapter_urls]\n",
    "\n"
   ]
  },
  {
   "cell_type": "code",
   "execution_count": 5,
   "id": "3d3fcfb1-e58e-4314-a616-8bdc5c0fd4e0",
   "metadata": {},
   "outputs": [],
   "source": [
    "sections_df = pd.DataFrame.from_dict(sections_dict)\n",
    "sections_df['chapter'] = sections_df['section'].apply(lambda x: x.split('-')[0])\n",
    "sections_df = sections_df[['chapter', 'section', 'text']]"
   ]
  },
  {
   "cell_type": "code",
   "execution_count": 6,
   "id": "ded619ca-a5e3-48f7-ae53-884400eea811",
   "metadata": {},
   "outputs": [
    {
     "data": {
      "text/html": [
       "<div>\n",
       "<style scoped>\n",
       "    .dataframe tbody tr th:only-of-type {\n",
       "        vertical-align: middle;\n",
       "    }\n",
       "\n",
       "    .dataframe tbody tr th {\n",
       "        vertical-align: top;\n",
       "    }\n",
       "\n",
       "    .dataframe thead th {\n",
       "        text-align: right;\n",
       "    }\n",
       "</style>\n",
       "<table border=\"1\" class=\"dataframe\">\n",
       "  <thead>\n",
       "    <tr style=\"text-align: right;\">\n",
       "      <th></th>\n",
       "      <th>chapter</th>\n",
       "      <th>section</th>\n",
       "      <th>text</th>\n",
       "    </tr>\n",
       "  </thead>\n",
       "  <tbody>\n",
       "    <tr>\n",
       "      <th>0</th>\n",
       "      <td>01</td>\n",
       "      <td>01-1</td>\n",
       "      <td>By the end of this section, you will be able t...</td>\n",
       "    </tr>\n",
       "    <tr>\n",
       "      <th>1</th>\n",
       "      <td>01</td>\n",
       "      <td>01-2</td>\n",
       "      <td>By the end of this section, you will be able t...</td>\n",
       "    </tr>\n",
       "    <tr>\n",
       "      <th>2</th>\n",
       "      <td>01</td>\n",
       "      <td>01-3</td>\n",
       "      <td>By the end of this section, you will be able t...</td>\n",
       "    </tr>\n",
       "    <tr>\n",
       "      <th>3</th>\n",
       "      <td>01</td>\n",
       "      <td>01-4</td>\n",
       "      <td>By the end of this section, you will be able t...</td>\n",
       "    </tr>\n",
       "    <tr>\n",
       "      <th>4</th>\n",
       "      <td>02</td>\n",
       "      <td>02-1</td>\n",
       "      <td>By the end of this section, you will be able t...</td>\n",
       "    </tr>\n",
       "    <tr>\n",
       "      <th>...</th>\n",
       "      <td>...</td>\n",
       "      <td>...</td>\n",
       "      <td>...</td>\n",
       "    </tr>\n",
       "    <tr>\n",
       "      <th>89</th>\n",
       "      <td>21</td>\n",
       "      <td>21-1</td>\n",
       "      <td>By the end of this section, you will be able t...</td>\n",
       "    </tr>\n",
       "    <tr>\n",
       "      <th>90</th>\n",
       "      <td>21</td>\n",
       "      <td>21-2</td>\n",
       "      <td>By the end of this section, you will be able t...</td>\n",
       "    </tr>\n",
       "    <tr>\n",
       "      <th>91</th>\n",
       "      <td>21</td>\n",
       "      <td>21-3</td>\n",
       "      <td>By the end of this section, you will be able t...</td>\n",
       "    </tr>\n",
       "    <tr>\n",
       "      <th>92</th>\n",
       "      <td>21</td>\n",
       "      <td>21-4</td>\n",
       "      <td>By the end of this section, you will be able t...</td>\n",
       "    </tr>\n",
       "    <tr>\n",
       "      <th>93</th>\n",
       "      <td>21</td>\n",
       "      <td>21-5</td>\n",
       "      <td>By the end of this section, you will be able t...</td>\n",
       "    </tr>\n",
       "  </tbody>\n",
       "</table>\n",
       "<p>94 rows × 3 columns</p>\n",
       "</div>"
      ],
      "text/plain": [
       "   chapter section                                               text\n",
       "0       01    01-1  By the end of this section, you will be able t...\n",
       "1       01    01-2  By the end of this section, you will be able t...\n",
       "2       01    01-3  By the end of this section, you will be able t...\n",
       "3       01    01-4  By the end of this section, you will be able t...\n",
       "4       02    02-1  By the end of this section, you will be able t...\n",
       "..     ...     ...                                                ...\n",
       "89      21    21-1  By the end of this section, you will be able t...\n",
       "90      21    21-2  By the end of this section, you will be able t...\n",
       "91      21    21-3  By the end of this section, you will be able t...\n",
       "92      21    21-4  By the end of this section, you will be able t...\n",
       "93      21    21-5  By the end of this section, you will be able t...\n",
       "\n",
       "[94 rows x 3 columns]"
      ]
     },
     "execution_count": 6,
     "metadata": {},
     "output_type": "execute_result"
    }
   ],
   "source": [
    "sections_df"
   ]
  },
  {
   "cell_type": "markdown",
   "id": "31a8539a-d918-4c1a-9e7f-e9fb71fa203d",
   "metadata": {},
   "source": [
    "### Get Summaries for each Section"
   ]
  },
  {
   "cell_type": "code",
   "execution_count": 7,
   "id": "28414801-2c65-49fc-92b8-5c08789327aa",
   "metadata": {},
   "outputs": [],
   "source": [
    "def getSummary(row):\n",
    "    url = summary_urls[row.chapter]\n",
    "    html_content = requests.get(url).text\n",
    "    soup = BeautifulSoup(html_content, \"html.parser\")\n",
    "    texts = soup.find_all('p')\n",
    "    text_list = [text.get_text() for text in texts]\n",
    "    section_num = int(row['section'].split('-')[1])\n",
    "    return text_list[section_num-1]\n",
    " \n",
    "sections_df['textbook_summary'] = sections_df.apply(lambda row: getSummary(row), axis = 1)"
   ]
  },
  {
   "cell_type": "code",
   "execution_count": 9,
   "id": "e8b33981-94f7-4694-adc0-ce40784fe3ba",
   "metadata": {},
   "outputs": [],
   "source": [
    "sections_df.to_csv('../data/sections_and_summaries.csv')"
   ]
  },
  {
   "cell_type": "markdown",
   "id": "94e90b10-1d3d-4a09-b886-2a93d9f38b42",
   "metadata": {},
   "source": [
    "## Get T5 Warmed Up"
   ]
  },
  {
   "cell_type": "code",
   "execution_count": 9,
   "id": "f74cc49f-4876-4e7e-8527-cce5a48eea32",
   "metadata": {},
   "outputs": [
    {
     "name": "stdout",
     "output_type": "stream",
     "text": [
      "Requirement already satisfied: transformers in /opt/conda/lib/python3.10/site-packages (4.22.2)\n",
      "Requirement already satisfied: regex!=2019.12.17 in /opt/conda/lib/python3.10/site-packages (from transformers) (2022.7.25)\n",
      "Requirement already satisfied: pyyaml>=5.1 in /opt/conda/lib/python3.10/site-packages (from transformers) (6.0)\n",
      "Requirement already satisfied: packaging>=20.0 in /opt/conda/lib/python3.10/site-packages (from transformers) (21.3)\n",
      "Requirement already satisfied: requests in /opt/conda/lib/python3.10/site-packages (from transformers) (2.28.0)\n",
      "Requirement already satisfied: huggingface-hub<1.0,>=0.9.0 in /opt/conda/lib/python3.10/site-packages (from transformers) (0.10.0)\n",
      "Requirement already satisfied: numpy>=1.17 in /opt/conda/lib/python3.10/site-packages (from transformers) (1.22.4)\n",
      "Requirement already satisfied: tokenizers!=0.11.3,<0.13,>=0.11.1 in /opt/conda/lib/python3.10/site-packages (from transformers) (0.12.1)\n",
      "Requirement already satisfied: tqdm>=4.27 in /opt/conda/lib/python3.10/site-packages (from transformers) (4.64.0)\n",
      "Requirement already satisfied: filelock in /opt/conda/lib/python3.10/site-packages (from transformers) (3.7.1)\n",
      "Requirement already satisfied: typing-extensions>=3.7.4.3 in /opt/conda/lib/python3.10/site-packages (from huggingface-hub<1.0,>=0.9.0->transformers) (4.2.0)\n",
      "Requirement already satisfied: pyparsing!=3.0.5,>=2.0.2 in /opt/conda/lib/python3.10/site-packages (from packaging>=20.0->transformers) (3.0.9)\n",
      "Requirement already satisfied: certifi>=2017.4.17 in /opt/conda/lib/python3.10/site-packages (from requests->transformers) (2022.6.15)\n",
      "Requirement already satisfied: idna<4,>=2.5 in /opt/conda/lib/python3.10/site-packages (from requests->transformers) (3.3)\n",
      "Requirement already satisfied: urllib3<1.27,>=1.21.1 in /opt/conda/lib/python3.10/site-packages (from requests->transformers) (1.26.9)\n",
      "Requirement already satisfied: charset-normalizer~=2.0.0 in /opt/conda/lib/python3.10/site-packages (from requests->transformers) (2.0.12)\n"
     ]
    }
   ],
   "source": [
    "!pip install -U transformers"
   ]
  },
  {
   "cell_type": "code",
   "execution_count": 10,
   "id": "b2d4773e-6be2-4198-885d-d3ed74184caf",
   "metadata": {},
   "outputs": [],
   "source": [
    "import torch\n",
    "from transformers import pipeline\n",
    "\n",
    "summarizer = pipeline(\n",
    "    \"summarization\",\n",
    "    \"pszemraj/long-t5-tglobal-base-16384-book-summary\",\n",
    "    device=0 if torch.cuda.is_available() else -1,\n",
    ")"
   ]
  },
  {
   "cell_type": "code",
   "execution_count": 11,
   "id": "66581eeb-5740-40bb-a32f-e29904477957",
   "metadata": {},
   "outputs": [
    {
     "name": "stderr",
     "output_type": "stream",
     "text": [
      "/opt/conda/lib/python3.10/site-packages/transformers/modeling_utils.py:689: FutureWarning: The `device` argument is deprecated and will be removed in v5 of Transformers.\n",
      "  warnings.warn(\n",
      "/tmp/ipykernel_219/684984634.py:10: SettingWithCopyWarning: \n",
      "A value is trying to be set on a copy of a slice from a DataFrame.\n",
      "Try using .loc[row_indexer,col_indexer] = value instead\n",
      "\n",
      "See the caveats in the documentation: https://pandas.pydata.org/pandas-docs/stable/user_guide/indexing.html#returning-a-view-versus-a-copy\n",
      "  chapter1_df[summary_name] = chapter1_df.apply(lambda row: summarizer(row['text'], temperature=0.5)[0]['summary_text'], axis=1)\n",
      "/opt/conda/lib/python3.10/site-packages/transformers/modeling_utils.py:689: FutureWarning: The `device` argument is deprecated and will be removed in v5 of Transformers.\n",
      "  warnings.warn(\n",
      "/tmp/ipykernel_219/684984634.py:10: SettingWithCopyWarning: \n",
      "A value is trying to be set on a copy of a slice from a DataFrame.\n",
      "Try using .loc[row_indexer,col_indexer] = value instead\n",
      "\n",
      "See the caveats in the documentation: https://pandas.pydata.org/pandas-docs/stable/user_guide/indexing.html#returning-a-view-versus-a-copy\n",
      "  chapter1_df[summary_name] = chapter1_df.apply(lambda row: summarizer(row['text'], temperature=0.5)[0]['summary_text'], axis=1)\n"
     ]
    },
    {
     "data": {
      "text/html": [
       "<div>\n",
       "<style scoped>\n",
       "    .dataframe tbody tr th:only-of-type {\n",
       "        vertical-align: middle;\n",
       "    }\n",
       "\n",
       "    .dataframe tbody tr th {\n",
       "        vertical-align: top;\n",
       "    }\n",
       "\n",
       "    .dataframe thead th {\n",
       "        text-align: right;\n",
       "    }\n",
       "</style>\n",
       "<table border=\"1\" class=\"dataframe\">\n",
       "  <thead>\n",
       "    <tr style=\"text-align: right;\">\n",
       "      <th></th>\n",
       "      <th>chapter</th>\n",
       "      <th>section</th>\n",
       "      <th>text</th>\n",
       "      <th>textbook_summary</th>\n",
       "      <th>summary0</th>\n",
       "      <th>summary1</th>\n",
       "    </tr>\n",
       "  </thead>\n",
       "  <tbody>\n",
       "    <tr>\n",
       "      <th>0</th>\n",
       "      <td>01</td>\n",
       "      <td>01-1</td>\n",
       "      <td>By the end of this section, you will be able t...</td>\n",
       "      <td>Economics seeks to solve the problem of scarci...</td>\n",
       "      <td>In this chapter, students will learn about the...</td>\n",
       "      <td>In this chapter, students will learn about the...</td>\n",
       "    </tr>\n",
       "    <tr>\n",
       "      <th>1</th>\n",
       "      <td>01</td>\n",
       "      <td>01-2</td>\n",
       "      <td>By the end of this section, you will be able t...</td>\n",
       "      <td>Microeconomics and macroeconomics are two diff...</td>\n",
       "      <td>In this chapter, the focus shifts from economi...</td>\n",
       "      <td>In this chapter, the focus shifts from economi...</td>\n",
       "    </tr>\n",
       "    <tr>\n",
       "      <th>2</th>\n",
       "      <td>01</td>\n",
       "      <td>01-3</td>\n",
       "      <td>By the end of this section, you will be able t...</td>\n",
       "      <td>Economists analyze problems differently than d...</td>\n",
       "      <td>In this chapter, you will learn about the impo...</td>\n",
       "      <td>In this chapter, you will learn about the impo...</td>\n",
       "    </tr>\n",
       "    <tr>\n",
       "      <th>3</th>\n",
       "      <td>01</td>\n",
       "      <td>01-4</td>\n",
       "      <td>By the end of this section, you will be able t...</td>\n",
       "      <td>We can organize societies as traditional, comm...</td>\n",
       "      <td>In this chapter, you will learn about the diff...</td>\n",
       "      <td>In this chapter, you will learn about the diff...</td>\n",
       "    </tr>\n",
       "  </tbody>\n",
       "</table>\n",
       "</div>"
      ],
      "text/plain": [
       "  chapter section                                               text  \\\n",
       "0      01    01-1  By the end of this section, you will be able t...   \n",
       "1      01    01-2  By the end of this section, you will be able t...   \n",
       "2      01    01-3  By the end of this section, you will be able t...   \n",
       "3      01    01-4  By the end of this section, you will be able t...   \n",
       "\n",
       "                                    textbook_summary  \\\n",
       "0  Economics seeks to solve the problem of scarci...   \n",
       "1  Microeconomics and macroeconomics are two diff...   \n",
       "2  Economists analyze problems differently than d...   \n",
       "3  We can organize societies as traditional, comm...   \n",
       "\n",
       "                                            summary0  \\\n",
       "0  In this chapter, students will learn about the...   \n",
       "1  In this chapter, the focus shifts from economi...   \n",
       "2  In this chapter, you will learn about the impo...   \n",
       "3  In this chapter, you will learn about the diff...   \n",
       "\n",
       "                                            summary1  \n",
       "0  In this chapter, students will learn about the...  \n",
       "1  In this chapter, the focus shifts from economi...  \n",
       "2  In this chapter, you will learn about the impo...  \n",
       "3  In this chapter, you will learn about the diff...  "
      ]
     },
     "execution_count": 11,
     "metadata": {},
     "output_type": "execute_result"
    }
   ],
   "source": [
    "chapter1_df = sections_df[sections_df['chapter']=='01']\n",
    "\n",
    "def summarizeText(text):\n",
    "    summary = summarizer(text)[0]['summary_text']\n",
    "    print(summary)\n",
    "    return summary\n",
    "\n",
    "for i in range(2):\n",
    "    summary_name = 'summary'+str(i)\n",
    "    chapter1_df[summary_name] = chapter1_df.apply(lambda row: summarizer(row['text'], temperature=0.5)[0]['summary_text'], axis=1)\n",
    "\n",
    "chapter1_df"
   ]
  },
  {
   "cell_type": "code",
   "execution_count": 13,
   "id": "ffd87d3a-a39f-4314-b86d-51d1284834d3",
   "metadata": {},
   "outputs": [
    {
     "name": "stdout",
     "output_type": "stream",
     "text": [
      "In this chapter, students will learn about the importance of understanding economics and how people make decisions based on scarcity. They will also learn to use FredData, a tool that helps them analyze and interpret financial and social information, to better understand the problems they are trying to solve. The problem is that we do not produce all the goods or services we need, but instead \"trade\" for the rest in order to get what we want\n",
      "\n",
      "\n",
      "In this chapter, the focus shifts from economics to \"macroeconomics\" and \"contrast financial policy.\" The two branches of economics deal with the well being of all people. Both focus on the actions that individuals within the economy make, but they are different in their focus. Macroecy focuses on issues such as population growth, unemployment, and inflation. Both look at the entire economy as if it were a single entity.\n",
      "\n",
      "\n",
      "In this chapter, you will learn about the importance of theories and modeling. John Mayn Ard Keynes is one of the most important scholars in the twentieth century. He argues that economic theory is not only a subject matter but also an approach to thinking. He says that it is a way for people to think rather than just understand. This course will introduce you to some of the major theories used in the modern world. The circular flows diagram illustrates how households and businesses interact in two different markets: the product market and the labor marketplace. Household owners sell their labor to businessmen or other employees in return for wage, salary, and benefit. This model can easily be extended to include more real-events like financial markets and governments.\n",
      "\n",
      "\n",
      "In this chapter, you will learn about the different types of economies and how they organize. The traditional economy is the oldest system in the world used in many parts of Africa, Latin America, and Asia. A command economy is a form of government that controls what people produce and sets prices for goods and services. Market economies operate on a decentralized basis. Private individuals own and run the means of producing goods and service. Businesses sell goods to private individuals who do not have the authority to make these decisions. Governments regulate markets because there is no absolute free market. There are black markets, underground economies, or black marketplaces where sellers and buyers make trade without the government's approval. This type of organization involves a \"balancing act\" over the proper combination of market independence and government regulation.\n",
      "\n",
      "\n"
     ]
    }
   ],
   "source": [
    "for i in chapter1_df['summary0']:\n",
    "    print(i)\n",
    "    print('\\n')"
   ]
  },
  {
   "cell_type": "code",
   "execution_count": 18,
   "id": "cc7cf10e-1d78-4305-b5a6-13ca6c31bc02",
   "metadata": {},
   "outputs": [
    {
     "name": "stdout",
     "output_type": "stream",
     "text": [
      "In this chapter, you will learn about three different types of economies: the traditional economy; command economies; and market economies. The first type is a traditional economy that organizes economic affairs according to tradition. Occupation stays in the family, so there is little progress or development because of tradition. A second type of economy is called a \"command economy,\" which involves the government making decisions on what products and services should be produced and how prices should be charged for them. This form of economy has been used throughout the world since the beginning of history. Communism emphasizes command economies, which involve the government taking control of production and selling goods and services as it sees fit. Although command economies are very centralized, market economies do have a decentralized structure due to the fact that buyers and sellers bring together individuals and businesses who may be both individuals and business owners. Market economies operate on private enterprise, meaning that people own and operate their means of production. However, in a command-oriented economy, governments take control of things like protecting private property from theft, keeping people safe from violence, collecting taxes, and dealing with counterfeit goods. These kinds of economies tend to have underground economies, where trade takes place without the approval of the government. For example, Hong Kong does not have an absolute free market, but rather a system of balances between freedom and government regulation. Finally, the rise of international trade has driven down costs for transporting goods across national borders. It has also led to greater trade between countries. According to the World Bank, exports are divided by gross domestic product. Exports divide by Gross Domestic Proposal Measures what share of country's total economic produce is sold abroad and then sales domestically. Table Observes the Extent ofGlobalization/exports GDP. Country 2011 2011 12 13 14 15 16 17 18 19 20 21 22 23 24 25 26 28 27 28 29 28 30 31 32 135 1 36 13.5 13.6 13.7 13.4 12.6 Belgium 7.6.2 81.4 76.2 81.8 82.8 84.4 84.4 Canadian 29.1 3.07 30.0 310.1 31.7 31.6 31.5 26.6 Middle income countries Brazil 10.9 1.1.9 12.6 1,2.6 12.7 11.2 13.30 Mexico 29. 9 32.1 32.6 37.2 37.3 35.4 South Korea 4 5.5.7 56.3 5,3.9 50.3 46.9 Lower income countries Chad 36\n",
      "None\n",
      "In this chapter, you will learn about three different types of economies: the traditional economy; command economies; and market economies. The first type is a traditional economy that organizes economic affairs according to tradition. Occupation stays in the family, so there is little progress or development because of tradition. A second type of economy is called a \"command economy,\" which involves the government making decisions on what products and services should be produced and how prices should be charged for them. This form of economy has been used throughout the world since the beginning of history. Communism emphasizes command economies, which involve the government taking control of production and selling goods and services as it sees fit. Although command economies are very centralized, market economies do have a decentralized structure due to the fact that buyers and sellers bring together individuals and businesses who may be both individuals and business owners. Market economies operate on private enterprise, meaning that people own and operate their means of production. However, in a command-oriented economy, governments take control of things like protecting private property from theft, keeping people safe from violence, collecting taxes, and dealing with counterfeit goods. These kinds of economies tend to have underground economies, where trade takes place without the approval of the government. For example, Hong Kong does not have an absolute free market, but rather a system of balances between freedom and government regulation. Finally, the rise of international trade has driven down costs for transporting goods across national borders. It has also led to greater trade between countries. According to the World Bank, exports are divided by gross domestic product. Exports divide by Gross Domestic Proposal Measures what share of country's total economic produce is sold abroad and then sales domestically. Table Observes the Extent ofGlobalization/exports GDP. Country 2011 2011 12 13 14 15 16 17 18 19 20 21 22 23 24 25 26 28 27 28 29 28 30 31 32 135 1 36 13.5 13.6 13.7 13.4 12.6 Belgium 7.6.2 81.4 76.2 81.8 82.8 84.4 84.4 Canadian 29.1 3.07 30.0 310.1 31.7 31.6 31.5 26.6 Middle income countries Brazil 10.9 1.1.9 12.6 1,2.6 12.7 11.2 13.30 Mexico 29. 9 32.1 32.6 37.2 37.3 35.4 South Korea 4 5.5.7 56.3 5,3.9 50.3 46.9 Lower income countries Chad 36\n",
      "None\n"
     ]
    }
   ],
   "source": [
    "from transformers import AutoModelForSeq2SeqLM, AutoTokenizer\n",
    "\n",
    "def summarizeText(text):\n",
    "    model = AutoModelForSeq2SeqLM.from_pretrained(\"pszemraj/long-t5-tglobal-base-16384-book-summary\")\n",
    "    tokenizer = AutoTokenizer.from_pretrained(\"pszemraj/long-t5-tglobal-base-16384-book-summary\")\n",
    "\n",
    "    inputs = tokenizer(\"summarize: \" + text, return_tensors=\"pt\", truncation=False).to('cuda')\n",
    "    outputs = model.to('cuda').generate(\n",
    "        inputs[\"input_ids\"], max_length=500, min_length=40, length_penalty=2, num_beams=5, early_stopping=True, temperature = 0.8)\n",
    "    print(tokenizer.decode(outputs[0], skip_special_tokens=True))\n",
    "\n",
    "print(summarizeText(chapter1_df.iloc[3]['text']))\n",
    "print(summarizeText(chapter1_df.iloc[3]['text']))"
   ]
  },
  {
   "cell_type": "code",
   "execution_count": 50,
   "id": "b2082553-9c78-4755-9ffe-d855b6cbcfe4",
   "metadata": {},
   "outputs": [
    {
     "name": "stdout",
     "output_type": "stream",
     "text": [
      "The purpose of this chapter is to introduce the concept of \"division and specialization\" of labor. This means that people can focus on certain tasks instead of producing all the things they want. In other words, if you wanted to produce everything, you would have to do all the work yourself. If you wanted something else, someone else would do it for you. There are two options: 1) we could both produce everything we need or 2) we could each separate ourselves from the rest of the population in order to get the most out of our limited resources. Each person has different skills, interests, and talents, so they might be better at certain jobs than others. For example--for example, a farmer who concentrates on one product will be more successful than a company that makes many different products. Finally, workers who focus on specific tasks learn to produce faster and with greater quality because they know how to perform those tasks better. Thus, by focusing on these specific tasks, society can produce far more goods than if everyone were trying to produce all his or herown goods and services himself.\n"
     ]
    }
   ],
   "source": [
    "from transformers import AutoModelForSeq2SeqLM, AutoTokenizer\n",
    "model = AutoModelForSeq2SeqLM.from_pretrained(\"pszemraj/long-t5-tglobal-base-16384-book-summary\")\n",
    "tokenizer = AutoTokenizer.from_pretrained(\"pszemraj/long-t5-tglobal-base-16384-book-summary\")\n",
    "\n",
    "\n",
    "def summarizeText(text):\n",
    "\n",
    "\n",
    "    inputs = tokenizer(\"summarize: \" + text, return_tensors=\"pt\", truncation=False).to('cuda')\n",
    "    outputs = model.to('cuda').generate(\n",
    "        inputs[\"input_ids\"], max_length=500, min_length=40, length_penalty=2, num_beams=4, early_stopping=True, temperature = 0.8)\n",
    "    print(tokenizer.decode(outputs[0], skip_special_tokens=True))\n",
    "\n",
    "summarizeText(chapter1_df.iloc[0]['text'])"
   ]
  }
 ],
 "metadata": {
  "kernelspec": {
   "display_name": "Python 3 (ipykernel)",
   "language": "python",
   "name": "python3"
  },
  "language_info": {
   "codemirror_mode": {
    "name": "ipython",
    "version": 3
   },
   "file_extension": ".py",
   "mimetype": "text/x-python",
   "name": "python",
   "nbconvert_exporter": "python",
   "pygments_lexer": "ipython3",
   "version": "3.10.5"
  }
 },
 "nbformat": 4,
 "nbformat_minor": 5
}
