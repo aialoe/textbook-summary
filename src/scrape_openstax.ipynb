{
 "cells": [
  {
   "cell_type": "code",
   "execution_count": 1,
   "id": "5496206e-d5f1-4d07-bac2-e724d8a69b73",
   "metadata": {},
   "outputs": [],
   "source": [
    "from bs4 import BeautifulSoup, SoupStrainer\n",
    "import requests\n",
    "import re\n",
    "from tqdm.auto import tqdm\n",
    "\n",
    "with open('../bin/textbook-first-pages.txt', 'r') as f:\n",
    "    textbook_first_pages = f.read().splitlines()"
   ]
  },
  {
   "cell_type": "markdown",
   "id": "89708d4e-9667-436d-84e7-d0f09fbabdf9",
   "metadata": {},
   "source": [
    "## Class for Scraping OpenStax\n",
    "\n",
    "### Assumptions and Shortcuts\n",
    " - Ignoring any pages that do not start with digit-dash-digit, so '1-1-introduction' is fine but '1-Introudction' and 'Index' are ignored\n",
    " - Ignoring linebreaks. While these might be informative of document structure, I do not want to deal with them right now."
   ]
  },
  {
   "cell_type": "code",
   "execution_count": 2,
   "id": "08b6076a-5a81-40c8-87c8-66483d5087c2",
   "metadata": {},
   "outputs": [],
   "source": [
    "class StaxBook:\n",
    "    def __init__(self, first_page_url):\n",
    "        self.first_page_url = first_page_url\n",
    "        self.base_url = first_page_url.split('/pages/')[0] # a non-functional URL used to build other URLs\n",
    "        self.title = self.base_url.split('/')[-1]\n",
    "        self.sections = []\n",
    "        self.get_section_urls()\n",
    "        \n",
    "    def get_section_urls(self):\n",
    "        soup = BeautifulSoup(requests.get(self.first_page_url).text,\n",
    "                             features='html.parser')\n",
    "        \n",
    "        for a in soup.find_all('a',\n",
    "                               class_='styled__ContentLink-sc-18yti3s-1 cRIWDW',\n",
    "                               href=True):\n",
    "            match = re.search(r'^\\d+-\\d+', a['href'])\n",
    "            if match:\n",
    "                self.sections.append({\n",
    "                    'section': match[0],\n",
    "                    'url': '/'.join([self.base_url, 'pages', a['href']]),\n",
    "                })\n",
    "        \n",
    "    def scrape_one(self, soup):\n",
    "        text_elements = []\n",
    "        keyterm_spans = []\n",
    "        total_str_len = 0\n",
    "\n",
    "        for e in soup.strings:\n",
    "            if isinstance(e, str) and not e.isspace():\n",
    "                text = re.sub('\\s+', ' ', e.text) + ' ' # add a space at the end of each element\n",
    "                if e.parent.attrs.get('data-type', None) == 'term':\n",
    "                    try:\n",
    "                        keyterm_spans.append((total_str_len,\n",
    "                                              total_str_len + len(text) - 1, # -1 because we do not want the space we added earlier\n",
    "                                              e.parent.attrs.get('class', [''])[0] # returns list, so set default to list containing None and pull first elem\n",
    "                                             ))\n",
    "                    except Exception as e:\n",
    "                        print(e)\n",
    "                text_elements.append(text)\n",
    "                total_str_len += len(text)\n",
    "                \n",
    "        return text_elements, keyterm_spans\n",
    "                     \n",
    "    def scrape_all(self):\n",
    "        for section in tqdm(self.sections, leave=False):\n",
    "            soup = BeautifulSoup(requests.get(section['url']).content.decode('utf-8'),\n",
    "                                 features='html5lib').find('div', id='main-content')\n",
    "            section_text, section_labels = self.scrape_one(soup)\n",
    "            section['text'] = ''.join(section_text)\n",
    "            section['labels'] = section_labels"
   ]
  },
  {
   "cell_type": "code",
   "execution_count": 3,
   "id": "78b99620-88c7-4254-8c92-e1df63d787c1",
   "metadata": {},
   "outputs": [],
   "source": [
    "stax_books = [StaxBook(url) for url in textbook_first_pages]"
   ]
  },
  {
   "cell_type": "code",
   "execution_count": 4,
   "id": "03390c40-eff9-47df-838c-3d2497bb007c",
   "metadata": {},
   "outputs": [
    {
     "data": {
      "application/json": {
       "ascii": false,
       "bar_format": null,
       "colour": null,
       "elapsed": 0.025603771209716797,
       "initial": 0,
       "n": 0,
       "ncols": null,
       "nrows": null,
       "postfix": null,
       "prefix": "",
       "rate": null,
       "total": 51,
       "unit": "it",
       "unit_divisor": 1000,
       "unit_scale": false
      },
      "application/vnd.jupyter.widget-view+json": {
       "model_id": "c769e9771cbd451d9409946eada29483",
       "version_major": 2,
       "version_minor": 0
      },
      "text/plain": [
       "  0%|          | 0/51 [00:00<?, ?it/s]"
      ]
     },
     "metadata": {},
     "output_type": "display_data"
    },
    {
     "data": {
      "application/json": {
       "ascii": false,
       "bar_format": null,
       "colour": null,
       "elapsed": 0.011346578598022461,
       "initial": 0,
       "n": 0,
       "ncols": null,
       "nrows": null,
       "postfix": null,
       "prefix": "",
       "rate": null,
       "total": 79,
       "unit": "it",
       "unit_divisor": 1000,
       "unit_scale": false
      },
      "application/vnd.jupyter.widget-view+json": {
       "model_id": "",
       "version_major": 2,
       "version_minor": 0
      },
      "text/plain": [
       "  0%|          | 0/79 [00:00<?, ?it/s]"
      ]
     },
     "metadata": {},
     "output_type": "display_data"
    },
    {
     "data": {
      "application/json": {
       "ascii": false,
       "bar_format": null,
       "colour": null,
       "elapsed": 0.01101374626159668,
       "initial": 0,
       "n": 0,
       "ncols": null,
       "nrows": null,
       "postfix": null,
       "prefix": "",
       "rate": null,
       "total": 45,
       "unit": "it",
       "unit_divisor": 1000,
       "unit_scale": false
      },
      "application/vnd.jupyter.widget-view+json": {
       "model_id": "",
       "version_major": 2,
       "version_minor": 0
      },
      "text/plain": [
       "  0%|          | 0/45 [00:00<?, ?it/s]"
      ]
     },
     "metadata": {},
     "output_type": "display_data"
    },
    {
     "data": {
      "application/json": {
       "ascii": false,
       "bar_format": null,
       "colour": null,
       "elapsed": 0.01112055778503418,
       "initial": 0,
       "n": 0,
       "ncols": null,
       "nrows": null,
       "postfix": null,
       "prefix": "",
       "rate": null,
       "total": 43,
       "unit": "it",
       "unit_divisor": 1000,
       "unit_scale": false
      },
      "application/vnd.jupyter.widget-view+json": {
       "model_id": "",
       "version_major": 2,
       "version_minor": 0
      },
      "text/plain": [
       "  0%|          | 0/43 [00:00<?, ?it/s]"
      ]
     },
     "metadata": {},
     "output_type": "display_data"
    },
    {
     "data": {
      "application/json": {
       "ascii": false,
       "bar_format": null,
       "colour": null,
       "elapsed": 0.011023521423339844,
       "initial": 0,
       "n": 0,
       "ncols": null,
       "nrows": null,
       "postfix": null,
       "prefix": "",
       "rate": null,
       "total": 43,
       "unit": "it",
       "unit_divisor": 1000,
       "unit_scale": false
      },
      "application/vnd.jupyter.widget-view+json": {
       "model_id": "",
       "version_major": 2,
       "version_minor": 0
      },
      "text/plain": [
       "  0%|          | 0/43 [00:00<?, ?it/s]"
      ]
     },
     "metadata": {},
     "output_type": "display_data"
    },
    {
     "data": {
      "application/json": {
       "ascii": false,
       "bar_format": null,
       "colour": null,
       "elapsed": 0.010404586791992188,
       "initial": 0,
       "n": 0,
       "ncols": null,
       "nrows": null,
       "postfix": null,
       "prefix": "",
       "rate": null,
       "total": 59,
       "unit": "it",
       "unit_divisor": 1000,
       "unit_scale": false
      },
      "application/vnd.jupyter.widget-view+json": {
       "model_id": "",
       "version_major": 2,
       "version_minor": 0
      },
      "text/plain": [
       "  0%|          | 0/59 [00:00<?, ?it/s]"
      ]
     },
     "metadata": {},
     "output_type": "display_data"
    },
    {
     "data": {
      "application/json": {
       "ascii": false,
       "bar_format": null,
       "colour": null,
       "elapsed": 0.010657548904418945,
       "initial": 0,
       "n": 0,
       "ncols": null,
       "nrows": null,
       "postfix": null,
       "prefix": "",
       "rate": null,
       "total": 59,
       "unit": "it",
       "unit_divisor": 1000,
       "unit_scale": false
      },
      "application/vnd.jupyter.widget-view+json": {
       "model_id": "",
       "version_major": 2,
       "version_minor": 0
      },
      "text/plain": [
       "  0%|          | 0/59 [00:00<?, ?it/s]"
      ]
     },
     "metadata": {},
     "output_type": "display_data"
    },
    {
     "data": {
      "application/json": {
       "ascii": false,
       "bar_format": null,
       "colour": null,
       "elapsed": 0.010855913162231445,
       "initial": 0,
       "n": 0,
       "ncols": null,
       "nrows": null,
       "postfix": null,
       "prefix": "",
       "rate": null,
       "total": 71,
       "unit": "it",
       "unit_divisor": 1000,
       "unit_scale": false
      },
      "application/vnd.jupyter.widget-view+json": {
       "model_id": "",
       "version_major": 2,
       "version_minor": 0
      },
      "text/plain": [
       "  0%|          | 0/71 [00:00<?, ?it/s]"
      ]
     },
     "metadata": {},
     "output_type": "display_data"
    },
    {
     "data": {
      "application/json": {
       "ascii": false,
       "bar_format": null,
       "colour": null,
       "elapsed": 0.011046648025512695,
       "initial": 0,
       "n": 0,
       "ncols": null,
       "nrows": null,
       "postfix": null,
       "prefix": "",
       "rate": null,
       "total": 70,
       "unit": "it",
       "unit_divisor": 1000,
       "unit_scale": false
      },
      "application/vnd.jupyter.widget-view+json": {
       "model_id": "",
       "version_major": 2,
       "version_minor": 0
      },
      "text/plain": [
       "  0%|          | 0/70 [00:00<?, ?it/s]"
      ]
     },
     "metadata": {},
     "output_type": "display_data"
    },
    {
     "data": {
      "application/json": {
       "ascii": false,
       "bar_format": null,
       "colour": null,
       "elapsed": 0.010616064071655273,
       "initial": 0,
       "n": 0,
       "ncols": null,
       "nrows": null,
       "postfix": null,
       "prefix": "",
       "rate": null,
       "total": 61,
       "unit": "it",
       "unit_divisor": 1000,
       "unit_scale": false
      },
      "application/vnd.jupyter.widget-view+json": {
       "model_id": "",
       "version_major": 2,
       "version_minor": 0
      },
      "text/plain": [
       "  0%|          | 0/61 [00:00<?, ?it/s]"
      ]
     },
     "metadata": {},
     "output_type": "display_data"
    },
    {
     "data": {
      "application/json": {
       "ascii": false,
       "bar_format": null,
       "colour": null,
       "elapsed": 0.010840892791748047,
       "initial": 0,
       "n": 0,
       "ncols": null,
       "nrows": null,
       "postfix": null,
       "prefix": "",
       "rate": null,
       "total": 80,
       "unit": "it",
       "unit_divisor": 1000,
       "unit_scale": false
      },
      "application/vnd.jupyter.widget-view+json": {
       "model_id": "",
       "version_major": 2,
       "version_minor": 0
      },
      "text/plain": [
       "  0%|          | 0/80 [00:00<?, ?it/s]"
      ]
     },
     "metadata": {},
     "output_type": "display_data"
    },
    {
     "data": {
      "application/json": {
       "ascii": false,
       "bar_format": null,
       "colour": null,
       "elapsed": 0.010671615600585938,
       "initial": 0,
       "n": 0,
       "ncols": null,
       "nrows": null,
       "postfix": null,
       "prefix": "",
       "rate": null,
       "total": 60,
       "unit": "it",
       "unit_divisor": 1000,
       "unit_scale": false
      },
      "application/vnd.jupyter.widget-view+json": {
       "model_id": "",
       "version_major": 2,
       "version_minor": 0
      },
      "text/plain": [
       "  0%|          | 0/60 [00:00<?, ?it/s]"
      ]
     },
     "metadata": {},
     "output_type": "display_data"
    },
    {
     "data": {
      "application/json": {
       "ascii": false,
       "bar_format": null,
       "colour": null,
       "elapsed": 0.010934829711914062,
       "initial": 0,
       "n": 0,
       "ncols": null,
       "nrows": null,
       "postfix": null,
       "prefix": "",
       "rate": null,
       "total": 73,
       "unit": "it",
       "unit_divisor": 1000,
       "unit_scale": false
      },
      "application/vnd.jupyter.widget-view+json": {
       "model_id": "",
       "version_major": 2,
       "version_minor": 0
      },
      "text/plain": [
       "  0%|          | 0/73 [00:00<?, ?it/s]"
      ]
     },
     "metadata": {},
     "output_type": "display_data"
    },
    {
     "data": {
      "application/json": {
       "ascii": false,
       "bar_format": null,
       "colour": null,
       "elapsed": 0.010602235794067383,
       "initial": 0,
       "n": 0,
       "ncols": null,
       "nrows": null,
       "postfix": null,
       "prefix": "",
       "rate": null,
       "total": 79,
       "unit": "it",
       "unit_divisor": 1000,
       "unit_scale": false
      },
      "application/vnd.jupyter.widget-view+json": {
       "model_id": "",
       "version_major": 2,
       "version_minor": 0
      },
      "text/plain": [
       "  0%|          | 0/79 [00:00<?, ?it/s]"
      ]
     },
     "metadata": {},
     "output_type": "display_data"
    },
    {
     "data": {
      "application/json": {
       "ascii": false,
       "bar_format": null,
       "colour": null,
       "elapsed": 0.010840654373168945,
       "initial": 0,
       "n": 0,
       "ncols": null,
       "nrows": null,
       "postfix": null,
       "prefix": "",
       "rate": null,
       "total": 169,
       "unit": "it",
       "unit_divisor": 1000,
       "unit_scale": false
      },
      "application/vnd.jupyter.widget-view+json": {
       "model_id": "",
       "version_major": 2,
       "version_minor": 0
      },
      "text/plain": [
       "  0%|          | 0/169 [00:00<?, ?it/s]"
      ]
     },
     "metadata": {},
     "output_type": "display_data"
    },
    {
     "data": {
      "application/json": {
       "ascii": false,
       "bar_format": null,
       "colour": null,
       "elapsed": 0.010696172714233398,
       "initial": 0,
       "n": 0,
       "ncols": null,
       "nrows": null,
       "postfix": null,
       "prefix": "",
       "rate": null,
       "total": 155,
       "unit": "it",
       "unit_divisor": 1000,
       "unit_scale": false
      },
      "application/vnd.jupyter.widget-view+json": {
       "model_id": "",
       "version_major": 2,
       "version_minor": 0
      },
      "text/plain": [
       "  0%|          | 0/155 [00:00<?, ?it/s]"
      ]
     },
     "metadata": {},
     "output_type": "display_data"
    },
    {
     "data": {
      "application/json": {
       "ascii": false,
       "bar_format": null,
       "colour": null,
       "elapsed": 0.010957002639770508,
       "initial": 0,
       "n": 0,
       "ncols": null,
       "nrows": null,
       "postfix": null,
       "prefix": "",
       "rate": null,
       "total": 208,
       "unit": "it",
       "unit_divisor": 1000,
       "unit_scale": false
      },
      "application/vnd.jupyter.widget-view+json": {
       "model_id": "",
       "version_major": 2,
       "version_minor": 0
      },
      "text/plain": [
       "  0%|          | 0/208 [00:00<?, ?it/s]"
      ]
     },
     "metadata": {},
     "output_type": "display_data"
    },
    {
     "data": {
      "application/json": {
       "ascii": false,
       "bar_format": null,
       "colour": null,
       "elapsed": 0.01165914535522461,
       "initial": 0,
       "n": 0,
       "ncols": null,
       "nrows": null,
       "postfix": null,
       "prefix": "",
       "rate": null,
       "total": 167,
       "unit": "it",
       "unit_divisor": 1000,
       "unit_scale": false
      },
      "application/vnd.jupyter.widget-view+json": {
       "model_id": "",
       "version_major": 2,
       "version_minor": 0
      },
      "text/plain": [
       "  0%|          | 0/167 [00:00<?, ?it/s]"
      ]
     },
     "metadata": {},
     "output_type": "display_data"
    },
    {
     "data": {
      "application/json": {
       "ascii": false,
       "bar_format": null,
       "colour": null,
       "elapsed": 0.010582447052001953,
       "initial": 0,
       "n": 0,
       "ncols": null,
       "nrows": null,
       "postfix": null,
       "prefix": "",
       "rate": null,
       "total": 114,
       "unit": "it",
       "unit_divisor": 1000,
       "unit_scale": false
      },
      "application/vnd.jupyter.widget-view+json": {
       "model_id": "",
       "version_major": 2,
       "version_minor": 0
      },
      "text/plain": [
       "  0%|          | 0/114 [00:00<?, ?it/s]"
      ]
     },
     "metadata": {},
     "output_type": "display_data"
    },
    {
     "data": {
      "application/json": {
       "ascii": false,
       "bar_format": null,
       "colour": null,
       "elapsed": 0.010603189468383789,
       "initial": 0,
       "n": 0,
       "ncols": null,
       "nrows": null,
       "postfix": null,
       "prefix": "",
       "rate": null,
       "total": 114,
       "unit": "it",
       "unit_divisor": 1000,
       "unit_scale": false
      },
      "application/vnd.jupyter.widget-view+json": {
       "model_id": "",
       "version_major": 2,
       "version_minor": 0
      },
      "text/plain": [
       "  0%|          | 0/114 [00:00<?, ?it/s]"
      ]
     },
     "metadata": {},
     "output_type": "display_data"
    },
    {
     "data": {
      "application/json": {
       "ascii": false,
       "bar_format": null,
       "colour": null,
       "elapsed": 0.0109405517578125,
       "initial": 0,
       "n": 0,
       "ncols": null,
       "nrows": null,
       "postfix": null,
       "prefix": "",
       "rate": null,
       "total": 244,
       "unit": "it",
       "unit_divisor": 1000,
       "unit_scale": false
      },
      "application/vnd.jupyter.widget-view+json": {
       "model_id": "",
       "version_major": 2,
       "version_minor": 0
      },
      "text/plain": [
       "  0%|          | 0/244 [00:00<?, ?it/s]"
      ]
     },
     "metadata": {},
     "output_type": "display_data"
    },
    {
     "data": {
      "application/json": {
       "ascii": false,
       "bar_format": null,
       "colour": null,
       "elapsed": 0.010566949844360352,
       "initial": 0,
       "n": 0,
       "ncols": null,
       "nrows": null,
       "postfix": null,
       "prefix": "",
       "rate": null,
       "total": 244,
       "unit": "it",
       "unit_divisor": 1000,
       "unit_scale": false
      },
      "application/vnd.jupyter.widget-view+json": {
       "model_id": "",
       "version_major": 2,
       "version_minor": 0
      },
      "text/plain": [
       "  0%|          | 0/244 [00:00<?, ?it/s]"
      ]
     },
     "metadata": {},
     "output_type": "display_data"
    },
    {
     "data": {
      "application/json": {
       "ascii": false,
       "bar_format": null,
       "colour": null,
       "elapsed": 0.011027336120605469,
       "initial": 0,
       "n": 0,
       "ncols": null,
       "nrows": null,
       "postfix": null,
       "prefix": "",
       "rate": null,
       "total": 82,
       "unit": "it",
       "unit_divisor": 1000,
       "unit_scale": false
      },
      "application/vnd.jupyter.widget-view+json": {
       "model_id": "",
       "version_major": 2,
       "version_minor": 0
      },
      "text/plain": [
       "  0%|          | 0/82 [00:00<?, ?it/s]"
      ]
     },
     "metadata": {},
     "output_type": "display_data"
    },
    {
     "data": {
      "application/json": {
       "ascii": false,
       "bar_format": null,
       "colour": null,
       "elapsed": 0.010891437530517578,
       "initial": 0,
       "n": 0,
       "ncols": null,
       "nrows": null,
       "postfix": null,
       "prefix": "",
       "rate": null,
       "total": 127,
       "unit": "it",
       "unit_divisor": 1000,
       "unit_scale": false
      },
      "application/vnd.jupyter.widget-view+json": {
       "model_id": "",
       "version_major": 2,
       "version_minor": 0
      },
      "text/plain": [
       "  0%|          | 0/127 [00:00<?, ?it/s]"
      ]
     },
     "metadata": {},
     "output_type": "display_data"
    },
    {
     "data": {
      "application/json": {
       "ascii": false,
       "bar_format": null,
       "colour": null,
       "elapsed": 0.010891199111938477,
       "initial": 0,
       "n": 0,
       "ncols": null,
       "nrows": null,
       "postfix": null,
       "prefix": "",
       "rate": null,
       "total": 75,
       "unit": "it",
       "unit_divisor": 1000,
       "unit_scale": false
      },
      "application/vnd.jupyter.widget-view+json": {
       "model_id": "",
       "version_major": 2,
       "version_minor": 0
      },
      "text/plain": [
       "  0%|          | 0/75 [00:00<?, ?it/s]"
      ]
     },
     "metadata": {},
     "output_type": "display_data"
    },
    {
     "data": {
      "application/json": {
       "ascii": false,
       "bar_format": null,
       "colour": null,
       "elapsed": 0.010761260986328125,
       "initial": 0,
       "n": 0,
       "ncols": null,
       "nrows": null,
       "postfix": null,
       "prefix": "",
       "rate": null,
       "total": 99,
       "unit": "it",
       "unit_divisor": 1000,
       "unit_scale": false
      },
      "application/vnd.jupyter.widget-view+json": {
       "model_id": "",
       "version_major": 2,
       "version_minor": 0
      },
      "text/plain": [
       "  0%|          | 0/99 [00:00<?, ?it/s]"
      ]
     },
     "metadata": {},
     "output_type": "display_data"
    },
    {
     "data": {
      "application/json": {
       "ascii": false,
       "bar_format": null,
       "colour": null,
       "elapsed": 0.011180877685546875,
       "initial": 0,
       "n": 0,
       "ncols": null,
       "nrows": null,
       "postfix": null,
       "prefix": "",
       "rate": null,
       "total": 95,
       "unit": "it",
       "unit_divisor": 1000,
       "unit_scale": false
      },
      "application/vnd.jupyter.widget-view+json": {
       "model_id": "",
       "version_major": 2,
       "version_minor": 0
      },
      "text/plain": [
       "  0%|          | 0/95 [00:00<?, ?it/s]"
      ]
     },
     "metadata": {},
     "output_type": "display_data"
    },
    {
     "data": {
      "application/json": {
       "ascii": false,
       "bar_format": null,
       "colour": null,
       "elapsed": 0.01097726821899414,
       "initial": 0,
       "n": 0,
       "ncols": null,
       "nrows": null,
       "postfix": null,
       "prefix": "",
       "rate": null,
       "total": 76,
       "unit": "it",
       "unit_divisor": 1000,
       "unit_scale": false
      },
      "application/vnd.jupyter.widget-view+json": {
       "model_id": "",
       "version_major": 2,
       "version_minor": 0
      },
      "text/plain": [
       "  0%|          | 0/76 [00:00<?, ?it/s]"
      ]
     },
     "metadata": {},
     "output_type": "display_data"
    },
    {
     "data": {
      "application/json": {
       "ascii": false,
       "bar_format": null,
       "colour": null,
       "elapsed": 0.010541200637817383,
       "initial": 0,
       "n": 0,
       "ncols": null,
       "nrows": null,
       "postfix": null,
       "prefix": "",
       "rate": null,
       "total": 77,
       "unit": "it",
       "unit_divisor": 1000,
       "unit_scale": false
      },
      "application/vnd.jupyter.widget-view+json": {
       "model_id": "",
       "version_major": 2,
       "version_minor": 0
      },
      "text/plain": [
       "  0%|          | 0/77 [00:00<?, ?it/s]"
      ]
     },
     "metadata": {},
     "output_type": "display_data"
    },
    {
     "data": {
      "application/json": {
       "ascii": false,
       "bar_format": null,
       "colour": null,
       "elapsed": 0.010514497756958008,
       "initial": 0,
       "n": 0,
       "ncols": null,
       "nrows": null,
       "postfix": null,
       "prefix": "",
       "rate": null,
       "total": 100,
       "unit": "it",
       "unit_divisor": 1000,
       "unit_scale": false
      },
      "application/vnd.jupyter.widget-view+json": {
       "model_id": "",
       "version_major": 2,
       "version_minor": 0
      },
      "text/plain": [
       "  0%|          | 0/100 [00:00<?, ?it/s]"
      ]
     },
     "metadata": {},
     "output_type": "display_data"
    },
    {
     "data": {
      "application/json": {
       "ascii": false,
       "bar_format": null,
       "colour": null,
       "elapsed": 0.01100921630859375,
       "initial": 0,
       "n": 0,
       "ncols": null,
       "nrows": null,
       "postfix": null,
       "prefix": "",
       "rate": null,
       "total": 90,
       "unit": "it",
       "unit_divisor": 1000,
       "unit_scale": false
      },
      "application/vnd.jupyter.widget-view+json": {
       "model_id": "",
       "version_major": 2,
       "version_minor": 0
      },
      "text/plain": [
       "  0%|          | 0/90 [00:00<?, ?it/s]"
      ]
     },
     "metadata": {},
     "output_type": "display_data"
    },
    {
     "data": {
      "application/json": {
       "ascii": false,
       "bar_format": null,
       "colour": null,
       "elapsed": 0.010630369186401367,
       "initial": 0,
       "n": 0,
       "ncols": null,
       "nrows": null,
       "postfix": null,
       "prefix": "",
       "rate": null,
       "total": 74,
       "unit": "it",
       "unit_divisor": 1000,
       "unit_scale": false
      },
      "application/vnd.jupyter.widget-view+json": {
       "model_id": "",
       "version_major": 2,
       "version_minor": 0
      },
      "text/plain": [
       "  0%|          | 0/74 [00:00<?, ?it/s]"
      ]
     },
     "metadata": {},
     "output_type": "display_data"
    },
    {
     "data": {
      "application/json": {
       "ascii": false,
       "bar_format": null,
       "colour": null,
       "elapsed": 0.010893583297729492,
       "initial": 0,
       "n": 0,
       "ncols": null,
       "nrows": null,
       "postfix": null,
       "prefix": "",
       "rate": null,
       "total": 142,
       "unit": "it",
       "unit_divisor": 1000,
       "unit_scale": false
      },
      "application/vnd.jupyter.widget-view+json": {
       "model_id": "",
       "version_major": 2,
       "version_minor": 0
      },
      "text/plain": [
       "  0%|          | 0/142 [00:00<?, ?it/s]"
      ]
     },
     "metadata": {},
     "output_type": "display_data"
    },
    {
     "data": {
      "application/json": {
       "ascii": false,
       "bar_format": null,
       "colour": null,
       "elapsed": 0.01100778579711914,
       "initial": 0,
       "n": 0,
       "ncols": null,
       "nrows": null,
       "postfix": null,
       "prefix": "",
       "rate": null,
       "total": 94,
       "unit": "it",
       "unit_divisor": 1000,
       "unit_scale": false
      },
      "application/vnd.jupyter.widget-view+json": {
       "model_id": "",
       "version_major": 2,
       "version_minor": 0
      },
      "text/plain": [
       "  0%|          | 0/94 [00:00<?, ?it/s]"
      ]
     },
     "metadata": {},
     "output_type": "display_data"
    },
    {
     "data": {
      "application/json": {
       "ascii": false,
       "bar_format": null,
       "colour": null,
       "elapsed": 0.010634660720825195,
       "initial": 0,
       "n": 0,
       "ncols": null,
       "nrows": null,
       "postfix": null,
       "prefix": "",
       "rate": null,
       "total": 82,
       "unit": "it",
       "unit_divisor": 1000,
       "unit_scale": false
      },
      "application/vnd.jupyter.widget-view+json": {
       "model_id": "",
       "version_major": 2,
       "version_minor": 0
      },
      "text/plain": [
       "  0%|          | 0/82 [00:00<?, ?it/s]"
      ]
     },
     "metadata": {},
     "output_type": "display_data"
    },
    {
     "data": {
      "application/json": {
       "ascii": false,
       "bar_format": null,
       "colour": null,
       "elapsed": 0.010462045669555664,
       "initial": 0,
       "n": 0,
       "ncols": null,
       "nrows": null,
       "postfix": null,
       "prefix": "",
       "rate": null,
       "total": 76,
       "unit": "it",
       "unit_divisor": 1000,
       "unit_scale": false
      },
      "application/vnd.jupyter.widget-view+json": {
       "model_id": "",
       "version_major": 2,
       "version_minor": 0
      },
      "text/plain": [
       "  0%|          | 0/76 [00:00<?, ?it/s]"
      ]
     },
     "metadata": {},
     "output_type": "display_data"
    },
    {
     "data": {
      "application/json": {
       "ascii": false,
       "bar_format": null,
       "colour": null,
       "elapsed": 0.010944843292236328,
       "initial": 0,
       "n": 0,
       "ncols": null,
       "nrows": null,
       "postfix": null,
       "prefix": "",
       "rate": null,
       "total": 74,
       "unit": "it",
       "unit_divisor": 1000,
       "unit_scale": false
      },
      "application/vnd.jupyter.widget-view+json": {
       "model_id": "",
       "version_major": 2,
       "version_minor": 0
      },
      "text/plain": [
       "  0%|          | 0/74 [00:00<?, ?it/s]"
      ]
     },
     "metadata": {},
     "output_type": "display_data"
    },
    {
     "data": {
      "application/json": {
       "ascii": false,
       "bar_format": null,
       "colour": null,
       "elapsed": 0.01029825210571289,
       "initial": 0,
       "n": 0,
       "ncols": null,
       "nrows": null,
       "postfix": null,
       "prefix": "",
       "rate": null,
       "total": 88,
       "unit": "it",
       "unit_divisor": 1000,
       "unit_scale": false
      },
      "application/vnd.jupyter.widget-view+json": {
       "model_id": "",
       "version_major": 2,
       "version_minor": 0
      },
      "text/plain": [
       "  0%|          | 0/88 [00:00<?, ?it/s]"
      ]
     },
     "metadata": {},
     "output_type": "display_data"
    },
    {
     "data": {
      "application/json": {
       "ascii": false,
       "bar_format": null,
       "colour": null,
       "elapsed": 0.010433197021484375,
       "initial": 0,
       "n": 0,
       "ncols": null,
       "nrows": null,
       "postfix": null,
       "prefix": "",
       "rate": null,
       "total": 136,
       "unit": "it",
       "unit_divisor": 1000,
       "unit_scale": false
      },
      "application/vnd.jupyter.widget-view+json": {
       "model_id": "",
       "version_major": 2,
       "version_minor": 0
      },
      "text/plain": [
       "  0%|          | 0/136 [00:00<?, ?it/s]"
      ]
     },
     "metadata": {},
     "output_type": "display_data"
    },
    {
     "data": {
      "application/json": {
       "ascii": false,
       "bar_format": null,
       "colour": null,
       "elapsed": 0.010274648666381836,
       "initial": 0,
       "n": 0,
       "ncols": null,
       "nrows": null,
       "postfix": null,
       "prefix": "",
       "rate": null,
       "total": 163,
       "unit": "it",
       "unit_divisor": 1000,
       "unit_scale": false
      },
      "application/vnd.jupyter.widget-view+json": {
       "model_id": "",
       "version_major": 2,
       "version_minor": 0
      },
      "text/plain": [
       "  0%|          | 0/163 [00:00<?, ?it/s]"
      ]
     },
     "metadata": {},
     "output_type": "display_data"
    },
    {
     "data": {
      "application/json": {
       "ascii": false,
       "bar_format": null,
       "colour": null,
       "elapsed": 0.010945320129394531,
       "initial": 0,
       "n": 0,
       "ncols": null,
       "nrows": null,
       "postfix": null,
       "prefix": "",
       "rate": null,
       "total": 53,
       "unit": "it",
       "unit_divisor": 1000,
       "unit_scale": false
      },
      "application/vnd.jupyter.widget-view+json": {
       "model_id": "",
       "version_major": 2,
       "version_minor": 0
      },
      "text/plain": [
       "  0%|          | 0/53 [00:00<?, ?it/s]"
      ]
     },
     "metadata": {},
     "output_type": "display_data"
    },
    {
     "data": {
      "application/json": {
       "ascii": false,
       "bar_format": null,
       "colour": null,
       "elapsed": 0.010426044464111328,
       "initial": 0,
       "n": 0,
       "ncols": null,
       "nrows": null,
       "postfix": null,
       "prefix": "",
       "rate": null,
       "total": 46,
       "unit": "it",
       "unit_divisor": 1000,
       "unit_scale": false
      },
      "application/vnd.jupyter.widget-view+json": {
       "model_id": "",
       "version_major": 2,
       "version_minor": 0
      },
      "text/plain": [
       "  0%|          | 0/46 [00:00<?, ?it/s]"
      ]
     },
     "metadata": {},
     "output_type": "display_data"
    },
    {
     "data": {
      "application/json": {
       "ascii": false,
       "bar_format": null,
       "colour": null,
       "elapsed": 0.010793209075927734,
       "initial": 0,
       "n": 0,
       "ncols": null,
       "nrows": null,
       "postfix": null,
       "prefix": "",
       "rate": null,
       "total": 32,
       "unit": "it",
       "unit_divisor": 1000,
       "unit_scale": false
      },
      "application/vnd.jupyter.widget-view+json": {
       "model_id": "",
       "version_major": 2,
       "version_minor": 0
      },
      "text/plain": [
       "  0%|          | 0/32 [00:00<?, ?it/s]"
      ]
     },
     "metadata": {},
     "output_type": "display_data"
    },
    {
     "data": {
      "application/json": {
       "ascii": false,
       "bar_format": null,
       "colour": null,
       "elapsed": 0.01057577133178711,
       "initial": 0,
       "n": 0,
       "ncols": null,
       "nrows": null,
       "postfix": null,
       "prefix": "",
       "rate": null,
       "total": 62,
       "unit": "it",
       "unit_divisor": 1000,
       "unit_scale": false
      },
      "application/vnd.jupyter.widget-view+json": {
       "model_id": "",
       "version_major": 2,
       "version_minor": 0
      },
      "text/plain": [
       "  0%|          | 0/62 [00:00<?, ?it/s]"
      ]
     },
     "metadata": {},
     "output_type": "display_data"
    },
    {
     "data": {
      "application/json": {
       "ascii": false,
       "bar_format": null,
       "colour": null,
       "elapsed": 0.010469675064086914,
       "initial": 0,
       "n": 0,
       "ncols": null,
       "nrows": null,
       "postfix": null,
       "prefix": "",
       "rate": null,
       "total": 134,
       "unit": "it",
       "unit_divisor": 1000,
       "unit_scale": false
      },
      "application/vnd.jupyter.widget-view+json": {
       "model_id": "",
       "version_major": 2,
       "version_minor": 0
      },
      "text/plain": [
       "  0%|          | 0/134 [00:00<?, ?it/s]"
      ]
     },
     "metadata": {},
     "output_type": "display_data"
    },
    {
     "data": {
      "application/json": {
       "ascii": false,
       "bar_format": null,
       "colour": null,
       "elapsed": 0.010737895965576172,
       "initial": 0,
       "n": 0,
       "ncols": null,
       "nrows": null,
       "postfix": null,
       "prefix": "",
       "rate": null,
       "total": 47,
       "unit": "it",
       "unit_divisor": 1000,
       "unit_scale": false
      },
      "application/vnd.jupyter.widget-view+json": {
       "model_id": "",
       "version_major": 2,
       "version_minor": 0
      },
      "text/plain": [
       "  0%|          | 0/47 [00:00<?, ?it/s]"
      ]
     },
     "metadata": {},
     "output_type": "display_data"
    },
    {
     "data": {
      "application/json": {
       "ascii": false,
       "bar_format": null,
       "colour": null,
       "elapsed": 0.010523319244384766,
       "initial": 0,
       "n": 0,
       "ncols": null,
       "nrows": null,
       "postfix": null,
       "prefix": "",
       "rate": null,
       "total": 61,
       "unit": "it",
       "unit_divisor": 1000,
       "unit_scale": false
      },
      "application/vnd.jupyter.widget-view+json": {
       "model_id": "",
       "version_major": 2,
       "version_minor": 0
      },
      "text/plain": [
       "  0%|          | 0/61 [00:00<?, ?it/s]"
      ]
     },
     "metadata": {},
     "output_type": "display_data"
    },
    {
     "data": {
      "application/json": {
       "ascii": false,
       "bar_format": null,
       "colour": null,
       "elapsed": 0.010588884353637695,
       "initial": 0,
       "n": 0,
       "ncols": null,
       "nrows": null,
       "postfix": null,
       "prefix": "",
       "rate": null,
       "total": 99,
       "unit": "it",
       "unit_divisor": 1000,
       "unit_scale": false
      },
      "application/vnd.jupyter.widget-view+json": {
       "model_id": "",
       "version_major": 2,
       "version_minor": 0
      },
      "text/plain": [
       "  0%|          | 0/99 [00:00<?, ?it/s]"
      ]
     },
     "metadata": {},
     "output_type": "display_data"
    },
    {
     "data": {
      "application/json": {
       "ascii": false,
       "bar_format": null,
       "colour": null,
       "elapsed": 0.010545969009399414,
       "initial": 0,
       "n": 0,
       "ncols": null,
       "nrows": null,
       "postfix": null,
       "prefix": "",
       "rate": null,
       "total": 84,
       "unit": "it",
       "unit_divisor": 1000,
       "unit_scale": false
      },
      "application/vnd.jupyter.widget-view+json": {
       "model_id": "",
       "version_major": 2,
       "version_minor": 0
      },
      "text/plain": [
       "  0%|          | 0/84 [00:00<?, ?it/s]"
      ]
     },
     "metadata": {},
     "output_type": "display_data"
    },
    {
     "data": {
      "application/json": {
       "ascii": false,
       "bar_format": null,
       "colour": null,
       "elapsed": 0.01087331771850586,
       "initial": 0,
       "n": 0,
       "ncols": null,
       "nrows": null,
       "postfix": null,
       "prefix": "",
       "rate": null,
       "total": 64,
       "unit": "it",
       "unit_divisor": 1000,
       "unit_scale": false
      },
      "application/vnd.jupyter.widget-view+json": {
       "model_id": "",
       "version_major": 2,
       "version_minor": 0
      },
      "text/plain": [
       "  0%|          | 0/64 [00:00<?, ?it/s]"
      ]
     },
     "metadata": {},
     "output_type": "display_data"
    },
    {
     "data": {
      "application/json": {
       "ascii": false,
       "bar_format": null,
       "colour": null,
       "elapsed": 0.010721921920776367,
       "initial": 0,
       "n": 0,
       "ncols": null,
       "nrows": null,
       "postfix": null,
       "prefix": "",
       "rate": null,
       "total": 110,
       "unit": "it",
       "unit_divisor": 1000,
       "unit_scale": false
      },
      "application/vnd.jupyter.widget-view+json": {
       "model_id": "893c4c0e38854806bda317bc3068ea02",
       "version_major": 2,
       "version_minor": 0
      },
      "text/plain": [
       "  0%|          | 0/110 [00:00<?, ?it/s]"
      ]
     },
     "metadata": {},
     "output_type": "display_data"
    },
    {
     "data": {
      "application/json": {
       "ascii": false,
       "bar_format": null,
       "colour": null,
       "elapsed": 0.01027059555053711,
       "initial": 0,
       "n": 0,
       "ncols": null,
       "nrows": null,
       "postfix": null,
       "prefix": "",
       "rate": null,
       "total": 113,
       "unit": "it",
       "unit_divisor": 1000,
       "unit_scale": false
      },
      "application/vnd.jupyter.widget-view+json": {
       "model_id": "f107ce94afbd4655bf86cfb8c66fb8bd",
       "version_major": 2,
       "version_minor": 0
      },
      "text/plain": [
       "  0%|          | 0/113 [00:00<?, ?it/s]"
      ]
     },
     "metadata": {},
     "output_type": "display_data"
    }
   ],
   "source": [
    "for book in tqdm(stax_books):\n",
    "    book.scrape_all()"
   ]
  },
  {
   "cell_type": "code",
   "execution_count": 135,
   "id": "d55f8e00-29b8-42f6-a4c2-3564fd90c66e",
   "metadata": {},
   "outputs": [],
   "source": [
    "import pandas as pd\n",
    "\n",
    "def make_book_frame(texts):\n",
    "    book_frames = [pd.DataFrame(book.sections) for book in texts]\n",
    "    df = (pd\n",
    "          .concat(book_frames)\n",
    "          .reset_index(drop=True)\n",
    "          .assign(book=lambda x: x.url.str.split('/', expand=True)[4],\n",
    "                  bold_term_offsets=lambda x: x.apply(\n",
    "                      lambda row: [(st, end) for (st, end, label)\n",
    "                                   in row.labels if label==None], axis=1),\n",
    "                  no_bold_term_offsets=lambda x: x.apply(\n",
    "                      lambda row: [(st, end) for (st, end, label)\n",
    "                                   in row.labels if label=='no-emphasis'], axis=1)\n",
    "                 )\n",
    "          .assign(bold_terms=lambda x: x.apply(lambda row: [row.text[st:end] \n",
    "                                   for (st, end) in row.bold_term_offsets], axis=1),\n",
    "                  no_bold_terms=lambda x: x.apply(lambda row: [row.text[st:end] \n",
    "                                   for (st, end) in row.no_bold_term_offsets], axis=1),\n",
    "                 )\n",
    "         )\n",
    "    return df[['book', 'section', 'url', 'text', 'bold_terms', 'no_bold_terms', 'bold_term_offsets', 'no_bold_term_offsets']]\n",
    "        \n",
    "book_frame = make_book_frame(stax_books)"
   ]
  },
  {
   "cell_type": "code",
   "execution_count": 137,
   "id": "bbfb2f8a-84d8-42fd-bc18-47f22000d97c",
   "metadata": {},
   "outputs": [
    {
     "data": {
      "text/html": [
       "<div>\n",
       "<style scoped>\n",
       "    .dataframe tbody tr th:only-of-type {\n",
       "        vertical-align: middle;\n",
       "    }\n",
       "\n",
       "    .dataframe tbody tr th {\n",
       "        vertical-align: top;\n",
       "    }\n",
       "\n",
       "    .dataframe thead th {\n",
       "        text-align: right;\n",
       "    }\n",
       "</style>\n",
       "<table border=\"1\" class=\"dataframe\">\n",
       "  <thead>\n",
       "    <tr style=\"text-align: right;\">\n",
       "      <th></th>\n",
       "      <th>book</th>\n",
       "      <th>section</th>\n",
       "      <th>url</th>\n",
       "      <th>text</th>\n",
       "      <th>bold_terms</th>\n",
       "      <th>no_bold_terms</th>\n",
       "      <th>bold_term_offsets</th>\n",
       "      <th>no_bold_term_offsets</th>\n",
       "    </tr>\n",
       "  </thead>\n",
       "  <tbody>\n",
       "    <tr>\n",
       "      <th>2681</th>\n",
       "      <td>university-physics-volume-2</td>\n",
       "      <td>11-5</td>\n",
       "      <td>https://openstax.org/books/university-physics-...</td>\n",
       "      <td>Learning Objectives By the end of this section...</td>\n",
       "      <td>[Motors, magnetic dipole, magnetic dipole moment]</td>\n",
       "      <td>[commutator]</td>\n",
       "      <td>[(264, 270), (5066, 5081), (5118, 5140)]</td>\n",
       "      <td>[(815, 825)]</td>\n",
       "    </tr>\n",
       "    <tr>\n",
       "      <th>1481</th>\n",
       "      <td>biology-ap-courses</td>\n",
       "      <td>30-4</td>\n",
       "      <td>https://openstax.org/books/biology-ap-courses/...</td>\n",
       "      <td>Learning Objectives In this section, you will ...</td>\n",
       "      <td>[]</td>\n",
       "      <td>[]</td>\n",
       "      <td>[]</td>\n",
       "      <td>[]</td>\n",
       "    </tr>\n",
       "    <tr>\n",
       "      <th>2946</th>\n",
       "      <td>introduction-anthropology</td>\n",
       "      <td>15-7</td>\n",
       "      <td>https://openstax.org/books/introduction-anthro...</td>\n",
       "      <td>Learning Outcomes By the end of this section, ...</td>\n",
       "      <td>[]</td>\n",
       "      <td>[Broadcast media, Heath, Abu-Lughod, King Faro...</td>\n",
       "      <td>[]</td>\n",
       "      <td>[(373, 388), (2125, 2130), (3269, 3279), (3684...</td>\n",
       "    </tr>\n",
       "    <tr>\n",
       "      <th>535</th>\n",
       "      <td>introductory-statistics</td>\n",
       "      <td>1-6</td>\n",
       "      <td>https://openstax.org/books/introductory-statis...</td>\n",
       "      <td>Stats Lab  Sampling Experiment Class Time: Nam...</td>\n",
       "      <td>[]</td>\n",
       "      <td>[]</td>\n",
       "      <td>[]</td>\n",
       "      <td>[]</td>\n",
       "    </tr>\n",
       "    <tr>\n",
       "      <th>1599</th>\n",
       "      <td>chemistry-2e</td>\n",
       "      <td>16-1</td>\n",
       "      <td>https://openstax.org/books/chemistry-2e/pages/...</td>\n",
       "      <td>Learning Objectives By the end of this section...</td>\n",
       "      <td>[spontaneous process, nonspontaneous process]</td>\n",
       "      <td>[]</td>\n",
       "      <td>[(553, 572), (632, 654)]</td>\n",
       "      <td>[]</td>\n",
       "    </tr>\n",
       "    <tr>\n",
       "      <th>3621</th>\n",
       "      <td>psychology-2e</td>\n",
       "      <td>5-3</td>\n",
       "      <td>https://openstax.org/books/psychology-2e/pages...</td>\n",
       "      <td>Learning Objectives By the end of this section...</td>\n",
       "      <td>[cornea, pupil, iris, lens, fovea, retina, pho...</td>\n",
       "      <td>[vision, color vision]</td>\n",
       "      <td>[(1351, 1357), (1537, 1542), (2003, 2007), (21...</td>\n",
       "      <td>[(1238, 1244), (10879, 10891)]</td>\n",
       "    </tr>\n",
       "    <tr>\n",
       "      <th>693</th>\n",
       "      <td>precalculus-2e</td>\n",
       "      <td>4-4</td>\n",
       "      <td>https://openstax.org/books/precalculus-2e/page...</td>\n",
       "      <td>Learning Objectives In this section, you will:...</td>\n",
       "      <td>[]</td>\n",
       "      <td>[parent function, horizontal shift, vertical s...</td>\n",
       "      <td>[]</td>\n",
       "      <td>[(10294, 10309), (10558, 10574), (13682, 13696...</td>\n",
       "    </tr>\n",
       "    <tr>\n",
       "      <th>1572</th>\n",
       "      <td>chemistry-2e</td>\n",
       "      <td>10-6</td>\n",
       "      <td>https://openstax.org/books/chemistry-2e/pages/...</td>\n",
       "      <td>Learning Objectives By the end of this section...</td>\n",
       "      <td>[unit cell, simple cubic structure, simple cub...</td>\n",
       "      <td>[Bragg, Crick, Watson, Wilkins, Franklin]</td>\n",
       "      <td>[(1748, 1757), (2535, 2557), (2593, 2615), (34...</td>\n",
       "      <td>[(29086, 29091), (31419, 31424), (31437, 31443...</td>\n",
       "    </tr>\n",
       "    <tr>\n",
       "      <th>4456</th>\n",
       "      <td>organizational-behavior</td>\n",
       "      <td>7-2</td>\n",
       "      <td>https://openstax.org/books/organizational-beha...</td>\n",
       "      <td>Describe a content theory of motivation. The t...</td>\n",
       "      <td>[need, Hedonism,, manifest need, Instincts, pr...</td>\n",
       "      <td>[]</td>\n",
       "      <td>[(199, 203), (535, 544), (990, 1003), (1097, 1...</td>\n",
       "      <td>[]</td>\n",
       "    </tr>\n",
       "    <tr>\n",
       "      <th>978</th>\n",
       "      <td>anatomy-and-physiology-2e</td>\n",
       "      <td>26-3</td>\n",
       "      <td>https://openstax.org/books/anatomy-and-physiol...</td>\n",
       "      <td>Learning Objectives By the end of this section...</td>\n",
       "      <td>[Hyponatremia, Hypernatremia, Hypokalemia, Hyp...</td>\n",
       "      <td>[]</td>\n",
       "      <td>[(4061, 4073), (5333, 5346), (6430, 6441), (72...</td>\n",
       "      <td>[]</td>\n",
       "    </tr>\n",
       "    <tr>\n",
       "      <th>4842</th>\n",
       "      <td>principles-management</td>\n",
       "      <td>11-3</td>\n",
       "      <td>https://openstax.org/books/principles-manageme...</td>\n",
       "      <td>How do performance management practices impact...</td>\n",
       "      <td>[Performance management, pay-for-performance]</td>\n",
       "      <td>[]</td>\n",
       "      <td>[(68, 90), (11155, 11174)]</td>\n",
       "      <td>[]</td>\n",
       "    </tr>\n",
       "    <tr>\n",
       "      <th>3435</th>\n",
       "      <td>principles-macroeconomics-ap-courses-2e</td>\n",
       "      <td>16-2</td>\n",
       "      <td>https://openstax.org/books/principles-macroeco...</td>\n",
       "      <td>Learning Objectives By the end of this section...</td>\n",
       "      <td>[individual income tax, payroll tax, progressi...</td>\n",
       "      <td>[]</td>\n",
       "      <td>[(1735, 1756), (2028, 2039), (2508, 2523), (26...</td>\n",
       "      <td>[]</td>\n",
       "    </tr>\n",
       "  </tbody>\n",
       "</table>\n",
       "</div>"
      ],
      "text/plain": [
       "                                         book section  \\\n",
       "2681              university-physics-volume-2    11-5   \n",
       "1481                       biology-ap-courses    30-4   \n",
       "2946                introduction-anthropology    15-7   \n",
       "535                   introductory-statistics     1-6   \n",
       "1599                             chemistry-2e    16-1   \n",
       "3621                            psychology-2e     5-3   \n",
       "693                            precalculus-2e     4-4   \n",
       "1572                             chemistry-2e    10-6   \n",
       "4456                  organizational-behavior     7-2   \n",
       "978                 anatomy-and-physiology-2e    26-3   \n",
       "4842                    principles-management    11-3   \n",
       "3435  principles-macroeconomics-ap-courses-2e    16-2   \n",
       "\n",
       "                                                    url  \\\n",
       "2681  https://openstax.org/books/university-physics-...   \n",
       "1481  https://openstax.org/books/biology-ap-courses/...   \n",
       "2946  https://openstax.org/books/introduction-anthro...   \n",
       "535   https://openstax.org/books/introductory-statis...   \n",
       "1599  https://openstax.org/books/chemistry-2e/pages/...   \n",
       "3621  https://openstax.org/books/psychology-2e/pages...   \n",
       "693   https://openstax.org/books/precalculus-2e/page...   \n",
       "1572  https://openstax.org/books/chemistry-2e/pages/...   \n",
       "4456  https://openstax.org/books/organizational-beha...   \n",
       "978   https://openstax.org/books/anatomy-and-physiol...   \n",
       "4842  https://openstax.org/books/principles-manageme...   \n",
       "3435  https://openstax.org/books/principles-macroeco...   \n",
       "\n",
       "                                                   text  \\\n",
       "2681  Learning Objectives By the end of this section...   \n",
       "1481  Learning Objectives In this section, you will ...   \n",
       "2946  Learning Outcomes By the end of this section, ...   \n",
       "535   Stats Lab  Sampling Experiment Class Time: Nam...   \n",
       "1599  Learning Objectives By the end of this section...   \n",
       "3621  Learning Objectives By the end of this section...   \n",
       "693   Learning Objectives In this section, you will:...   \n",
       "1572  Learning Objectives By the end of this section...   \n",
       "4456  Describe a content theory of motivation. The t...   \n",
       "978   Learning Objectives By the end of this section...   \n",
       "4842  How do performance management practices impact...   \n",
       "3435  Learning Objectives By the end of this section...   \n",
       "\n",
       "                                             bold_terms  \\\n",
       "2681  [Motors, magnetic dipole, magnetic dipole moment]   \n",
       "1481                                                 []   \n",
       "2946                                                 []   \n",
       "535                                                  []   \n",
       "1599      [spontaneous process, nonspontaneous process]   \n",
       "3621  [cornea, pupil, iris, lens, fovea, retina, pho...   \n",
       "693                                                  []   \n",
       "1572  [unit cell, simple cubic structure, simple cub...   \n",
       "4456  [need, Hedonism,, manifest need, Instincts, pr...   \n",
       "978   [Hyponatremia, Hypernatremia, Hypokalemia, Hyp...   \n",
       "4842      [Performance management, pay-for-performance]   \n",
       "3435  [individual income tax, payroll tax, progressi...   \n",
       "\n",
       "                                          no_bold_terms  \\\n",
       "2681                                       [commutator]   \n",
       "1481                                                 []   \n",
       "2946  [Broadcast media, Heath, Abu-Lughod, King Faro...   \n",
       "535                                                  []   \n",
       "1599                                                 []   \n",
       "3621                             [vision, color vision]   \n",
       "693   [parent function, horizontal shift, vertical s...   \n",
       "1572          [Bragg, Crick, Watson, Wilkins, Franklin]   \n",
       "4456                                                 []   \n",
       "978                                                  []   \n",
       "4842                                                 []   \n",
       "3435                                                 []   \n",
       "\n",
       "                                      bold_term_offsets  \\\n",
       "2681           [(264, 270), (5066, 5081), (5118, 5140)]   \n",
       "1481                                                 []   \n",
       "2946                                                 []   \n",
       "535                                                  []   \n",
       "1599                           [(553, 572), (632, 654)]   \n",
       "3621  [(1351, 1357), (1537, 1542), (2003, 2007), (21...   \n",
       "693                                                  []   \n",
       "1572  [(1748, 1757), (2535, 2557), (2593, 2615), (34...   \n",
       "4456  [(199, 203), (535, 544), (990, 1003), (1097, 1...   \n",
       "978   [(4061, 4073), (5333, 5346), (6430, 6441), (72...   \n",
       "4842                         [(68, 90), (11155, 11174)]   \n",
       "3435  [(1735, 1756), (2028, 2039), (2508, 2523), (26...   \n",
       "\n",
       "                                   no_bold_term_offsets  \n",
       "2681                                       [(815, 825)]  \n",
       "1481                                                 []  \n",
       "2946  [(373, 388), (2125, 2130), (3269, 3279), (3684...  \n",
       "535                                                  []  \n",
       "1599                                                 []  \n",
       "3621                     [(1238, 1244), (10879, 10891)]  \n",
       "693   [(10294, 10309), (10558, 10574), (13682, 13696...  \n",
       "1572  [(29086, 29091), (31419, 31424), (31437, 31443...  \n",
       "4456                                                 []  \n",
       "978                                                  []  \n",
       "4842                                                 []  \n",
       "3435                                                 []  "
      ]
     },
     "execution_count": 137,
     "metadata": {},
     "output_type": "execute_result"
    }
   ],
   "source": [
    "book_frame.sample(12)"
   ]
  },
  {
   "cell_type": "code",
   "execution_count": null,
   "id": "f80dbf29-d1ca-468d-8262-0afd46e845d4",
   "metadata": {},
   "outputs": [],
   "source": [
    "book_frame.sample(10).to_csv('../data/open-stax-texts-terms-10-sample.csv', index=False)"
   ]
  },
  {
   "cell_type": "code",
   "execution_count": 138,
   "id": "49e34817-3ee8-4ee0-b3a9-ab7fd0919461",
   "metadata": {},
   "outputs": [],
   "source": [
    "book_frame.to_parquet('../data/open-stax-texts-terms-10-sample.parquet', index=False)"
   ]
  },
  {
   "cell_type": "markdown",
   "id": "e35796c1-2d1a-487f-b33a-85cde9b8f34d",
   "metadata": {},
   "source": [
    "# Descriptives\n",
    "\n",
    "\n",
    "\n",
    "|  | Value |\n",
    "|---|---|\n",
    "| textbooks | 50 |\n",
    "| sections | 4,892 |\n",
    "|Mean Word Count | 3,098 |\n",
    "|Total Keyterms (bold) | 27,930 |\n",
    "|Total Keyterms (no bold) | 18,876 |\n",
    "|Total Keyterms (total) | 46,903 |\n",
    "|Mean Keyterms (bold) | 5.71 |\n",
    "|Mean Keyterms (no bold) | 3.86 |\n",
    "|Mean Keyterms (total) | 9.6 |\n"
   ]
  },
  {
   "cell_type": "code",
   "execution_count": 1,
   "id": "96ff7587-b543-4b4a-978e-4844357b452f",
   "metadata": {},
   "outputs": [
    {
     "data": {
      "text/html": [
       "<div>\n",
       "<style scoped>\n",
       "    .dataframe tbody tr th:only-of-type {\n",
       "        vertical-align: middle;\n",
       "    }\n",
       "\n",
       "    .dataframe tbody tr th {\n",
       "        vertical-align: top;\n",
       "    }\n",
       "\n",
       "    .dataframe thead th {\n",
       "        text-align: right;\n",
       "    }\n",
       "</style>\n",
       "<table border=\"1\" class=\"dataframe\">\n",
       "  <thead>\n",
       "    <tr style=\"text-align: right;\">\n",
       "      <th></th>\n",
       "      <th>book</th>\n",
       "      <th>section</th>\n",
       "      <th>url</th>\n",
       "      <th>text</th>\n",
       "      <th>terms</th>\n",
       "      <th>term_indices</th>\n",
       "    </tr>\n",
       "  </thead>\n",
       "  <tbody>\n",
       "    <tr>\n",
       "      <th>0</th>\n",
       "      <td>algebra-and-trigonometry-2e</td>\n",
       "      <td>1-1</td>\n",
       "      <td>https://openstax.org/books/algebra-and-trigono...</td>\n",
       "      <td>Learning Objectives In this section, you will:...</td>\n",
       "      <td>[natural numbers, whole numbers, integers, rat...</td>\n",
       "      <td>[[2133, 2148], [2561, 2574], [2682, 2690], [33...</td>\n",
       "    </tr>\n",
       "    <tr>\n",
       "      <th>1</th>\n",
       "      <td>algebra-and-trigonometry-2e</td>\n",
       "      <td>1-2</td>\n",
       "      <td>https://openstax.org/books/algebra-and-trigono...</td>\n",
       "      <td>Learning Objectives In this section, you will:...</td>\n",
       "      <td>[scientific notation, scientific notation, sci...</td>\n",
       "      <td>[[23288, 23307], [24718, 24737], [26614, 26633]]</td>\n",
       "    </tr>\n",
       "    <tr>\n",
       "      <th>2</th>\n",
       "      <td>algebra-and-trigonometry-2e</td>\n",
       "      <td>1-3</td>\n",
       "      <td>https://openstax.org/books/algebra-and-trigono...</td>\n",
       "      <td>Learning Objectives In this section, you will:...</td>\n",
       "      <td>[principal square root, radical, radicand, rad...</td>\n",
       "      <td>[[1512, 1533], [1766, 1773], [1817, 1825], [18...</td>\n",
       "    </tr>\n",
       "    <tr>\n",
       "      <th>3</th>\n",
       "      <td>algebra-and-trigonometry-2e</td>\n",
       "      <td>1-4</td>\n",
       "      <td>https://openstax.org/books/algebra-and-trigono...</td>\n",
       "      <td>Learning Objectives In this section, you will:...</td>\n",
       "      <td>[polynomial, coefficient, term of a polynomial...</td>\n",
       "      <td>[[1599, 1609], [1821, 1832], [2005, 2025], [21...</td>\n",
       "    </tr>\n",
       "    <tr>\n",
       "      <th>4</th>\n",
       "      <td>algebra-and-trigonometry-2e</td>\n",
       "      <td>1-5</td>\n",
       "      <td>https://openstax.org/books/algebra-and-trigono...</td>\n",
       "      <td>Learning Objectives In this section, you will:...</td>\n",
       "      <td>[greatest common factor, greatest common facto...</td>\n",
       "      <td>[[1731, 1753], [2370, 2392], [6703, 6721]]</td>\n",
       "    </tr>\n",
       "    <tr>\n",
       "      <th>...</th>\n",
       "      <td>...</td>\n",
       "      <td>...</td>\n",
       "      <td>...</td>\n",
       "      <td>...</td>\n",
       "      <td>...</td>\n",
       "      <td>...</td>\n",
       "    </tr>\n",
       "    <tr>\n",
       "      <th>4887</th>\n",
       "      <td>principles-management</td>\n",
       "      <td>18-3</td>\n",
       "      <td>https://openstax.org/books/principles-manageme...</td>\n",
       "      <td>What are external sources of technology and in...</td>\n",
       "      <td>[Mergers/acquisitions (M&amp;A), Joint ventures, s...</td>\n",
       "      <td>[[1241, 1267], [1765, 1779], [2117, 2132], [21...</td>\n",
       "    </tr>\n",
       "    <tr>\n",
       "      <th>4888</th>\n",
       "      <td>principles-management</td>\n",
       "      <td>18-4</td>\n",
       "      <td>https://openstax.org/books/principles-manageme...</td>\n",
       "      <td>What are internal sources of technology and in...</td>\n",
       "      <td>[research and development (R&amp;D)]</td>\n",
       "      <td>[[192, 222]]</td>\n",
       "    </tr>\n",
       "    <tr>\n",
       "      <th>4889</th>\n",
       "      <td>principles-management</td>\n",
       "      <td>18-5</td>\n",
       "      <td>https://openstax.org/books/principles-manageme...</td>\n",
       "      <td>How and why do entrepreneurs need to develop M...</td>\n",
       "      <td>[Entrepreneurial activities, value proposition]</td>\n",
       "      <td>[[57, 83], [223, 240]]</td>\n",
       "    </tr>\n",
       "    <tr>\n",
       "      <th>4890</th>\n",
       "      <td>principles-management</td>\n",
       "      <td>18-6</td>\n",
       "      <td>https://openstax.org/books/principles-manageme...</td>\n",
       "      <td>No matter what method is used, what skills do ...</td>\n",
       "      <td>[Organizational learning, explicit knowledge, ...</td>\n",
       "      <td>[[1084, 1107], [1472, 1490], [1547, 1562], [50...</td>\n",
       "    </tr>\n",
       "    <tr>\n",
       "      <th>4891</th>\n",
       "      <td>principles-management</td>\n",
       "      <td>18-7</td>\n",
       "      <td>https://openstax.org/books/principles-manageme...</td>\n",
       "      <td>How do you look into the future to keep pace? ...</td>\n",
       "      <td>[]</td>\n",
       "      <td>[]</td>\n",
       "    </tr>\n",
       "  </tbody>\n",
       "</table>\n",
       "<p>4892 rows × 6 columns</p>\n",
       "</div>"
      ],
      "text/plain": [
       "                             book section  \\\n",
       "0     algebra-and-trigonometry-2e     1-1   \n",
       "1     algebra-and-trigonometry-2e     1-2   \n",
       "2     algebra-and-trigonometry-2e     1-3   \n",
       "3     algebra-and-trigonometry-2e     1-4   \n",
       "4     algebra-and-trigonometry-2e     1-5   \n",
       "...                           ...     ...   \n",
       "4887        principles-management    18-3   \n",
       "4888        principles-management    18-4   \n",
       "4889        principles-management    18-5   \n",
       "4890        principles-management    18-6   \n",
       "4891        principles-management    18-7   \n",
       "\n",
       "                                                    url  \\\n",
       "0     https://openstax.org/books/algebra-and-trigono...   \n",
       "1     https://openstax.org/books/algebra-and-trigono...   \n",
       "2     https://openstax.org/books/algebra-and-trigono...   \n",
       "3     https://openstax.org/books/algebra-and-trigono...   \n",
       "4     https://openstax.org/books/algebra-and-trigono...   \n",
       "...                                                 ...   \n",
       "4887  https://openstax.org/books/principles-manageme...   \n",
       "4888  https://openstax.org/books/principles-manageme...   \n",
       "4889  https://openstax.org/books/principles-manageme...   \n",
       "4890  https://openstax.org/books/principles-manageme...   \n",
       "4891  https://openstax.org/books/principles-manageme...   \n",
       "\n",
       "                                                   text  \\\n",
       "0     Learning Objectives In this section, you will:...   \n",
       "1     Learning Objectives In this section, you will:...   \n",
       "2     Learning Objectives In this section, you will:...   \n",
       "3     Learning Objectives In this section, you will:...   \n",
       "4     Learning Objectives In this section, you will:...   \n",
       "...                                                 ...   \n",
       "4887  What are external sources of technology and in...   \n",
       "4888  What are internal sources of technology and in...   \n",
       "4889  How and why do entrepreneurs need to develop M...   \n",
       "4890  No matter what method is used, what skills do ...   \n",
       "4891  How do you look into the future to keep pace? ...   \n",
       "\n",
       "                                                  terms  \\\n",
       "0     [natural numbers, whole numbers, integers, rat...   \n",
       "1     [scientific notation, scientific notation, sci...   \n",
       "2     [principal square root, radical, radicand, rad...   \n",
       "3     [polynomial, coefficient, term of a polynomial...   \n",
       "4     [greatest common factor, greatest common facto...   \n",
       "...                                                 ...   \n",
       "4887  [Mergers/acquisitions (M&A), Joint ventures, s...   \n",
       "4888                   [research and development (R&D)]   \n",
       "4889    [Entrepreneurial activities, value proposition]   \n",
       "4890  [Organizational learning, explicit knowledge, ...   \n",
       "4891                                                 []   \n",
       "\n",
       "                                           term_indices  \n",
       "0     [[2133, 2148], [2561, 2574], [2682, 2690], [33...  \n",
       "1      [[23288, 23307], [24718, 24737], [26614, 26633]]  \n",
       "2     [[1512, 1533], [1766, 1773], [1817, 1825], [18...  \n",
       "3     [[1599, 1609], [1821, 1832], [2005, 2025], [21...  \n",
       "4            [[1731, 1753], [2370, 2392], [6703, 6721]]  \n",
       "...                                                 ...  \n",
       "4887  [[1241, 1267], [1765, 1779], [2117, 2132], [21...  \n",
       "4888                                       [[192, 222]]  \n",
       "4889                             [[57, 83], [223, 240]]  \n",
       "4890  [[1084, 1107], [1472, 1490], [1547, 1562], [50...  \n",
       "4891                                                 []  \n",
       "\n",
       "[4892 rows x 6 columns]"
      ]
     },
     "metadata": {},
     "output_type": "display_data"
    }
   ],
   "source": [
    "import pandas as pd\n",
    "book_frame = pd.read_parquet('../data/open-stax-texts-terms.parquet')\n",
    "display(book_frame)"
   ]
  },
  {
   "cell_type": "code",
   "execution_count": 64,
   "id": "5823783c-4a65-4c3c-9de8-9088e031f4f9",
   "metadata": {},
   "outputs": [
    {
     "data": {
      "text/plain": [
       "book                 algebra-and-trigonometry-2ealgebra-and-trigono...\n",
       "section              1-11-21-31-41-51-62-12-22-32-42-52-62-73-13-23...\n",
       "terms                [natural numbers, whole numbers, integers, rat...\n",
       "no_emphasis_terms    [Pythagorean Theorem, rational number, rationa...\n",
       "term_indices         [(2133, 2148, None), (2561, 2574, None), (2682...\n",
       "word_count                                                    15154646\n",
       "num_terms_bold                                                   27930\n",
       "num_terms_no_bold                                                18876\n",
       "num_terms_total                                                  46903\n",
       "dtype: object"
      ]
     },
     "execution_count": 64,
     "metadata": {},
     "output_type": "execute_result"
    }
   ],
   "source": [
    "book_frame.assign(\n",
    "    word_count = lambda x: x.text.str.split().str.len(),\n",
    "    num_terms_bold = lambda x: x.terms.apply(len),\n",
    "    num_terms_no_bold = lambda x: x.no_emphasis_terms.apply(len),\n",
    "    num_terms_total = lambda x: x.term_indices.apply(len),\n",
    ").drop(columns=['book', 'section', 'url', 'text', 'terms', 'no_emphasis_terms', 'term_indices']).sum()\n"
   ]
  }
 ],
 "metadata": {
  "kernelspec": {
   "display_name": "Python [conda env:webscrape]",
   "language": "python",
   "name": "conda-env-webscrape-py"
  },
  "language_info": {
   "codemirror_mode": {
    "name": "ipython",
    "version": 3
   },
   "file_extension": ".py",
   "mimetype": "text/x-python",
   "name": "python",
   "nbconvert_exporter": "python",
   "pygments_lexer": "ipython3",
   "version": "3.10.8"
  }
 },
 "nbformat": 4,
 "nbformat_minor": 5
}
