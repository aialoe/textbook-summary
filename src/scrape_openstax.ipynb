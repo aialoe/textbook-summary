{
 "cells": [
  {
   "cell_type": "code",
   "execution_count": 47,
   "id": "5496206e-d5f1-4d07-bac2-e724d8a69b73",
   "metadata": {},
   "outputs": [
    {
     "name": "stdout",
     "output_type": "stream",
     "text": [
      "Requirement already satisfied: lxml in /opt/conda/lib/python3.10/site-packages (4.9.1)\n"
     ]
    }
   ],
   "source": [
    "from bs4 import BeautifulSoup\n",
    "from urllib.request import Request, urlopen\n",
    "import re\n",
    "import string\n",
    "!pip install lxml\n",
    "\n",
    "with open('../bin/textbook-urls.txt', 'r') as f:\n",
    "    urls = [url+'/pages/preface' for url in f.read().splitlines()]\n"
   ]
  },
  {
   "cell_type": "code",
   "execution_count": 48,
   "id": "1fea1c2f-7d6a-4aa7-9935-ad2a4006aaf5",
   "metadata": {},
   "outputs": [
    {
     "data": {
      "text/plain": [
       "['https://openstax.org/details/books/algebra-and-trigonometry/pages/preface',\n",
       " 'https://openstax.org/details/books/algebra-and-trigonometry-2e/pages/preface',\n",
       " 'https://openstax.org/details/books/calculus-volume-1/pages/preface',\n",
       " 'https://openstax.org/details/books/calculus-volume-2/pages/preface',\n",
       " 'https://openstax.org/details/books/calculus-volume-3/pages/preface',\n",
       " 'https://openstax.org/details/books/college-algebra/pages/preface',\n",
       " 'https://openstax.org/details/books/college-algebra-2e/pages/preface',\n",
       " 'https://openstax.org/details/books/college-algebra-corequisite-support/pages/preface',\n",
       " 'https://openstax.org/details/books/college-algebra-corequisite-support-2e/pages/preface',\n",
       " 'https://openstax.org/details/books/elementary-algebra-2e/pages/preface']"
      ]
     },
     "execution_count": 48,
     "metadata": {},
     "output_type": "execute_result"
    }
   ],
   "source": [
    "def getText(URL):\n",
    "    r = requests.get(URL)\n",
    "    soup = BeautifulSoup(r.text, 'html.parser')\n",
    "    all_text = soup.get_text().lstrip('Learning Objectives').rstrip('PreviousNext')\n",
    "    selection_text = re.sub('PreviousNext.+', '', all_text, flags=re.DOTALL)\n",
    "    selection_text = re.sub('.+Learning Objectives', '', selection_text, flags=re.DOTALL)\n",
    "    return(selection_text)\n",
    "urls[:10]"
   ]
  },
  {
   "cell_type": "code",
   "execution_count": 64,
   "id": "d8f54c27-7705-4ee1-a06e-06f4ee2c0e16",
   "metadata": {},
   "outputs": [],
   "source": [
    "def ScrapeTextbook(URL):\n",
    "    textbook_split = URL.split('/')\n",
    "    textbook_suffix = textbook_split[-1]\n",
    "    textbook_prefix = '/'.join(textbook_split[:-1])+'/'\n",
    "    print(textbook_prefix+textbook_suffix)\n",
    "    \n",
    "    textbook = \"https://openstax.org/books/us-history/pages/\"\n",
    "    #req = Request(textbook + \"1-introduction\")\n",
    "    req = Request(textbook_suffix + textbook_prefix)\n",
    "    html_page = urlopen(req)\n",
    "    soup = BeautifulSoup(html_page, \"html.parser\")\n",
    "\n",
    "    links = []\n",
    "    for link in soup.findAll('a'):\n",
    "        links.append(link.get('href'))\n",
    "    \n",
    "    section_urls = []\n",
    "    for link in links:\n",
    "        match = re.search('^[1234567890]+-', link)\n",
    "        if match:\n",
    "            if link.split('-')[1].isnumeric():\n",
    "                section_urls.append(textbook + link)\n",
    "                \n",
    "    section_dict = {'section':[], 'text':[]}\n",
    "    for section_url in section_urls:\n",
    "        section_number = '-'.join(section_url.split('/')[-1].split('-')[:2])\n",
    "        section_dict['section'].append(section_number)\n",
    "        section_dict['text'].append(getText(section_url))\n",
    "    \n",
    "    return section_dict"
   ]
  },
  {
   "cell_type": "code",
   "execution_count": 67,
   "id": "8ae155af-3150-407c-899b-a685a76fbfac",
   "metadata": {},
   "outputs": [
    {
     "name": "stdout",
     "output_type": "stream",
     "text": [
      "https://openstax.org/books/us-history/pages/1-introduction\n"
     ]
    },
    {
     "ename": "URLError",
     "evalue": "<urlopen error unknown url type: 1-introductionhttps>",
     "output_type": "error",
     "traceback": [
      "\u001b[0;31m---------------------------------------------------------------------------\u001b[0m",
      "\u001b[0;31mURLError\u001b[0m                                  Traceback (most recent call last)",
      "Input \u001b[0;32mIn [67]\u001b[0m, in \u001b[0;36m<cell line: 1>\u001b[0;34m()\u001b[0m\n\u001b[0;32m----> 1\u001b[0m \u001b[43mScrapeTextbook\u001b[49m\u001b[43m(\u001b[49m\u001b[38;5;124;43m\"\u001b[39;49m\u001b[38;5;124;43mhttps://openstax.org/books/us-history/pages/1-introduction\u001b[39;49m\u001b[38;5;124;43m\"\u001b[39;49m\u001b[43m)\u001b[49m\n",
      "Input \u001b[0;32mIn [64]\u001b[0m, in \u001b[0;36mScrapeTextbook\u001b[0;34m(URL)\u001b[0m\n\u001b[1;32m      8\u001b[0m \u001b[38;5;66;03m#req = Request(textbook + \"1-introduction\")\u001b[39;00m\n\u001b[1;32m      9\u001b[0m req \u001b[38;5;241m=\u001b[39m Request(textbook_suffix \u001b[38;5;241m+\u001b[39m textbook_prefix)\n\u001b[0;32m---> 10\u001b[0m html_page \u001b[38;5;241m=\u001b[39m \u001b[43murlopen\u001b[49m\u001b[43m(\u001b[49m\u001b[43mreq\u001b[49m\u001b[43m)\u001b[49m\n\u001b[1;32m     11\u001b[0m soup \u001b[38;5;241m=\u001b[39m BeautifulSoup(html_page, \u001b[38;5;124m\"\u001b[39m\u001b[38;5;124mhtml.parser\u001b[39m\u001b[38;5;124m\"\u001b[39m)\n\u001b[1;32m     13\u001b[0m links \u001b[38;5;241m=\u001b[39m []\n",
      "File \u001b[0;32m/opt/conda/lib/python3.10/urllib/request.py:216\u001b[0m, in \u001b[0;36murlopen\u001b[0;34m(url, data, timeout, cafile, capath, cadefault, context)\u001b[0m\n\u001b[1;32m    214\u001b[0m \u001b[38;5;28;01melse\u001b[39;00m:\n\u001b[1;32m    215\u001b[0m     opener \u001b[38;5;241m=\u001b[39m _opener\n\u001b[0;32m--> 216\u001b[0m \u001b[38;5;28;01mreturn\u001b[39;00m \u001b[43mopener\u001b[49m\u001b[38;5;241;43m.\u001b[39;49m\u001b[43mopen\u001b[49m\u001b[43m(\u001b[49m\u001b[43murl\u001b[49m\u001b[43m,\u001b[49m\u001b[43m \u001b[49m\u001b[43mdata\u001b[49m\u001b[43m,\u001b[49m\u001b[43m \u001b[49m\u001b[43mtimeout\u001b[49m\u001b[43m)\u001b[49m\n",
      "File \u001b[0;32m/opt/conda/lib/python3.10/urllib/request.py:519\u001b[0m, in \u001b[0;36mOpenerDirector.open\u001b[0;34m(self, fullurl, data, timeout)\u001b[0m\n\u001b[1;32m    516\u001b[0m     req \u001b[38;5;241m=\u001b[39m meth(req)\n\u001b[1;32m    518\u001b[0m sys\u001b[38;5;241m.\u001b[39maudit(\u001b[38;5;124m'\u001b[39m\u001b[38;5;124murllib.Request\u001b[39m\u001b[38;5;124m'\u001b[39m, req\u001b[38;5;241m.\u001b[39mfull_url, req\u001b[38;5;241m.\u001b[39mdata, req\u001b[38;5;241m.\u001b[39mheaders, req\u001b[38;5;241m.\u001b[39mget_method())\n\u001b[0;32m--> 519\u001b[0m response \u001b[38;5;241m=\u001b[39m \u001b[38;5;28;43mself\u001b[39;49m\u001b[38;5;241;43m.\u001b[39;49m\u001b[43m_open\u001b[49m\u001b[43m(\u001b[49m\u001b[43mreq\u001b[49m\u001b[43m,\u001b[49m\u001b[43m \u001b[49m\u001b[43mdata\u001b[49m\u001b[43m)\u001b[49m\n\u001b[1;32m    521\u001b[0m \u001b[38;5;66;03m# post-process response\u001b[39;00m\n\u001b[1;32m    522\u001b[0m meth_name \u001b[38;5;241m=\u001b[39m protocol\u001b[38;5;241m+\u001b[39m\u001b[38;5;124m\"\u001b[39m\u001b[38;5;124m_response\u001b[39m\u001b[38;5;124m\"\u001b[39m\n",
      "File \u001b[0;32m/opt/conda/lib/python3.10/urllib/request.py:541\u001b[0m, in \u001b[0;36mOpenerDirector._open\u001b[0;34m(self, req, data)\u001b[0m\n\u001b[1;32m    538\u001b[0m \u001b[38;5;28;01mif\u001b[39;00m result:\n\u001b[1;32m    539\u001b[0m     \u001b[38;5;28;01mreturn\u001b[39;00m result\n\u001b[0;32m--> 541\u001b[0m \u001b[38;5;28;01mreturn\u001b[39;00m \u001b[38;5;28;43mself\u001b[39;49m\u001b[38;5;241;43m.\u001b[39;49m\u001b[43m_call_chain\u001b[49m\u001b[43m(\u001b[49m\u001b[38;5;28;43mself\u001b[39;49m\u001b[38;5;241;43m.\u001b[39;49m\u001b[43mhandle_open\u001b[49m\u001b[43m,\u001b[49m\u001b[43m \u001b[49m\u001b[38;5;124;43m'\u001b[39;49m\u001b[38;5;124;43munknown\u001b[39;49m\u001b[38;5;124;43m'\u001b[39;49m\u001b[43m,\u001b[49m\n\u001b[1;32m    542\u001b[0m \u001b[43m                        \u001b[49m\u001b[38;5;124;43m'\u001b[39;49m\u001b[38;5;124;43munknown_open\u001b[39;49m\u001b[38;5;124;43m'\u001b[39;49m\u001b[43m,\u001b[49m\u001b[43m \u001b[49m\u001b[43mreq\u001b[49m\u001b[43m)\u001b[49m\n",
      "File \u001b[0;32m/opt/conda/lib/python3.10/urllib/request.py:496\u001b[0m, in \u001b[0;36mOpenerDirector._call_chain\u001b[0;34m(self, chain, kind, meth_name, *args)\u001b[0m\n\u001b[1;32m    494\u001b[0m \u001b[38;5;28;01mfor\u001b[39;00m handler \u001b[38;5;129;01min\u001b[39;00m handlers:\n\u001b[1;32m    495\u001b[0m     func \u001b[38;5;241m=\u001b[39m \u001b[38;5;28mgetattr\u001b[39m(handler, meth_name)\n\u001b[0;32m--> 496\u001b[0m     result \u001b[38;5;241m=\u001b[39m \u001b[43mfunc\u001b[49m\u001b[43m(\u001b[49m\u001b[38;5;241;43m*\u001b[39;49m\u001b[43margs\u001b[49m\u001b[43m)\u001b[49m\n\u001b[1;32m    497\u001b[0m     \u001b[38;5;28;01mif\u001b[39;00m result \u001b[38;5;129;01mis\u001b[39;00m \u001b[38;5;129;01mnot\u001b[39;00m \u001b[38;5;28;01mNone\u001b[39;00m:\n\u001b[1;32m    498\u001b[0m         \u001b[38;5;28;01mreturn\u001b[39;00m result\n",
      "File \u001b[0;32m/opt/conda/lib/python3.10/urllib/request.py:1419\u001b[0m, in \u001b[0;36mUnknownHandler.unknown_open\u001b[0;34m(self, req)\u001b[0m\n\u001b[1;32m   1417\u001b[0m \u001b[38;5;28;01mdef\u001b[39;00m \u001b[38;5;21munknown_open\u001b[39m(\u001b[38;5;28mself\u001b[39m, req):\n\u001b[1;32m   1418\u001b[0m     \u001b[38;5;28mtype\u001b[39m \u001b[38;5;241m=\u001b[39m req\u001b[38;5;241m.\u001b[39mtype\n\u001b[0;32m-> 1419\u001b[0m     \u001b[38;5;28;01mraise\u001b[39;00m URLError(\u001b[38;5;124m'\u001b[39m\u001b[38;5;124munknown url type: \u001b[39m\u001b[38;5;132;01m%s\u001b[39;00m\u001b[38;5;124m'\u001b[39m \u001b[38;5;241m%\u001b[39m \u001b[38;5;28mtype\u001b[39m)\n",
      "\u001b[0;31mURLError\u001b[0m: <urlopen error unknown url type: 1-introductionhttps>"
     ]
    }
   ],
   "source": [
    "ScrapeTextbook(\"https://openstax.org/books/us-history/pages/1-introduction\")"
   ]
  },
  {
   "cell_type": "code",
   "execution_count": null,
   "id": "0c6336df-a426-4527-8551-a0ed4e321a0e",
   "metadata": {},
   "outputs": [],
   "source": []
  }
 ],
 "metadata": {
  "kernelspec": {
   "display_name": "Python 3 (ipykernel)",
   "language": "python",
   "name": "python3"
  },
  "language_info": {
   "codemirror_mode": {
    "name": "ipython",
    "version": 3
   },
   "file_extension": ".py",
   "mimetype": "text/x-python",
   "name": "python",
   "nbconvert_exporter": "python",
   "pygments_lexer": "ipython3",
   "version": "3.10.5"
  }
 },
 "nbformat": 4,
 "nbformat_minor": 5
}
