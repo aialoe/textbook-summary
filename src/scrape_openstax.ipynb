{
 "cells": [
  {
   "cell_type": "code",
   "execution_count": 16,
   "id": "5496206e-d5f1-4d07-bac2-e724d8a69b73",
   "metadata": {},
   "outputs": [],
   "source": [
    "from bs4 import BeautifulSoup\n",
    "import requests\n",
    "import re\n",
    "\n",
    "with open('../bin/textbook-first-pages.txt', 'r') as f:\n",
    "    textbook_first_pages = f.read().splitlines()"
   ]
  },
  {
   "cell_type": "code",
   "execution_count": 7,
   "id": "9cb4f66b-524f-423a-9974-1736c22c8a10",
   "metadata": {},
   "outputs": [
    {
     "name": "stdout",
     "output_type": "stream",
     "text": [
      "None\n"
     ]
    }
   ],
   "source": [
    "def key_terms(soup):\n",
    "    for a in soup.find_all('a', href=True):\n",
    "        if a.text == \"Next\" and a.get('href'):\n",
    "            return a.get('href')\n",
    "\n",
    "def next_section(soup):\n",
    "    for a in soup.find_all('a', href=True):\n",
    "        print(a)\n",
    "        if a.text == \"Next\" and a.get('href'):\n",
    "            return a.get('href')\n",
    "\n",
    "def section_generator(url):\n",
    "    while url:\n",
    "        page = requests.get(url)\n",
    "        soup = BeautifulSoup(page.text, features='html.parser')\n",
    "        # keyterms = key_terms(soup)\n",
    "        url = next_section(soup)\n",
    "        print(url)\n",
    "        # sectiontext = soup.text"
   ]
  },
  {
   "cell_type": "code",
   "execution_count": 42,
   "id": "08b6076a-5a81-40c8-87c8-66483d5087c2",
   "metadata": {},
   "outputs": [],
   "source": [
    "class StaxBook:\n",
    "    def __init__(self, first_page_url):\n",
    "        self.first_page_url = first_page_url\n",
    "        self.base_url = first_page_url.split('/pages/')[0] # a non-functional URL used to build other URLs\n",
    "        self.get_section_urls()\n",
    "        \n",
    "    def get_section_urls(self):\n",
    "        soup = BeautifulSoup(requests.get(self.first_page_url).text,\n",
    "                             features='html.parser')\n",
    "        self.section_urls = ['/'.join([self.base_url, 'pages', a['href']])\n",
    "                             for a in \n",
    "                             soup.find_all('a',\n",
    "                                           class_='styled__ContentLink-sc-18yti3s-1 cRIWDW',\n",
    "                                           href=True,\n",
    "                                          )\n",
    "                            ]\n",
    "        "
   ]
  },
  {
   "cell_type": "code",
   "execution_count": 43,
   "id": "a7eac14d-42b2-49e4-abdf-6531777738dd",
   "metadata": {},
   "outputs": [],
   "source": [
    "test = StaxBook(textbook_first_pages[10])"
   ]
  },
  {
   "cell_type": "code",
   "execution_count": 44,
   "id": "4314fb5c-5f91-4545-aa6d-9c2e59979d50",
   "metadata": {},
   "outputs": [
    {
     "data": {
      "text/plain": [
       "['https://openstax.org/books/prealgebra-2e/pages/preface',\n",
       " 'https://openstax.org/books/prealgebra-2e/pages/1-introduction',\n",
       " 'https://openstax.org/books/prealgebra-2e/pages/1-1-introduction-to-whole-numbers',\n",
       " 'https://openstax.org/books/prealgebra-2e/pages/1-2-add-whole-numbers',\n",
       " 'https://openstax.org/books/prealgebra-2e/pages/1-3-subtract-whole-numbers',\n",
       " 'https://openstax.org/books/prealgebra-2e/pages/1-4-multiply-whole-numbers',\n",
       " 'https://openstax.org/books/prealgebra-2e/pages/1-5-divide-whole-numbers',\n",
       " 'https://openstax.org/books/prealgebra-2e/pages/1-key-terms',\n",
       " 'https://openstax.org/books/prealgebra-2e/pages/1-key-concepts',\n",
       " 'https://openstax.org/books/prealgebra-2e/pages/1-review-exercises',\n",
       " 'https://openstax.org/books/prealgebra-2e/pages/1-practice-test',\n",
       " 'https://openstax.org/books/prealgebra-2e/pages/2-introduction-to-the-language-of-algebra',\n",
       " 'https://openstax.org/books/prealgebra-2e/pages/2-1-use-the-language-of-algebra',\n",
       " 'https://openstax.org/books/prealgebra-2e/pages/2-2-evaluate-simplify-and-translate-expressions',\n",
       " 'https://openstax.org/books/prealgebra-2e/pages/2-3-solving-equations-using-the-subtraction-and-addition-properties-of-equality',\n",
       " 'https://openstax.org/books/prealgebra-2e/pages/2-4-find-multiples-and-factors',\n",
       " 'https://openstax.org/books/prealgebra-2e/pages/2-5-prime-factorization-and-the-least-common-multiple',\n",
       " 'https://openstax.org/books/prealgebra-2e/pages/2-key-terms',\n",
       " 'https://openstax.org/books/prealgebra-2e/pages/2-key-concepts',\n",
       " 'https://openstax.org/books/prealgebra-2e/pages/2-review-exercises',\n",
       " 'https://openstax.org/books/prealgebra-2e/pages/2-practice-test',\n",
       " 'https://openstax.org/books/prealgebra-2e/pages/3-introduction-to-integers',\n",
       " 'https://openstax.org/books/prealgebra-2e/pages/3-1-introduction-to-integers',\n",
       " 'https://openstax.org/books/prealgebra-2e/pages/3-2-add-integers',\n",
       " 'https://openstax.org/books/prealgebra-2e/pages/3-3-subtract-integers',\n",
       " 'https://openstax.org/books/prealgebra-2e/pages/3-4-multiply-and-divide-integers',\n",
       " 'https://openstax.org/books/prealgebra-2e/pages/3-5-solve-equations-using-integers-the-division-property-of-equality',\n",
       " 'https://openstax.org/books/prealgebra-2e/pages/3-key-terms',\n",
       " 'https://openstax.org/books/prealgebra-2e/pages/3-key-concepts',\n",
       " 'https://openstax.org/books/prealgebra-2e/pages/3-review-exercises',\n",
       " 'https://openstax.org/books/prealgebra-2e/pages/3-practice-test',\n",
       " 'https://openstax.org/books/prealgebra-2e/pages/4-introduction-to-fractions',\n",
       " 'https://openstax.org/books/prealgebra-2e/pages/4-1-visualize-fractions',\n",
       " 'https://openstax.org/books/prealgebra-2e/pages/4-2-multiply-and-divide-fractions',\n",
       " 'https://openstax.org/books/prealgebra-2e/pages/4-3-multiply-and-divide-mixed-numbers-and-complex-fractions',\n",
       " 'https://openstax.org/books/prealgebra-2e/pages/4-4-add-and-subtract-fractions-with-common-denominators',\n",
       " 'https://openstax.org/books/prealgebra-2e/pages/4-5-add-and-subtract-fractions-with-different-denominators',\n",
       " 'https://openstax.org/books/prealgebra-2e/pages/4-6-add-and-subtract-mixed-numbers',\n",
       " 'https://openstax.org/books/prealgebra-2e/pages/4-7-solve-equations-with-fractions',\n",
       " 'https://openstax.org/books/prealgebra-2e/pages/4-key-terms',\n",
       " 'https://openstax.org/books/prealgebra-2e/pages/4-key-concepts',\n",
       " 'https://openstax.org/books/prealgebra-2e/pages/4-review-exercises',\n",
       " 'https://openstax.org/books/prealgebra-2e/pages/4-practice-test',\n",
       " 'https://openstax.org/books/prealgebra-2e/pages/5-introduction-to-decimals',\n",
       " 'https://openstax.org/books/prealgebra-2e/pages/5-1-decimals',\n",
       " 'https://openstax.org/books/prealgebra-2e/pages/5-2-decimal-operations',\n",
       " 'https://openstax.org/books/prealgebra-2e/pages/5-3-decimals-and-fractions',\n",
       " 'https://openstax.org/books/prealgebra-2e/pages/5-4-solve-equations-with-decimals',\n",
       " 'https://openstax.org/books/prealgebra-2e/pages/5-5-averages-and-probability',\n",
       " 'https://openstax.org/books/prealgebra-2e/pages/5-6-ratios-and-rate',\n",
       " 'https://openstax.org/books/prealgebra-2e/pages/5-7-simplify-and-use-square-roots',\n",
       " 'https://openstax.org/books/prealgebra-2e/pages/5-key-terms',\n",
       " 'https://openstax.org/books/prealgebra-2e/pages/5-key-concepts',\n",
       " 'https://openstax.org/books/prealgebra-2e/pages/5-review-exercises',\n",
       " 'https://openstax.org/books/prealgebra-2e/pages/5-practice-test',\n",
       " 'https://openstax.org/books/prealgebra-2e/pages/6-introduction-to-percents',\n",
       " 'https://openstax.org/books/prealgebra-2e/pages/6-1-understand-percent',\n",
       " 'https://openstax.org/books/prealgebra-2e/pages/6-2-solve-general-applications-of-percent',\n",
       " 'https://openstax.org/books/prealgebra-2e/pages/6-3-solve-sales-tax-commission-and-discount-applications',\n",
       " 'https://openstax.org/books/prealgebra-2e/pages/6-4-solve-simple-interest-applications',\n",
       " 'https://openstax.org/books/prealgebra-2e/pages/6-5-solve-proportions-and-their-applications',\n",
       " 'https://openstax.org/books/prealgebra-2e/pages/6-key-terms',\n",
       " 'https://openstax.org/books/prealgebra-2e/pages/6-key-concepts',\n",
       " 'https://openstax.org/books/prealgebra-2e/pages/6-review-exercises',\n",
       " 'https://openstax.org/books/prealgebra-2e/pages/6-practice-test',\n",
       " 'https://openstax.org/books/prealgebra-2e/pages/7-introduction-to-the-properties-of-real-numbers',\n",
       " 'https://openstax.org/books/prealgebra-2e/pages/7-1-rational-and-irrational-numbers',\n",
       " 'https://openstax.org/books/prealgebra-2e/pages/7-2-commutative-and-associative-properties',\n",
       " 'https://openstax.org/books/prealgebra-2e/pages/7-3-distributive-property',\n",
       " 'https://openstax.org/books/prealgebra-2e/pages/7-4-properties-of-identity-inverses-and-zero',\n",
       " 'https://openstax.org/books/prealgebra-2e/pages/7-5-systems-of-measurement',\n",
       " 'https://openstax.org/books/prealgebra-2e/pages/7-key-terms',\n",
       " 'https://openstax.org/books/prealgebra-2e/pages/7-key-concepts',\n",
       " 'https://openstax.org/books/prealgebra-2e/pages/7-review-exercises',\n",
       " 'https://openstax.org/books/prealgebra-2e/pages/7-practice-test',\n",
       " 'https://openstax.org/books/prealgebra-2e/pages/8-introduction-to-solving-linear-equations',\n",
       " 'https://openstax.org/books/prealgebra-2e/pages/8-1-solve-equations-using-the-subtraction-and-addition-properties-of-equality',\n",
       " 'https://openstax.org/books/prealgebra-2e/pages/8-2-solve-equations-using-the-division-and-multiplication-properties-of-equality',\n",
       " 'https://openstax.org/books/prealgebra-2e/pages/8-3-solve-equations-with-variables-and-constants-on-both-sides',\n",
       " 'https://openstax.org/books/prealgebra-2e/pages/8-4-solve-equations-with-fraction-or-decimal-coefficients',\n",
       " 'https://openstax.org/books/prealgebra-2e/pages/8-key-terms',\n",
       " 'https://openstax.org/books/prealgebra-2e/pages/8-key-concepts',\n",
       " 'https://openstax.org/books/prealgebra-2e/pages/8-review-exercises',\n",
       " 'https://openstax.org/books/prealgebra-2e/pages/8-practice-test',\n",
       " 'https://openstax.org/books/prealgebra-2e/pages/9-introduction',\n",
       " 'https://openstax.org/books/prealgebra-2e/pages/9-1-use-a-problem-solving-strategy',\n",
       " 'https://openstax.org/books/prealgebra-2e/pages/9-2-solve-money-applications',\n",
       " 'https://openstax.org/books/prealgebra-2e/pages/9-3-use-properties-of-angles-triangles-and-the-pythagorean-theorem',\n",
       " 'https://openstax.org/books/prealgebra-2e/pages/9-4-use-properties-of-rectangles-triangles-and-trapezoids',\n",
       " 'https://openstax.org/books/prealgebra-2e/pages/9-5-solve-geometry-applications-circles-and-irregular-figures',\n",
       " 'https://openstax.org/books/prealgebra-2e/pages/9-6-solve-geometry-applications-volume-and-surface-area',\n",
       " 'https://openstax.org/books/prealgebra-2e/pages/9-7-solve-a-formula-for-a-specific-variable',\n",
       " 'https://openstax.org/books/prealgebra-2e/pages/9-key-terms',\n",
       " 'https://openstax.org/books/prealgebra-2e/pages/9-key-concepts',\n",
       " 'https://openstax.org/books/prealgebra-2e/pages/9-review-exercises',\n",
       " 'https://openstax.org/books/prealgebra-2e/pages/9-practice-test',\n",
       " 'https://openstax.org/books/prealgebra-2e/pages/10-introduction-to-polynomials',\n",
       " 'https://openstax.org/books/prealgebra-2e/pages/10-1-add-and-subtract-polynomials',\n",
       " 'https://openstax.org/books/prealgebra-2e/pages/10-2-use-multiplication-properties-of-exponents',\n",
       " 'https://openstax.org/books/prealgebra-2e/pages/10-3-multiply-polynomials',\n",
       " 'https://openstax.org/books/prealgebra-2e/pages/10-4-divide-monomials',\n",
       " 'https://openstax.org/books/prealgebra-2e/pages/10-5-integer-exponents-and-scientific-notation',\n",
       " 'https://openstax.org/books/prealgebra-2e/pages/10-6-introduction-to-factoring-polynomials',\n",
       " 'https://openstax.org/books/prealgebra-2e/pages/10-key-terms',\n",
       " 'https://openstax.org/books/prealgebra-2e/pages/10-key-concepts',\n",
       " 'https://openstax.org/books/prealgebra-2e/pages/10-review-exercises',\n",
       " 'https://openstax.org/books/prealgebra-2e/pages/10-practice-test',\n",
       " 'https://openstax.org/books/prealgebra-2e/pages/11-graphs',\n",
       " 'https://openstax.org/books/prealgebra-2e/pages/11-1-use-the-rectangular-coordinate-system',\n",
       " 'https://openstax.org/books/prealgebra-2e/pages/11-2-graphing-linear-equations',\n",
       " 'https://openstax.org/books/prealgebra-2e/pages/11-3-graphing-with-intercepts',\n",
       " 'https://openstax.org/books/prealgebra-2e/pages/11-4-understand-slope-of-a-line',\n",
       " 'https://openstax.org/books/prealgebra-2e/pages/11-key-terms',\n",
       " 'https://openstax.org/books/prealgebra-2e/pages/11-key-concepts',\n",
       " 'https://openstax.org/books/prealgebra-2e/pages/11-review-exercises',\n",
       " 'https://openstax.org/books/prealgebra-2e/pages/11-practice-test',\n",
       " 'https://openstax.org/books/prealgebra-2e/pages/a-cumulative-review',\n",
       " 'https://openstax.org/books/prealgebra-2e/pages/b-powers-and-roots-tables',\n",
       " 'https://openstax.org/books/prealgebra-2e/pages/c-geometric-formulas',\n",
       " 'https://openstax.org/books/prealgebra-2e/pages/chapter-1',\n",
       " 'https://openstax.org/books/prealgebra-2e/pages/chapter-2',\n",
       " 'https://openstax.org/books/prealgebra-2e/pages/chapter-3',\n",
       " 'https://openstax.org/books/prealgebra-2e/pages/chapter-4',\n",
       " 'https://openstax.org/books/prealgebra-2e/pages/chapter-5',\n",
       " 'https://openstax.org/books/prealgebra-2e/pages/chapter-6',\n",
       " 'https://openstax.org/books/prealgebra-2e/pages/chapter-7',\n",
       " 'https://openstax.org/books/prealgebra-2e/pages/chapter-8',\n",
       " 'https://openstax.org/books/prealgebra-2e/pages/chapter-9',\n",
       " 'https://openstax.org/books/prealgebra-2e/pages/chapter-10',\n",
       " 'https://openstax.org/books/prealgebra-2e/pages/chapter-11',\n",
       " 'https://openstax.org/books/prealgebra-2e/pages/index']"
      ]
     },
     "execution_count": 44,
     "metadata": {},
     "output_type": "execute_result"
    }
   ],
   "source": [
    "test.section_urls"
   ]
  },
  {
   "cell_type": "code",
   "execution_count": null,
   "id": "f33a6b99-cf86-425c-91ca-f1a5896d3200",
   "metadata": {},
   "outputs": [
    {
     "name": "stdout",
     "output_type": "stream",
     "text": [
      "[<a class=\"styled__ContentLink-sc-18yti3s-1 cRIWDW\" href=\"preface\"><span class=\"os-text\" data-type=\"\" itemprop=\"\">Preface</span></a>, <a class=\"styled__ContentLink-sc-18yti3s-1 cRIWDW\" href=\"1-introduction-to-prerequisites\"><span class=\"os-text\" data-type=\"\" itemprop=\"\">Introduction to Prerequisites</span></a>, <a class=\"styled__ContentLink-sc-18yti3s-1 cRIWDW\" href=\"1-1-real-numbers-algebra-essentials\"><span class=\"os-number\">1.1</span><span class=\"os-divider\"> </span><span class=\"os-text\" data-type=\"\" itemprop=\"\">Real Numbers: Algebra Essentials</span></a>, <a class=\"styled__ContentLink-sc-18yti3s-1 cRIWDW\" href=\"1-2-exponents-and-scientific-notation\"><span class=\"os-number\">1.2</span><span class=\"os-divider\"> </span><span class=\"os-text\" data-type=\"\" itemprop=\"\">Exponents and Scientific Notation</span></a>, <a class=\"styled__ContentLink-sc-18yti3s-1 cRIWDW\" href=\"1-3-radicals-and-rational-exponents\"><span class=\"os-number\">1.3</span><span class=\"os-divider\"> </span><span class=\"os-text\" data-type=\"\" itemprop=\"\">Radicals and Rational Exponents</span></a>, <a class=\"styled__ContentLink-sc-18yti3s-1 cRIWDW\" href=\"1-4-polynomials\"><span class=\"os-number\">1.4</span><span class=\"os-divider\"> </span><span class=\"os-text\" data-type=\"\" itemprop=\"\">Polynomials</span></a>, <a class=\"styled__ContentLink-sc-18yti3s-1 cRIWDW\" href=\"1-5-factoring-polynomials\"><span class=\"os-number\">1.5</span><span class=\"os-divider\"> </span><span class=\"os-text\" data-type=\"\" itemprop=\"\">Factoring Polynomials</span></a>, <a class=\"styled__ContentLink-sc-18yti3s-1 cRIWDW\" href=\"1-6-rational-expressions\"><span class=\"os-number\">1.6</span><span class=\"os-divider\"> </span><span class=\"os-text\" data-type=\"\" itemprop=\"\">Rational Expressions</span></a>, <a class=\"styled__ContentLink-sc-18yti3s-1 cRIWDW\" href=\"1-key-terms\"><span class=\"os-text\">Key Terms</span></a>, <a class=\"styled__ContentLink-sc-18yti3s-1 cRIWDW\" href=\"1-key-equations\"><span class=\"os-text\">Key Equations</span></a>, <a class=\"styled__ContentLink-sc-18yti3s-1 cRIWDW\" href=\"1-key-concepts\"><span class=\"os-text\">Key Concepts</span></a>, <a class=\"styled__ContentLink-sc-18yti3s-1 cRIWDW\" href=\"1-review-exercises\"><span class=\"os-text\">Review Exercises</span></a>, <a class=\"styled__ContentLink-sc-18yti3s-1 cRIWDW\" href=\"1-practice-test\"><span class=\"os-text\">Practice Test</span></a>, <a class=\"styled__ContentLink-sc-18yti3s-1 cRIWDW\" href=\"2-introduction-to-equations-and-inequalities\"><span class=\"os-text\" data-type=\"\" itemprop=\"\">Introduction to Equations and Inequalities</span></a>, <a class=\"styled__ContentLink-sc-18yti3s-1 cRIWDW\" href=\"2-1-the-rectangular-coordinate-systems-and-graphs\"><span class=\"os-number\">2.1</span><span class=\"os-divider\"> </span><span class=\"os-text\" data-type=\"\" itemprop=\"\">The Rectangular Coordinate Systems and Graphs</span></a>, <a class=\"styled__ContentLink-sc-18yti3s-1 cRIWDW\" href=\"2-2-linear-equations-in-one-variable\"><span class=\"os-number\">2.2</span><span class=\"os-divider\"> </span><span class=\"os-text\" data-type=\"\" itemprop=\"\">Linear Equations in One Variable</span></a>, <a class=\"styled__ContentLink-sc-18yti3s-1 cRIWDW\" href=\"2-3-models-and-applications\"><span class=\"os-number\">2.3</span><span class=\"os-divider\"> </span><span class=\"os-text\" data-type=\"\" itemprop=\"\">Models and Applications</span></a>, <a class=\"styled__ContentLink-sc-18yti3s-1 cRIWDW\" href=\"2-4-complex-numbers\"><span class=\"os-number\">2.4</span><span class=\"os-divider\"> </span><span class=\"os-text\" data-type=\"\" itemprop=\"\">Complex Numbers</span></a>, <a class=\"styled__ContentLink-sc-18yti3s-1 cRIWDW\" href=\"2-5-quadratic-equations\"><span class=\"os-number\">2.5</span><span class=\"os-divider\"> </span><span class=\"os-text\" data-type=\"\" itemprop=\"\">Quadratic Equations</span></a>, <a class=\"styled__ContentLink-sc-18yti3s-1 cRIWDW\" href=\"2-6-other-types-of-equations\"><span class=\"os-number\">2.6</span><span class=\"os-divider\"> </span><span class=\"os-text\" data-type=\"\" itemprop=\"\">Other Types of Equations</span></a>, <a class=\"styled__ContentLink-sc-18yti3s-1 cRIWDW\" href=\"2-7-linear-inequalities-and-absolute-value-inequalities\"><span class=\"os-number\">2.7</span><span class=\"os-divider\"> </span><span class=\"os-text\" data-type=\"\" itemprop=\"\">Linear Inequalities and Absolute Value Inequalities</span></a>, <a class=\"styled__ContentLink-sc-18yti3s-1 cRIWDW\" href=\"2-key-terms\"><span class=\"os-text\">Key Terms</span></a>, <a class=\"styled__ContentLink-sc-18yti3s-1 cRIWDW\" href=\"2-key-equations\"><span class=\"os-text\">Key Equations</span></a>, <a class=\"styled__ContentLink-sc-18yti3s-1 cRIWDW\" href=\"2-key-concepts\"><span class=\"os-text\">Key Concepts</span></a>, <a class=\"styled__ContentLink-sc-18yti3s-1 cRIWDW\" href=\"2-review-exercises\"><span class=\"os-text\">Review Exercises</span></a>, <a class=\"styled__ContentLink-sc-18yti3s-1 cRIWDW\" href=\"2-practice-test\"><span class=\"os-text\">Practice Test</span></a>, <a class=\"styled__ContentLink-sc-18yti3s-1 cRIWDW\" href=\"3-introduction-to-functions\"><span class=\"os-text\" data-type=\"\" itemprop=\"\">Introduction to Functions</span></a>, <a class=\"styled__ContentLink-sc-18yti3s-1 cRIWDW\" href=\"3-1-functions-and-function-notation\"><span class=\"os-number\">3.1</span><span class=\"os-divider\"> </span><span class=\"os-text\" data-type=\"\" itemprop=\"\">Functions and Function Notation</span></a>, <a class=\"styled__ContentLink-sc-18yti3s-1 cRIWDW\" href=\"3-2-domain-and-range\"><span class=\"os-number\">3.2</span><span class=\"os-divider\"> </span><span class=\"os-text\" data-type=\"\" itemprop=\"\">Domain and Range</span></a>, <a class=\"styled__ContentLink-sc-18yti3s-1 cRIWDW\" href=\"3-3-rates-of-change-and-behavior-of-graphs\"><span class=\"os-number\">3.3</span><span class=\"os-divider\"> </span><span class=\"os-text\" data-type=\"\" itemprop=\"\">Rates of Change and Behavior of Graphs</span></a>, <a class=\"styled__ContentLink-sc-18yti3s-1 cRIWDW\" href=\"3-4-composition-of-functions\"><span class=\"os-number\">3.4</span><span class=\"os-divider\"> </span><span class=\"os-text\" data-type=\"\" itemprop=\"\">Composition of Functions</span></a>, <a class=\"styled__ContentLink-sc-18yti3s-1 cRIWDW\" href=\"3-5-transformation-of-functions\"><span class=\"os-number\">3.5</span><span class=\"os-divider\"> </span><span class=\"os-text\" data-type=\"\" itemprop=\"\">Transformation of Functions</span></a>, <a class=\"styled__ContentLink-sc-18yti3s-1 cRIWDW\" href=\"3-6-absolute-value-functions\"><span class=\"os-number\">3.6</span><span class=\"os-divider\"> </span><span class=\"os-text\" data-type=\"\" itemprop=\"\">Absolute Value Functions</span></a>, <a class=\"styled__ContentLink-sc-18yti3s-1 cRIWDW\" href=\"3-7-inverse-functions\"><span class=\"os-number\">3.7</span><span class=\"os-divider\"> </span><span class=\"os-text\" data-type=\"\" itemprop=\"\">Inverse Functions</span></a>, <a class=\"styled__ContentLink-sc-18yti3s-1 cRIWDW\" href=\"3-key-terms\"><span class=\"os-text\">Key Terms</span></a>, <a class=\"styled__ContentLink-sc-18yti3s-1 cRIWDW\" href=\"3-key-equations\"><span class=\"os-text\">Key Equations</span></a>, <a class=\"styled__ContentLink-sc-18yti3s-1 cRIWDW\" href=\"3-key-concepts\"><span class=\"os-text\">Key Concepts</span></a>, <a class=\"styled__ContentLink-sc-18yti3s-1 cRIWDW\" href=\"3-review-exercises\"><span class=\"os-text\">Review Exercises</span></a>, <a class=\"styled__ContentLink-sc-18yti3s-1 cRIWDW\" href=\"3-practice-test\"><span class=\"os-text\">Practice Test</span></a>, <a class=\"styled__ContentLink-sc-18yti3s-1 cRIWDW\" href=\"4-introduction-to-linear-functions\"><span class=\"os-text\" data-type=\"\" itemprop=\"\">Introduction to Linear Functions</span></a>, <a class=\"styled__ContentLink-sc-18yti3s-1 cRIWDW\" href=\"4-1-linear-functions\"><span class=\"os-number\">4.1</span><span class=\"os-divider\"> </span><span class=\"os-text\" data-type=\"\" itemprop=\"\">Linear Functions</span></a>, <a class=\"styled__ContentLink-sc-18yti3s-1 cRIWDW\" href=\"4-2-modeling-with-linear-functions\"><span class=\"os-number\">4.2</span><span class=\"os-divider\"> </span><span class=\"os-text\" data-type=\"\" itemprop=\"\">Modeling with Linear Functions</span></a>, <a class=\"styled__ContentLink-sc-18yti3s-1 cRIWDW\" href=\"4-3-fitting-linear-models-to-data\"><span class=\"os-number\">4.3</span><span class=\"os-divider\"> </span><span class=\"os-text\" data-type=\"\" itemprop=\"\">Fitting Linear Models to Data</span></a>, <a class=\"styled__ContentLink-sc-18yti3s-1 cRIWDW\" href=\"4-key-terms\"><span class=\"os-text\">Key Terms</span></a>, <a class=\"styled__ContentLink-sc-18yti3s-1 cRIWDW\" href=\"4-key-concepts\"><span class=\"os-text\">Key Concepts</span></a>, <a class=\"styled__ContentLink-sc-18yti3s-1 cRIWDW\" href=\"4-review-exercises\"><span class=\"os-text\">Review Exercises</span></a>, <a class=\"styled__ContentLink-sc-18yti3s-1 cRIWDW\" href=\"4-practice-test\"><span class=\"os-text\">Practice Test</span></a>, <a class=\"styled__ContentLink-sc-18yti3s-1 cRIWDW\" href=\"5-introduction-to-polynomial-and-rational-functions\"><span class=\"os-text\" data-type=\"\" itemprop=\"\">Introduction to Polynomial and Rational Functions</span></a>, <a class=\"styled__ContentLink-sc-18yti3s-1 cRIWDW\" href=\"5-1-quadratic-functions\"><span class=\"os-number\">5.1</span><span class=\"os-divider\"> </span><span class=\"os-text\" data-type=\"\" itemprop=\"\">Quadratic Functions</span></a>, <a class=\"styled__ContentLink-sc-18yti3s-1 cRIWDW\" href=\"5-2-power-functions-and-polynomial-functions\"><span class=\"os-number\">5.2</span><span class=\"os-divider\"> </span><span class=\"os-text\" data-type=\"\" itemprop=\"\">Power Functions and Polynomial Functions</span></a>, <a class=\"styled__ContentLink-sc-18yti3s-1 cRIWDW\" href=\"5-3-graphs-of-polynomial-functions\"><span class=\"os-number\">5.3</span><span class=\"os-divider\"> </span><span class=\"os-text\" data-type=\"\" itemprop=\"\">Graphs of Polynomial Functions</span></a>, <a class=\"styled__ContentLink-sc-18yti3s-1 cRIWDW\" href=\"5-4-dividing-polynomials\"><span class=\"os-number\">5.4</span><span class=\"os-divider\"> </span><span class=\"os-text\" data-type=\"\" itemprop=\"\">Dividing Polynomials</span></a>, <a class=\"styled__ContentLink-sc-18yti3s-1 cRIWDW\" href=\"5-5-zeros-of-polynomial-functions\"><span class=\"os-number\">5.5</span><span class=\"os-divider\"> </span><span class=\"os-text\" data-type=\"\" itemprop=\"\">Zeros of Polynomial Functions</span></a>, <a class=\"styled__ContentLink-sc-18yti3s-1 cRIWDW\" href=\"5-6-rational-functions\"><span class=\"os-number\">5.6</span><span class=\"os-divider\"> </span><span class=\"os-text\" data-type=\"\" itemprop=\"\">Rational Functions</span></a>, <a class=\"styled__ContentLink-sc-18yti3s-1 cRIWDW\" href=\"5-7-inverses-and-radical-functions\"><span class=\"os-number\">5.7</span><span class=\"os-divider\"> </span><span class=\"os-text\" data-type=\"\" itemprop=\"\">Inverses and Radical Functions</span></a>, <a class=\"styled__ContentLink-sc-18yti3s-1 cRIWDW\" href=\"5-8-modeling-using-variation\"><span class=\"os-number\">5.8</span><span class=\"os-divider\"> </span><span class=\"os-text\" data-type=\"\" itemprop=\"\">Modeling Using Variation</span></a>, <a class=\"styled__ContentLink-sc-18yti3s-1 cRIWDW\" href=\"5-key-terms\"><span class=\"os-text\">Key Terms</span></a>, <a class=\"styled__ContentLink-sc-18yti3s-1 cRIWDW\" href=\"5-key-equations\"><span class=\"os-text\">Key Equations</span></a>, <a class=\"styled__ContentLink-sc-18yti3s-1 cRIWDW\" href=\"5-key-concepts\"><span class=\"os-text\">Key Concepts</span></a>, <a class=\"styled__ContentLink-sc-18yti3s-1 cRIWDW\" href=\"5-review-exercises\"><span class=\"os-text\">Review Exercises</span></a>, <a class=\"styled__ContentLink-sc-18yti3s-1 cRIWDW\" href=\"5-practice-test\"><span class=\"os-text\">Practice Test</span></a>, <a class=\"styled__ContentLink-sc-18yti3s-1 cRIWDW\" href=\"6-introduction-to-exponential-and-logarithmic-functions\"><span class=\"os-text\" data-type=\"\" itemprop=\"\">Introduction to Exponential and Logarithmic Functions</span></a>, <a class=\"styled__ContentLink-sc-18yti3s-1 cRIWDW\" href=\"6-1-exponential-functions\"><span class=\"os-number\">6.1</span><span class=\"os-divider\"> </span><span class=\"os-text\" data-type=\"\" itemprop=\"\">Exponential Functions</span></a>, <a class=\"styled__ContentLink-sc-18yti3s-1 cRIWDW\" href=\"6-2-graphs-of-exponential-functions\"><span class=\"os-number\">6.2</span><span class=\"os-divider\"> </span><span class=\"os-text\" data-type=\"\" itemprop=\"\">Graphs of Exponential Functions</span></a>, <a class=\"styled__ContentLink-sc-18yti3s-1 cRIWDW\" href=\"6-3-logarithmic-functions\"><span class=\"os-number\">6.3</span><span class=\"os-divider\"> </span><span class=\"os-text\" data-type=\"\" itemprop=\"\">Logarithmic Functions</span></a>, <a class=\"styled__ContentLink-sc-18yti3s-1 cRIWDW\" href=\"6-4-graphs-of-logarithmic-functions\"><span class=\"os-number\">6.4</span><span class=\"os-divider\"> </span><span class=\"os-text\" data-type=\"\" itemprop=\"\">Graphs of Logarithmic Functions</span></a>, <a class=\"styled__ContentLink-sc-18yti3s-1 cRIWDW\" href=\"6-5-logarithmic-properties\"><span class=\"os-number\">6.5</span><span class=\"os-divider\"> </span><span class=\"os-text\" data-type=\"\" itemprop=\"\">Logarithmic Properties</span></a>, <a class=\"styled__ContentLink-sc-18yti3s-1 cRIWDW\" href=\"6-6-exponential-and-logarithmic-equations\"><span class=\"os-number\">6.6</span><span class=\"os-divider\"> </span><span class=\"os-text\" data-type=\"\" itemprop=\"\">Exponential and Logarithmic Equations</span></a>, <a class=\"styled__ContentLink-sc-18yti3s-1 cRIWDW\" href=\"6-7-exponential-and-logarithmic-models\"><span class=\"os-number\">6.7</span><span class=\"os-divider\"> </span><span class=\"os-text\" data-type=\"\" itemprop=\"\">Exponential and Logarithmic Models</span></a>, <a class=\"styled__ContentLink-sc-18yti3s-1 cRIWDW\" href=\"6-8-fitting-exponential-models-to-data\"><span class=\"os-number\">6.8</span><span class=\"os-divider\"> </span><span class=\"os-text\" data-type=\"\" itemprop=\"\">Fitting Exponential Models to Data</span></a>, <a class=\"styled__ContentLink-sc-18yti3s-1 cRIWDW\" href=\"6-key-terms\"><span class=\"os-text\">Key Terms</span></a>, <a class=\"styled__ContentLink-sc-18yti3s-1 cRIWDW\" href=\"6-key-equations\"><span class=\"os-text\">Key Equations</span></a>, <a class=\"styled__ContentLink-sc-18yti3s-1 cRIWDW\" href=\"6-key-concepts\"><span class=\"os-text\">Key Concepts</span></a>, <a class=\"styled__ContentLink-sc-18yti3s-1 cRIWDW\" href=\"6-review-exercises\"><span class=\"os-text\">Review Exercises</span></a>, <a class=\"styled__ContentLink-sc-18yti3s-1 cRIWDW\" href=\"6-practice-test\"><span class=\"os-text\">Practice Test</span></a>, <a class=\"styled__ContentLink-sc-18yti3s-1 cRIWDW\" href=\"7-introduction-to-systems-of-equations-and-inequalities\"><span class=\"os-text\" data-type=\"\" itemprop=\"\">Introduction to Systems of Equations and Inequalities</span></a>, <a class=\"styled__ContentLink-sc-18yti3s-1 cRIWDW\" href=\"7-1-systems-of-linear-equations-two-variables\"><span class=\"os-number\">7.1</span><span class=\"os-divider\"> </span><span class=\"os-text\" data-type=\"\" itemprop=\"\">Systems of Linear Equations: Two Variables</span></a>, <a class=\"styled__ContentLink-sc-18yti3s-1 cRIWDW\" href=\"7-2-systems-of-linear-equations-three-variables\"><span class=\"os-number\">7.2</span><span class=\"os-divider\"> </span><span class=\"os-text\" data-type=\"\" itemprop=\"\">Systems of Linear Equations: Three Variables</span></a>, <a class=\"styled__ContentLink-sc-18yti3s-1 cRIWDW\" href=\"7-3-systems-of-nonlinear-equations-and-inequalities-two-variables\"><span class=\"os-number\">7.3</span><span class=\"os-divider\"> </span><span class=\"os-text\" data-type=\"\" itemprop=\"\">Systems of Nonlinear Equations and Inequalities: Two Variables</span></a>, <a class=\"styled__ContentLink-sc-18yti3s-1 cRIWDW\" href=\"7-4-partial-fractions\"><span class=\"os-number\">7.4</span><span class=\"os-divider\"> </span><span class=\"os-text\" data-type=\"\" itemprop=\"\">Partial Fractions</span></a>, <a class=\"styled__ContentLink-sc-18yti3s-1 cRIWDW\" href=\"7-5-matrices-and-matrix-operations\"><span class=\"os-number\">7.5</span><span class=\"os-divider\"> </span><span class=\"os-text\" data-type=\"\" itemprop=\"\">Matrices and Matrix Operations</span></a>, <a class=\"styled__ContentLink-sc-18yti3s-1 cRIWDW\" href=\"7-6-solving-systems-with-gaussian-elimination\"><span class=\"os-number\">7.6</span><span class=\"os-divider\"> </span><span class=\"os-text\" data-type=\"\" itemprop=\"\">Solving Systems with Gaussian Elimination</span></a>, <a class=\"styled__ContentLink-sc-18yti3s-1 cRIWDW\" href=\"7-7-solving-systems-with-inverses\"><span class=\"os-number\">7.7</span><span class=\"os-divider\"> </span><span class=\"os-text\" data-type=\"\" itemprop=\"\">Solving Systems with Inverses</span></a>, <a class=\"styled__ContentLink-sc-18yti3s-1 cRIWDW\" href=\"7-8-solving-systems-with-cramers-rule\"><span class=\"os-number\">7.8</span><span class=\"os-divider\"> </span><span class=\"os-text\" data-type=\"\" itemprop=\"\">Solving Systems with Cramer's Rule</span></a>, <a class=\"styled__ContentLink-sc-18yti3s-1 cRIWDW\" href=\"7-key-terms\"><span class=\"os-text\">Key Terms</span></a>, <a class=\"styled__ContentLink-sc-18yti3s-1 cRIWDW\" href=\"7-key-equations\"><span class=\"os-text\">Key Equations</span></a>, <a class=\"styled__ContentLink-sc-18yti3s-1 cRIWDW\" href=\"7-key-concepts\"><span class=\"os-text\">Key Concepts</span></a>, <a class=\"styled__ContentLink-sc-18yti3s-1 cRIWDW\" href=\"7-review-exercises\"><span class=\"os-text\">Review Exercises</span></a>, <a class=\"styled__ContentLink-sc-18yti3s-1 cRIWDW\" href=\"7-practice-test\"><span class=\"os-text\">Practice Test</span></a>, <a class=\"styled__ContentLink-sc-18yti3s-1 cRIWDW\" href=\"8-introduction-to-analytic-geometry\"><span class=\"os-text\" data-type=\"\" itemprop=\"\">Introduction to Analytic Geometry</span></a>, <a class=\"styled__ContentLink-sc-18yti3s-1 cRIWDW\" href=\"8-1-the-ellipse\"><span class=\"os-number\">8.1</span><span class=\"os-divider\"> </span><span class=\"os-text\" data-type=\"\" itemprop=\"\">The Ellipse</span></a>, <a class=\"styled__ContentLink-sc-18yti3s-1 cRIWDW\" href=\"8-2-the-hyperbola\"><span class=\"os-number\">8.2</span><span class=\"os-divider\"> </span><span class=\"os-text\" data-type=\"\" itemprop=\"\">The Hyperbola</span></a>, <a class=\"styled__ContentLink-sc-18yti3s-1 cRIWDW\" href=\"8-3-the-parabola\"><span class=\"os-number\">8.3</span><span class=\"os-divider\"> </span><span class=\"os-text\" data-type=\"\" itemprop=\"\">The Parabola</span></a>, <a class=\"styled__ContentLink-sc-18yti3s-1 cRIWDW\" href=\"8-4-rotation-of-axes\"><span class=\"os-number\">8.4</span><span class=\"os-divider\"> </span><span class=\"os-text\" data-type=\"\" itemprop=\"\">Rotation of Axes</span></a>, <a class=\"styled__ContentLink-sc-18yti3s-1 cRIWDW\" href=\"8-5-conic-sections-in-polar-coordinates\"><span class=\"os-number\">8.5</span><span class=\"os-divider\"> </span><span class=\"os-text\" data-type=\"\" itemprop=\"\">Conic Sections in Polar Coordinates</span></a>, <a class=\"styled__ContentLink-sc-18yti3s-1 cRIWDW\" href=\"8-key-terms\"><span class=\"os-text\">Key Terms</span></a>, <a class=\"styled__ContentLink-sc-18yti3s-1 cRIWDW\" href=\"8-key-equations\"><span class=\"os-text\">Key Equations</span></a>, <a class=\"styled__ContentLink-sc-18yti3s-1 cRIWDW\" href=\"8-key-concepts\"><span class=\"os-text\">Key Concepts</span></a>, <a class=\"styled__ContentLink-sc-18yti3s-1 cRIWDW\" href=\"8-review-exercises\"><span class=\"os-text\">Review Exercises</span></a>, <a class=\"styled__ContentLink-sc-18yti3s-1 cRIWDW\" href=\"8-practice-test\"><span class=\"os-text\">Practice Test</span></a>, <a class=\"styled__ContentLink-sc-18yti3s-1 cRIWDW\" href=\"9-introduction-to-sequences-probability-and-counting-theory\"><span class=\"os-text\" data-type=\"\" itemprop=\"\">Introduction to Sequences, Probability and Counting Theory</span></a>, <a class=\"styled__ContentLink-sc-18yti3s-1 cRIWDW\" href=\"9-1-sequences-and-their-notations\"><span class=\"os-number\">9.1</span><span class=\"os-divider\"> </span><span class=\"os-text\" data-type=\"\" itemprop=\"\">Sequences and Their Notations</span></a>, <a class=\"styled__ContentLink-sc-18yti3s-1 cRIWDW\" href=\"9-2-arithmetic-sequences\"><span class=\"os-number\">9.2</span><span class=\"os-divider\"> </span><span class=\"os-text\" data-type=\"\" itemprop=\"\">Arithmetic Sequences</span></a>, <a class=\"styled__ContentLink-sc-18yti3s-1 cRIWDW\" href=\"9-3-geometric-sequences\"><span class=\"os-number\">9.3</span><span class=\"os-divider\"> </span><span class=\"os-text\" data-type=\"\" itemprop=\"\">Geometric Sequences</span></a>, <a class=\"styled__ContentLink-sc-18yti3s-1 cRIWDW\" href=\"9-4-series-and-their-notations\"><span class=\"os-number\">9.4</span><span class=\"os-divider\"> </span><span class=\"os-text\" data-type=\"\" itemprop=\"\">Series and Their Notations</span></a>, <a class=\"styled__ContentLink-sc-18yti3s-1 cRIWDW\" href=\"9-5-counting-principles\"><span class=\"os-number\">9.5</span><span class=\"os-divider\"> </span><span class=\"os-text\" data-type=\"\" itemprop=\"\">Counting Principles</span></a>, <a class=\"styled__ContentLink-sc-18yti3s-1 cRIWDW\" href=\"9-6-binomial-theorem\"><span class=\"os-number\">9.6</span><span class=\"os-divider\"> </span><span class=\"os-text\" data-type=\"\" itemprop=\"\">Binomial Theorem</span></a>, <a class=\"styled__ContentLink-sc-18yti3s-1 cRIWDW\" href=\"9-7-probability\"><span class=\"os-number\">9.7</span><span class=\"os-divider\"> </span><span class=\"os-text\" data-type=\"\" itemprop=\"\">Probability</span></a>, <a class=\"styled__ContentLink-sc-18yti3s-1 cRIWDW\" href=\"9-key-terms\"><span class=\"os-text\">Key Terms</span></a>, <a class=\"styled__ContentLink-sc-18yti3s-1 cRIWDW\" href=\"9-key-equations\"><span class=\"os-text\">Key Equations</span></a>, <a class=\"styled__ContentLink-sc-18yti3s-1 cRIWDW\" href=\"9-key-concepts\"><span class=\"os-text\">Key Concepts</span></a>, <a class=\"styled__ContentLink-sc-18yti3s-1 cRIWDW\" href=\"9-review-exercises\"><span class=\"os-text\">Review Exercises</span></a>, <a class=\"styled__ContentLink-sc-18yti3s-1 cRIWDW\" href=\"9-practice-test\"><span class=\"os-text\">Practice Test</span></a>, <a class=\"styled__ContentLink-sc-18yti3s-1 cRIWDW\" href=\"chapter-1\"><span class=\"os-text\">Chapter 1</span></a>, <a class=\"styled__ContentLink-sc-18yti3s-1 cRIWDW\" href=\"chapter-2\"><span class=\"os-text\">Chapter 2</span></a>, <a class=\"styled__ContentLink-sc-18yti3s-1 cRIWDW\" href=\"chapter-3\"><span class=\"os-text\">Chapter 3</span></a>, <a class=\"styled__ContentLink-sc-18yti3s-1 cRIWDW\" href=\"chapter-4\"><span class=\"os-text\">Chapter 4</span></a>, <a class=\"styled__ContentLink-sc-18yti3s-1 cRIWDW\" href=\"chapter-5\"><span class=\"os-text\">Chapter 5</span></a>, <a class=\"styled__ContentLink-sc-18yti3s-1 cRIWDW\" href=\"chapter-6\"><span class=\"os-text\">Chapter 6</span></a>, <a class=\"styled__ContentLink-sc-18yti3s-1 cRIWDW\" href=\"chapter-7\"><span class=\"os-text\">Chapter 7</span></a>, <a class=\"styled__ContentLink-sc-18yti3s-1 cRIWDW\" href=\"chapter-8\"><span class=\"os-text\">Chapter 8</span></a>, <a class=\"styled__ContentLink-sc-18yti3s-1 cRIWDW\" href=\"chapter-9\"><span class=\"os-text\">Chapter 9</span></a>, <a class=\"styled__ContentLink-sc-18yti3s-1 cRIWDW\" href=\"index\"><span class=\"os-text\">Index</span></a>]\n"
     ]
    }
   ],
   "source": [
    "page = requests.get(textbook_first_pages[5])\n",
    "soup = BeautifulSoup(page.text, features='html.parser')\n",
    "#styled__ContentLink-sc-18yti3s-1 cRIWDW\n",
    "print(soup.find_all('a', class_='styled__ContentLink-sc-18yti3s-1 cRIWDW', href=True))"
   ]
  },
  {
   "cell_type": "markdown",
   "id": "797f5f5d-28d0-4798-b008-d194dfe44f06",
   "metadata": {},
   "source": [
    "# Old"
   ]
  },
  {
   "cell_type": "code",
   "execution_count": null,
   "id": "1fea1c2f-7d6a-4aa7-9935-ad2a4006aaf5",
   "metadata": {},
   "outputs": [],
   "source": [
    "def getText(URL):\n",
    "    r = requests.get(URL)\n",
    "    soup = BeautifulSoup(r.text, 'html.parser')\n",
    "    all_text = soup.get_text().lstrip('Learning Objectives').rstrip('PreviousNext')\n",
    "    selection_text = re.sub('PreviousNext.+', '', all_text, flags=re.DOTALL)\n",
    "    selection_text = re.sub('.+Learning Objectives', '', selection_text, flags=re.DOTALL)\n",
    "    return(selection_text)\n",
    "urls[:10]"
   ]
  },
  {
   "cell_type": "code",
   "execution_count": null,
   "id": "d8f54c27-7705-4ee1-a06e-06f4ee2c0e16",
   "metadata": {},
   "outputs": [],
   "source": [
    "def ScrapeTextbook(URL):\n",
    "    textbook_split = URL.split('/')\n",
    "    textbook_suffix = textbook_split[-1]\n",
    "    textbook_prefix = '/'.join(textbook_split[:-1])+'/'\n",
    "    print(textbook_prefix+textbook_suffix)\n",
    "    \n",
    "    textbook = \"https://openstax.org/books/us-history/pages/\"\n",
    "    #req = Request(textbook + \"1-introduction\")\n",
    "    req = Request(textbook_suffix + textbook_prefix)\n",
    "    html_page = urlopen(req)\n",
    "    soup = BeautifulSoup(html_page, \"html.parser\")\n",
    "\n",
    "    links = []\n",
    "    for link in soup.findAll('a'):\n",
    "        links.append(link.get('href'))\n",
    "    \n",
    "    section_urls = []\n",
    "    for link in links:\n",
    "        match = re.search('^[1234567890]+-', link)\n",
    "        if match:\n",
    "            if link.split('-')[1].isnumeric():\n",
    "                section_urls.append(textbook + link)\n",
    "                \n",
    "    section_dict = {'section':[], 'text':[]}\n",
    "    for section_url in section_urls:\n",
    "        section_number = '-'.join(section_url.split('/')[-1].split('-')[:2])\n",
    "        section_dict['section'].append(section_number)\n",
    "        section_dict['text'].append(getText(section_url))\n",
    "    \n",
    "    return section_dict"
   ]
  },
  {
   "cell_type": "code",
   "execution_count": null,
   "id": "8ae155af-3150-407c-899b-a685a76fbfac",
   "metadata": {},
   "outputs": [],
   "source": [
    "ScrapeTextbook(\"https://openstax.org/books/us-history/pages/1-introduction\")"
   ]
  }
 ],
 "metadata": {
  "kernelspec": {
   "display_name": "Python [conda env:webscrape]",
   "language": "python",
   "name": "conda-env-webscrape-py"
  },
  "language_info": {
   "codemirror_mode": {
    "name": "ipython",
    "version": 3
   },
   "file_extension": ".py",
   "mimetype": "text/x-python",
   "name": "python",
   "nbconvert_exporter": "python",
   "pygments_lexer": "ipython3",
   "version": "3.10.5"
  }
 },
 "nbformat": 4,
 "nbformat_minor": 5
}
