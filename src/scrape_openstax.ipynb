{
 "cells": [
  {
   "cell_type": "markdown",
   "id": "6ae0368e-2fb8-46e8-9a9b-c60859fd1182",
   "metadata": {},
   "source": []
  },
  {
   "cell_type": "code",
   "execution_count": 36,
   "id": "5496206e-d5f1-4d07-bac2-e724d8a69b73",
   "metadata": {},
   "outputs": [],
   "source": [
    "from bs4 import BeautifulSoup, SoupStrainer\n",
    "import requests\n",
    "import re\n",
    "from tqdm.auto import tqdm\n",
    "\n",
    "with open('../bin/textbook-first-pages.txt', 'r') as f:\n",
    "    textbook_first_pages = f.read().splitlines()"
   ]
  },
  {
   "cell_type": "code",
   "execution_count": 7,
   "id": "9cb4f66b-524f-423a-9974-1736c22c8a10",
   "metadata": {},
   "outputs": [
    {
     "name": "stdout",
     "output_type": "stream",
     "text": [
      "None\n"
     ]
    }
   ],
   "source": [
    "def key_terms(soup):\n",
    "    for a in soup.find_all('a', href=True):\n",
    "        if a.text == \"Next\" and a.get('href'):\n",
    "            return a.get('href')\n",
    "\n",
    "def next_section(soup):\n",
    "    for a in soup.find_all('a', href=True):\n",
    "        print(a)\n",
    "        if a.text == \"Next\" and a.get('href'):\n",
    "            return a.get('href')\n",
    "\n",
    "def section_generator(url):\n",
    "    while url:\n",
    "        page = requests.get(url)\n",
    "        soup = BeautifulSoup(page.text, features='html.parser')\n",
    "        # keyterms = key_terms(soup)\n",
    "        url = next_section(soup)\n",
    "        print(url)\n",
    "        # sectiontext = soup.text"
   ]
  },
  {
   "cell_type": "markdown",
   "id": "89708d4e-9667-436d-84e7-d0f09fbabdf9",
   "metadata": {},
   "source": [
    "## Class for Scraping OpenStax\n",
    "\n",
    "### Assumptions and Shortcuts\n",
    " - Ignoring any pages that do not start with digit-dash-digit, so '1-1-introduction' is fine but '1-Introudction' and 'Index' are ignored\n",
    " - Ignoring linebreaks. While these might be informative of document structure, I do not want to deal with them right now."
   ]
  },
  {
   "cell_type": "code",
   "execution_count": 71,
   "id": "08b6076a-5a81-40c8-87c8-66483d5087c2",
   "metadata": {},
   "outputs": [],
   "source": [
    "class StaxBook:\n",
    "    def __init__(self, first_page_url):\n",
    "        self.first_page_url = first_page_url\n",
    "        self.base_url = first_page_url.split('/pages/')[0] # a non-functional URL used to build other URLs\n",
    "        self.title = self.base_url.split('/')[-1]\n",
    "        self.sections = []\n",
    "        self.get_section_urls()\n",
    "        \n",
    "    def get_section_urls(self):\n",
    "        soup = BeautifulSoup(requests.get(self.first_page_url).text,\n",
    "                             features='html.parser')\n",
    "        \n",
    "        for a in soup.find_all('a',\n",
    "                               class_='styled__ContentLink-sc-18yti3s-1 cRIWDW',\n",
    "                               href=True):\n",
    "            match = re.search(r'^\\d+-\\d+', a['href'])\n",
    "            if match:\n",
    "                self.sections.append({\n",
    "                    'section': match[0],\n",
    "                    'url': '/'.join([self.base_url, 'pages', a['href']]),\n",
    "                })\n",
    "        \n",
    "    def scrape_one(self, soup):\n",
    "        text_elements = []\n",
    "        keyterm_spans = []\n",
    "        total_str_len = 0\n",
    "\n",
    "        for e in soup.strings:\n",
    "            if isinstance(e, str) and not e.isspace():\n",
    "                text = re.sub('\\s+', ' ', e.text) + ' '\n",
    "                if e.parent.attrs.get('data-type', None) == 'term':\n",
    "                    keyterm_spans.append((total_str_len, total_str_len + len(text) - 1 ))\n",
    "                text_elements.append(text)\n",
    "                total_str_len += len(text)\n",
    "                \n",
    "        return text_elements, keyterm_spans\n",
    "                     \n",
    "    def scrape_all(self):\n",
    "        for section in tqdm(self.sections):\n",
    "            soup = BeautifulSoup(requests.get(section['url']).content.decode('utf-8'),\n",
    "                                 features='html5lib').find('div', id='main-content')\n",
    "            section_text, section_labels = self.scrape_one(soup)\n",
    "            section['text'] = ''.join(section_text)\n",
    "            section['labels'] = section_labels"
   ]
  },
  {
   "cell_type": "code",
   "execution_count": 72,
   "id": "78b99620-88c7-4254-8c92-e1df63d787c1",
   "metadata": {},
   "outputs": [],
   "source": [
    "stax_books = [StaxBook(url) for url in textbook_first_pages]"
   ]
  },
  {
   "cell_type": "code",
   "execution_count": 77,
   "id": "03390c40-eff9-47df-838c-3d2497bb007c",
   "metadata": {},
   "outputs": [
    {
     "data": {
      "application/vnd.jupyter.widget-view+json": {
       "model_id": "0c4bd2fe239d41d989a397a1f6914f3d",
       "version_major": 2,
       "version_minor": 0
      },
      "text/plain": [
       "  0%|          | 0/79 [00:00<?, ?it/s]"
      ]
     },
     "metadata": {},
     "output_type": "display_data"
    },
    {
     "data": {
      "application/vnd.jupyter.widget-view+json": {
       "model_id": "891232bba07c46f6bba8c229fe9dccfa",
       "version_major": 2,
       "version_minor": 0
      },
      "text/plain": [
       "  0%|          | 0/45 [00:00<?, ?it/s]"
      ]
     },
     "metadata": {},
     "output_type": "display_data"
    },
    {
     "data": {
      "application/vnd.jupyter.widget-view+json": {
       "model_id": "8912b7ff2d5b41d09e9c4a0379cb80e7",
       "version_major": 2,
       "version_minor": 0
      },
      "text/plain": [
       "  0%|          | 0/43 [00:00<?, ?it/s]"
      ]
     },
     "metadata": {},
     "output_type": "display_data"
    },
    {
     "data": {
      "application/vnd.jupyter.widget-view+json": {
       "model_id": "4aa4f10af2774c68ac28513fbe42c2cc",
       "version_major": 2,
       "version_minor": 0
      },
      "text/plain": [
       "  0%|          | 0/43 [00:00<?, ?it/s]"
      ]
     },
     "metadata": {},
     "output_type": "display_data"
    },
    {
     "data": {
      "application/vnd.jupyter.widget-view+json": {
       "model_id": "5cd0dd0dd80a4c148f7f16a5d16ea5c8",
       "version_major": 2,
       "version_minor": 0
      },
      "text/plain": [
       "  0%|          | 0/59 [00:00<?, ?it/s]"
      ]
     },
     "metadata": {},
     "output_type": "display_data"
    },
    {
     "data": {
      "application/vnd.jupyter.widget-view+json": {
       "model_id": "53dc0750e6b24f0b9857664d0686a96c",
       "version_major": 2,
       "version_minor": 0
      },
      "text/plain": [
       "  0%|          | 0/59 [00:00<?, ?it/s]"
      ]
     },
     "metadata": {},
     "output_type": "display_data"
    },
    {
     "data": {
      "application/vnd.jupyter.widget-view+json": {
       "model_id": "240d0749d28444799f0dabb4e2e144ab",
       "version_major": 2,
       "version_minor": 0
      },
      "text/plain": [
       "  0%|          | 0/71 [00:00<?, ?it/s]"
      ]
     },
     "metadata": {},
     "output_type": "display_data"
    },
    {
     "data": {
      "application/vnd.jupyter.widget-view+json": {
       "model_id": "41d39c073a014ba587418c563c3db34b",
       "version_major": 2,
       "version_minor": 0
      },
      "text/plain": [
       "  0%|          | 0/70 [00:00<?, ?it/s]"
      ]
     },
     "metadata": {},
     "output_type": "display_data"
    },
    {
     "data": {
      "application/vnd.jupyter.widget-view+json": {
       "model_id": "69b0805064d74ff3909f3d16d1b69fbd",
       "version_major": 2,
       "version_minor": 0
      },
      "text/plain": [
       "  0%|          | 0/61 [00:00<?, ?it/s]"
      ]
     },
     "metadata": {},
     "output_type": "display_data"
    },
    {
     "data": {
      "application/vnd.jupyter.widget-view+json": {
       "model_id": "0e768fcce5ba4e6398e85c6d79162968",
       "version_major": 2,
       "version_minor": 0
      },
      "text/plain": [
       "  0%|          | 0/80 [00:00<?, ?it/s]"
      ]
     },
     "metadata": {},
     "output_type": "display_data"
    },
    {
     "data": {
      "application/vnd.jupyter.widget-view+json": {
       "model_id": "ee33a1d75a3f4aafb7b1abdce34d0a55",
       "version_major": 2,
       "version_minor": 0
      },
      "text/plain": [
       "  0%|          | 0/60 [00:00<?, ?it/s]"
      ]
     },
     "metadata": {},
     "output_type": "display_data"
    },
    {
     "data": {
      "application/vnd.jupyter.widget-view+json": {
       "model_id": "95549aa1f4114e958102a1f38ea5efcc",
       "version_major": 2,
       "version_minor": 0
      },
      "text/plain": [
       "  0%|          | 0/73 [00:00<?, ?it/s]"
      ]
     },
     "metadata": {},
     "output_type": "display_data"
    },
    {
     "data": {
      "application/vnd.jupyter.widget-view+json": {
       "model_id": "194bd653dcec4baaa319aeaea9df7727",
       "version_major": 2,
       "version_minor": 0
      },
      "text/plain": [
       "  0%|          | 0/79 [00:00<?, ?it/s]"
      ]
     },
     "metadata": {},
     "output_type": "display_data"
    },
    {
     "data": {
      "application/vnd.jupyter.widget-view+json": {
       "model_id": "7d8047a535b04903890455c7bc4406e0",
       "version_major": 2,
       "version_minor": 0
      },
      "text/plain": [
       "  0%|          | 0/169 [00:00<?, ?it/s]"
      ]
     },
     "metadata": {},
     "output_type": "display_data"
    },
    {
     "data": {
      "application/vnd.jupyter.widget-view+json": {
       "model_id": "dc00cb0ac3c7429ba0ec3c10cb1b5e9b",
       "version_major": 2,
       "version_minor": 0
      },
      "text/plain": [
       "  0%|          | 0/155 [00:00<?, ?it/s]"
      ]
     },
     "metadata": {},
     "output_type": "display_data"
    },
    {
     "data": {
      "application/vnd.jupyter.widget-view+json": {
       "model_id": "63d0fccfce344523a4f190a45323b5e0",
       "version_major": 2,
       "version_minor": 0
      },
      "text/plain": [
       "  0%|          | 0/208 [00:00<?, ?it/s]"
      ]
     },
     "metadata": {},
     "output_type": "display_data"
    },
    {
     "data": {
      "application/vnd.jupyter.widget-view+json": {
       "model_id": "89889aaaf82341e181c773e7af7e8de1",
       "version_major": 2,
       "version_minor": 0
      },
      "text/plain": [
       "  0%|          | 0/167 [00:00<?, ?it/s]"
      ]
     },
     "metadata": {},
     "output_type": "display_data"
    },
    {
     "data": {
      "application/vnd.jupyter.widget-view+json": {
       "model_id": "e373dbf5c53c43909723921fd828154e",
       "version_major": 2,
       "version_minor": 0
      },
      "text/plain": [
       "  0%|          | 0/114 [00:00<?, ?it/s]"
      ]
     },
     "metadata": {},
     "output_type": "display_data"
    },
    {
     "data": {
      "application/vnd.jupyter.widget-view+json": {
       "model_id": "5cff99f818744879b889bb708764978b",
       "version_major": 2,
       "version_minor": 0
      },
      "text/plain": [
       "  0%|          | 0/114 [00:00<?, ?it/s]"
      ]
     },
     "metadata": {},
     "output_type": "display_data"
    },
    {
     "data": {
      "application/vnd.jupyter.widget-view+json": {
       "model_id": "196e7175a33e44b6ba67abb5687dec21",
       "version_major": 2,
       "version_minor": 0
      },
      "text/plain": [
       "  0%|          | 0/244 [00:00<?, ?it/s]"
      ]
     },
     "metadata": {},
     "output_type": "display_data"
    },
    {
     "data": {
      "application/vnd.jupyter.widget-view+json": {
       "model_id": "e05245a5331e411d8b6342c945012680",
       "version_major": 2,
       "version_minor": 0
      },
      "text/plain": [
       "  0%|          | 0/244 [00:00<?, ?it/s]"
      ]
     },
     "metadata": {},
     "output_type": "display_data"
    },
    {
     "data": {
      "application/vnd.jupyter.widget-view+json": {
       "model_id": "47794b0d62d649c09ae861d347db2ee7",
       "version_major": 2,
       "version_minor": 0
      },
      "text/plain": [
       "  0%|          | 0/82 [00:00<?, ?it/s]"
      ]
     },
     "metadata": {},
     "output_type": "display_data"
    },
    {
     "data": {
      "application/vnd.jupyter.widget-view+json": {
       "model_id": "e160ba0b29a246cd9cd62375a8862260",
       "version_major": 2,
       "version_minor": 0
      },
      "text/plain": [
       "  0%|          | 0/127 [00:00<?, ?it/s]"
      ]
     },
     "metadata": {},
     "output_type": "display_data"
    },
    {
     "data": {
      "application/vnd.jupyter.widget-view+json": {
       "model_id": "ca5d1cfa36534e91b1e1c415f2b86413",
       "version_major": 2,
       "version_minor": 0
      },
      "text/plain": [
       "  0%|          | 0/75 [00:00<?, ?it/s]"
      ]
     },
     "metadata": {},
     "output_type": "display_data"
    },
    {
     "data": {
      "application/vnd.jupyter.widget-view+json": {
       "model_id": "d59722b270b84089a3672f09b8d1a2fd",
       "version_major": 2,
       "version_minor": 0
      },
      "text/plain": [
       "  0%|          | 0/99 [00:00<?, ?it/s]"
      ]
     },
     "metadata": {},
     "output_type": "display_data"
    },
    {
     "data": {
      "application/vnd.jupyter.widget-view+json": {
       "model_id": "03f685e298414be0bd21e5fc2f9f5ace",
       "version_major": 2,
       "version_minor": 0
      },
      "text/plain": [
       "  0%|          | 0/95 [00:00<?, ?it/s]"
      ]
     },
     "metadata": {},
     "output_type": "display_data"
    },
    {
     "data": {
      "application/vnd.jupyter.widget-view+json": {
       "model_id": "4dcc347828d34d479948c770a73c4ff0",
       "version_major": 2,
       "version_minor": 0
      },
      "text/plain": [
       "  0%|          | 0/76 [00:00<?, ?it/s]"
      ]
     },
     "metadata": {},
     "output_type": "display_data"
    },
    {
     "data": {
      "application/vnd.jupyter.widget-view+json": {
       "model_id": "f053243ba5b84c5c9a6632f2a976b0e1",
       "version_major": 2,
       "version_minor": 0
      },
      "text/plain": [
       "  0%|          | 0/77 [00:00<?, ?it/s]"
      ]
     },
     "metadata": {},
     "output_type": "display_data"
    },
    {
     "data": {
      "application/vnd.jupyter.widget-view+json": {
       "model_id": "ed9a306084d646a39bf7b15613e24f9f",
       "version_major": 2,
       "version_minor": 0
      },
      "text/plain": [
       "  0%|          | 0/100 [00:00<?, ?it/s]"
      ]
     },
     "metadata": {},
     "output_type": "display_data"
    },
    {
     "data": {
      "application/vnd.jupyter.widget-view+json": {
       "model_id": "eb09f3c1048743f59c2d61c13a741bf4",
       "version_major": 2,
       "version_minor": 0
      },
      "text/plain": [
       "  0%|          | 0/90 [00:00<?, ?it/s]"
      ]
     },
     "metadata": {},
     "output_type": "display_data"
    },
    {
     "data": {
      "application/vnd.jupyter.widget-view+json": {
       "model_id": "630ceebaff934fd594f3185c579874d5",
       "version_major": 2,
       "version_minor": 0
      },
      "text/plain": [
       "  0%|          | 0/74 [00:00<?, ?it/s]"
      ]
     },
     "metadata": {},
     "output_type": "display_data"
    },
    {
     "data": {
      "application/vnd.jupyter.widget-view+json": {
       "model_id": "9f3b0ebbff4f41959844c6aa74fa3466",
       "version_major": 2,
       "version_minor": 0
      },
      "text/plain": [
       "  0%|          | 0/142 [00:00<?, ?it/s]"
      ]
     },
     "metadata": {},
     "output_type": "display_data"
    },
    {
     "data": {
      "application/vnd.jupyter.widget-view+json": {
       "model_id": "890faae84fe24651b946517b99f3fb24",
       "version_major": 2,
       "version_minor": 0
      },
      "text/plain": [
       "  0%|          | 0/94 [00:00<?, ?it/s]"
      ]
     },
     "metadata": {},
     "output_type": "display_data"
    },
    {
     "data": {
      "application/vnd.jupyter.widget-view+json": {
       "model_id": "d9e7493bc80e41be920e2f8e995ec1ed",
       "version_major": 2,
       "version_minor": 0
      },
      "text/plain": [
       "  0%|          | 0/82 [00:00<?, ?it/s]"
      ]
     },
     "metadata": {},
     "output_type": "display_data"
    },
    {
     "data": {
      "application/vnd.jupyter.widget-view+json": {
       "model_id": "88a8044ce5b24a569e34274998549d7a",
       "version_major": 2,
       "version_minor": 0
      },
      "text/plain": [
       "  0%|          | 0/76 [00:00<?, ?it/s]"
      ]
     },
     "metadata": {},
     "output_type": "display_data"
    },
    {
     "data": {
      "application/vnd.jupyter.widget-view+json": {
       "model_id": "500f98df4f8044ee88a7f4c5d616482f",
       "version_major": 2,
       "version_minor": 0
      },
      "text/plain": [
       "  0%|          | 0/74 [00:00<?, ?it/s]"
      ]
     },
     "metadata": {},
     "output_type": "display_data"
    },
    {
     "data": {
      "application/vnd.jupyter.widget-view+json": {
       "model_id": "e8d2556bc7124ae69574122807b9c3e9",
       "version_major": 2,
       "version_minor": 0
      },
      "text/plain": [
       "  0%|          | 0/88 [00:00<?, ?it/s]"
      ]
     },
     "metadata": {},
     "output_type": "display_data"
    },
    {
     "data": {
      "application/vnd.jupyter.widget-view+json": {
       "model_id": "f3aa74496e124122810e5efce8596615",
       "version_major": 2,
       "version_minor": 0
      },
      "text/plain": [
       "  0%|          | 0/136 [00:00<?, ?it/s]"
      ]
     },
     "metadata": {},
     "output_type": "display_data"
    },
    {
     "data": {
      "application/vnd.jupyter.widget-view+json": {
       "model_id": "61dfffc19d6a489584ab0758d12c24f4",
       "version_major": 2,
       "version_minor": 0
      },
      "text/plain": [
       "  0%|          | 0/163 [00:00<?, ?it/s]"
      ]
     },
     "metadata": {},
     "output_type": "display_data"
    },
    {
     "data": {
      "application/vnd.jupyter.widget-view+json": {
       "model_id": "b4b56420bb8b40d8a844c14e3dcb0186",
       "version_major": 2,
       "version_minor": 0
      },
      "text/plain": [
       "  0%|          | 0/53 [00:00<?, ?it/s]"
      ]
     },
     "metadata": {},
     "output_type": "display_data"
    },
    {
     "data": {
      "application/vnd.jupyter.widget-view+json": {
       "model_id": "9fa0fa188cb34a79ace9fdba18642692",
       "version_major": 2,
       "version_minor": 0
      },
      "text/plain": [
       "  0%|          | 0/46 [00:00<?, ?it/s]"
      ]
     },
     "metadata": {},
     "output_type": "display_data"
    },
    {
     "data": {
      "application/vnd.jupyter.widget-view+json": {
       "model_id": "5e40707cc71c48b59f07c7bd30fe2915",
       "version_major": 2,
       "version_minor": 0
      },
      "text/plain": [
       "  0%|          | 0/32 [00:00<?, ?it/s]"
      ]
     },
     "metadata": {},
     "output_type": "display_data"
    },
    {
     "data": {
      "application/vnd.jupyter.widget-view+json": {
       "model_id": "09a263e6b65e48638ec8b5c35acb39b1",
       "version_major": 2,
       "version_minor": 0
      },
      "text/plain": [
       "  0%|          | 0/62 [00:00<?, ?it/s]"
      ]
     },
     "metadata": {},
     "output_type": "display_data"
    },
    {
     "data": {
      "application/vnd.jupyter.widget-view+json": {
       "model_id": "cd47a4d050274fcf936ed440a4e388bd",
       "version_major": 2,
       "version_minor": 0
      },
      "text/plain": [
       "  0%|          | 0/134 [00:00<?, ?it/s]"
      ]
     },
     "metadata": {},
     "output_type": "display_data"
    },
    {
     "data": {
      "application/vnd.jupyter.widget-view+json": {
       "model_id": "eba7534005bf4eeca899fbe1dec0fe2a",
       "version_major": 2,
       "version_minor": 0
      },
      "text/plain": [
       "  0%|          | 0/47 [00:00<?, ?it/s]"
      ]
     },
     "metadata": {},
     "output_type": "display_data"
    },
    {
     "data": {
      "application/vnd.jupyter.widget-view+json": {
       "model_id": "fa3a45ee22dc4a4cb2b1badacd1b2d64",
       "version_major": 2,
       "version_minor": 0
      },
      "text/plain": [
       "  0%|          | 0/61 [00:00<?, ?it/s]"
      ]
     },
     "metadata": {},
     "output_type": "display_data"
    },
    {
     "data": {
      "application/vnd.jupyter.widget-view+json": {
       "model_id": "7d333c3e1bcb4f1d8bc99b6e3ea8c658",
       "version_major": 2,
       "version_minor": 0
      },
      "text/plain": [
       "  0%|          | 0/99 [00:00<?, ?it/s]"
      ]
     },
     "metadata": {},
     "output_type": "display_data"
    },
    {
     "data": {
      "application/vnd.jupyter.widget-view+json": {
       "model_id": "6c9a63d44f874a178f492d41e8063e9b",
       "version_major": 2,
       "version_minor": 0
      },
      "text/plain": [
       "  0%|          | 0/84 [00:00<?, ?it/s]"
      ]
     },
     "metadata": {},
     "output_type": "display_data"
    },
    {
     "data": {
      "application/vnd.jupyter.widget-view+json": {
       "model_id": "adc5d031b24a4ffdb22f05bad1169de0",
       "version_major": 2,
       "version_minor": 0
      },
      "text/plain": [
       "  0%|          | 0/64 [00:00<?, ?it/s]"
      ]
     },
     "metadata": {},
     "output_type": "display_data"
    },
    {
     "data": {
      "application/vnd.jupyter.widget-view+json": {
       "model_id": "f08ff98bc8524a4daec4a2570d51ab50",
       "version_major": 2,
       "version_minor": 0
      },
      "text/plain": [
       "  0%|          | 0/110 [00:00<?, ?it/s]"
      ]
     },
     "metadata": {},
     "output_type": "display_data"
    },
    {
     "data": {
      "application/vnd.jupyter.widget-view+json": {
       "model_id": "48e3998fd77b40ce9f253e49b225c996",
       "version_major": 2,
       "version_minor": 0
      },
      "text/plain": [
       "  0%|          | 0/113 [00:00<?, ?it/s]"
      ]
     },
     "metadata": {},
     "output_type": "display_data"
    }
   ],
   "source": [
    "for book in stax_books:\n",
    "    book.scrape_all()"
   ]
  },
  {
   "cell_type": "code",
   "execution_count": 163,
   "id": "d55f8e00-29b8-42f6-a4c2-3564fd90c66e",
   "metadata": {},
   "outputs": [],
   "source": [
    "import pandas as pd\n",
    "\n",
    "def make_book_frame(texts):\n",
    "    book_frames = [pd.DataFrame(book.sections) for book in texts]\n",
    "    df = (pd\n",
    "          .concat(book_frames)\n",
    "          .reset_index(drop=True)\n",
    "          .assign(book=lambda x: x.url.str.split('/', expand=True)[4],\n",
    "                  terms=lambda x: x.apply(\n",
    "                      lambda row: [row.text[st:end] for (st, end) in row.labels], axis=1\n",
    "                  )\n",
    "                 )\n",
    "          .rename(columns={'labels': 'term_indices'})\n",
    "         )\n",
    "    return df[['book', 'section', 'url', 'text', 'terms', 'term_indices']]\n",
    "        \n",
    "book_frame = make_book_frame(stax_books)"
   ]
  },
  {
   "cell_type": "code",
   "execution_count": 169,
   "id": "e3018479-932a-42e0-816a-2930efe55380",
   "metadata": {},
   "outputs": [
    {
     "data": {
      "text/html": [
       "<div>\n",
       "<style scoped>\n",
       "    .dataframe tbody tr th:only-of-type {\n",
       "        vertical-align: middle;\n",
       "    }\n",
       "\n",
       "    .dataframe tbody tr th {\n",
       "        vertical-align: top;\n",
       "    }\n",
       "\n",
       "    .dataframe thead th {\n",
       "        text-align: right;\n",
       "    }\n",
       "</style>\n",
       "<table border=\"1\" class=\"dataframe\">\n",
       "  <thead>\n",
       "    <tr style=\"text-align: right;\">\n",
       "      <th></th>\n",
       "      <th>book</th>\n",
       "      <th>section</th>\n",
       "      <th>url</th>\n",
       "      <th>text</th>\n",
       "      <th>terms</th>\n",
       "      <th>term_indices</th>\n",
       "    </tr>\n",
       "  </thead>\n",
       "  <tbody>\n",
       "    <tr>\n",
       "      <th>1830</th>\n",
       "      <td>college-physics-2e</td>\n",
       "      <td>13-3</td>\n",
       "      <td>https://openstax.org/books/college-physics-2e/...</td>\n",
       "      <td>Learning Objectives By the end of this section...</td>\n",
       "      <td>[ideal gas law, Boltzmann constant, mole, Avog...</td>\n",
       "      <td>[(3548, 3561), (3811, 3829), (9307, 9311), (95...</td>\n",
       "    </tr>\n",
       "    <tr>\n",
       "      <th>2167</th>\n",
       "      <td>college-physics-ap-courses-2e</td>\n",
       "      <td>25-3</td>\n",
       "      <td>https://openstax.org/books/college-physics-ap-...</td>\n",
       "      <td>Learning Objectives By the end of this section...</td>\n",
       "      <td>[refraction, index of refraction, law of refra...</td>\n",
       "      <td>[(595, 605), (4931, 4950), (10033, 10050)]</td>\n",
       "    </tr>\n",
       "    <tr>\n",
       "      <th>3192</th>\n",
       "      <td>principles-economics-2e</td>\n",
       "      <td>16-2</td>\n",
       "      <td>https://openstax.org/books/principles-economic...</td>\n",
       "      <td>Learning Objectives  By the end of this sectio...</td>\n",
       "      <td>[Insurance, premiums, private insurance, Unemp...</td>\n",
       "      <td>[(293, 302), (507, 515), (4826, 4843), (5098, ...</td>\n",
       "    </tr>\n",
       "    <tr>\n",
       "      <th>2126</th>\n",
       "      <td>college-physics-ap-courses-2e</td>\n",
       "      <td>20-2</td>\n",
       "      <td>https://openstax.org/books/college-physics-ap-...</td>\n",
       "      <td>Learning Objectives By the end of this section...</td>\n",
       "      <td>[Ohm’s law, resistance, ohmic, ohm, simple cir...</td>\n",
       "      <td>[(1021, 1030), (1447, 1457), (2076, 2081), (24...</td>\n",
       "    </tr>\n",
       "    <tr>\n",
       "      <th>3631</th>\n",
       "      <td>psychology-2e</td>\n",
       "      <td>7-3</td>\n",
       "      <td>https://openstax.org/books/psychology-2e/pages...</td>\n",
       "      <td>Learning Objectives By the end of this section...</td>\n",
       "      <td>[problem-solving strategy, trial and error, al...</td>\n",
       "      <td>[(1250, 1274), (1445, 1460), (2491, 2500), (32...</td>\n",
       "    </tr>\n",
       "    <tr>\n",
       "      <th>146</th>\n",
       "      <td>calculus-volume-2</td>\n",
       "      <td>3-7</td>\n",
       "      <td>https://openstax.org/books/calculus-volume-2/p...</td>\n",
       "      <td>Learning Objectives 3.7.1 Evaluate an integral...</td>\n",
       "      <td>[improper integral, traffic accidents, probabi...</td>\n",
       "      <td>[(2226, 2243), (5896, 5913), (6327, 6338), (21...</td>\n",
       "    </tr>\n",
       "    <tr>\n",
       "      <th>1990</th>\n",
       "      <td>college-physics-2e</td>\n",
       "      <td>34-5</td>\n",
       "      <td>https://openstax.org/books/college-physics-2e/...</td>\n",
       "      <td>Learning Objectives By the end of this section...</td>\n",
       "      <td>[complexity, Chaos]</td>\n",
       "      <td>[(841, 851), (4845, 4850)]</td>\n",
       "    </tr>\n",
       "    <tr>\n",
       "      <th>803</th>\n",
       "      <td>statistics</td>\n",
       "      <td>11-3</td>\n",
       "      <td>https://openstax.org/books/statistics/pages/11...</td>\n",
       "      <td>Tests of independence involve using a  conting...</td>\n",
       "      <td>[contingency table, test of independence]</td>\n",
       "      <td>[(39, 56), (111, 131)]</td>\n",
       "    </tr>\n",
       "    <tr>\n",
       "      <th>3394</th>\n",
       "      <td>principles-macroeconomics-ap-courses-2e</td>\n",
       "      <td>7-3</td>\n",
       "      <td>https://openstax.org/books/principles-macroeco...</td>\n",
       "      <td>Learning Objectives By the end of this section...</td>\n",
       "      <td>[macro economy, cyclical unemployment, labor m...</td>\n",
       "      <td>[(1049, 1062), (1610, 1631), (1857, 1869), (33...</td>\n",
       "    </tr>\n",
       "    <tr>\n",
       "      <th>4317</th>\n",
       "      <td>introduction-intellectual-property</td>\n",
       "      <td>1-4</td>\n",
       "      <td>https://openstax.org/books/introduction-intell...</td>\n",
       "      <td>Learning Objectives After completing this sect...</td>\n",
       "      <td>[]</td>\n",
       "      <td>[]</td>\n",
       "    </tr>\n",
       "    <tr>\n",
       "      <th>4457</th>\n",
       "      <td>organizational-behavior</td>\n",
       "      <td>7-3</td>\n",
       "      <td>https://openstax.org/books/organizational-beha...</td>\n",
       "      <td>Describe the process theories of motivation, a...</td>\n",
       "      <td>[operant conditioning, operant conditioning th...</td>\n",
       "      <td>[(1151, 1171), (1625, 1652), (3286, 3299), (34...</td>\n",
       "    </tr>\n",
       "    <tr>\n",
       "      <th>1658</th>\n",
       "      <td>chemistry-atoms-first-2e</td>\n",
       "      <td>5-1</td>\n",
       "      <td>https://openstax.org/books/chemistry-atoms-fir...</td>\n",
       "      <td>Learning Objectives By the end of this section...</td>\n",
       "      <td>[Valence bond theory, overlap, sigma bonds (σ ...</td>\n",
       "      <td>[(1627, 1646), (1869, 1876), (5286, 5307), (58...</td>\n",
       "    </tr>\n",
       "    <tr>\n",
       "      <th>3386</th>\n",
       "      <td>principles-macroeconomics-ap-courses-2e</td>\n",
       "      <td>5-4</td>\n",
       "      <td>https://openstax.org/books/principles-macroeco...</td>\n",
       "      <td>Learning Objectives By the end of this section...</td>\n",
       "      <td>[exchange rate, purchasing power parity (PPP),...</td>\n",
       "      <td>[(1281, 1294), (1694, 1723), (4600, 4614)]</td>\n",
       "    </tr>\n",
       "    <tr>\n",
       "      <th>4504</th>\n",
       "      <td>organizational-behavior</td>\n",
       "      <td>16-3</td>\n",
       "      <td>https://openstax.org/books/organizational-beha...</td>\n",
       "      <td>How do managers deal with change? To this poin...</td>\n",
       "      <td>[Change management, organizational development...</td>\n",
       "      <td>[(307, 324), (494, 525), (605, 618), (2664, 26...</td>\n",
       "    </tr>\n",
       "    <tr>\n",
       "      <th>1745</th>\n",
       "      <td>chemistry-atoms-first-2e</td>\n",
       "      <td>21-1</td>\n",
       "      <td>https://openstax.org/books/chemistry-atoms-fir...</td>\n",
       "      <td>Learning Objectives By the end of this section...</td>\n",
       "      <td>[organic compounds, Alkanes, saturated hydroca...</td>\n",
       "      <td>[(877, 894), (1888, 1895), (1902, 1924), (3579...</td>\n",
       "    </tr>\n",
       "  </tbody>\n",
       "</table>\n",
       "</div>"
      ],
      "text/plain": [
       "                                         book section  \\\n",
       "1830                       college-physics-2e    13-3   \n",
       "2167            college-physics-ap-courses-2e    25-3   \n",
       "3192                  principles-economics-2e    16-2   \n",
       "2126            college-physics-ap-courses-2e    20-2   \n",
       "3631                            psychology-2e     7-3   \n",
       "146                         calculus-volume-2     3-7   \n",
       "1990                       college-physics-2e    34-5   \n",
       "803                                statistics    11-3   \n",
       "3394  principles-macroeconomics-ap-courses-2e     7-3   \n",
       "4317       introduction-intellectual-property     1-4   \n",
       "4457                  organizational-behavior     7-3   \n",
       "1658                 chemistry-atoms-first-2e     5-1   \n",
       "3386  principles-macroeconomics-ap-courses-2e     5-4   \n",
       "4504                  organizational-behavior    16-3   \n",
       "1745                 chemistry-atoms-first-2e    21-1   \n",
       "\n",
       "                                                    url  \\\n",
       "1830  https://openstax.org/books/college-physics-2e/...   \n",
       "2167  https://openstax.org/books/college-physics-ap-...   \n",
       "3192  https://openstax.org/books/principles-economic...   \n",
       "2126  https://openstax.org/books/college-physics-ap-...   \n",
       "3631  https://openstax.org/books/psychology-2e/pages...   \n",
       "146   https://openstax.org/books/calculus-volume-2/p...   \n",
       "1990  https://openstax.org/books/college-physics-2e/...   \n",
       "803   https://openstax.org/books/statistics/pages/11...   \n",
       "3394  https://openstax.org/books/principles-macroeco...   \n",
       "4317  https://openstax.org/books/introduction-intell...   \n",
       "4457  https://openstax.org/books/organizational-beha...   \n",
       "1658  https://openstax.org/books/chemistry-atoms-fir...   \n",
       "3386  https://openstax.org/books/principles-macroeco...   \n",
       "4504  https://openstax.org/books/organizational-beha...   \n",
       "1745  https://openstax.org/books/chemistry-atoms-fir...   \n",
       "\n",
       "                                                   text  \\\n",
       "1830  Learning Objectives By the end of this section...   \n",
       "2167  Learning Objectives By the end of this section...   \n",
       "3192  Learning Objectives  By the end of this sectio...   \n",
       "2126  Learning Objectives By the end of this section...   \n",
       "3631  Learning Objectives By the end of this section...   \n",
       "146   Learning Objectives 3.7.1 Evaluate an integral...   \n",
       "1990  Learning Objectives By the end of this section...   \n",
       "803   Tests of independence involve using a  conting...   \n",
       "3394  Learning Objectives By the end of this section...   \n",
       "4317  Learning Objectives After completing this sect...   \n",
       "4457  Describe the process theories of motivation, a...   \n",
       "1658  Learning Objectives By the end of this section...   \n",
       "3386  Learning Objectives By the end of this section...   \n",
       "4504  How do managers deal with change? To this poin...   \n",
       "1745  Learning Objectives By the end of this section...   \n",
       "\n",
       "                                                  terms  \\\n",
       "1830  [ideal gas law, Boltzmann constant, mole, Avog...   \n",
       "2167  [refraction, index of refraction, law of refra...   \n",
       "3192  [Insurance, premiums, private insurance, Unemp...   \n",
       "2126  [Ohm’s law, resistance, ohmic, ohm, simple cir...   \n",
       "3631  [problem-solving strategy, trial and error, al...   \n",
       "146   [improper integral, traffic accidents, probabi...   \n",
       "1990                                [complexity, Chaos]   \n",
       "803           [contingency table, test of independence]   \n",
       "3394  [macro economy, cyclical unemployment, labor m...   \n",
       "4317                                                 []   \n",
       "4457  [operant conditioning, operant conditioning th...   \n",
       "1658  [Valence bond theory, overlap, sigma bonds (σ ...   \n",
       "3386  [exchange rate, purchasing power parity (PPP),...   \n",
       "4504  [Change management, organizational development...   \n",
       "1745  [organic compounds, Alkanes, saturated hydroca...   \n",
       "\n",
       "                                           term_indices  \n",
       "1830  [(3548, 3561), (3811, 3829), (9307, 9311), (95...  \n",
       "2167         [(595, 605), (4931, 4950), (10033, 10050)]  \n",
       "3192  [(293, 302), (507, 515), (4826, 4843), (5098, ...  \n",
       "2126  [(1021, 1030), (1447, 1457), (2076, 2081), (24...  \n",
       "3631  [(1250, 1274), (1445, 1460), (2491, 2500), (32...  \n",
       "146   [(2226, 2243), (5896, 5913), (6327, 6338), (21...  \n",
       "1990                         [(841, 851), (4845, 4850)]  \n",
       "803                              [(39, 56), (111, 131)]  \n",
       "3394  [(1049, 1062), (1610, 1631), (1857, 1869), (33...  \n",
       "4317                                                 []  \n",
       "4457  [(1151, 1171), (1625, 1652), (3286, 3299), (34...  \n",
       "1658  [(1627, 1646), (1869, 1876), (5286, 5307), (58...  \n",
       "3386         [(1281, 1294), (1694, 1723), (4600, 4614)]  \n",
       "4504  [(307, 324), (494, 525), (605, 618), (2664, 26...  \n",
       "1745  [(877, 894), (1888, 1895), (1902, 1924), (3579...  "
      ]
     },
     "execution_count": 169,
     "metadata": {},
     "output_type": "execute_result"
    }
   ],
   "source": [
    "book_frame.sample(15)"
   ]
  },
  {
   "cell_type": "code",
   "execution_count": 167,
   "id": "6c8e85e3-7726-4e66-9d8e-a5e134161b28",
   "metadata": {},
   "outputs": [],
   "source": [
    "book_frame.to_parquet('../data/open-stax-texts-terms.parquet', index=False)"
   ]
  }
 ],
 "metadata": {
  "kernelspec": {
   "display_name": "Python [conda env:webscrape]",
   "language": "python",
   "name": "conda-env-webscrape-py"
  },
  "language_info": {
   "codemirror_mode": {
    "name": "ipython",
    "version": 3
   },
   "file_extension": ".py",
   "mimetype": "text/x-python",
   "name": "python",
   "nbconvert_exporter": "python",
   "pygments_lexer": "ipython3",
   "version": "3.10.5"
  }
 },
 "nbformat": 4,
 "nbformat_minor": 5
}
