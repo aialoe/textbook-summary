{
 "cells": [
  {
   "cell_type": "code",
   "execution_count": 1,
   "id": "5496206e-d5f1-4d07-bac2-e724d8a69b73",
   "metadata": {},
   "outputs": [],
   "source": [
    "from bs4 import BeautifulSoup, SoupStrainer\n",
    "import requests\n",
    "import re\n",
    "from tqdm.auto import tqdm\n",
    "\n",
    "with open('../bin/textbook-first-pages.txt', 'r') as f:\n",
    "    textbook_first_pages = f.read().splitlines()"
   ]
  },
  {
   "cell_type": "markdown",
   "id": "89708d4e-9667-436d-84e7-d0f09fbabdf9",
   "metadata": {},
   "source": [
    "## Class for Scraping OpenStax\n",
    "\n",
    "### Assumptions and Shortcuts\n",
    " - Ignoring any pages that do not start with digit-dash-digit, so '1-1-introduction' is fine but '1-Introudction' and 'Index' are ignored\n",
    " - Ignoring linebreaks. While these might be informative of document structure, I do not want to deal with them right now."
   ]
  },
  {
   "cell_type": "code",
   "execution_count": 2,
   "id": "08b6076a-5a81-40c8-87c8-66483d5087c2",
   "metadata": {},
   "outputs": [],
   "source": [
    "class StaxBook:\n",
    "    def __init__(self, first_page_url):\n",
    "        self.first_page_url = first_page_url\n",
    "        self.base_url = first_page_url.split('/pages/')[0] # a non-functional URL used to build other URLs\n",
    "        self.title = self.base_url.split('/')[-1]\n",
    "        self.sections = []\n",
    "        self.get_section_urls()\n",
    "        \n",
    "    def get_section_urls(self):\n",
    "        soup = BeautifulSoup(requests.get(self.first_page_url).text,\n",
    "                             features='html.parser')\n",
    "        \n",
    "        for a in soup.find_all('a',\n",
    "                               class_='styled__ContentLink-sc-18yti3s-1 cRIWDW',\n",
    "                               href=True):\n",
    "            match = re.search(r'^\\d+-\\d+', a['href'])\n",
    "            if match:\n",
    "                self.sections.append({\n",
    "                    'section': match[0],\n",
    "                    'url': '/'.join([self.base_url, 'pages', a['href']]),\n",
    "                })\n",
    "        \n",
    "    def scrape_one(self, soup):\n",
    "        text_elements = []\n",
    "        keyterm_spans = []\n",
    "        total_str_len = 0\n",
    "\n",
    "        for e in soup.strings:\n",
    "            if isinstance(e, str) and not e.isspace():\n",
    "                text = re.sub('\\s+', ' ', e.text) + ' ' # add a space at the end of each element\n",
    "                if e.parent.attrs.get('data-type', None) == 'term':\n",
    "                    try:\n",
    "                        keyterm_spans.append((total_str_len,\n",
    "                                              total_str_len + len(text) - 1, # -1 because we do not want the space we added earlier\n",
    "                                              e.parent.attrs.get('class', [''])[0] # returns list, so set default to list containing None and pull first elem\n",
    "                                             ))\n",
    "                    except Exception as e:\n",
    "                        print(e)\n",
    "                text_elements.append(text)\n",
    "                total_str_len += len(text)\n",
    "                \n",
    "        return text_elements, keyterm_spans\n",
    "                     \n",
    "    def scrape_all(self):\n",
    "        for section in tqdm(self.sections, leave=False):\n",
    "            soup = BeautifulSoup(requests.get(section['url']).content.decode('utf-8'),\n",
    "                                 features='html5lib').find('div', id='main-content')\n",
    "            section_text, section_labels = self.scrape_one(soup)\n",
    "            section['text'] = ''.join(section_text)\n",
    "            section['labels'] = section_labels"
   ]
  },
  {
   "cell_type": "code",
   "execution_count": 3,
   "id": "78b99620-88c7-4254-8c92-e1df63d787c1",
   "metadata": {},
   "outputs": [],
   "source": [
    "stax_books = [StaxBook(url) for url in textbook_first_pages]"
   ]
  },
  {
   "cell_type": "code",
   "execution_count": 4,
   "id": "03390c40-eff9-47df-838c-3d2497bb007c",
   "metadata": {},
   "outputs": [
    {
     "data": {
      "application/json": {
       "ascii": false,
       "bar_format": null,
       "colour": null,
       "elapsed": 0.025603771209716797,
       "initial": 0,
       "n": 0,
       "ncols": null,
       "nrows": null,
       "postfix": null,
       "prefix": "",
       "rate": null,
       "total": 51,
       "unit": "it",
       "unit_divisor": 1000,
       "unit_scale": false
      },
      "application/vnd.jupyter.widget-view+json": {
       "model_id": "c769e9771cbd451d9409946eada29483",
       "version_major": 2,
       "version_minor": 0
      },
      "text/plain": [
       "  0%|          | 0/51 [00:00<?, ?it/s]"
      ]
     },
     "metadata": {},
     "output_type": "display_data"
    },
    {
     "data": {
      "application/json": {
       "ascii": false,
       "bar_format": null,
       "colour": null,
       "elapsed": 0.011346578598022461,
       "initial": 0,
       "n": 0,
       "ncols": null,
       "nrows": null,
       "postfix": null,
       "prefix": "",
       "rate": null,
       "total": 79,
       "unit": "it",
       "unit_divisor": 1000,
       "unit_scale": false
      },
      "application/vnd.jupyter.widget-view+json": {
       "model_id": "",
       "version_major": 2,
       "version_minor": 0
      },
      "text/plain": [
       "  0%|          | 0/79 [00:00<?, ?it/s]"
      ]
     },
     "metadata": {},
     "output_type": "display_data"
    },
    {
     "data": {
      "application/json": {
       "ascii": false,
       "bar_format": null,
       "colour": null,
       "elapsed": 0.01101374626159668,
       "initial": 0,
       "n": 0,
       "ncols": null,
       "nrows": null,
       "postfix": null,
       "prefix": "",
       "rate": null,
       "total": 45,
       "unit": "it",
       "unit_divisor": 1000,
       "unit_scale": false
      },
      "application/vnd.jupyter.widget-view+json": {
       "model_id": "",
       "version_major": 2,
       "version_minor": 0
      },
      "text/plain": [
       "  0%|          | 0/45 [00:00<?, ?it/s]"
      ]
     },
     "metadata": {},
     "output_type": "display_data"
    },
    {
     "data": {
      "application/json": {
       "ascii": false,
       "bar_format": null,
       "colour": null,
       "elapsed": 0.01112055778503418,
       "initial": 0,
       "n": 0,
       "ncols": null,
       "nrows": null,
       "postfix": null,
       "prefix": "",
       "rate": null,
       "total": 43,
       "unit": "it",
       "unit_divisor": 1000,
       "unit_scale": false
      },
      "application/vnd.jupyter.widget-view+json": {
       "model_id": "",
       "version_major": 2,
       "version_minor": 0
      },
      "text/plain": [
       "  0%|          | 0/43 [00:00<?, ?it/s]"
      ]
     },
     "metadata": {},
     "output_type": "display_data"
    },
    {
     "data": {
      "application/json": {
       "ascii": false,
       "bar_format": null,
       "colour": null,
       "elapsed": 0.011023521423339844,
       "initial": 0,
       "n": 0,
       "ncols": null,
       "nrows": null,
       "postfix": null,
       "prefix": "",
       "rate": null,
       "total": 43,
       "unit": "it",
       "unit_divisor": 1000,
       "unit_scale": false
      },
      "application/vnd.jupyter.widget-view+json": {
       "model_id": "",
       "version_major": 2,
       "version_minor": 0
      },
      "text/plain": [
       "  0%|          | 0/43 [00:00<?, ?it/s]"
      ]
     },
     "metadata": {},
     "output_type": "display_data"
    },
    {
     "data": {
      "application/json": {
       "ascii": false,
       "bar_format": null,
       "colour": null,
       "elapsed": 0.010404586791992188,
       "initial": 0,
       "n": 0,
       "ncols": null,
       "nrows": null,
       "postfix": null,
       "prefix": "",
       "rate": null,
       "total": 59,
       "unit": "it",
       "unit_divisor": 1000,
       "unit_scale": false
      },
      "application/vnd.jupyter.widget-view+json": {
       "model_id": "",
       "version_major": 2,
       "version_minor": 0
      },
      "text/plain": [
       "  0%|          | 0/59 [00:00<?, ?it/s]"
      ]
     },
     "metadata": {},
     "output_type": "display_data"
    },
    {
     "data": {
      "application/json": {
       "ascii": false,
       "bar_format": null,
       "colour": null,
       "elapsed": 0.010657548904418945,
       "initial": 0,
       "n": 0,
       "ncols": null,
       "nrows": null,
       "postfix": null,
       "prefix": "",
       "rate": null,
       "total": 59,
       "unit": "it",
       "unit_divisor": 1000,
       "unit_scale": false
      },
      "application/vnd.jupyter.widget-view+json": {
       "model_id": "",
       "version_major": 2,
       "version_minor": 0
      },
      "text/plain": [
       "  0%|          | 0/59 [00:00<?, ?it/s]"
      ]
     },
     "metadata": {},
     "output_type": "display_data"
    },
    {
     "data": {
      "application/json": {
       "ascii": false,
       "bar_format": null,
       "colour": null,
       "elapsed": 0.010855913162231445,
       "initial": 0,
       "n": 0,
       "ncols": null,
       "nrows": null,
       "postfix": null,
       "prefix": "",
       "rate": null,
       "total": 71,
       "unit": "it",
       "unit_divisor": 1000,
       "unit_scale": false
      },
      "application/vnd.jupyter.widget-view+json": {
       "model_id": "",
       "version_major": 2,
       "version_minor": 0
      },
      "text/plain": [
       "  0%|          | 0/71 [00:00<?, ?it/s]"
      ]
     },
     "metadata": {},
     "output_type": "display_data"
    },
    {
     "data": {
      "application/json": {
       "ascii": false,
       "bar_format": null,
       "colour": null,
       "elapsed": 0.011046648025512695,
       "initial": 0,
       "n": 0,
       "ncols": null,
       "nrows": null,
       "postfix": null,
       "prefix": "",
       "rate": null,
       "total": 70,
       "unit": "it",
       "unit_divisor": 1000,
       "unit_scale": false
      },
      "application/vnd.jupyter.widget-view+json": {
       "model_id": "",
       "version_major": 2,
       "version_minor": 0
      },
      "text/plain": [
       "  0%|          | 0/70 [00:00<?, ?it/s]"
      ]
     },
     "metadata": {},
     "output_type": "display_data"
    },
    {
     "data": {
      "application/json": {
       "ascii": false,
       "bar_format": null,
       "colour": null,
       "elapsed": 0.010616064071655273,
       "initial": 0,
       "n": 0,
       "ncols": null,
       "nrows": null,
       "postfix": null,
       "prefix": "",
       "rate": null,
       "total": 61,
       "unit": "it",
       "unit_divisor": 1000,
       "unit_scale": false
      },
      "application/vnd.jupyter.widget-view+json": {
       "model_id": "",
       "version_major": 2,
       "version_minor": 0
      },
      "text/plain": [
       "  0%|          | 0/61 [00:00<?, ?it/s]"
      ]
     },
     "metadata": {},
     "output_type": "display_data"
    },
    {
     "data": {
      "application/json": {
       "ascii": false,
       "bar_format": null,
       "colour": null,
       "elapsed": 0.010840892791748047,
       "initial": 0,
       "n": 0,
       "ncols": null,
       "nrows": null,
       "postfix": null,
       "prefix": "",
       "rate": null,
       "total": 80,
       "unit": "it",
       "unit_divisor": 1000,
       "unit_scale": false
      },
      "application/vnd.jupyter.widget-view+json": {
       "model_id": "",
       "version_major": 2,
       "version_minor": 0
      },
      "text/plain": [
       "  0%|          | 0/80 [00:00<?, ?it/s]"
      ]
     },
     "metadata": {},
     "output_type": "display_data"
    },
    {
     "data": {
      "application/json": {
       "ascii": false,
       "bar_format": null,
       "colour": null,
       "elapsed": 0.010671615600585938,
       "initial": 0,
       "n": 0,
       "ncols": null,
       "nrows": null,
       "postfix": null,
       "prefix": "",
       "rate": null,
       "total": 60,
       "unit": "it",
       "unit_divisor": 1000,
       "unit_scale": false
      },
      "application/vnd.jupyter.widget-view+json": {
       "model_id": "",
       "version_major": 2,
       "version_minor": 0
      },
      "text/plain": [
       "  0%|          | 0/60 [00:00<?, ?it/s]"
      ]
     },
     "metadata": {},
     "output_type": "display_data"
    },
    {
     "data": {
      "application/json": {
       "ascii": false,
       "bar_format": null,
       "colour": null,
       "elapsed": 0.010934829711914062,
       "initial": 0,
       "n": 0,
       "ncols": null,
       "nrows": null,
       "postfix": null,
       "prefix": "",
       "rate": null,
       "total": 73,
       "unit": "it",
       "unit_divisor": 1000,
       "unit_scale": false
      },
      "application/vnd.jupyter.widget-view+json": {
       "model_id": "",
       "version_major": 2,
       "version_minor": 0
      },
      "text/plain": [
       "  0%|          | 0/73 [00:00<?, ?it/s]"
      ]
     },
     "metadata": {},
     "output_type": "display_data"
    },
    {
     "data": {
      "application/json": {
       "ascii": false,
       "bar_format": null,
       "colour": null,
       "elapsed": 0.010602235794067383,
       "initial": 0,
       "n": 0,
       "ncols": null,
       "nrows": null,
       "postfix": null,
       "prefix": "",
       "rate": null,
       "total": 79,
       "unit": "it",
       "unit_divisor": 1000,
       "unit_scale": false
      },
      "application/vnd.jupyter.widget-view+json": {
       "model_id": "",
       "version_major": 2,
       "version_minor": 0
      },
      "text/plain": [
       "  0%|          | 0/79 [00:00<?, ?it/s]"
      ]
     },
     "metadata": {},
     "output_type": "display_data"
    },
    {
     "data": {
      "application/json": {
       "ascii": false,
       "bar_format": null,
       "colour": null,
       "elapsed": 0.010840654373168945,
       "initial": 0,
       "n": 0,
       "ncols": null,
       "nrows": null,
       "postfix": null,
       "prefix": "",
       "rate": null,
       "total": 169,
       "unit": "it",
       "unit_divisor": 1000,
       "unit_scale": false
      },
      "application/vnd.jupyter.widget-view+json": {
       "model_id": "",
       "version_major": 2,
       "version_minor": 0
      },
      "text/plain": [
       "  0%|          | 0/169 [00:00<?, ?it/s]"
      ]
     },
     "metadata": {},
     "output_type": "display_data"
    },
    {
     "data": {
      "application/json": {
       "ascii": false,
       "bar_format": null,
       "colour": null,
       "elapsed": 0.010696172714233398,
       "initial": 0,
       "n": 0,
       "ncols": null,
       "nrows": null,
       "postfix": null,
       "prefix": "",
       "rate": null,
       "total": 155,
       "unit": "it",
       "unit_divisor": 1000,
       "unit_scale": false
      },
      "application/vnd.jupyter.widget-view+json": {
       "model_id": "",
       "version_major": 2,
       "version_minor": 0
      },
      "text/plain": [
       "  0%|          | 0/155 [00:00<?, ?it/s]"
      ]
     },
     "metadata": {},
     "output_type": "display_data"
    },
    {
     "data": {
      "application/json": {
       "ascii": false,
       "bar_format": null,
       "colour": null,
       "elapsed": 0.010957002639770508,
       "initial": 0,
       "n": 0,
       "ncols": null,
       "nrows": null,
       "postfix": null,
       "prefix": "",
       "rate": null,
       "total": 208,
       "unit": "it",
       "unit_divisor": 1000,
       "unit_scale": false
      },
      "application/vnd.jupyter.widget-view+json": {
       "model_id": "",
       "version_major": 2,
       "version_minor": 0
      },
      "text/plain": [
       "  0%|          | 0/208 [00:00<?, ?it/s]"
      ]
     },
     "metadata": {},
     "output_type": "display_data"
    },
    {
     "data": {
      "application/json": {
       "ascii": false,
       "bar_format": null,
       "colour": null,
       "elapsed": 0.01165914535522461,
       "initial": 0,
       "n": 0,
       "ncols": null,
       "nrows": null,
       "postfix": null,
       "prefix": "",
       "rate": null,
       "total": 167,
       "unit": "it",
       "unit_divisor": 1000,
       "unit_scale": false
      },
      "application/vnd.jupyter.widget-view+json": {
       "model_id": "",
       "version_major": 2,
       "version_minor": 0
      },
      "text/plain": [
       "  0%|          | 0/167 [00:00<?, ?it/s]"
      ]
     },
     "metadata": {},
     "output_type": "display_data"
    },
    {
     "data": {
      "application/json": {
       "ascii": false,
       "bar_format": null,
       "colour": null,
       "elapsed": 0.010582447052001953,
       "initial": 0,
       "n": 0,
       "ncols": null,
       "nrows": null,
       "postfix": null,
       "prefix": "",
       "rate": null,
       "total": 114,
       "unit": "it",
       "unit_divisor": 1000,
       "unit_scale": false
      },
      "application/vnd.jupyter.widget-view+json": {
       "model_id": "",
       "version_major": 2,
       "version_minor": 0
      },
      "text/plain": [
       "  0%|          | 0/114 [00:00<?, ?it/s]"
      ]
     },
     "metadata": {},
     "output_type": "display_data"
    },
    {
     "data": {
      "application/json": {
       "ascii": false,
       "bar_format": null,
       "colour": null,
       "elapsed": 0.010603189468383789,
       "initial": 0,
       "n": 0,
       "ncols": null,
       "nrows": null,
       "postfix": null,
       "prefix": "",
       "rate": null,
       "total": 114,
       "unit": "it",
       "unit_divisor": 1000,
       "unit_scale": false
      },
      "application/vnd.jupyter.widget-view+json": {
       "model_id": "",
       "version_major": 2,
       "version_minor": 0
      },
      "text/plain": [
       "  0%|          | 0/114 [00:00<?, ?it/s]"
      ]
     },
     "metadata": {},
     "output_type": "display_data"
    },
    {
     "data": {
      "application/json": {
       "ascii": false,
       "bar_format": null,
       "colour": null,
       "elapsed": 0.0109405517578125,
       "initial": 0,
       "n": 0,
       "ncols": null,
       "nrows": null,
       "postfix": null,
       "prefix": "",
       "rate": null,
       "total": 244,
       "unit": "it",
       "unit_divisor": 1000,
       "unit_scale": false
      },
      "application/vnd.jupyter.widget-view+json": {
       "model_id": "",
       "version_major": 2,
       "version_minor": 0
      },
      "text/plain": [
       "  0%|          | 0/244 [00:00<?, ?it/s]"
      ]
     },
     "metadata": {},
     "output_type": "display_data"
    },
    {
     "data": {
      "application/json": {
       "ascii": false,
       "bar_format": null,
       "colour": null,
       "elapsed": 0.010566949844360352,
       "initial": 0,
       "n": 0,
       "ncols": null,
       "nrows": null,
       "postfix": null,
       "prefix": "",
       "rate": null,
       "total": 244,
       "unit": "it",
       "unit_divisor": 1000,
       "unit_scale": false
      },
      "application/vnd.jupyter.widget-view+json": {
       "model_id": "",
       "version_major": 2,
       "version_minor": 0
      },
      "text/plain": [
       "  0%|          | 0/244 [00:00<?, ?it/s]"
      ]
     },
     "metadata": {},
     "output_type": "display_data"
    },
    {
     "data": {
      "application/json": {
       "ascii": false,
       "bar_format": null,
       "colour": null,
       "elapsed": 0.011027336120605469,
       "initial": 0,
       "n": 0,
       "ncols": null,
       "nrows": null,
       "postfix": null,
       "prefix": "",
       "rate": null,
       "total": 82,
       "unit": "it",
       "unit_divisor": 1000,
       "unit_scale": false
      },
      "application/vnd.jupyter.widget-view+json": {
       "model_id": "",
       "version_major": 2,
       "version_minor": 0
      },
      "text/plain": [
       "  0%|          | 0/82 [00:00<?, ?it/s]"
      ]
     },
     "metadata": {},
     "output_type": "display_data"
    },
    {
     "data": {
      "application/json": {
       "ascii": false,
       "bar_format": null,
       "colour": null,
       "elapsed": 0.010891437530517578,
       "initial": 0,
       "n": 0,
       "ncols": null,
       "nrows": null,
       "postfix": null,
       "prefix": "",
       "rate": null,
       "total": 127,
       "unit": "it",
       "unit_divisor": 1000,
       "unit_scale": false
      },
      "application/vnd.jupyter.widget-view+json": {
       "model_id": "",
       "version_major": 2,
       "version_minor": 0
      },
      "text/plain": [
       "  0%|          | 0/127 [00:00<?, ?it/s]"
      ]
     },
     "metadata": {},
     "output_type": "display_data"
    },
    {
     "data": {
      "application/json": {
       "ascii": false,
       "bar_format": null,
       "colour": null,
       "elapsed": 0.010891199111938477,
       "initial": 0,
       "n": 0,
       "ncols": null,
       "nrows": null,
       "postfix": null,
       "prefix": "",
       "rate": null,
       "total": 75,
       "unit": "it",
       "unit_divisor": 1000,
       "unit_scale": false
      },
      "application/vnd.jupyter.widget-view+json": {
       "model_id": "",
       "version_major": 2,
       "version_minor": 0
      },
      "text/plain": [
       "  0%|          | 0/75 [00:00<?, ?it/s]"
      ]
     },
     "metadata": {},
     "output_type": "display_data"
    },
    {
     "data": {
      "application/json": {
       "ascii": false,
       "bar_format": null,
       "colour": null,
       "elapsed": 0.010761260986328125,
       "initial": 0,
       "n": 0,
       "ncols": null,
       "nrows": null,
       "postfix": null,
       "prefix": "",
       "rate": null,
       "total": 99,
       "unit": "it",
       "unit_divisor": 1000,
       "unit_scale": false
      },
      "application/vnd.jupyter.widget-view+json": {
       "model_id": "",
       "version_major": 2,
       "version_minor": 0
      },
      "text/plain": [
       "  0%|          | 0/99 [00:00<?, ?it/s]"
      ]
     },
     "metadata": {},
     "output_type": "display_data"
    },
    {
     "data": {
      "application/json": {
       "ascii": false,
       "bar_format": null,
       "colour": null,
       "elapsed": 0.011180877685546875,
       "initial": 0,
       "n": 0,
       "ncols": null,
       "nrows": null,
       "postfix": null,
       "prefix": "",
       "rate": null,
       "total": 95,
       "unit": "it",
       "unit_divisor": 1000,
       "unit_scale": false
      },
      "application/vnd.jupyter.widget-view+json": {
       "model_id": "",
       "version_major": 2,
       "version_minor": 0
      },
      "text/plain": [
       "  0%|          | 0/95 [00:00<?, ?it/s]"
      ]
     },
     "metadata": {},
     "output_type": "display_data"
    },
    {
     "data": {
      "application/json": {
       "ascii": false,
       "bar_format": null,
       "colour": null,
       "elapsed": 0.01097726821899414,
       "initial": 0,
       "n": 0,
       "ncols": null,
       "nrows": null,
       "postfix": null,
       "prefix": "",
       "rate": null,
       "total": 76,
       "unit": "it",
       "unit_divisor": 1000,
       "unit_scale": false
      },
      "application/vnd.jupyter.widget-view+json": {
       "model_id": "",
       "version_major": 2,
       "version_minor": 0
      },
      "text/plain": [
       "  0%|          | 0/76 [00:00<?, ?it/s]"
      ]
     },
     "metadata": {},
     "output_type": "display_data"
    },
    {
     "data": {
      "application/json": {
       "ascii": false,
       "bar_format": null,
       "colour": null,
       "elapsed": 0.010541200637817383,
       "initial": 0,
       "n": 0,
       "ncols": null,
       "nrows": null,
       "postfix": null,
       "prefix": "",
       "rate": null,
       "total": 77,
       "unit": "it",
       "unit_divisor": 1000,
       "unit_scale": false
      },
      "application/vnd.jupyter.widget-view+json": {
       "model_id": "",
       "version_major": 2,
       "version_minor": 0
      },
      "text/plain": [
       "  0%|          | 0/77 [00:00<?, ?it/s]"
      ]
     },
     "metadata": {},
     "output_type": "display_data"
    },
    {
     "data": {
      "application/json": {
       "ascii": false,
       "bar_format": null,
       "colour": null,
       "elapsed": 0.010514497756958008,
       "initial": 0,
       "n": 0,
       "ncols": null,
       "nrows": null,
       "postfix": null,
       "prefix": "",
       "rate": null,
       "total": 100,
       "unit": "it",
       "unit_divisor": 1000,
       "unit_scale": false
      },
      "application/vnd.jupyter.widget-view+json": {
       "model_id": "",
       "version_major": 2,
       "version_minor": 0
      },
      "text/plain": [
       "  0%|          | 0/100 [00:00<?, ?it/s]"
      ]
     },
     "metadata": {},
     "output_type": "display_data"
    },
    {
     "data": {
      "application/json": {
       "ascii": false,
       "bar_format": null,
       "colour": null,
       "elapsed": 0.01100921630859375,
       "initial": 0,
       "n": 0,
       "ncols": null,
       "nrows": null,
       "postfix": null,
       "prefix": "",
       "rate": null,
       "total": 90,
       "unit": "it",
       "unit_divisor": 1000,
       "unit_scale": false
      },
      "application/vnd.jupyter.widget-view+json": {
       "model_id": "",
       "version_major": 2,
       "version_minor": 0
      },
      "text/plain": [
       "  0%|          | 0/90 [00:00<?, ?it/s]"
      ]
     },
     "metadata": {},
     "output_type": "display_data"
    },
    {
     "data": {
      "application/json": {
       "ascii": false,
       "bar_format": null,
       "colour": null,
       "elapsed": 0.010630369186401367,
       "initial": 0,
       "n": 0,
       "ncols": null,
       "nrows": null,
       "postfix": null,
       "prefix": "",
       "rate": null,
       "total": 74,
       "unit": "it",
       "unit_divisor": 1000,
       "unit_scale": false
      },
      "application/vnd.jupyter.widget-view+json": {
       "model_id": "",
       "version_major": 2,
       "version_minor": 0
      },
      "text/plain": [
       "  0%|          | 0/74 [00:00<?, ?it/s]"
      ]
     },
     "metadata": {},
     "output_type": "display_data"
    },
    {
     "data": {
      "application/json": {
       "ascii": false,
       "bar_format": null,
       "colour": null,
       "elapsed": 0.010893583297729492,
       "initial": 0,
       "n": 0,
       "ncols": null,
       "nrows": null,
       "postfix": null,
       "prefix": "",
       "rate": null,
       "total": 142,
       "unit": "it",
       "unit_divisor": 1000,
       "unit_scale": false
      },
      "application/vnd.jupyter.widget-view+json": {
       "model_id": "",
       "version_major": 2,
       "version_minor": 0
      },
      "text/plain": [
       "  0%|          | 0/142 [00:00<?, ?it/s]"
      ]
     },
     "metadata": {},
     "output_type": "display_data"
    },
    {
     "data": {
      "application/json": {
       "ascii": false,
       "bar_format": null,
       "colour": null,
       "elapsed": 0.01100778579711914,
       "initial": 0,
       "n": 0,
       "ncols": null,
       "nrows": null,
       "postfix": null,
       "prefix": "",
       "rate": null,
       "total": 94,
       "unit": "it",
       "unit_divisor": 1000,
       "unit_scale": false
      },
      "application/vnd.jupyter.widget-view+json": {
       "model_id": "",
       "version_major": 2,
       "version_minor": 0
      },
      "text/plain": [
       "  0%|          | 0/94 [00:00<?, ?it/s]"
      ]
     },
     "metadata": {},
     "output_type": "display_data"
    },
    {
     "data": {
      "application/json": {
       "ascii": false,
       "bar_format": null,
       "colour": null,
       "elapsed": 0.010634660720825195,
       "initial": 0,
       "n": 0,
       "ncols": null,
       "nrows": null,
       "postfix": null,
       "prefix": "",
       "rate": null,
       "total": 82,
       "unit": "it",
       "unit_divisor": 1000,
       "unit_scale": false
      },
      "application/vnd.jupyter.widget-view+json": {
       "model_id": "",
       "version_major": 2,
       "version_minor": 0
      },
      "text/plain": [
       "  0%|          | 0/82 [00:00<?, ?it/s]"
      ]
     },
     "metadata": {},
     "output_type": "display_data"
    },
    {
     "data": {
      "application/json": {
       "ascii": false,
       "bar_format": null,
       "colour": null,
       "elapsed": 0.010462045669555664,
       "initial": 0,
       "n": 0,
       "ncols": null,
       "nrows": null,
       "postfix": null,
       "prefix": "",
       "rate": null,
       "total": 76,
       "unit": "it",
       "unit_divisor": 1000,
       "unit_scale": false
      },
      "application/vnd.jupyter.widget-view+json": {
       "model_id": "",
       "version_major": 2,
       "version_minor": 0
      },
      "text/plain": [
       "  0%|          | 0/76 [00:00<?, ?it/s]"
      ]
     },
     "metadata": {},
     "output_type": "display_data"
    },
    {
     "data": {
      "application/json": {
       "ascii": false,
       "bar_format": null,
       "colour": null,
       "elapsed": 0.010944843292236328,
       "initial": 0,
       "n": 0,
       "ncols": null,
       "nrows": null,
       "postfix": null,
       "prefix": "",
       "rate": null,
       "total": 74,
       "unit": "it",
       "unit_divisor": 1000,
       "unit_scale": false
      },
      "application/vnd.jupyter.widget-view+json": {
       "model_id": "",
       "version_major": 2,
       "version_minor": 0
      },
      "text/plain": [
       "  0%|          | 0/74 [00:00<?, ?it/s]"
      ]
     },
     "metadata": {},
     "output_type": "display_data"
    },
    {
     "data": {
      "application/json": {
       "ascii": false,
       "bar_format": null,
       "colour": null,
       "elapsed": 0.01029825210571289,
       "initial": 0,
       "n": 0,
       "ncols": null,
       "nrows": null,
       "postfix": null,
       "prefix": "",
       "rate": null,
       "total": 88,
       "unit": "it",
       "unit_divisor": 1000,
       "unit_scale": false
      },
      "application/vnd.jupyter.widget-view+json": {
       "model_id": "",
       "version_major": 2,
       "version_minor": 0
      },
      "text/plain": [
       "  0%|          | 0/88 [00:00<?, ?it/s]"
      ]
     },
     "metadata": {},
     "output_type": "display_data"
    },
    {
     "data": {
      "application/json": {
       "ascii": false,
       "bar_format": null,
       "colour": null,
       "elapsed": 0.010433197021484375,
       "initial": 0,
       "n": 0,
       "ncols": null,
       "nrows": null,
       "postfix": null,
       "prefix": "",
       "rate": null,
       "total": 136,
       "unit": "it",
       "unit_divisor": 1000,
       "unit_scale": false
      },
      "application/vnd.jupyter.widget-view+json": {
       "model_id": "",
       "version_major": 2,
       "version_minor": 0
      },
      "text/plain": [
       "  0%|          | 0/136 [00:00<?, ?it/s]"
      ]
     },
     "metadata": {},
     "output_type": "display_data"
    },
    {
     "data": {
      "application/json": {
       "ascii": false,
       "bar_format": null,
       "colour": null,
       "elapsed": 0.010274648666381836,
       "initial": 0,
       "n": 0,
       "ncols": null,
       "nrows": null,
       "postfix": null,
       "prefix": "",
       "rate": null,
       "total": 163,
       "unit": "it",
       "unit_divisor": 1000,
       "unit_scale": false
      },
      "application/vnd.jupyter.widget-view+json": {
       "model_id": "",
       "version_major": 2,
       "version_minor": 0
      },
      "text/plain": [
       "  0%|          | 0/163 [00:00<?, ?it/s]"
      ]
     },
     "metadata": {},
     "output_type": "display_data"
    },
    {
     "data": {
      "application/json": {
       "ascii": false,
       "bar_format": null,
       "colour": null,
       "elapsed": 0.010945320129394531,
       "initial": 0,
       "n": 0,
       "ncols": null,
       "nrows": null,
       "postfix": null,
       "prefix": "",
       "rate": null,
       "total": 53,
       "unit": "it",
       "unit_divisor": 1000,
       "unit_scale": false
      },
      "application/vnd.jupyter.widget-view+json": {
       "model_id": "",
       "version_major": 2,
       "version_minor": 0
      },
      "text/plain": [
       "  0%|          | 0/53 [00:00<?, ?it/s]"
      ]
     },
     "metadata": {},
     "output_type": "display_data"
    },
    {
     "data": {
      "application/json": {
       "ascii": false,
       "bar_format": null,
       "colour": null,
       "elapsed": 0.010426044464111328,
       "initial": 0,
       "n": 0,
       "ncols": null,
       "nrows": null,
       "postfix": null,
       "prefix": "",
       "rate": null,
       "total": 46,
       "unit": "it",
       "unit_divisor": 1000,
       "unit_scale": false
      },
      "application/vnd.jupyter.widget-view+json": {
       "model_id": "",
       "version_major": 2,
       "version_minor": 0
      },
      "text/plain": [
       "  0%|          | 0/46 [00:00<?, ?it/s]"
      ]
     },
     "metadata": {},
     "output_type": "display_data"
    },
    {
     "data": {
      "application/json": {
       "ascii": false,
       "bar_format": null,
       "colour": null,
       "elapsed": 0.010793209075927734,
       "initial": 0,
       "n": 0,
       "ncols": null,
       "nrows": null,
       "postfix": null,
       "prefix": "",
       "rate": null,
       "total": 32,
       "unit": "it",
       "unit_divisor": 1000,
       "unit_scale": false
      },
      "application/vnd.jupyter.widget-view+json": {
       "model_id": "",
       "version_major": 2,
       "version_minor": 0
      },
      "text/plain": [
       "  0%|          | 0/32 [00:00<?, ?it/s]"
      ]
     },
     "metadata": {},
     "output_type": "display_data"
    },
    {
     "data": {
      "application/json": {
       "ascii": false,
       "bar_format": null,
       "colour": null,
       "elapsed": 0.01057577133178711,
       "initial": 0,
       "n": 0,
       "ncols": null,
       "nrows": null,
       "postfix": null,
       "prefix": "",
       "rate": null,
       "total": 62,
       "unit": "it",
       "unit_divisor": 1000,
       "unit_scale": false
      },
      "application/vnd.jupyter.widget-view+json": {
       "model_id": "",
       "version_major": 2,
       "version_minor": 0
      },
      "text/plain": [
       "  0%|          | 0/62 [00:00<?, ?it/s]"
      ]
     },
     "metadata": {},
     "output_type": "display_data"
    },
    {
     "data": {
      "application/json": {
       "ascii": false,
       "bar_format": null,
       "colour": null,
       "elapsed": 0.010469675064086914,
       "initial": 0,
       "n": 0,
       "ncols": null,
       "nrows": null,
       "postfix": null,
       "prefix": "",
       "rate": null,
       "total": 134,
       "unit": "it",
       "unit_divisor": 1000,
       "unit_scale": false
      },
      "application/vnd.jupyter.widget-view+json": {
       "model_id": "",
       "version_major": 2,
       "version_minor": 0
      },
      "text/plain": [
       "  0%|          | 0/134 [00:00<?, ?it/s]"
      ]
     },
     "metadata": {},
     "output_type": "display_data"
    },
    {
     "data": {
      "application/json": {
       "ascii": false,
       "bar_format": null,
       "colour": null,
       "elapsed": 0.010737895965576172,
       "initial": 0,
       "n": 0,
       "ncols": null,
       "nrows": null,
       "postfix": null,
       "prefix": "",
       "rate": null,
       "total": 47,
       "unit": "it",
       "unit_divisor": 1000,
       "unit_scale": false
      },
      "application/vnd.jupyter.widget-view+json": {
       "model_id": "",
       "version_major": 2,
       "version_minor": 0
      },
      "text/plain": [
       "  0%|          | 0/47 [00:00<?, ?it/s]"
      ]
     },
     "metadata": {},
     "output_type": "display_data"
    },
    {
     "data": {
      "application/json": {
       "ascii": false,
       "bar_format": null,
       "colour": null,
       "elapsed": 0.010523319244384766,
       "initial": 0,
       "n": 0,
       "ncols": null,
       "nrows": null,
       "postfix": null,
       "prefix": "",
       "rate": null,
       "total": 61,
       "unit": "it",
       "unit_divisor": 1000,
       "unit_scale": false
      },
      "application/vnd.jupyter.widget-view+json": {
       "model_id": "",
       "version_major": 2,
       "version_minor": 0
      },
      "text/plain": [
       "  0%|          | 0/61 [00:00<?, ?it/s]"
      ]
     },
     "metadata": {},
     "output_type": "display_data"
    },
    {
     "data": {
      "application/json": {
       "ascii": false,
       "bar_format": null,
       "colour": null,
       "elapsed": 0.010588884353637695,
       "initial": 0,
       "n": 0,
       "ncols": null,
       "nrows": null,
       "postfix": null,
       "prefix": "",
       "rate": null,
       "total": 99,
       "unit": "it",
       "unit_divisor": 1000,
       "unit_scale": false
      },
      "application/vnd.jupyter.widget-view+json": {
       "model_id": "",
       "version_major": 2,
       "version_minor": 0
      },
      "text/plain": [
       "  0%|          | 0/99 [00:00<?, ?it/s]"
      ]
     },
     "metadata": {},
     "output_type": "display_data"
    },
    {
     "data": {
      "application/json": {
       "ascii": false,
       "bar_format": null,
       "colour": null,
       "elapsed": 0.010545969009399414,
       "initial": 0,
       "n": 0,
       "ncols": null,
       "nrows": null,
       "postfix": null,
       "prefix": "",
       "rate": null,
       "total": 84,
       "unit": "it",
       "unit_divisor": 1000,
       "unit_scale": false
      },
      "application/vnd.jupyter.widget-view+json": {
       "model_id": "",
       "version_major": 2,
       "version_minor": 0
      },
      "text/plain": [
       "  0%|          | 0/84 [00:00<?, ?it/s]"
      ]
     },
     "metadata": {},
     "output_type": "display_data"
    },
    {
     "data": {
      "application/json": {
       "ascii": false,
       "bar_format": null,
       "colour": null,
       "elapsed": 0.01087331771850586,
       "initial": 0,
       "n": 0,
       "ncols": null,
       "nrows": null,
       "postfix": null,
       "prefix": "",
       "rate": null,
       "total": 64,
       "unit": "it",
       "unit_divisor": 1000,
       "unit_scale": false
      },
      "application/vnd.jupyter.widget-view+json": {
       "model_id": "",
       "version_major": 2,
       "version_minor": 0
      },
      "text/plain": [
       "  0%|          | 0/64 [00:00<?, ?it/s]"
      ]
     },
     "metadata": {},
     "output_type": "display_data"
    },
    {
     "data": {
      "application/json": {
       "ascii": false,
       "bar_format": null,
       "colour": null,
       "elapsed": 0.010721921920776367,
       "initial": 0,
       "n": 0,
       "ncols": null,
       "nrows": null,
       "postfix": null,
       "prefix": "",
       "rate": null,
       "total": 110,
       "unit": "it",
       "unit_divisor": 1000,
       "unit_scale": false
      },
      "application/vnd.jupyter.widget-view+json": {
       "model_id": "893c4c0e38854806bda317bc3068ea02",
       "version_major": 2,
       "version_minor": 0
      },
      "text/plain": [
       "  0%|          | 0/110 [00:00<?, ?it/s]"
      ]
     },
     "metadata": {},
     "output_type": "display_data"
    },
    {
     "data": {
      "application/json": {
       "ascii": false,
       "bar_format": null,
       "colour": null,
       "elapsed": 0.01027059555053711,
       "initial": 0,
       "n": 0,
       "ncols": null,
       "nrows": null,
       "postfix": null,
       "prefix": "",
       "rate": null,
       "total": 113,
       "unit": "it",
       "unit_divisor": 1000,
       "unit_scale": false
      },
      "application/vnd.jupyter.widget-view+json": {
       "model_id": "f107ce94afbd4655bf86cfb8c66fb8bd",
       "version_major": 2,
       "version_minor": 0
      },
      "text/plain": [
       "  0%|          | 0/113 [00:00<?, ?it/s]"
      ]
     },
     "metadata": {},
     "output_type": "display_data"
    }
   ],
   "source": [
    "for book in tqdm(stax_books):\n",
    "    book.scrape_all()"
   ]
  },
  {
   "cell_type": "code",
   "execution_count": 77,
   "id": "d55f8e00-29b8-42f6-a4c2-3564fd90c66e",
   "metadata": {},
   "outputs": [],
   "source": [
    "import pandas as pd\n",
    "\n",
    "def make_book_frame(texts):\n",
    "    book_frames = [pd.DataFrame(book.sections) for book in texts]\n",
    "    df = (pd\n",
    "          .concat(book_frames)\n",
    "          .reset_index(drop=True)\n",
    "          .assign(book=lambda x: x.url.str.split('/', expand=True)[4],\n",
    "                  terms=lambda x: x.apply(\n",
    "                      lambda row: [row.text[st:end] \n",
    "                                   for (st, end, label) in row.labels\n",
    "                                   if not label], axis=1\n",
    "                  ),\n",
    "                  no_emphasis_terms=lambda x: x.apply(\n",
    "                      lambda row: [row.text[st:end] \n",
    "                                   for (st, end, label) in row.labels\n",
    "                                   if label=='no-emphasis'],\n",
    "                      axis=1),\n",
    "                 )\n",
    "          .rename(columns={'labels': 'term_indices'})\n",
    "         )\n",
    "    return df[['book', 'section', 'url', 'text', 'terms', 'no_emphasis_terms', 'term_indices']]\n",
    "        \n",
    "book_frame = make_book_frame(stax_books)"
   ]
  },
  {
   "cell_type": "code",
   "execution_count": null,
   "id": "f80dbf29-d1ca-468d-8262-0afd46e845d4",
   "metadata": {},
   "outputs": [],
   "source": [
    "book_frame.sample(10).to_csv('../data/open-stax-texts-terms-10-sample.csv', index=False)"
   ]
  },
  {
   "cell_type": "code",
   "execution_count": 29,
   "id": "9a7dafc5-b5be-4400-b81d-3903e0631d5b",
   "metadata": {},
   "outputs": [],
   "source": [
    "import pyarrow as pa\n",
    "TermType = pa.map_(pa.uint64(), pa.uint64(), pa.string())\n",
    "# pa.array((st, end, label), type=TermType) \n",
    "{'st': st, 'end': end, 'label': label}"
   ]
  },
  {
   "cell_type": "code",
   "execution_count": 93,
   "id": "c5f70578-87b7-4108-9a80-e7a8ffd15528",
   "metadata": {},
   "outputs": [],
   "source": [
    "import pyarrow as pa\n",
    "\n",
    "TermType = pa.struct([\n",
    "    ('st', pa.uint64()),\n",
    "    ('end', pa.uint64()),\n",
    "    pa.field('label', pa.string(), nullable=True),\n",
    "])\n"
   ]
  },
  {
   "cell_type": "code",
   "execution_count": null,
   "id": "1a2821d4-aef9-4859-8bcb-766a481a492e",
   "metadata": {},
   "outputs": [],
   "source": [
    "for section in book_frame.term_indices[:500]:\n",
    "    for (st, end, label) in section:\n",
    "        try:\n",
    "            pa.array((st, end, label), type=TermType)\n",
    "        except Exception as e:\n",
    "            print(e)\n",
    "            print(int(st), end, label)"
   ]
  },
  {
   "cell_type": "code",
   "execution_count": 94,
   "id": "8c43aa94-df27-437f-b4dd-f02be1681dc0",
   "metadata": {},
   "outputs": [
    {
     "data": {
      "text/html": [
       "<div>\n",
       "<style scoped>\n",
       "    .dataframe tbody tr th:only-of-type {\n",
       "        vertical-align: middle;\n",
       "    }\n",
       "\n",
       "    .dataframe tbody tr th {\n",
       "        vertical-align: top;\n",
       "    }\n",
       "\n",
       "    .dataframe thead th {\n",
       "        text-align: right;\n",
       "    }\n",
       "</style>\n",
       "<table border=\"1\" class=\"dataframe\">\n",
       "  <thead>\n",
       "    <tr style=\"text-align: right;\">\n",
       "      <th></th>\n",
       "      <th>book</th>\n",
       "      <th>section</th>\n",
       "      <th>url</th>\n",
       "      <th>text</th>\n",
       "      <th>terms</th>\n",
       "      <th>no_emphasis_terms</th>\n",
       "      <th>term_indices</th>\n",
       "    </tr>\n",
       "  </thead>\n",
       "  <tbody>\n",
       "    <tr>\n",
       "      <th>560</th>\n",
       "      <td>introductory-statistics</td>\n",
       "      <td>5-3</td>\n",
       "      <td>https://openstax.org/books/introductory-statis...</td>\n",
       "      <td>The  exponential distribution  is often concer...</td>\n",
       "      <td>[exponential distribution, continuous random v...</td>\n",
       "      <td>[]</td>\n",
       "      <td>((st, end, label), (st, end, label), (st, end,...</td>\n",
       "    </tr>\n",
       "    <tr>\n",
       "      <th>3835</th>\n",
       "      <td>writing-guide</td>\n",
       "      <td>2-4</td>\n",
       "      <td>https://openstax.org/books/writing-guide/pages...</td>\n",
       "      <td>Learning Outcomes By the end of this section, ...</td>\n",
       "      <td>[]</td>\n",
       "      <td>[National Association for the Advancement of C...</td>\n",
       "      <td>((st, end, label), (st, end, label))</td>\n",
       "    </tr>\n",
       "    <tr>\n",
       "      <th>2378</th>\n",
       "      <td>microbiology</td>\n",
       "      <td>13-1</td>\n",
       "      <td>https://openstax.org/books/microbiology/pages/...</td>\n",
       "      <td>Learning Objectives By the end of this section...</td>\n",
       "      <td>[fomite, autoclave, sterilization, sterilant, ...</td>\n",
       "      <td>[botulism, endospore, biological safety levels...</td>\n",
       "      <td>((st, end, label), (st, end, label), (st, end,...</td>\n",
       "    </tr>\n",
       "    <tr>\n",
       "      <th>3609</th>\n",
       "      <td>psychology-2e</td>\n",
       "      <td>3-2</td>\n",
       "      <td>https://openstax.org/books/psychology-2e/pages...</td>\n",
       "      <td>Learning Objectives By the end of this section...</td>\n",
       "      <td>[nervous system, Glial cells, Neurons, semiper...</td>\n",
       "      <td>[Neurons, neuron, action potential, neurotrans...</td>\n",
       "      <td>((st, end, label), (st, end, label), (st, end,...</td>\n",
       "    </tr>\n",
       "    <tr>\n",
       "      <th>1752</th>\n",
       "      <td>college-physics-2e</td>\n",
       "      <td>1-4</td>\n",
       "      <td>https://openstax.org/books/college-physics-2e/...</td>\n",
       "      <td>Learning Objectives By the end of this section...</td>\n",
       "      <td>[approximations]</td>\n",
       "      <td>[]</td>\n",
       "      <td>((st, end, label))</td>\n",
       "    </tr>\n",
       "    <tr>\n",
       "      <th>2975</th>\n",
       "      <td>introduction-political-science</td>\n",
       "      <td>2-2</td>\n",
       "      <td>https://openstax.org/books/introduction-politi...</td>\n",
       "      <td>Learning Outcomes By the end of this section, ...</td>\n",
       "      <td>[rational, irrational, heuristics, fake news]</td>\n",
       "      <td>[Empirical, Kahneman, thinking fast, thinking ...</td>\n",
       "      <td>((st, end, label), (st, end, label), (st, end,...</td>\n",
       "    </tr>\n",
       "    <tr>\n",
       "      <th>599</th>\n",
       "      <td>introductory-statistics</td>\n",
       "      <td>12-4</td>\n",
       "      <td>https://openstax.org/books/introductory-statis...</td>\n",
       "      <td>The correlation coefficient,  r , tells us abo...</td>\n",
       "      <td>[]</td>\n",
       "      <td>[]</td>\n",
       "      <td>()</td>\n",
       "    </tr>\n",
       "    <tr>\n",
       "      <th>2976</th>\n",
       "      <td>introduction-political-science</td>\n",
       "      <td>2-3</td>\n",
       "      <td>https://openstax.org/books/introduction-politi...</td>\n",
       "      <td>Learning Outcomes By the end of this section, ...</td>\n",
       "      <td>[motivated reasoning]</td>\n",
       "      <td>[empirical, Green Party, Thunberg, Cuban Missi...</td>\n",
       "      <td>((st, end, label), (st, end, label), (st, end,...</td>\n",
       "    </tr>\n",
       "    <tr>\n",
       "      <th>155</th>\n",
       "      <td>calculus-volume-2</td>\n",
       "      <td>5-4</td>\n",
       "      <td>https://openstax.org/books/calculus-volume-2/p...</td>\n",
       "      <td>Learning Objectives 5.4.1 Use the comparison t...</td>\n",
       "      <td>[comparison test, limit comparison test]</td>\n",
       "      <td>[]</td>\n",
       "      <td>((st, end, label), (st, end, label))</td>\n",
       "    </tr>\n",
       "    <tr>\n",
       "      <th>4710</th>\n",
       "      <td>principles-finance</td>\n",
       "      <td>7-3</td>\n",
       "      <td>https://openstax.org/books/principles-finance/...</td>\n",
       "      <td>Learning Outcomes By the end of this section, ...</td>\n",
       "      <td>[single payment or lump sum]</td>\n",
       "      <td>[Excel]</td>\n",
       "      <td>((st, end, label), (st, end, label))</td>\n",
       "    </tr>\n",
       "  </tbody>\n",
       "</table>\n",
       "</div>"
      ],
      "text/plain": [
       "                                book section  \\\n",
       "560          introductory-statistics     5-3   \n",
       "3835                   writing-guide     2-4   \n",
       "2378                    microbiology    13-1   \n",
       "3609                   psychology-2e     3-2   \n",
       "1752              college-physics-2e     1-4   \n",
       "2975  introduction-political-science     2-2   \n",
       "599          introductory-statistics    12-4   \n",
       "2976  introduction-political-science     2-3   \n",
       "155                calculus-volume-2     5-4   \n",
       "4710              principles-finance     7-3   \n",
       "\n",
       "                                                    url  \\\n",
       "560   https://openstax.org/books/introductory-statis...   \n",
       "3835  https://openstax.org/books/writing-guide/pages...   \n",
       "2378  https://openstax.org/books/microbiology/pages/...   \n",
       "3609  https://openstax.org/books/psychology-2e/pages...   \n",
       "1752  https://openstax.org/books/college-physics-2e/...   \n",
       "2975  https://openstax.org/books/introduction-politi...   \n",
       "599   https://openstax.org/books/introductory-statis...   \n",
       "2976  https://openstax.org/books/introduction-politi...   \n",
       "155   https://openstax.org/books/calculus-volume-2/p...   \n",
       "4710  https://openstax.org/books/principles-finance/...   \n",
       "\n",
       "                                                   text  \\\n",
       "560   The  exponential distribution  is often concer...   \n",
       "3835  Learning Outcomes By the end of this section, ...   \n",
       "2378  Learning Objectives By the end of this section...   \n",
       "3609  Learning Objectives By the end of this section...   \n",
       "1752  Learning Objectives By the end of this section...   \n",
       "2975  Learning Outcomes By the end of this section, ...   \n",
       "599   The correlation coefficient,  r , tells us abo...   \n",
       "2976  Learning Outcomes By the end of this section, ...   \n",
       "155   Learning Objectives 5.4.1 Use the comparison t...   \n",
       "4710  Learning Outcomes By the end of this section, ...   \n",
       "\n",
       "                                                  terms  \\\n",
       "560   [exponential distribution, continuous random v...   \n",
       "3835                                                 []   \n",
       "2378  [fomite, autoclave, sterilization, sterilant, ...   \n",
       "3609  [nervous system, Glial cells, Neurons, semiper...   \n",
       "1752                                   [approximations]   \n",
       "2975      [rational, irrational, heuristics, fake news]   \n",
       "599                                                  []   \n",
       "2976                              [motivated reasoning]   \n",
       "155            [comparison test, limit comparison test]   \n",
       "4710                       [single payment or lump sum]   \n",
       "\n",
       "                                      no_emphasis_terms  \\\n",
       "560                                                  []   \n",
       "3835  [National Association for the Advancement of C...   \n",
       "2378  [botulism, endospore, biological safety levels...   \n",
       "3609  [Neurons, neuron, action potential, neurotrans...   \n",
       "1752                                                 []   \n",
       "2975  [Empirical, Kahneman, thinking fast, thinking ...   \n",
       "599                                                  []   \n",
       "2976  [empirical, Green Party, Thunberg, Cuban Missi...   \n",
       "155                                                  []   \n",
       "4710                                            [Excel]   \n",
       "\n",
       "                                           term_indices  \n",
       "560   ((st, end, label), (st, end, label), (st, end,...  \n",
       "3835               ((st, end, label), (st, end, label))  \n",
       "2378  ((st, end, label), (st, end, label), (st, end,...  \n",
       "3609  ((st, end, label), (st, end, label), (st, end,...  \n",
       "1752                                 ((st, end, label))  \n",
       "2975  ((st, end, label), (st, end, label), (st, end,...  \n",
       "599                                                  ()  \n",
       "2976  ((st, end, label), (st, end, label), (st, end,...  \n",
       "155                ((st, end, label), (st, end, label))  \n",
       "4710               ((st, end, label), (st, end, label))  "
      ]
     },
     "execution_count": 94,
     "metadata": {},
     "output_type": "execute_result"
    }
   ],
   "source": [
    "test_frame = book_frame.assign(term_indices = lambda x: [\n",
    "    pa.array(\n",
    "    [{'st': st, 'end': end, 'label': label} for (st, end, label) in y],\n",
    "        type=TermType)\n",
    "    for y in x.term_indices\n",
    "])\n",
    "test_frame.sample(10)"
   ]
  },
  {
   "cell_type": "code",
   "execution_count": 95,
   "id": "69a030a5-f79d-433e-8084-463195183c30",
   "metadata": {},
   "outputs": [
    {
     "data": {
      "text/plain": [
       "<pyarrow.lib.StructArray object at 0x7f848fe22440>\n",
       "-- is_valid: all not null\n",
       "-- child 0 type: uint64\n",
       "  [\n",
       "    142,\n",
       "    326,\n",
       "    521,\n",
       "    1465,\n",
       "    2503,\n",
       "    2607,\n",
       "    2827,\n",
       "    4102\n",
       "  ]\n",
       "-- child 1 type: uint64\n",
       "  [\n",
       "    180,\n",
       "    343,\n",
       "    556,\n",
       "    1491,\n",
       "    2520,\n",
       "    2619,\n",
       "    2841,\n",
       "    4119\n",
       "  ]\n",
       "-- child 2 type: string\n",
       "  [\n",
       "    null,\n",
       "    null,\n",
       "    null,\n",
       "    null,\n",
       "    null,\n",
       "    null,\n",
       "    null,\n",
       "    null\n",
       "  ]"
      ]
     },
     "execution_count": 95,
     "metadata": {},
     "output_type": "execute_result"
    }
   ],
   "source": [
    "test_frame.term_indices[4799]"
   ]
  },
  {
   "cell_type": "code",
   "execution_count": 98,
   "id": "fb23fc1a-915e-4f5a-8b73-0de9e7ee2856",
   "metadata": {},
   "outputs": [
    {
     "data": {
      "text/html": [
       "<div>\n",
       "<style scoped>\n",
       "    .dataframe tbody tr th:only-of-type {\n",
       "        vertical-align: middle;\n",
       "    }\n",
       "\n",
       "    .dataframe tbody tr th {\n",
       "        vertical-align: top;\n",
       "    }\n",
       "\n",
       "    .dataframe thead th {\n",
       "        text-align: right;\n",
       "    }\n",
       "</style>\n",
       "<table border=\"1\" class=\"dataframe\">\n",
       "  <thead>\n",
       "    <tr style=\"text-align: right;\">\n",
       "      <th></th>\n",
       "      <th>book</th>\n",
       "      <th>section</th>\n",
       "      <th>url</th>\n",
       "      <th>text</th>\n",
       "      <th>terms</th>\n",
       "      <th>no_emphasis_terms</th>\n",
       "      <th>term_indices</th>\n",
       "    </tr>\n",
       "  </thead>\n",
       "  <tbody>\n",
       "    <tr>\n",
       "      <th>1665</th>\n",
       "      <td>chemistry-atoms-first-2e</td>\n",
       "      <td>6-4</td>\n",
       "      <td>https://openstax.org/books/chemistry-atoms-fir...</td>\n",
       "      <td>Learning Objectives By the end of this section...</td>\n",
       "      <td>[mass percentage, volume percentage, mass-volu...</td>\n",
       "      <td>[]</td>\n",
       "      <td>[(906, 921, None), (5200, 5217, None), (6504, ...</td>\n",
       "    </tr>\n",
       "    <tr>\n",
       "      <th>2926</th>\n",
       "      <td>introduction-anthropology</td>\n",
       "      <td>11-4</td>\n",
       "      <td>https://openstax.org/books/introduction-anthro...</td>\n",
       "      <td>Learning Outcomes By the end of this section, ...</td>\n",
       "      <td>[Marriage, incest taboo, Monogamy, Serial mono...</td>\n",
       "      <td>[Miriam Zeitzen, Bao, bride price, Sitlhou, Ne...</td>\n",
       "      <td>[(810, 818, None), (2601, 2613, None), (5074, ...</td>\n",
       "    </tr>\n",
       "    <tr>\n",
       "      <th>4182</th>\n",
       "      <td>introduction-business</td>\n",
       "      <td>1-3</td>\n",
       "      <td>https://openstax.org/books/introduction-busine...</td>\n",
       "      <td>What are the primary features of the world’s e...</td>\n",
       "      <td>[economic system, Economics, Capitalism, commu...</td>\n",
       "      <td>[General Motors, Federal Reserve Board, Genera...</td>\n",
       "      <td>[(264, 279, None), (460, 469, None), (1192, 12...</td>\n",
       "    </tr>\n",
       "    <tr>\n",
       "      <th>1674</th>\n",
       "      <td>chemistry-atoms-first-2e</td>\n",
       "      <td>8-4</td>\n",
       "      <td>https://openstax.org/books/chemistry-atoms-fir...</td>\n",
       "      <td>Learning Objectives By the end of this section...</td>\n",
       "      <td>[mean free path, diffusion, rate of diffusion,...</td>\n",
       "      <td>[]</td>\n",
       "      <td>[(711, 725, None), (1216, 1225, None), (2375, ...</td>\n",
       "    </tr>\n",
       "    <tr>\n",
       "      <th>954</th>\n",
       "      <td>anatomy-and-physiology-2e</td>\n",
       "      <td>23-3</td>\n",
       "      <td>https://openstax.org/books/anatomy-and-physiol...</td>\n",
       "      <td>Learning Objectives By the end of this section...</td>\n",
       "      <td>[oral cavity, labia, labial frenulum, oral ves...</td>\n",
       "      <td>[]</td>\n",
       "      <td>[(747, 758, None), (889, 894, None), (1316, 13...</td>\n",
       "    </tr>\n",
       "    <tr>\n",
       "      <th>311</th>\n",
       "      <td>college-algebra-corequisite-support-2e</td>\n",
       "      <td>7-4</td>\n",
       "      <td>https://openstax.org/books/college-algebra-cor...</td>\n",
       "      <td>Learning Objectives In this section, you will:...</td>\n",
       "      <td>[partial fraction]</td>\n",
       "      <td>[partial fraction decomposition, rational expr...</td>\n",
       "      <td>[(9566, 9596, 'no-emphasis'), (9737, 9756, 'no...</td>\n",
       "    </tr>\n",
       "    <tr>\n",
       "      <th>956</th>\n",
       "      <td>anatomy-and-physiology-2e</td>\n",
       "      <td>23-5</td>\n",
       "      <td>https://openstax.org/books/anatomy-and-physiol...</td>\n",
       "      <td>Learning Objectives By the end of this section...</td>\n",
       "      <td>[small intestine, duodenum, hepatopancreatic a...</td>\n",
       "      <td>[]</td>\n",
       "      <td>[(1108, 1123, None), (2299, 2307, None), (2761...</td>\n",
       "    </tr>\n",
       "    <tr>\n",
       "      <th>4370</th>\n",
       "      <td>introductory-business-statistics</td>\n",
       "      <td>2-6</td>\n",
       "      <td>https://openstax.org/books/introductory-busine...</td>\n",
       "      <td>Consider the following data set.  4; 5; 6; 6; ...</td>\n",
       "      <td>[]</td>\n",
       "      <td>[]</td>\n",
       "      <td>[]</td>\n",
       "    </tr>\n",
       "    <tr>\n",
       "      <th>2048</th>\n",
       "      <td>college-physics-ap-courses-2e</td>\n",
       "      <td>9-6</td>\n",
       "      <td>https://openstax.org/books/college-physics-ap-...</td>\n",
       "      <td>Learning Objectives By the end of this section...</td>\n",
       "      <td>[]</td>\n",
       "      <td>[]</td>\n",
       "      <td>[]</td>\n",
       "    </tr>\n",
       "    <tr>\n",
       "      <th>304</th>\n",
       "      <td>college-algebra-corequisite-support-2e</td>\n",
       "      <td>6-5</td>\n",
       "      <td>https://openstax.org/books/college-algebra-cor...</td>\n",
       "      <td>Learning Objectives In this section, you will:...</td>\n",
       "      <td>[Product Property, Quotient Property, Power Pr...</td>\n",
       "      <td>[pH, one-to-one, product rule for logarithms, ...</td>\n",
       "      <td>[(1022, 1038, None), (1335, 1352, None), (1681...</td>\n",
       "    </tr>\n",
       "  </tbody>\n",
       "</table>\n",
       "</div>"
      ],
      "text/plain": [
       "                                        book section  \\\n",
       "1665                chemistry-atoms-first-2e     6-4   \n",
       "2926               introduction-anthropology    11-4   \n",
       "4182                   introduction-business     1-3   \n",
       "1674                chemistry-atoms-first-2e     8-4   \n",
       "954                anatomy-and-physiology-2e    23-3   \n",
       "311   college-algebra-corequisite-support-2e     7-4   \n",
       "956                anatomy-and-physiology-2e    23-5   \n",
       "4370        introductory-business-statistics     2-6   \n",
       "2048           college-physics-ap-courses-2e     9-6   \n",
       "304   college-algebra-corequisite-support-2e     6-5   \n",
       "\n",
       "                                                    url  \\\n",
       "1665  https://openstax.org/books/chemistry-atoms-fir...   \n",
       "2926  https://openstax.org/books/introduction-anthro...   \n",
       "4182  https://openstax.org/books/introduction-busine...   \n",
       "1674  https://openstax.org/books/chemistry-atoms-fir...   \n",
       "954   https://openstax.org/books/anatomy-and-physiol...   \n",
       "311   https://openstax.org/books/college-algebra-cor...   \n",
       "956   https://openstax.org/books/anatomy-and-physiol...   \n",
       "4370  https://openstax.org/books/introductory-busine...   \n",
       "2048  https://openstax.org/books/college-physics-ap-...   \n",
       "304   https://openstax.org/books/college-algebra-cor...   \n",
       "\n",
       "                                                   text  \\\n",
       "1665  Learning Objectives By the end of this section...   \n",
       "2926  Learning Outcomes By the end of this section, ...   \n",
       "4182  What are the primary features of the world’s e...   \n",
       "1674  Learning Objectives By the end of this section...   \n",
       "954   Learning Objectives By the end of this section...   \n",
       "311   Learning Objectives In this section, you will:...   \n",
       "956   Learning Objectives By the end of this section...   \n",
       "4370  Consider the following data set.  4; 5; 6; 6; ...   \n",
       "2048  Learning Objectives By the end of this section...   \n",
       "304   Learning Objectives In this section, you will:...   \n",
       "\n",
       "                                                  terms  \\\n",
       "1665  [mass percentage, volume percentage, mass-volu...   \n",
       "2926  [Marriage, incest taboo, Monogamy, Serial mono...   \n",
       "4182  [economic system, Economics, Capitalism, commu...   \n",
       "1674  [mean free path, diffusion, rate of diffusion,...   \n",
       "954   [oral cavity, labia, labial frenulum, oral ves...   \n",
       "311                                  [partial fraction]   \n",
       "956   [small intestine, duodenum, hepatopancreatic a...   \n",
       "4370                                                 []   \n",
       "2048                                                 []   \n",
       "304   [Product Property, Quotient Property, Power Pr...   \n",
       "\n",
       "                                      no_emphasis_terms  \\\n",
       "1665                                                 []   \n",
       "2926  [Miriam Zeitzen, Bao, bride price, Sitlhou, Ne...   \n",
       "4182  [General Motors, Federal Reserve Board, Genera...   \n",
       "1674                                                 []   \n",
       "954                                                  []   \n",
       "311   [partial fraction decomposition, rational expr...   \n",
       "956                                                  []   \n",
       "4370                                                 []   \n",
       "2048                                                 []   \n",
       "304   [pH, one-to-one, product rule for logarithms, ...   \n",
       "\n",
       "                                           term_indices  \n",
       "1665  [(906, 921, None), (5200, 5217, None), (6504, ...  \n",
       "2926  [(810, 818, None), (2601, 2613, None), (5074, ...  \n",
       "4182  [(264, 279, None), (460, 469, None), (1192, 12...  \n",
       "1674  [(711, 725, None), (1216, 1225, None), (2375, ...  \n",
       "954   [(747, 758, None), (889, 894, None), (1316, 13...  \n",
       "311   [(9566, 9596, 'no-emphasis'), (9737, 9756, 'no...  \n",
       "956   [(1108, 1123, None), (2299, 2307, None), (2761...  \n",
       "4370                                                 []  \n",
       "2048                                                 []  \n",
       "304   [(1022, 1038, None), (1335, 1352, None), (1681...  "
      ]
     },
     "execution_count": 98,
     "metadata": {},
     "output_type": "execute_result"
    }
   ],
   "source": [
    "test_frame = book_frame.assign(st = lambda x: x.term_indices.astype(str))\n",
    "test_frame.sample(10)"
   ]
  },
  {
   "cell_type": "code",
   "execution_count": 99,
   "id": "0a116081-2f71-40c5-ae70-8bee3b38615e",
   "metadata": {},
   "outputs": [
    {
     "data": {
      "text/plain": [
       "pyarrow.Table\n",
       "book: string\n",
       "section: string\n",
       "url: string\n",
       "text: string\n",
       "terms: list<item: string>\n",
       "  child 0, item: string\n",
       "no_emphasis_terms: list<item: string>\n",
       "  child 0, item: string\n",
       "term_indices: string\n",
       "----\n",
       "book: [[\"algebra-and-trigonometry-2e\",\"algebra-and-trigonometry-2e\",\"algebra-and-trigonometry-2e\",\"algebra-and-trigonometry-2e\",\"algebra-and-trigonometry-2e\",...,\"principles-management\",\"principles-management\",\"principles-management\",\"principles-management\",\"principles-management\"]]\n",
       "section: [[\"1-1\",\"1-2\",\"1-3\",\"1-4\",\"1-5\",...,\"18-3\",\"18-4\",\"18-5\",\"18-6\",\"18-7\"]]\n",
       "url: [[\"https://openstax.org/books/algebra-and-trigonometry-2e/pages/1-1-real-numbers-algebra-essentials\",\"https://openstax.org/books/algebra-and-trigonometry-2e/pages/1-2-exponents-and-scientific-notation\",\"https://openstax.org/books/algebra-and-trigonometry-2e/pages/1-3-radicals-and-rational-exponents\",\"https://openstax.org/books/algebra-and-trigonometry-2e/pages/1-4-polynomials\",\"https://openstax.org/books/algebra-and-trigonometry-2e/pages/1-5-factoring-polynomials\",...,\"https://openstax.org/books/principles-management/pages/18-3-external-sources-of-technology-and-innovation\",\"https://openstax.org/books/principles-management/pages/18-4-internal-sources-of-technology-and-innovation\",\"https://openstax.org/books/principles-management/pages/18-5-management-entrepreneurship-skills-for-technology-and-innovation\",\"https://openstax.org/books/principles-management/pages/18-6-skills-needed-for-mti\",\"https://openstax.org/books/principles-management/pages/18-7-managing-now-for-future-technology-and-innovation\"]]\n",
       "text: [[\"Learning Objectives In this section, you will: Classify a real number as a natural, whole, integer, rational, or irrational number. Perform calculations using order of operations. Use the following properties of real numbers: commutative, associative, distributive, inverse, and identity. Evaluate algebraic expressions. Simplify algebraic expressions. It is often said that mathematics is the language of science. If this is true, then an essential part of the language of mathematics is numbers. The earliest use of numbers occurred 100 centuries ago in the Middle East to count, or enumerate items. Farmers, cattle herders, and traders used tokens, stones, or markers to signify a single quantity—a sheaf of grain, a head of livestock, or a fixed length of cloth, for example. Doing so made commerce possible, leading to improved communications and the spread of civilization. Three to four thousand years ago, Egyptians introduced fractions. They first used them to show reciprocals. Later, they used them to represent the amount when a quantity was divided into equal parts. But what if there were no cattle to trade or an entire crop of grain was lost in a flood? How could someone indicate the existence of nothing? From earliest times, people had thought of a “base state” while counting and used various symbols to represent this null condition. However, it was not until about the fifth century CE in India that zero was added to the number system and used as a numeral in calculations. Clearly, there was also a need for numbers to represent loss or debt. In India, in the seventh century CE, negative numbers were used as solutions to mathematical equations and commercial debts. The opposites of the counting numbers expanded the number system even further. Because of the evolution of the number system, we can now perform complex calculations using these and other categories of real numbers. In this section, we will explore sets of numbers, calculations with different kinds of numbers, and the use of numbers in expressions. Classifying a Real Number The numbers we use for counting, or enumerating items, are the  natural numbers : 1, 2, 3, 4, 5, and so on. We describe them in set notation as  { 1 , 2 , 3 , ... } { 1 , 2 , 3 , ... }  where the ellipsis (…) indicates that the numbers continue to infinity. The natural numbers are, of course, also called the  counting numbers . Any time we enumerate the members of a team, count the coins in a collection, or tally the trees in a grove, we are using the set of natural numbers. The set of  whole numbers  is the set of natural numbers plus zero:  { 0 , 1 , 2 , 3 , ... } . { 0 , 1 , 2 , 3 , ... } . The set of  integers  adds the opposites of the natural numbers to the set of whole numbers:  { ... , −3 , −2 , −1 , 0 , 1 , 2 , 3 , ... } . { ... , −3 , −2 , −1 , 0 , 1 , 2 , 3 , ... } .  It is useful to note that the set of integers is made up of three distinct subsets: negative integers, zero, and positive integers. In this sense, the positive integers are just the natural numbers. Another way to think about it is that the natural numbers are a subset of the integers. … , −3 , −2 , −1 , negative integers 0 , zero 1 , 2 , 3 , ⋯ positive integers … , −3 , −2 , −1 , negative integers 0 , zero 1 , 2 , 3 , ⋯ positive integers The set of  rational numbers  is written as  { m n | m and  n are integers and  n ≠ 0 } . { m n | m and  n are integers and  n ≠ 0 } .  Notice from the definition that rational numbers are fractions (or quotients) containing integers in both the numerator and the denominator, and the denominator is never 0. We can also see that every natural number, whole number, and integer is a rational number with a denominator of 1. Because they are fractions, any rational number can also be expressed in decimal form. Any rational number can be represented as either: ⓐ a terminating decimal:  15 8 = 1.875 , 15 8 = 1.875 ,  or ⓑ a repeating decimal:  4 11 = 0.36363636 … = 0. 36 ¯ 4 11 = 0.36363636 … = 0. 36 ¯ We use a line drawn over the repeating block of numbers instead of writing the group multiple times. Example  1 Writing Integers as Rational Numbers Write each of the following as a rational number. ⓐ 7 ⓑ 0 ⓒ –8 Solution Write a fraction with the integer in the numerator and 1 in the denominator. ⓐ 7 = 7 1 7 = 7 1 ⓑ 0 = 0 1 0 = 0 1 ⓒ −8 = − 8 1 −8 = − 8 1 Try It  #1 Write each of the following as a rational number. ⓐ 11 ⓑ 3 ⓒ –4 Example  2 Identifying Rational Numbers Write each of the following rational numbers as either a terminating or repeating decimal. ⓐ − 5 7 − 5 7 ⓑ 15 5 15 5 ⓒ 13 25 13 25 Solution Write each fraction as a decimal by dividing the numerator by the denominator. ⓐ − 5 7 = −0. 714285 ——— , − 5 7 = −0. 714285 ——— ,  a repeating decimal ⓑ 15 5 = 3 15 5 = 3  (or 3.0), a terminating decimal ⓒ 13 25 = 0.52 , 13 25 = 0.52 ,  a terminating decimal Try It  #2 Write each of the following rational numbers as either a terminating or repeating decimal. ⓐ 68 17 68 17 ⓑ 8 13 8 13 ⓒ − 17 20 − 17 20 Irrational Numbers At some point in the ancient past, someone discovered that not all numbers are rational numbers. A builder, for instance, may have found that the diagonal of a square with unit sides was not 2 or even  3 2 , 3 2 ,  but was something else. Or a garment maker might have observed that the ratio of the circumference to the diameter of a roll of cloth was a little bit more than 3, but still not a rational number. Such numbers are said to be  irrational  because they cannot be written as fractions. These numbers make up the set of  irrational numbers . Irrational numbers cannot be expressed as a fraction of two integers. It is impossible to describe this set of numbers by a single rule except to say that a number is irrational if it is not rational. So we write this as shown. { h | h is not a rational number } { h | h is not a rational number } Example  3 Differentiating Rational and Irrational Numbers  Determine whether each of the following numbers is rational or irrational. If it is rational, determine whether it is a terminating or repeating decimal. ⓐ 25 25 ⓑ 33 9 33 9 ⓒ 11 11 ⓓ 17 34 17 34 ⓔ 0.3033033303333 … 0.3033033303333 … Solution ⓐ 25 : 25 :  This can be simplified as  25 = 5. 25 = 5.  Therefore,  25 25  is rational. ⓑ 33 9 : 33 9 :  Because it is a fraction of integers,  33 9 33 9  is a rational number. Next, simplify and divide.  33 9 = 33 11 9 3 = 11 3 = 3. 6 ¯ 33 9 = 33 11 9 3 = 11 3 = 3. 6 ¯ So,  33 9 33 9  is rational and a repeating decimal. ⓒ 11 : 11 11 : 11  is irrational and cannot be simplified any further. ⓓ 17 34 : 17 34 :  Because it is a fraction of integers,  17 34 17 34  is a rational number. Simplify and divide.  17 34 = 17 1 34 2 = 1 2 = 0.5 17 34 = 17 1 34 2 = 1 2 = 0.5 So,  17 34 17 34  is rational and a terminating decimal. ⓔ 0.3033033303333 … 0.3033033303333 …  is not a terminating decimal. Also note that there is no repeating pattern because the group of 3s increases each time. Therefore it is neither a terminating nor a repeating decimal and, hence, not a rational number. It is an irrational number. Try It  #3 Determine whether each of the following numbers is rational or irrational. If it is rational, determine whether it is a terminating or repeating decimal. ⓐ 7 77 7 77 ⓑ 81 81 ⓒ 4.27027002700027 … 4.27027002700027 … ⓓ 91 13 91 13 ⓔ 39 39 Real Numbers Given any number  n , we know that  n  is either rational or irrational. It cannot be both. The sets of rational and irrational numbers together make up the set of  real numbers . As we saw with integers, the real numbers can be divided into three subsets: negative real numbers, zero, and positive real numbers. Each subset includes fractions, decimals, and irrational numbers according to their algebraic sign (+ or –). Zero is considered neither positive nor negative. The real numbers can be visualized on a horizontal number line with an arbitrary point chosen as 0, with negative numbers to the left of 0 and positive numbers to the right of 0. A fixed unit distance is then used to mark off each integer (or other basic value) on either side of 0. Any real number corresponds to a unique position on the number line.The converse is also true: Each location on the number line corresponds to exactly one real number. This is known as a one-to-one correspondence. We refer to this as the  real number line  as shown in  Figure 1 . Figure  1 The real number line Example  4 Classifying Real Numbers  Classify each number as either positive or negative and as either rational or irrational. Does the number lie to the left or the right of 0 on the number line? ⓐ − 10 3 − 10 3 ⓑ 5 5 ⓒ − 289 − 289 ⓓ −6 π −6 π ⓔ 0.615384615384 … 0.615384615384 … Solution ⓐ − 10 3 − 10 3  is negative and rational. It lies to the left of 0 on the number line. ⓑ 5 5  is positive and irrational. It lies to the right of 0. ⓒ − 289 = − 17 2 = −17 − 289 = − 17 2 = −17  is negative and rational. It lies to the left of 0. ⓓ −6 π −6 π  is negative and irrational. It lies to the left of 0. ⓔ 0.615384615384 … 0.615384615384 …  is a repeating decimal so it is rational and positive. It lies to the right of 0. Try It  #4 Classify each number as either positive or negative and as either rational or irrational. Does the number lie to the left or the right of 0 on the number line? ⓐ 73 73 ⓑ −11.411411411 … −11.411411411 … ⓒ 47 19 47 19 ⓓ − 5 2 − 5 2 ⓔ 6.210735 6.210735 Sets of Numbers as Subsets Beginning with the natural numbers, we have expanded each set to form a larger set, meaning that there is a subset relationship between the sets of numbers we have encountered so far. These relationships become more obvious when seen as a diagram, such as  Figure 2 . Figure  2 Sets of numbers N : the set of natural numbers W : the set of whole numbers I : the set of integers Q : the set of rational numbers Q ´: the set of irrational numbers Sets of Numbers The set of  natural numbers  includes the numbers used for counting:  { 1 , 2 , 3 , ... } . { 1 , 2 , 3 , ... } . The set of  whole numbers  is the set of natural numbers plus zero:  { 0 , 1 , 2 , 3 , ... } . { 0 , 1 , 2 , 3 , ... } . The set of  integers  adds the negative natural numbers to the set of whole numbers:  { ... , −3 , −2 , −1 , 0 , 1 , 2 , 3 , ... } . { ... , −3 , −2 , −1 , 0 , 1 , 2 , 3 , ... } . The set of  rational numbers  includes fractions written as  { m n | m and  n are integers and  n ≠ 0 } . { m n | m and  n are integers and  n ≠ 0 } . The set of  irrational numbers  is the set of numbers that are not rational, are nonrepeating, and are nonterminating:  { h | h is not a rational number } . { h | h is not a rational number } . Example  5 Differentiating the Sets of Numbers  Classify each number as being a natural number ( N ), whole number ( W ), integer ( I ), rational number ( Q ), and/or irrational number ( Q′ ). ⓐ 36 36 ⓑ 8 3 8 3 ⓒ 73 73 ⓓ −6 −6 ⓔ 3.2121121112 … 3.2121121112 … Solution N W I Q Q′ a.  36 = 6 36 = 6 X X X X b.  8 3 = 2. 6 ¯ 8 3 = 2. 6 ¯ X c.  73 73 X d. –6 X X e. 3.2121121112... X Try It  #5 Classify each number as being a natural number ( N ), whole number ( W ), integer ( I ), rational number ( Q ), and/or irrational number ( Q′ ). ⓐ − 35 7 − 35 7 ⓑ 0 0 ⓒ 169 169 ⓓ 24 24 ⓔ 4.763763763 … 4.763763763 … Performing Calculations Using the Order of Operations When we multiply a number by itself, we square it or raise it to a power of 2. For example,  4 2 = 4 ⋅ 4 = 16. 4 2 = 4 ⋅ 4 = 16.  We can raise any number to any power. In general, the  exponential notation a n a n  means that the number or variable  a a  is used as a factor  n n  times. a n = a ⋅ a ⋅ a ⋅ … ⋅ a n factors a n = a ⋅ a ⋅ a ⋅ … ⋅ a n factors In this notation,  a n a n  is read as the  n th power of  a , a , or  a a  to the  n n  where  a a  is called the  base  and  n n  is called the  exponent .  A term in exponential notation may be part of a mathematical expression, which is a combination of numbers and operations. For example,  24 + 6 ⋅ 2 3 − 4 2 24 + 6 ⋅ 2 3 − 4 2  is a mathematical expression. To evaluate a mathematical expression, we perform the various operations. However, we do not perform them in any random order. We use the  order of operations . This is a sequence of rules for evaluating such expressions. Recall that in mathematics we use parentheses ( ), brackets [ ], and braces { } to group numbers and expressions so that anything appearing within the symbols is treated as a unit. Additionally, fraction bars, radicals, and absolute value bars are treated as grouping symbols. When evaluating a mathematical expression, begin by simplifying expressions within grouping symbols. The next step is to address any exponents or radicals. Afterward, perform multiplication and division from left to right and finally addition and subtraction from left to right. Let’s take a look at the expression provided. 24 + 6 ⋅ 2 3 − 4 2 24 + 6 ⋅ 2 3 − 4 2 There are no grouping symbols, so we move on to exponents or radicals. The number 4 is raised to a power of 2, so simplify  4 2 4 2  as 16. 24 + 6 ⋅ 2 3 − 4 2 24 + 6 ⋅ 2 3 − 16 24 + 6 ⋅ 2 3 − 4 2 24 + 6 ⋅ 2 3 − 16 Next, perform multiplication or division, left to right. 24 + 6 ⋅ 2 3 − 16 24 + 4 − 16 24 + 6 ⋅ 2 3 − 16 24 + 4 − 16 Lastly, perform addition or subtraction, left to right. 24 + 4 − 16 28 − 16 12 24 + 4 − 16 28 − 16 12 Therefore,  24 + 6 ⋅ 2 3 − 4 2 = 12. 24 + 6 ⋅ 2 3 − 4 2 = 12. For some complicated expressions, several passes through the order of operations will be needed. For instance, there may be a radical expression inside parentheses that must be simplified before the parentheses are evaluated. Following the order of operations ensures that anyone simplifying the same mathematical expression will get the same result. Order of Operations Operations in mathematical expressions must be evaluated in a systematic order, which can be simplified using the acronym  PEMDAS : P (arentheses) E (xponents) M (ultiplication) and  D (ivision) A (ddition) and  S (ubtraction)  How To Given a mathematical expression, simplify it using the order of operations. Step 1.  Simplify any expressions within grouping symbols. Step 2.  Simplify any expressions containing exponents or radicals. Step 3.  Perform any multiplication and division in order, from left to right. Step 4.  Perform any addition and subtraction in order, from left to right. Example  6 Using the Order of Operations Use the order of operations to evaluate each of the following expressions. ⓐ ( 3 ⋅ 2 ) 2 − 4 ( 6 + 2 ) ( 3 ⋅ 2 ) 2 − 4 ( 6 + 2 ) ⓑ 5 2 − 4 7 − 11 − 2 5 2 − 4 7 − 11 − 2 ⓒ 6 − | 5 − 8 | + 3 ( 4 − 1 ) 6 − | 5 − 8 | + 3 ( 4 − 1 ) ⓓ 14 − 3 ⋅ 2 2 ⋅ 5 − 3 2 14 − 3 ⋅ 2 2 ⋅ 5 − 3 2 ⓔ 7 ( 5 ⋅ 3 ) − 2 [ ( 6 − 3 ) − 4 2 ] + 1 7 ( 5 ⋅ 3 ) − 2 [ ( 6 − 3 ) − 4 2 ] + 1 Solution ⓐ ( 3 ⋅ 2 ) 2 − 4 ( 6 + 2 ) = ( 6 ) 2 − 4 ( 8 ) Simplify parentheses. = 36 − 4 ( 8 ) Simplify exponent. = 36 − 32 Simplify multiplication. = 4 Simplify subtraction. ( 3 ⋅ 2 ) 2 − 4 ( 6 + 2 ) = ( 6 ) 2 − 4 ( 8 ) Simplify parentheses. = 36 − 4 ( 8 ) Simplify exponent. = 36 − 32 Simplify multiplication. = 4 Simplify subtraction. ⓑ 5 2 - 4 7 − 11 − 2 = 5 2 − 4 7 − 9 Simplify grouping symbols (radical). = 5 2 − 4 7 − 3 Simplify radical. = 25 − 4 7 − 3 Simplify exponent. = 21 7 − 3 Simplify subtraction in numerator. = 3 − 3 Simplify division. = 0 Simplify subtraction. 5 2 - 4 7 − 11 − 2 = 5 2 − 4 7 − 9 Simplify grouping symbols (radical). = 5 2 − 4 7 − 3 Simplify radical. = 25 − 4 7 − 3 Simplify exponent. = 21 7 − 3 Simplify subtraction in numerator. = 3 − 3 Simplify division. = 0 Simplify subtraction. Note that in the first step, the radical is treated as a grouping symbol, like parentheses. Also, in the third step, the fraction bar is considered a grouping symbol so the numerator is considered to be grouped. ⓒ 6 − | 5 − 8 | + 3 ( 4 − 1 ) = 6 − | −3 | + 3 ( 3 ) Simplify inside grouping symbols. = 6 + 3 + 3 ( 3 ) Simplify absolute value. = 6 + 3 + 9 Simplify multiplication. = 18 Simplify addition. 6 − | 5 − 8 | + 3 ( 4 − 1 ) = 6 − | −3 | + 3 ( 3 ) Simplify inside grouping symbols. = 6 + 3 + 3 ( 3 ) Simplify absolute value. = 6 + 3 + 9 Simplify multiplication. = 18 Simplify addition. ⓓ 14 − 3 ⋅ 2 2 ⋅ 5 − 3 2 = 14 − 3 ⋅ 2 2 ⋅ 5 − 9 Simplify exponent. = 14 − 6 10 − 9 Simplify products. = 8 1 Simplify differences. = 8 Simplify quotient. 14 − 3 ⋅ 2 2 ⋅ 5 − 3 2 = 14 − 3 ⋅ 2 2 ⋅ 5 − 9 Simplify exponent. = 14 − 6 10 − 9 Simplify products. = 8 1 Simplify differences. = 8 Simplify quotient. In this example, the fraction bar separates the numerator and denominator, which we simplify separately until the last step. ⓔ 7 ( 5 ⋅ 3 ) − 2 [ ( 6 − 3 ) − 4 2 ] + 1 = 7 ( 15 ) − 2 [ ( 3 ) − 4 2 ] + 1 Simplify inside parentheses. = 7 ( 15 ) − 2 ( 3 − 16 ) + 1 Simplify exponent. = 7 ( 15 ) − 2 ( −13 ) + 1 Subtract. = 105 + 26 + 1 Multiply. = 132 Add. 7 ( 5 ⋅ 3 ) − 2 [ ( 6 − 3 ) − 4 2 ] + 1 = 7 ( 15 ) − 2 [ ( 3 ) − 4 2 ] + 1 Simplify inside parentheses. = 7 ( 15 ) − 2 ( 3 − 16 ) + 1 Simplify exponent. = 7 ( 15 ) − 2 ( −13 ) + 1 Subtract. = 105 + 26 + 1 Multiply. = 132 Add. Try It  #6 Use the order of operations to evaluate each of the following expressions. ⓐ 5 2 − 4 2 + 7 ( 5 − 4 ) 2 5 2 − 4 2 + 7 ( 5 − 4 ) 2 ⓑ 1 + 7 ⋅ 5 − 8 ⋅ 4 9 − 6 1 + 7 ⋅ 5 − 8 ⋅ 4 9 − 6 ⓒ | 1.8 − 4.3 | + 0.4 15 + 10 | 1.8 − 4.3 | + 0.4 15 + 10 ⓓ 1 2 [ 5 ⋅ 3 2 − 7 2 ] + 1 3 ⋅ 9 2 1 2 [ 5 ⋅ 3 2 − 7 2 ] + 1 3 ⋅ 9 2 ⓔ [ ( 3 − 8 ) 2 − 4 ] − ( 3 − 8 ) [ ( 3 − 8 ) 2 − 4 ] − ( 3 − 8 ) Using Properties of Real Numbers For some activities we perform, the order of certain operations does not matter, but the order of other operations does. For example, it does not make a difference if we put on the right shoe before the left or vice-versa. However, it does matter whether we put on shoes or socks first. The same thing is true for operations in mathematics. Commutative Properties The  commutative property of addition  states that numbers may be added in any order without affecting the sum. a + b = b + a a + b = b + a We can better see this relationship when using real numbers. ( −2 ) + 7 = 5 and 7 + ( −2 ) = 5 ( −2 ) + 7 = 5 and 7 + ( −2 ) = 5 Similarly, the  commutative property of multiplication  states that numbers may be multiplied in any order without affecting the product. a ⋅ b = b ⋅ a a ⋅ b = b ⋅ a Again, consider an example with real numbers. ( −11 ) ⋅ ( −4 ) = 44 and ( −4 ) ⋅ ( −11 ) = 44 ( −11 ) ⋅ ( −4 ) = 44 and ( −4 ) ⋅ ( −11 ) = 44 It is important to note that neither subtraction nor division is commutative. For example,  17 − 5 17 − 5  is not the same as  5 − 17. 5 − 17.  Similarly,  20 ÷ 5 ≠ 5 ÷ 20. 20 ÷ 5 ≠ 5 ÷ 20. Associative Properties The  associative property of multiplication  tells us that it does not matter how we group numbers when multiplying. We can move the grouping symbols to make the calculation easier, and the product remains the same. a ( b c ) = ( a b ) c a ( b c ) = ( a b ) c Consider this example. ( 3 ⋅ 4 ) ⋅ 5 = 60 and 3 ⋅ ( 4 ⋅ 5 ) = 60 ( 3 ⋅ 4 ) ⋅ 5 = 60 and 3 ⋅ ( 4 ⋅ 5 ) = 60 The  associative property of addition  tells us that numbers may be grouped differently without affecting the sum. a + ( b + c ) = ( a + b ) + c a + ( b + c ) = ( a + b ) + c This property can be especially helpful when dealing with negative integers. Consider this example. [ 15 + ( −9 ) ] + 23 = 29 and 15 + [ ( −9 ) + 23 ] = 29 [ 15 + ( −9 ) ] + 23 = 29 and 15 + [ ( −9 ) + 23 ] = 29 Are subtraction and division associative? Review these examples. 8 − ( 3 − 15 ) = ? ( 8 − 3 ) − 15 64 ÷ ( 8 ÷ 4 ) = ? ( 64 ÷ 8 ) ÷ 4 8 − ( − 12 ) = 5 − 15 64 ÷ 2 = ? 8 ÷ 4 20 ≠ − 10 32 ≠ 2 8 − ( 3 − 15 ) = ? ( 8 − 3 ) − 15 64 ÷ ( 8 ÷ 4 ) = ? ( 64 ÷ 8 ) ÷ 4 8 − ( − 12 ) = 5 − 15 64 ÷ 2 = ? 8 ÷ 4 20 ≠ − 10 32 ≠ 2 As we can see, neither subtraction nor division is associative. Distributive Property The  distributive property  states that the product of a factor times a sum is the sum of the factor times each term in the sum. a ⋅ ( b + c ) = a ⋅ b + a ⋅ c a ⋅ ( b + c ) = a ⋅ b + a ⋅ c This property combines both addition and multiplication (and is the only property to do so). Let us consider an example. Note that 4 is outside the grouping symbols, so we distribute the 4 by multiplying it by 12, multiplying it by –7, and adding the products. To be more precise when describing this property, we say that multiplication distributes over addition. The reverse is not true, as we can see in this example. 6 + ( 3 ⋅ 5 ) = ? ( 6 + 3 ) ⋅ ( 6 + 5 ) 6 + ( 15 ) = ? ( 9 ) ⋅ ( 11 ) 21 ≠ 99 6 + ( 3 ⋅ 5 ) = ? ( 6 + 3 ) ⋅ ( 6 + 5 ) 6 + ( 15 ) = ? ( 9 ) ⋅ ( 11 ) 21 ≠ 99 A special case of the distributive property occurs when a sum of terms is subtracted. a − b = a + ( − b ) a − b = a + ( − b ) For example, consider the difference  12 − ( 5 + 3 ) . 12 − ( 5 + 3 ) .  We can rewrite the difference of the two terms 12 and  ( 5 + 3 ) ( 5 + 3 )  by turning the subtraction expression into addition of the opposite. So instead of subtracting  ( 5 + 3 ) , ( 5 + 3 ) ,  we add the opposite. 12 + ( −1 ) ⋅ ( 5 + 3 ) 12 + ( −1 ) ⋅ ( 5 + 3 ) Now, distribute  −1 −1  and simplify the result. 12 − ( 5 + 3 ) = 12 + ( −1 ) ⋅ ( 5 + 3 ) = 12 + [ ( −1 ) ⋅ 5 + ( −1 ) ⋅ 3 ] = 12 + ( −8 ) = 4 12 − ( 5 + 3 ) = 12 + ( −1 ) ⋅ ( 5 + 3 ) = 12 + [ ( −1 ) ⋅ 5 + ( −1 ) ⋅ 3 ] = 12 + ( −8 ) = 4 This seems like a lot of trouble for a simple sum, but it illustrates a powerful result that will be useful once we introduce algebraic terms. To subtract a sum of terms, change the sign of each term and add the results. With this in mind, we can rewrite the last example. 12 − ( 5 + 3 ) = 12 + ( −5 − 3 ) = 12 + ( −8 ) = 4 12 − ( 5 + 3 ) = 12 + ( −5 − 3 ) = 12 + ( −8 ) = 4 Identity Properties The  identity property of addition  states that there is a unique number, called the additive identity (0) that, when added to a number, results in the original number. a + 0 = a a + 0 = a The  identity property of multiplication  states that there is a unique number, called the multiplicative identity (1) that, when multiplied by a number, results in the original number. a ⋅ 1 = a a ⋅ 1 = a For example, we have  ( −6 ) + 0 = −6 ( −6 ) + 0 = −6  and  23 ⋅ 1 = 23. 23 ⋅ 1 = 23.  There are no exceptions for these properties; they work for every real number, including 0 and 1. Inverse Properties The  inverse property of addition  states that, for every real number  a , there is a unique number, called the additive inverse (or opposite), denoted by (− a ), that, when added to the original number, results in the additive identity, 0. a + ( − a ) = 0 a + ( − a ) = 0 For example, if  a = −8 , a = −8 ,  the additive inverse is 8, since  ( −8 ) + 8 = 0. ( −8 ) + 8 = 0. The  inverse property of multiplication  holds for all real numbers except 0 because the reciprocal of 0 is not defined. The property states that, for every real number  a , there is a unique number, called the multiplicative inverse (or reciprocal), denoted  1 a , 1 a ,  that, when multiplied by the original number, results in the multiplicative identity, 1. a ⋅ 1 a = 1 a ⋅ 1 a = 1 For example, if  a = − 2 3 , a = − 2 3 ,  the reciprocal, denoted  1 a , 1 a ,  is  − 3 2 − 3 2  because a ⋅ 1 a = ( − 2 3 ) ⋅ ( − 3 2 ) = 1 a ⋅ 1 a = ( − 2 3 ) ⋅ ( − 3 2 ) = 1 Properties of Real Numbers The following properties hold for real numbers  a ,  b , and  c . Addition Multiplication Commutative Property a + b = b + a a + b = b + a a ⋅ b = b ⋅ a a ⋅ b = b ⋅ a Associative Property a + ( b + c ) = ( a + b ) + c a + ( b + c ) = ( a + b ) + c a ( b c ) = ( a b ) c a ( b c ) = ( a b ) c Distributive Property a ⋅ ( b + c ) = a ⋅ b + a ⋅ c a ⋅ ( b + c ) = a ⋅ b + a ⋅ c Identity Property There exists a unique real number called the additive identity, 0, such that, for any real number  a a + 0 = a a + 0 = a There exists a unique real number called the multiplicative identity, 1, such that, for any real number  a a ⋅ 1 = a a ⋅ 1 = a Inverse Property Every real number a has an additive inverse, or opposite, denoted  –a , such that  a + ( − a ) = 0 a + ( − a ) = 0 Every nonzero real number  a  has a multiplicative inverse, or reciprocal, denoted  1 a , 1 a ,  such that  a ⋅ ( 1 a ) = 1 a ⋅ ( 1 a ) = 1 Example  7 Using Properties of Real Numbers Use the properties of real numbers to rewrite and simplify each expression. State which properties apply. ⓐ 3 ⋅ 6 + 3 ⋅ 4 3 ⋅ 6 + 3 ⋅ 4 ⓑ ( 5 + 8 ) + ( −8 ) ( 5 + 8 ) + ( −8 ) ⓒ 6 − ( 15 + 9 ) 6 − ( 15 + 9 ) ⓓ 4 7 ⋅ ( 2 3 ⋅ 7 4 ) 4 7 ⋅ ( 2 3 ⋅ 7 4 ) ⓔ 100 ⋅ [ 0.75 + ( −2.38 ) ] 100 ⋅ [ 0.75 + ( −2.38 ) ] Solution ⓐ 3 ⋅ 6 + 3 ⋅ 4 = 3 ⋅ ( 6 + 4 ) Distributive property. = 3 ⋅ 10 Simplify. = 30 Simplify. 3 ⋅ 6 + 3 ⋅ 4 = 3 ⋅ ( 6 + 4 ) Distributive property. = 3 ⋅ 10 Simplify. = 30 Simplify. ⓑ ( 5 + 8 ) + ( −8 ) = 5 + [ 8 + ( −8 ) ] Associative property of addition. = 5 + 0 Inverse property of addition. = 5 Identity property of addition. ( 5 + 8 ) + ( −8 ) = 5 + [ 8 + ( −8 ) ] Associative property of addition. = 5 + 0 Inverse property of addition. = 5 Identity property of addition. ⓒ 6 − ( 15 + 9 ) = 6 + [ ( −15 ) + ( −9 ) ] Distributive property. = 6 + ( −24 ) Simplify. = −18 Simplify. 6 − ( 15 + 9 ) = 6 + [ ( −15 ) + ( −9 ) ] Distributive property. = 6 + ( −24 ) Simplify. = −18 Simplify. ⓓ 4 7 ⋅ ( 2 3 ⋅ 7 4 ) = 4 7 ⋅ ( 7 4 ⋅ 2 3 ) Commutative property of multiplication. = ( 4 7 ⋅ 7 4 ) ⋅ 2 3 Associative property of multiplication. = 1 ⋅ 2 3 Inverse property of multiplication. = 2 3 Identity property of multiplication. 4 7 ⋅ ( 2 3 ⋅ 7 4 ) = 4 7 ⋅ ( 7 4 ⋅ 2 3 ) Commutative property of multiplication. = ( 4 7 ⋅ 7 4 ) ⋅ 2 3 Associative property of multiplication. = 1 ⋅ 2 3 Inverse property of multiplication. = 2 3 Identity property of multiplication. ⓔ 100 ⋅ [ 0.75 + ( − 2.38 ) ] = 100 ⋅ 0.75 + 100 ⋅ ( −2.38 ) Distributive property. = 75 + ( −238 ) Simplify. = −163 Simplify. 100 ⋅ [ 0.75 + ( − 2.38 ) ] = 100 ⋅ 0.75 + 100 ⋅ ( −2.38 ) Distributive property. = 75 + ( −238 ) Simplify. = −163 Simplify. Try It  #7 Use the properties of real numbers to rewrite and simplify each expression. State which properties apply. ⓐ ( − 23 5 ) ⋅ [ 11 ⋅ ( − 5 23 ) ] ( − 23 5 ) ⋅ [ 11 ⋅ ( − 5 23 ) ] ⓑ 5 ⋅ ( 6.2 + 0.4 ) 5 ⋅ ( 6.2 + 0.4 ) ⓒ 18 − ( 7 −15 ) 18 − ( 7 −15 ) ⓓ 17 18 + [ 4 9 + ( − 17 18 ) ] 17 18 + [ 4 9 + ( − 17 18 ) ] ⓔ 6 ⋅ ( −3 ) + 6 ⋅ 3 6 ⋅ ( −3 ) + 6 ⋅ 3 Evaluating Algebraic Expressions So far, the mathematical expressions we have seen have involved real numbers only. In mathematics, we may see expressions such as  x + 5 , 4 3 π r 3 , x + 5 , 4 3 π r 3 ,  or  2 m 3 n 2 . 2 m 3 n 2 .  In the expression  x + 5 , x + 5 ,  5 is called a  constant  because it does not vary and  x  is called a  variable  because it does. (In naming the variable, ignore any exponents or radicals containing the variable.) An  algebraic expression  is a collection of constants and variables joined together by the algebraic operations of addition, subtraction, multiplication, and division. We have already seen some real number examples of exponential notation, a shorthand method of writing products of the same factor. When variables are used, the constants and variables are treated the same way. ( −3 ) 5 = ( −3 ) ⋅ ( −3 ) ⋅ ( −3 ) ⋅ ( −3 ) ⋅ ( −3 ) x 5 = x ⋅ x ⋅ x ⋅ x ⋅ x ( 2 ⋅ 7 ) 3 = ( 2 ⋅ 7 ) ⋅ ( 2 ⋅ 7 ) ⋅ ( 2 ⋅ 7 ) ( y z ) 3 = ( y z ) ⋅ ( y z ) ⋅ ( y z ) ( −3 ) 5 = ( −3 ) ⋅ ( −3 ) ⋅ ( −3 ) ⋅ ( −3 ) ⋅ ( −3 ) x 5 = x ⋅ x ⋅ x ⋅ x ⋅ x ( 2 ⋅ 7 ) 3 = ( 2 ⋅ 7 ) ⋅ ( 2 ⋅ 7 ) ⋅ ( 2 ⋅ 7 ) ( y z ) 3 = ( y z ) ⋅ ( y z ) ⋅ ( y z ) In each case, the exponent tells us how many factors of the base to use, whether the base consists of constants or variables. Any variable in an algebraic expression may take on or be assigned different values. When that happens, the value of the algebraic expression changes. To evaluate an algebraic expression means to determine the value of the expression for a given value of each variable in the expression. Replace each variable in the expression with the given value, then simplify the resulting expression using the order of operations. If the algebraic expression contains more than one variable, replace each variable with its assigned value and simplify the expression as before. Example  8 Describing Algebraic Expressions List the constants and variables for each algebraic expression. ⓐ x  + 5 ⓑ 4 3 π r 3 4 3 π r 3 ⓒ 2 m 3 n 2 2 m 3 n 2 Solution Constants Variables a.  x  + 5 5 x b.  4 3 π r 3 4 3 π r 3 4 3 , π 4 3 , π r r c.  2 m 3 n 2 2 m 3 n 2 2 m , n m , n Try It  #8 List the constants and variables for each algebraic expression. ⓐ 2 π r ( r + h ) 2 π r ( r + h ) ⓑ 2( L  +  W ) ⓒ 4 y 3 + y 4 y 3 + y Example  9 Evaluating an Algebraic Expression at Different Values Evaluate the expression  2 x − 7 2 x − 7  for each value for  x. ⓐ x = 0 x = 0 ⓑ x = 1 x = 1 ⓒ x = 1 2 x = 1 2 ⓓ x = −4 x = −4 Solution ⓐ  Substitute 0 for  x . x . 2 x − 7 = 2 ( 0 ) − 7 = 0 − 7 = −7 2 x − 7 = 2 ( 0 ) − 7 = 0 − 7 = −7 ⓑ Substitute 1 for  x . x . 2 x − 7 = 2 ( 1 ) − 7 = 2 − 7 = −5 2 x − 7 = 2 ( 1 ) − 7 = 2 − 7 = −5 ⓒ  Substitute  1 2 1 2  for  x . x . 2 x − 7 = 2 ( 1 2 ) − 7 = 1 − 7 = −6 2 x − 7 = 2 ( 1 2 ) − 7 = 1 − 7 = −6 ⓓ Substitute  −4 −4  for  x . x . 2 x − 7 = 2 ( − 4 ) − 7 = − 8 − 7 = −15 2 x − 7 = 2 ( − 4 ) − 7 = − 8 − 7 = −15 Try It  #9 Evaluate the expression  11 − 3 y 11 − 3 y  for each value for  y. ⓐ y = 2 y = 2 ⓑ y = 0 y = 0 ⓒ y = 2 3 y = 2 3 ⓓ y = −5 y = −5 Example  10 Evaluating Algebraic Expressions Evaluate each expression for the given values. ⓐ x + 5 x + 5  for  x = −5 x = −5 ⓑ t 2 t −1 t 2 t −1  for  t = 10 t = 10 ⓒ 4 3 π r 3 4 3 π r 3  for  r = 5 r = 5 ⓓ a + a b + b a + a b + b  for  a = 11 , b = −8 a = 11 , b = −8 ⓔ 2 m 3 n 2 2 m 3 n 2  for  m = 2 , n = 3 m = 2 , n = 3 Solution ⓐ  Substitute  −5 −5  for  x . x . x + 5 = ( −5 ) + 5 = 0 x + 5 = ( −5 ) + 5 = 0 ⓑ  Substitute 10 for  t . t . t 2 t − 1 = ( 10 ) 2 ( 10 ) − 1 = 10 20 − 1 = 10 19 t 2 t − 1 = ( 10 ) 2 ( 10 ) − 1 = 10 20 − 1 = 10 19 ⓒ  Substitute 5 for  r . r . 4 3 π r 3 = 4 3 π ( 5 ) 3 = 4 3 π ( 125 ) = 500 3 π 4 3 π r 3 = 4 3 π ( 5 ) 3 = 4 3 π ( 125 ) = 500 3 π ⓓ  Substitute 11 for  a a  and –8 for  b . b . a + a b + b = ( 11 ) + ( 11 ) ( −8 ) + ( −8 ) = 11 − 88 − 8 = −85 a + a b + b = ( 11 ) + ( 11 ) ( −8 ) + ( −8 ) = 11 − 88 − 8 = −85 ⓔ  Substitute 2 for  m m  and 3 for  n . n . 2 m 3 n 2 = 2 ( 2 ) 3 ( 3 ) 2 = 2 ( 8 ) ( 9 ) = 144 = 12 2 m 3 n 2 = 2 ( 2 ) 3 ( 3 ) 2 = 2 ( 8 ) ( 9 ) = 144 = 12 Try It  #10 Evaluate each expression for the given values. ⓐ y + 3 y − 3 y + 3 y − 3  for  y = 5 y = 5 ⓑ 7 − 2 t 7 − 2 t  for  t = −2 t = −2 ⓒ 1 3 π r 2 1 3 π r 2  for  r = 11 r = 11 ⓓ ( p 2 q ) 3 ( p 2 q ) 3  for  p = −2 , q = 3 p = −2 , q = 3 ⓔ 4 ( m − n ) − 5 ( n − m ) 4 ( m − n ) − 5 ( n − m )  for  m = 2 3 , n = 1 3 m = 2 3 , n = 1 3 Formulas An  equation  is a mathematical statement indicating that two expressions are equal. The expressions can be numerical or algebraic. The equation is not inherently true or false, but only a proposition. The values that make the equation true, the solutions, are found using the properties of real numbers and other results. For example, the equation  2 x + 1 = 7 2 x + 1 = 7  has the solution of 3   because when we substitute 3 for  x x  in the equation, we obtain the true statement  2 ( 3 ) + 1 = 7. 2 ( 3 ) + 1 = 7. A  formula  is an equation expressing a relationship between constant and variable quantities. Very often, the equation is a means of finding the value of one quantity (often a single variable) in terms of another or other quantities. One of the most common examples is the formula for finding the area  A A  of a circle in terms of the radius  r r  of the circle:  A = π r 2 . A = π r 2 .  For any value of  r , r ,  the area  A A  can be found by evaluating the expression  π r 2 . π r 2 . Example  11 Using a Formula A right circular cylinder with radius  r r  and height  h h  has the surface area  S S  (in square units) given by the formula  S = 2 π r ( r + h ) . S = 2 π r ( r + h ) .  See  Figure 3 . Find the surface area of a cylinder with radius 6 in. and height 9 in. Leave the answer in terms of  π . π . Figure  3 Right circular cylinder Solution Evaluate the expression  2 π r ( r + h ) 2 π r ( r + h )  for  r = 6 r = 6  and  h = 9. h = 9. S = 2 π r ( r + h ) = 2 π ( 6 ) [ ( 6 ) + ( 9 ) ] = 2 π ( 6 ) ( 15 ) = 180 π S = 2 π r ( r + h ) = 2 π ( 6 ) [ ( 6 ) + ( 9 ) ] = 2 π ( 6 ) ( 15 ) = 180 π The surface area is  180 π 180 π  square inches. Try It  #11 A photograph with length  L  and width  W  is placed in a mat of width 8 centimeters (cm). The area of the mat (in square centimeters, or cm 2 ) is found to be  A = ( L + 16 ) ( W + 16 ) − L ⋅ W . A = ( L + 16 ) ( W + 16 ) − L ⋅ W .  See  Figure 4 . Find the area of a mat for a photograph with length 32 cm and width 24 cm. Figure  4 Simplifying Algebraic Expressions Sometimes we can simplify an algebraic expression to make it easier to evaluate or to use in some other way. To do so, we use the properties of real numbers. We can use the same properties in formulas because they contain algebraic expressions. Example  12 Simplifying Algebraic Expressions Simplify each algebraic expression. ⓐ 3 x − 2 y + x − 3 y − 7 3 x − 2 y + x − 3 y − 7 ⓑ 2 r − 5 ( 3 − r ) + 4 2 r − 5 ( 3 − r ) + 4 ⓒ ( 4 t − 5 4 s ) − ( 2 3 t + 2 s ) ( 4 t − 5 4 s ) − ( 2 3 t + 2 s ) ⓓ 2 m n − 5 m + 3 m n + n 2 m n − 5 m + 3 m n + n Solution ⓐ 3 x − 2 y + x − 3 y − 7 = 3 x + x − 2 y − 3 y − 7 Commutative property of addition. = 4 x − 5 y − 7 Simplify. 3 x − 2 y + x − 3 y − 7 = 3 x + x − 2 y − 3 y − 7 Commutative property of addition. = 4 x − 5 y − 7 Simplify. ⓑ 2 r − 5 ( 3 − r ) + 4 = 2 r − 15 + 5 r + 4 Distributive property. = 2 r + 5 r − 15 + 4 Commutative property of addition. = 7 r − 11 Simplify. 2 r − 5 ( 3 − r ) + 4 = 2 r − 15 + 5 r + 4 Distributive property. = 2 r + 5 r − 15 + 4 Commutative property of addition. = 7 r − 11 Simplify. ⓒ ( 4 t − 5 4 s ) − ( 2 3 t + 2 s ) = 4 t − 5 4 s − 2 3 t − 2 s Distributive property. = 4 t − 2 3 t − 5 4 s − 2 s Commutative property of addition. = 10 3 t − 13 4 s Simplify. ( 4 t − 5 4 s ) − ( 2 3 t + 2 s ) = 4 t − 5 4 s − 2 3 t − 2 s Distributive property. = 4 t − 2 3 t − 5 4 s − 2 s Commutative property of addition. = 10 3 t − 13 4 s Simplify. ⓓ 2 m n − 5 m + 3 m n + n = 2 m n + 3 m n − 5 m + n Commutative property of addition. = 5 m n − 5 m + n Simplify. 2 m n − 5 m + 3 m n + n = 2 m n + 3 m n − 5 m + n Commutative property of addition. = 5 m n − 5 m + n Simplify. Try It  #12 Simplify each algebraic expression. ⓐ 2 3 y − 2 ( 4 3 y + z ) 2 3 y − 2 ( 4 3 y + z ) ⓑ 5 t − 2 − 3 t + 1 5 t − 2 − 3 t + 1 ⓒ 4 p ( q − 1 ) + q ( 1 − p ) 4 p ( q − 1 ) + q ( 1 − p ) ⓓ 9 r − ( s + 2 r ) + ( 6 − s ) 9 r − ( s + 2 r ) + ( 6 − s ) Example  13 Simplifying a Formula A rectangle with length  L L  and width  W W  has a perimeter  P P  given by  P = L + W + L + W . P = L + W + L + W .  Simplify this expression. Solution P = L + W + L + W P = L + L + W + W Commutative property of addition P = 2 L + 2 W Simplify P = 2 ( L + W ) Distributive property P = L + W + L + W P = L + L + W + W Commutative property of addition P = 2 L + 2 W Simplify P = 2 ( L + W ) Distributive property Try It  #13 If the amount  P P  is deposited into an account paying simple interest  r r  for time  t , t ,  the total value of the deposit  A A  is given by  A = P + P r t . A = P + P r t .  Simplify the expression. (This formula will be explored in more detail later in the course.) Media Access these online resources for additional instruction and practice with real numbers. Simplify an Expression. Evaluate an Expression 1. Evaluate an Expression 2. 1.1 Section Exercises Verbal 1 .  Is  2 2  an example of a rational terminating, rational repeating, or irrational number? Tell why it fits that category. 2 .  What is the order of operations? What acronym is used to describe the order of operations, and what does it stand for? 3 .  What do the Associative Properties allow us to do when following the order of operations? Explain your answer. Numeric For the following exercises, simplify the given expression. 4 .  10 + 2 × ( 5 − 3 ) 10 + 2 × ( 5 − 3 ) 5 .  6 ÷ 2 − ( 81 ÷ 3 2 ) 6 ÷ 2 − ( 81 ÷ 3 2 ) 6 .  18 + ( 6 − 8 ) 3 18 + ( 6 − 8 ) 3 7 .  −2 × [ 16 ÷ ( 8 − 4 ) 2 ] 2 −2 × [ 16 ÷ ( 8 − 4 ) 2 ] 2 8 .  4 − 6 + 2 × 7 4 − 6 + 2 × 7 9 .  3 ( 5 − 8 ) 3 ( 5 − 8 ) 10 .  4 + 6 − 10 ÷ 2 4 + 6 − 10 ÷ 2 11 .  12 ÷ ( 36 ÷ 9 ) + 6 12 ÷ ( 36 ÷ 9 ) + 6 12 .  ( 4 + 5 ) 2 ÷ 3 ( 4 + 5 ) 2 ÷ 3 13 .  3 − 12 × 2 + 19 3 − 12 × 2 + 19 14 .  2 + 8 × 7 ÷ 4 2 + 8 × 7 ÷ 4 15 .  5 + ( 6 + 4 ) − 11 5 + ( 6 + 4 ) − 11 16 .  9 − 18 ÷ 3 2 9 − 18 ÷ 3 2 17 .  14 × 3 ÷ 7 − 6 14 × 3 ÷ 7 − 6 18 .  9 − ( 3 + 11 ) × 2 9 − ( 3 + 11 ) × 2 19 .  6 + 2 × 2 − 1 6 + 2 × 2 − 1 20 .  64 ÷ ( 8 + 4 × 2 ) 64 ÷ ( 8 + 4 × 2 ) 21 .  9 + 4 ( 2 2 ) 9 + 4 ( 2 2 ) 22 .  ( 12 ÷ 3 × 3 ) 2 ( 12 ÷ 3 × 3 ) 2 23 .  25 ÷ 5 2 − 7 25 ÷ 5 2 − 7 24 .  ( 15 − 7 ) × ( 3 − 7 ) ( 15 − 7 ) × ( 3 − 7 ) 25 .  2 × 4 − 9 ( −1 ) 2 × 4 − 9 ( −1 ) 26 .  4 2 − 25 × 1 5 4 2 − 25 × 1 5 27 .  12 ( 3 − 1 ) ÷ 6 12 ( 3 − 1 ) ÷ 6 Algebraic For the following exercises, evaluate the expression using the given value of the variable. 28 .  8 ( x + 3 ) – 64 8 ( x + 3 ) – 64  for  x = 2 x = 2 29 .  4 y + 8 – 2 y 4 y + 8 – 2 y  for  y = 3 y = 3 30 .  ( 11 a + 3 ) − 18 a + 4 ( 11 a + 3 ) − 18 a + 4  for  a = –2 a = –2 31 .  4 z − 2 z ( 1 + 4 ) – 36 4 z − 2 z ( 1 + 4 ) – 36  for  z = 5 z = 5 32 .  4 y ( 7 − 2 ) 2 + 200 4 y ( 7 − 2 ) 2 + 200  for  y = –2 y = –2 33 .  − ( 2 x ) 2 + 1 + 3 − ( 2 x ) 2 + 1 + 3  for  x = 2 x = 2 34 .  For the  8 ( 2 + 4 ) − 15 b + b 8 ( 2 + 4 ) − 15 b + b  for  b = –3 b = –3 35 .  2 ( 11 c − 4 ) – 36 2 ( 11 c − 4 ) – 36  for  c = 0 c = 0 36 .  4 ( 3 − 1 ) x – 4 4 ( 3 − 1 ) x – 4  for  x = 10 x = 10 37 .  1 4 ( 8 w − 4 2 ) 1 4 ( 8 w − 4 2 )  for  w = 1 w = 1 For the following exercises, simplify the expression. 38 .  4 x + x ( 13 − 7 ) 4 x + x ( 13 − 7 ) 39 .  2 y − ( 4 ) 2 y − 11 2 y − ( 4 ) 2 y − 11 40 .  a 2 3 ( 64 ) − 12 a ÷ 6 a 2 3 ( 64 ) − 12 a ÷ 6 41 .  8 b − 4 b ( 3 ) + 1 8 b − 4 b ( 3 ) + 1 42 .  5 l ÷ 3 l × ( 9 − 6 ) 5 l ÷ 3 l × ( 9 − 6 ) 43 .  7 z − 3 + z × 6 2 7 z − 3 + z × 6 2 44 .  4 × 3 + 18 x ÷ 9 − 12 4 × 3 + 18 x ÷ 9 − 12 45 .  9 ( y + 8 ) − 27 9 ( y + 8 ) − 27 46 .  ( 9 6 t − 4 ) 2 ( 9 6 t − 4 ) 2 47 .  6 + 12 b − 3 × 6 b 6 + 12 b − 3 × 6 b 48 .  18 y − 2 ( 1 + 7 y ) 18 y − 2 ( 1 + 7 y ) 49 .  ( 4 9 ) 2 × 27 x ( 4 9 ) 2 × 27 x 50 .  8 ( 3 − m ) + 1 ( − 8 ) 8 ( 3 − m ) + 1 ( − 8 ) 51 .  9 x + 4 x ( 2 + 3 ) − 4 ( 2 x + 3 x ) 9 x + 4 x ( 2 + 3 ) − 4 ( 2 x + 3 x ) 52 .  5 2 − 4 ( 3 x ) 5 2 − 4 ( 3 x ) Real-World Applications For the following exercises, consider this scenario: Fred earns $40 at the community garden. He spends $10 on a streaming subscription, puts half of what is left in a savings account, and gets another $5 for walking his neighbor’s dog. 53 .  Write the expression that represents the number of dollars Fred keeps (and does not put in his savings account). Remember the order of operations. 54 .  How much money does Fred keep? For the following exercises, solve the given problem. 55 .  According to the U.S. Mint, the diameter of a quarter is 0.955 inches. The circumference of the quarter would be the diameter multiplied by  π . π .  Is the circumference of a quarter a whole number, a rational number, or an irrational number? 56 .  Jessica and her roommate, Adriana, have decided to share a change jar for joint expenses. Jessica put her loose change in the jar first, and then Adriana put her change in the jar. We know that it does not matter in which order the change was added to the jar. What property of addition describes this fact? For the following exercises, consider this scenario: There is a mound of  g g  pounds of gravel in a quarry. Throughout the day, 400 pounds of gravel is added to the mound. Two orders of 600 pounds are sold and the gravel is removed from the mound. At the end of the day, the mound has 1,200 pounds of gravel. 57 .  Write the equation that describes the situation. 58 .  Solve for  g . For the following exercise, solve the given problem. 59 .  Ramon runs the marketing department at their company. Their department gets a budget every year, and every year, they must spend the entire budget without going over. If they spend less than the budget, then the department gets a smaller budget the following year. At the beginning of this year, Ramon got $2.5 million for the annual marketing budget. They must spend the budget such that  2,500,000 − x = 0. 2,500,000 − x = 0.  What property of addition tells us what the value of  x  must be? Technology For the following exercises, use a graphing calculator to solve for  x . Round the answers to the nearest hundredth. 60 .  0.5 ( 12.3 ) 2 − 48 x = 3 5 0.5 ( 12.3 ) 2 − 48 x = 3 5 61 .  ( 0.25 − 0.75 ) 2 x − 7.2 = 9.9 ( 0.25 − 0.75 ) 2 x − 7.2 = 9.9 Extensions 62 .  If a whole number is not a natural number, what must the number be? 63 .  Determine whether the statement is true or false: The multiplicative inverse of a rational number is also rational. 64 .  Determine whether the statement is true or false: The product of a rational and irrational number is always irrational. 65 .  Determine whether the simplified expression is rational or irrational:  −18 − 4 ( 5 ) ( −1 ) . −18 − 4 ( 5 ) ( −1 ) . 66 .  Determine whether the simplified expression is rational or irrational:  −16 + 4 ( 5 ) + 5 . −16 + 4 ( 5 ) + 5 . 67 .  The division of two natural numbers will always result in what type of number? 68 .  What property of real numbers would simplify the following expression:  4 + 7 ( x − 1 )  ? 4 + 7 ( x − 1 )  ? \",\"Learning Objectives In this section, you will: Use the product rule of exponents. Use the quotient rule of exponents. Use the power rule of exponents. Use the zero exponent rule of exponents. Use the negative rule of exponents. Find the power of a product and a quotient. Simplify exponential expressions. Use scientific notation. Mathematicians, scientists, and economists commonly encounter very large and very small numbers. But it may not be obvious how common such figures are in everyday life. For instance, a pixel is the smallest unit of light that can be perceived and recorded by a digital camera. A particular camera might record an image that is 2,048 pixels by 1,536 pixels, which is a very high resolution picture. It can also perceive a color depth (gradations in colors) of up to 48 bits per pixel, and can shoot the equivalent of 24 frames per second. The maximum possible number of bits of information used to film a one-hour (3,600-second) digital film is then an extremely large number. Using a calculator, we enter  2,048 × 1,536 × 48 × 24 × 3,600 2,048 × 1,536 × 48 × 24 × 3,600  and press ENTER. The calculator displays 1.304596316E13. What does this mean? The “E13” portion of the result represents the exponent 13 of ten, so there are a maximum of approximately  1.3 × 10 13 1.3 × 10 13  bits of data in that one-hour film. In this section, we review rules of exponents first and then apply them to calculations involving very large or small numbers. Using the Product Rule of Exponents Consider the product  x 3 ⋅ x 4 . x 3 ⋅ x 4 .  Both terms have the same base,  x , but they are raised to different exponents. Expand each expression, and then rewrite the resulting expression. x 3 ⋅ x 4 = x ⋅ x ⋅ x 3 factors ⋅ x ⋅ x ⋅ x ⋅ x 4 factors = x ⋅ x ⋅ x ⋅ x ⋅ x ⋅ x ⋅ x 7 factors = x 7 x 3 ⋅ x 4 = x ⋅ x ⋅ x 3 factors ⋅ x ⋅ x ⋅ x ⋅ x 4 factors = x ⋅ x ⋅ x ⋅ x ⋅ x ⋅ x ⋅ x 7 factors = x 7 The result is that  x 3 ⋅ x 4 = x 3 + 4 = x 7 . x 3 ⋅ x 4 = x 3 + 4 = x 7 . Notice that the exponent of the product is the sum of the exponents of the terms. In other words, when multiplying exponential expressions with the same base, we write the result with the common base and add the exponents. This is the  product rule of exponents. a m ⋅ a n = a m + n a m ⋅ a n = a m + n Now consider an example with real numbers. 2 3 ⋅ 2 4 = 2 3 + 4 = 2 7 2 3 ⋅ 2 4 = 2 3 + 4 = 2 7 We can always check that this is true by simplifying each exponential expression. We find that  2 3 2 3  is 8,  2 4 2 4  is 16, and  2 7 2 7  is 128. The product  8 ⋅ 16 8 ⋅ 16  equals 128, so the relationship is true. We can use the product rule of exponents to simplify expressions that are a product of two numbers or expressions with the same base but different exponents. The Product Rule of Exponents For any real number  a a  and natural numbers  m m  and  n , n ,  the product rule of exponents states that a m ⋅ a n = a m + n a m ⋅ a n = a m + n Example  1 Using the Product Rule Write each of the following products with a single base. Do not simplify further. ⓐ t 5 ⋅ t 3 t 5 ⋅ t 3 ⓑ ( −3 ) 5 ⋅ ( −3 ) ( −3 ) 5 ⋅ ( −3 ) ⓒ x 2 ⋅ x 5 ⋅ x 3 x 2 ⋅ x 5 ⋅ x 3 Solution Use the product rule to simplify each expression. ⓐ t 5 ⋅ t 3 = t 5 + 3 = t 8 t 5 ⋅ t 3 = t 5 + 3 = t 8 ⓑ ( −3 ) 5 ⋅ ( −3 ) = ( −3 ) 5 ⋅ ( −3 ) 1 = ( −3 ) 5 + 1 = ( −3 ) 6 ( −3 ) 5 ⋅ ( −3 ) = ( −3 ) 5 ⋅ ( −3 ) 1 = ( −3 ) 5 + 1 = ( −3 ) 6 ⓒ x 2 ⋅ x 5 ⋅ x 3 x 2 ⋅ x 5 ⋅ x 3 At first, it may appear that we cannot simplify a product of three factors. However, using the associative property of multiplication, begin by simplifying the first two. x 2 ⋅ x 5 ⋅ x 3 = ( x 2 ⋅ x 5 ) ⋅ x 3 = ( x 2 + 5 ) ⋅ x 3 = x 7 ⋅ x 3 = x 7 + 3 = x 10 x 2 ⋅ x 5 ⋅ x 3 = ( x 2 ⋅ x 5 ) ⋅ x 3 = ( x 2 + 5 ) ⋅ x 3 = x 7 ⋅ x 3 = x 7 + 3 = x 10 Notice we get the same result by adding the three exponents in one step. x 2 ⋅ x 5 ⋅ x 3 = x 2 + 5 + 3 = x 10 x 2 ⋅ x 5 ⋅ x 3 = x 2 + 5 + 3 = x 10 Try It  #1 Write each of the following products with a single base. Do not simplify further. ⓐ k 6 ⋅ k 9 k 6 ⋅ k 9 ⓑ ( 2 y ) 4 ⋅ ( 2 y ) ( 2 y ) 4 ⋅ ( 2 y ) ⓒ t 3 ⋅ t 6 ⋅ t 5 t 3 ⋅ t 6 ⋅ t 5 Using the Quotient Rule of Exponents The  quotient rule of exponents  allows us to simplify an expression that divides two numbers with the same base but different exponents. In a similar way to the product rule, we can simplify an expression such as  y m y n , y m y n ,  where  m > n . m > n .  Consider the example  y 9 y 5 . y 9 y 5 .  Perform the division by canceling common factors. y 9 y 5 = y ⋅ y ⋅ y ⋅ y ⋅ y ⋅ y ⋅ y ⋅ y ⋅ y y ⋅ y ⋅ y ⋅ y ⋅ y = y ⋅ y ⋅ y ⋅ y ⋅ y ⋅ y ⋅ y ⋅ y ⋅ y y ⋅ y ⋅ y ⋅ y ⋅ y = y ⋅ y ⋅ y ⋅ y 1 = y 4 y 9 y 5 = y ⋅ y ⋅ y ⋅ y ⋅ y ⋅ y ⋅ y ⋅ y ⋅ y y ⋅ y ⋅ y ⋅ y ⋅ y = y ⋅ y ⋅ y ⋅ y ⋅ y ⋅ y ⋅ y ⋅ y ⋅ y y ⋅ y ⋅ y ⋅ y ⋅ y = y ⋅ y ⋅ y ⋅ y 1 = y 4 Notice that the exponent of the quotient is the difference between the exponents of the divisor and dividend. a m a n = a m − n a m a n = a m − n In other words, when dividing exponential expressions with the same base, we write the result with the common base and subtract the exponents. y 9 y 5 = y 9 − 5 = y 4 y 9 y 5 = y 9 − 5 = y 4 For the time being, we must be aware of the condition  m > n . m > n .  Otherwise, the difference  m − n m − n  could be zero or negative. Those possibilities will be explored shortly. Also, instead of qualifying variables as nonzero each time, we will simplify matters and assume from here on that all variables represent nonzero real numbers. The Quotient Rule of Exponents For any real number  a a  and natural numbers  m m  and  n , n ,  such that  m > n , m > n ,  the quotient rule of exponents states that a m a n = a m − n a m a n = a m − n Example  2 Using the Quotient Rule Write each of the following products with a single base. Do not simplify further. ⓐ ( −2 ) 14 ( −2 ) 9 ( −2 ) 14 ( −2 ) 9 ⓑ t 23 t 15 t 23 t 15 ⓒ ( z 2 ) 5 z 2 ( z 2 ) 5 z 2 Solution Use the quotient rule to simplify each expression. ⓐ ( −2 ) 14 ( −2 ) 9 = ( −2 ) 14 − 9 = ( −2 ) 5 ( −2 ) 14 ( −2 ) 9 = ( −2 ) 14 − 9 = ( −2 ) 5 ⓑ t 23 t 15 = t 23 − 15 = t 8 t 23 t 15 = t 23 − 15 = t 8 ⓒ ( z 2 ) 5 z 2 = ( z 2 ) 5 − 1 = ( z 2 ) 4 ( z 2 ) 5 z 2 = ( z 2 ) 5 − 1 = ( z 2 ) 4 Try It  #2 Write each of the following products with a single base. Do not simplify further. ⓐ s 75 s 68 s 75 s 68 ⓑ ( −3 ) 6 −3 ( −3 ) 6 −3 ⓒ ( e f 2 ) 5 ( e f 2 ) 3 ( e f 2 ) 5 ( e f 2 ) 3 Using the Power Rule of Exponents Suppose an exponential expression is raised to some power. Can we simplify the result? Yes. To do this, we use the  power rule of exponents . Consider the expression  ( x 2 ) 3 . ( x 2 ) 3 .  The expression inside the parentheses is multiplied twice because it has an exponent of 2. Then the result is multiplied three times because the entire expression has an exponent of 3. ( x 2 ) 3 = ( x 2 ) ⋅ ( x 2 ) ⋅ ( x 2 ) 3 factors = ( x ⋅ x ︷ 2 factors ) ⋅ ( x ⋅ x ︷ 2 factors ) ⋅ ( x ⋅ x ︷ 2 factors ) 3 factors = x ⋅ x ⋅ x ⋅ x ⋅ x ⋅ x = x 6 ( x 2 ) 3 = ( x 2 ) ⋅ ( x 2 ) ⋅ ( x 2 ) 3 factors = ( x ⋅ x ︷ 2 factors ) ⋅ ( x ⋅ x ︷ 2 factors ) ⋅ ( x ⋅ x ︷ 2 factors ) 3 factors = x ⋅ x ⋅ x ⋅ x ⋅ x ⋅ x = x 6 The exponent of the answer is the product of the exponents:  ( x 2 ) 3 = x 2 ⋅ 3 = x 6 . ( x 2 ) 3 = x 2 ⋅ 3 = x 6 .  In other words, when raising an exponential expression to a power, we write the result with the common base and the product of the exponents. ( a m ) n = a m ⋅ n ( a m ) n = a m ⋅ n Be careful to distinguish between uses of the product rule and the power rule. When using the product rule, different terms with the same bases are raised to exponents. In this case, you add the exponents. When using the power rule, a term in exponential notation is raised to a power. In this case, you multiply the exponents. Product Rule Power Rule 5 3 ⋅ 5 4 = 5 3 + 4 = 5 7 but ( 5 3 ) 4 = 5 3 ⋅ 4 = 5 12 x 5 ⋅ x 2 = x 5 + 2 = x 7 but ( x 5 ) 2 = x 5 ⋅ 2 = x 10 ( 3 a ) 7 ⋅ ( 3 a ) 10 = ( 3 a ) 7 + 10 = ( 3 a ) 17 but ( ( 3 a ) 7 ) 10 = ( 3 a ) 7 ⋅ 10 = ( 3 a ) 70 Product Rule Power Rule 5 3 ⋅ 5 4 = 5 3 + 4 = 5 7 but ( 5 3 ) 4 = 5 3 ⋅ 4 = 5 12 x 5 ⋅ x 2 = x 5 + 2 = x 7 but ( x 5 ) 2 = x 5 ⋅ 2 = x 10 ( 3 a ) 7 ⋅ ( 3 a ) 10 = ( 3 a ) 7 + 10 = ( 3 a ) 17 but ( ( 3 a ) 7 ) 10 = ( 3 a ) 7 ⋅ 10 = ( 3 a ) 70 The Power Rule of Exponents For any real number  a a  and positive integers  m m  and  n , n ,  the power rule of exponents states that ( a m ) n = a m ⋅ n ( a m ) n = a m ⋅ n Example  3 Using the Power Rule Write each of the following products with a single base. Do not simplify further. ⓐ ( x 2 ) 7 ( x 2 ) 7 ⓑ ( ( 2 t ) 5 ) 3 ( ( 2 t ) 5 ) 3 ⓒ ( ( −3 ) 5 ) 11 ( ( −3 ) 5 ) 11 Solution Use the power rule to simplify each expression. ⓐ ( x 2 ) 7 = x 2 ⋅ 7 = x 14 ( x 2 ) 7 = x 2 ⋅ 7 = x 14 ⓑ ( ( 2 t ) 5 ) 3 = ( 2 t ) 5 ⋅ 3 = ( 2 t ) 15 ( ( 2 t ) 5 ) 3 = ( 2 t ) 5 ⋅ 3 = ( 2 t ) 15 ⓒ ( ( −3 ) 5 ) 11 = ( −3 ) 5 ⋅ 11 = ( −3 ) 55 ( ( −3 ) 5 ) 11 = ( −3 ) 5 ⋅ 11 = ( −3 ) 55 Try It  #3 Write each of the following products with a single base. Do not simplify further.  ⓐ ( ( 3 y ) 8 ) 3 ( ( 3 y ) 8 ) 3 ⓑ ( t 5 ) 7 ( t 5 ) 7 ⓒ ( ( − g ) 4 ) 4 ( ( − g ) 4 ) 4 Using the Zero Exponent Rule of Exponents Return to the quotient rule. We made the condition that  m > n m > n  so that the difference  m − n m − n  would never be zero or negative. What would happen if  m = n ? m = n ?  In this case, we would use the  zero exponent rule of exponents  to simplify the expression to 1. To see how this is done, let us begin with an example. t 8 t 8 = t 8 t 8 = 1 t 8 t 8 = t 8 t 8 = 1 If we were to simplify the original expression using the quotient rule, we would have t 8 t 8 = t 8 − 8 = t 0 t 8 t 8 = t 8 − 8 = t 0 If we equate the two answers, the result is  t 0 = 1. t 0 = 1.  This is true for any nonzero real number, or any variable representing a real number. a 0 = 1 a 0 = 1 The sole exception is the expression  0 0 . 0 0 .  This appears later in more advanced courses, but for now, we will consider the value to be undefined. The Zero Exponent Rule of Exponents For any nonzero real number  a , a ,  the zero exponent rule of exponents states that a 0 = 1 a 0 = 1 Example  4 Using the Zero Exponent Rule Simplify each expression using the zero exponent rule of exponents. ⓐ c 3 c 3 c 3 c 3 ⓑ −3 x 5 x 5 −3 x 5 x 5 ⓒ ( j 2 k ) 4 ( j 2 k ) ⋅ ( j 2 k ) 3 ( j 2 k ) 4 ( j 2 k ) ⋅ ( j 2 k ) 3 ⓓ 5 ( r s 2 ) 2 ( r s 2 ) 2 5 ( r s 2 ) 2 ( r s 2 ) 2 Solution Use the zero exponent and other rules to simplify each expression. ⓐ c 3 c 3 = c 3 − 3 = c 0 = 1 c 3 c 3 = c 3 − 3 = c 0 = 1 ⓑ −3 x 5 x 5 = −3 ⋅ x 5 x 5 = −3 ⋅ x 5 − 5 = −3 ⋅ x 0 = −3 ⋅ 1 = −3 −3 x 5 x 5 = −3 ⋅ x 5 x 5 = −3 ⋅ x 5 − 5 = −3 ⋅ x 0 = −3 ⋅ 1 = −3 ⓒ ( j 2 k ) 4 ( j 2 k ) ⋅ ( j 2 k ) 3 = ( j 2 k ) 4 ( j 2 k ) 1 + 3 Use the product rule in the denominator . = ( j 2 k ) 4 ( j 2 k ) 4 Simplify . = ( j 2 k ) 4 − 4 Use the quotient rule . = ( j 2 k ) 0 Simplify . = 1 ( j 2 k ) 4 ( j 2 k ) ⋅ ( j 2 k ) 3 = ( j 2 k ) 4 ( j 2 k ) 1 + 3 Use the product rule in the denominator . = ( j 2 k ) 4 ( j 2 k ) 4 Simplify . = ( j 2 k ) 4 − 4 Use the quotient rule . = ( j 2 k ) 0 Simplify . = 1 ⓓ 5 ( r s 2 ) 2 ( r s 2 ) 2 = 5 ( r s 2 ) 2 − 2 Use the quotient rule . = 5 ( r s 2 ) 0 Simplify . = 5 ⋅ 1 Use the zero exponent rule . = 5 Simplify . 5 ( r s 2 ) 2 ( r s 2 ) 2 = 5 ( r s 2 ) 2 − 2 Use the quotient rule . = 5 ( r s 2 ) 0 Simplify . = 5 ⋅ 1 Use the zero exponent rule . = 5 Simplify . Try It  #4 Simplify each expression using the zero exponent rule of exponents. ⓐ t 7 t 7 t 7 t 7 ⓑ ( d e 2 ) 11 2 ( d e 2 ) 11 ( d e 2 ) 11 2 ( d e 2 ) 11 ⓒ w 4 ⋅ w 2 w 6 w 4 ⋅ w 2 w 6 ⓓ t 3 ⋅ t 4 t 2 ⋅ t 5 t 3 ⋅ t 4 t 2 ⋅ t 5 Using the Negative Rule of Exponents Another useful result occurs if we relax the condition that  m > n m > n  in the quotient rule even further. For example, can we simplify  h 3 h 5 ? h 3 h 5 ?  When  m < n m < n  —that is, where the difference  m − n m − n  is negative—we can use the  negative rule of exponents  to simplify the expression to its reciprocal. Divide one exponential expression by another with a larger exponent. Use our example,  h 3 h 5 . h 3 h 5 . h 3 h 5 = h ⋅ h ⋅ h h ⋅ h ⋅ h ⋅ h ⋅ h = h ⋅ h ⋅ h h ⋅ h ⋅ h ⋅ h ⋅ h = 1 h ⋅ h = 1 h 2 h 3 h 5 = h ⋅ h ⋅ h h ⋅ h ⋅ h ⋅ h ⋅ h = h ⋅ h ⋅ h h ⋅ h ⋅ h ⋅ h ⋅ h = 1 h ⋅ h = 1 h 2 If we were to simplify the original expression using the quotient rule, we would have h 3 h 5 = h 3 − 5 = h −2 h 3 h 5 = h 3 − 5 = h −2 Putting the answers together, we have  h −2 = 1 h 2 . h −2 = 1 h 2 .  This is true for any nonzero real number, or any variable representing a nonzero real number. A factor with a negative exponent becomes the same factor with a positive exponent if it is moved across the fraction bar—from numerator to denominator or vice versa. a − n = 1 a n and a n = 1 a − n a − n = 1 a n and a n = 1 a − n We have shown that the exponential expression  a n a n  is defined when  n n  is a natural number, 0, or the negative of a natural number. That means that  a n a n  is defined for any integer  n . n .  Also, the product and quotient rules and all of the rules we will look at soon hold for any integer  n . n . The Negative Rule of Exponents For any nonzero real number  a a  and natural number  n , n ,  the negative rule of exponents states that a − n = 1 a n a − n = 1 a n Example  5 Using the Negative Exponent Rule Write each of the following quotients with a single base. Do not simplify further. Write answers with positive exponents. ⓐ θ 3 θ 10 θ 3 θ 10 ⓑ z 2 ⋅ z z 4 z 2 ⋅ z z 4 ⓒ ( −5 t 3 ) 4 ( −5 t 3 ) 8 ( −5 t 3 ) 4 ( −5 t 3 ) 8 Solution ⓐ θ 3 θ 10 = θ 3 − 10 = θ −7 = 1 θ 7 θ 3 θ 10 = θ 3 − 10 = θ −7 = 1 θ 7 ⓑ z 2 ⋅ z z 4 = z 2 + 1 z 4 = z 3 z 4 = z 3 − 4 = z −1 = 1 z z 2 ⋅ z z 4 = z 2 + 1 z 4 = z 3 z 4 = z 3 − 4 = z −1 = 1 z ⓒ ( −5 t 3 ) 4 ( −5 t 3 ) 8 = ( −5 t 3 ) 4 − 8 = ( −5 t 3 ) −4 = 1 ( −5 t 3 ) 4 ( −5 t 3 ) 4 ( −5 t 3 ) 8 = ( −5 t 3 ) 4 − 8 = ( −5 t 3 ) −4 = 1 ( −5 t 3 ) 4 Try It  #5 Write each of the following quotients with a single base. Do not simplify further. Write answers with positive exponents. ⓐ ( −3 t ) 2 ( −3 t ) 8 ( −3 t ) 2 ( −3 t ) 8 ⓑ f 47 f 49 ⋅ f f 47 f 49 ⋅ f ⓒ 2 k 4 5 k 7 2 k 4 5 k 7 Example  6 Using the Product and Quotient Rules Write each of the following products with a single base. Do not simplify further. Write answers with positive exponents. ⓐ b 2 ⋅ b −8 b 2 ⋅ b −8 ⓑ ( − x ) 5 ⋅ ( − x ) −5 ( − x ) 5 ⋅ ( − x ) −5 ⓒ −7 z ( −7 z ) 5 −7 z ( −7 z ) 5 Solution ⓐ b 2 ⋅ b −8 = b 2 − 8 = b −6 = 1 b 6 b 2 ⋅ b −8 = b 2 − 8 = b −6 = 1 b 6 ⓑ ( − x ) 5 ⋅ ( − x ) −5 = ( − x ) 5 − 5 = ( − x ) 0 = 1 ( − x ) 5 ⋅ ( − x ) −5 = ( − x ) 5 − 5 = ( − x ) 0 = 1 ⓒ −7 z ( −7 z ) 5 = ( −7 z ) 1 ( −7 z ) 5 = ( −7 z ) 1 − 5 = ( −7 z ) −4 = 1 ( −7 z ) 4 −7 z ( −7 z ) 5 = ( −7 z ) 1 ( −7 z ) 5 = ( −7 z ) 1 − 5 = ( −7 z ) −4 = 1 ( −7 z ) 4 Try It  #6 Write each of the following products with a single base. Do not simplify further. Write answers with positive exponents. ⓐ t −11 ⋅ t 6 t −11 ⋅ t 6 ⓑ 25 12 25 13 25 12 25 13 Finding the Power of a Product To simplify the power of a product of two exponential expressions, we can use the  power of a product rule of exponents,  which breaks up the power of a product of factors into the product of the powers of the factors. For instance, consider  ( p q ) 3 . ( p q ) 3 .  We begin by using the associative and commutative properties of multiplication to regroup the factors. ( p q ) 3 = ( p q ) ⋅ ( p q ) ⋅ ( p q ) 3 factors = p ⋅ q ⋅ p ⋅ q ⋅ p ⋅ q = p ⋅ p ⋅ p 3 factors ⋅ q ⋅ q ⋅ q 3 factors = p 3 ⋅ q 3 ( p q ) 3 = ( p q ) ⋅ ( p q ) ⋅ ( p q ) 3 factors = p ⋅ q ⋅ p ⋅ q ⋅ p ⋅ q = p ⋅ p ⋅ p 3 factors ⋅ q ⋅ q ⋅ q 3 factors = p 3 ⋅ q 3 In other words,  ( p q ) 3 = p 3 ⋅ q 3 . ( p q ) 3 = p 3 ⋅ q 3 . The Power of a Product Rule of Exponents For any real numbers  a a  and  b b  and any integer  n , n ,  the power of a product rule of exponents states that ( a b ) n = a n b n ( a b ) n = a n b n Example  7 Using the Power of a Product Rule Simplify each of the following products as much as possible using the power of a product rule. Write answers with positive exponents. ⓐ ( a b 2 ) 3 ( a b 2 ) 3 ⓑ ( 2 t ) 15 ( 2 t ) 15 ⓒ ( −2 w 3 ) 3 ( −2 w 3 ) 3 ⓓ 1 ( −7 z ) 4 1 ( −7 z ) 4 ⓔ ( e −2 f 2 ) 7 ( e −2 f 2 ) 7 Solution Use the product and quotient rules and the new definitions to simplify each expression. ⓐ ( a b 2 ) 3 = ( a ) 3 ⋅ ( b 2 ) 3 = a 1 ⋅ 3 ⋅ b 2 ⋅ 3 = a 3 b 6 ( a b 2 ) 3 = ( a ) 3 ⋅ ( b 2 ) 3 = a 1 ⋅ 3 ⋅ b 2 ⋅ 3 = a 3 b 6 ⓑ ( 2 t ) 15 = ( 2 ) 15 ⋅ ( t ) 15 = 2 15 t 15 = 32 , 768 t 15 ( 2 t ) 15 = ( 2 ) 15 ⋅ ( t ) 15 = 2 15 t 15 = 32 , 768 t 15 ⓒ ( −2 w 3 ) 3 = ( −2 ) 3 ⋅ ( w 3 ) 3 = −8 ⋅ w 3 ⋅ 3 = −8 w 9 ( −2 w 3 ) 3 = ( −2 ) 3 ⋅ ( w 3 ) 3 = −8 ⋅ w 3 ⋅ 3 = −8 w 9 ⓓ 1 ( −7 z ) 4 = 1 ( −7 ) 4 ⋅ ( z ) 4 = 1 2 , 401 z 4 1 ( −7 z ) 4 = 1 ( −7 ) 4 ⋅ ( z ) 4 = 1 2 , 401 z 4 ⓔ ( e −2 f 2 ) 7 = ( e −2 ) 7 ⋅ ( f 2 ) 7 = e −2 ⋅ 7 ⋅ f 2 ⋅ 7 = e −14 f 14 = f 14 e 14 ( e −2 f 2 ) 7 = ( e −2 ) 7 ⋅ ( f 2 ) 7 = e −2 ⋅ 7 ⋅ f 2 ⋅ 7 = e −14 f 14 = f 14 e 14 Try It  #7 Simplify each of the following products as much as possible using the power of a product rule. Write answers with positive exponents. ⓐ ( g 2 h 3 ) 5 ( g 2 h 3 ) 5 ⓑ ( 5 t ) 3 ( 5 t ) 3 ⓒ ( −3 y 5 ) 3 ( −3 y 5 ) 3 ⓓ 1 ( a 6 b 7 ) 3 1 ( a 6 b 7 ) 3 ⓔ ( r 3 s −2 ) 4 ( r 3 s −2 ) 4 Finding the Power of a Quotient To simplify the power of a quotient of two expressions, we can use the  power of a quotient rule,  which states that the power of a quotient of factors is the quotient of the powers of the factors. For example, let’s look at the following example. ( e −2 f 2 ) 7 = f 14 e 14 ( e −2 f 2 ) 7 = f 14 e 14 Let’s rewrite the original problem differently and look at the result. ( e −2 f 2 ) 7 = ( f 2 e 2 ) 7 = f 14 e 14 ( e −2 f 2 ) 7 = ( f 2 e 2 ) 7 = f 14 e 14 It appears from the last two steps that we can use the power of a product rule as a power of a quotient rule. ( e − 2 f 2 ) 7 = ( f 2 e 2 ) 7 = ( f 2 ) 7 ( e 2 ) 7 = f 2 ⋅ 7 e 2 ⋅ 7 = f 14 e 14 ( e − 2 f 2 ) 7 = ( f 2 e 2 ) 7 = ( f 2 ) 7 ( e 2 ) 7 = f 2 ⋅ 7 e 2 ⋅ 7 = f 14 e 14 The Power of a Quotient Rule of Exponents For any real numbers  a a  and  b b  and any integer  n , n ,  the power of a quotient rule of exponents states that ( a b ) n = a n b n ( a b ) n = a n b n Example  8 Using the Power of a Quotient Rule Simplify each of the following quotients as much as possible using the power of a quotient rule. Write answers with positive exponents. ⓐ ( 4 z 11 ) 3 ( 4 z 11 ) 3 ⓑ ( p q 3 ) 6 ( p q 3 ) 6 ⓒ ( −1 t 2 ) 27 ( −1 t 2 ) 27 ⓓ ( j 3 k −2 ) 4 ( j 3 k −2 ) 4 ⓔ ( m −2 n −2 ) 3 ( m −2 n −2 ) 3 Solution ⓐ ( 4 z 11 ) 3 = ( 4 ) 3 ( z 11 ) 3 = 64 z 11 ⋅ 3 = 64 z 33 ( 4 z 11 ) 3 = ( 4 ) 3 ( z 11 ) 3 = 64 z 11 ⋅ 3 = 64 z 33 ⓑ ( p q 3 ) 6 = ( p ) 6 ( q 3 ) 6 = p 1 ⋅ 6 q 3 ⋅ 6 = p 6 q 18 ( p q 3 ) 6 = ( p ) 6 ( q 3 ) 6 = p 1 ⋅ 6 q 3 ⋅ 6 = p 6 q 18 ⓒ ( −1 t 2 ) 27 = ( −1 ) 27 ( t 2 ) 27 = −1 t 2 ⋅ 27 = −1 t 54 = − 1 t 54 ( −1 t 2 ) 27 = ( −1 ) 27 ( t 2 ) 27 = −1 t 2 ⋅ 27 = −1 t 54 = − 1 t 54 ⓓ ( j 3 k −2 ) 4 = ( j 3 k 2 ) 4 = ( j 3 ) 4 ( k 2 ) 4 = j 3 ⋅ 4 k 2 ⋅ 4 = j 12 k 8 ( j 3 k −2 ) 4 = ( j 3 k 2 ) 4 = ( j 3 ) 4 ( k 2 ) 4 = j 3 ⋅ 4 k 2 ⋅ 4 = j 12 k 8 ⓔ ( m −2 n −2 ) 3 = ( 1 m 2 n 2 ) 3 = ( 1 ) 3 ( m 2 n 2 ) 3 = 1 ( m 2 ) 3 ( n 2 ) 3 = 1 m 2 ⋅ 3 ⋅ n 2 ⋅ 3 = 1 m 6 n 6 ( m −2 n −2 ) 3 = ( 1 m 2 n 2 ) 3 = ( 1 ) 3 ( m 2 n 2 ) 3 = 1 ( m 2 ) 3 ( n 2 ) 3 = 1 m 2 ⋅ 3 ⋅ n 2 ⋅ 3 = 1 m 6 n 6 Try It  #8 Simplify each of the following quotients as much as possible using the power of a quotient rule. Write answers with positive exponents. ⓐ ( b 5 c ) 3 ( b 5 c ) 3 ⓑ ( 5 u 8 ) 4 ( 5 u 8 ) 4 ⓒ ( −1 w 3 ) 35 ( −1 w 3 ) 35 ⓓ ( p −4 q 3 ) 8 ( p −4 q 3 ) 8 ⓔ ( c −5 d −3 ) 4 ( c −5 d −3 ) 4 Simplifying Exponential Expressions Recall that to simplify an expression means to rewrite it by combing terms or exponents; in other words, to write the expression more simply with fewer terms. The rules for exponents may be combined to simplify expressions. Example  9 Simplifying Exponential Expressions Simplify each expression and write the answer with positive exponents only. ⓐ ( 6 m 2 n −1 ) 3 ( 6 m 2 n −1 ) 3 ⓑ 17 5 ⋅ 17 −4 ⋅ 17 −3 17 5 ⋅ 17 −4 ⋅ 17 −3 ⓒ ( u −1 v v −1 ) 2 ( u −1 v v −1 ) 2 ⓓ ( −2 a 3 b −1 ) ( 5 a −2 b 2 ) ( −2 a 3 b −1 ) ( 5 a −2 b 2 ) ⓔ ( x 2 2 ) 4 ( x 2 2 ) −4 ( x 2 2 ) 4 ( x 2 2 ) −4 ⓕ ( 3 w 2 ) 5 ( 6 w −2 ) 2 ( 3 w 2 ) 5 ( 6 w −2 ) 2 Solution ⓐ ( 6 m 2 n −1 ) 3 = ( 6 ) 3 ( m 2 ) 3 ( n −1 ) 3 The power of a product rule = 6 3 m 2 ⋅ 3 n −1 ⋅ 3 The power rule = 216 m 6 n −3 Simplify . = 216 m 6 n 3 The negative exponent rule ( 6 m 2 n −1 ) 3 = ( 6 ) 3 ( m 2 ) 3 ( n −1 ) 3 The power of a product rule = 6 3 m 2 ⋅ 3 n −1 ⋅ 3 The power rule = 216 m 6 n −3 Simplify . = 216 m 6 n 3 The negative exponent rule ⓑ 17 5 ⋅ 17 −4 ⋅ 17 −3 = 17 5 − 4 − 3 The product rule = 17 −2 Simplify . = 1 17 2 or  1 289 The negative exponent rule 17 5 ⋅ 17 −4 ⋅ 17 −3 = 17 5 − 4 − 3 The product rule = 17 −2 Simplify . = 1 17 2 or  1 289 The negative exponent rule ⓒ ( u −1 v v −1 ) 2 = ( u −1 v ) 2 ( v −1 ) 2 The power of a quotient rule = u −2 v 2 v −2 The power of a product rule = u −2 v 2 − ( −2 ) The quotient rule = u −2 v 4 Simplify . = v 4 u 2 The negative exponent rule ( u −1 v v −1 ) 2 = ( u −1 v ) 2 ( v −1 ) 2 The power of a quotient rule = u −2 v 2 v −2 The power of a product rule = u −2 v 2 − ( −2 ) The quotient rule = u −2 v 4 Simplify . = v 4 u 2 The negative exponent rule ⓓ ( −2 a 3 b − 1 ) ( 5 a −2 b 2 ) = −2 ⋅ 5 ⋅ a 3 ⋅ a −2 ⋅ b −1 ⋅ b 2 Commutative and associative laws of multiplication = −10 ⋅ a 3 − 2 ⋅ b −1 + 2 The product rule = −10 a b Simplify . ( −2 a 3 b − 1 ) ( 5 a −2 b 2 ) = −2 ⋅ 5 ⋅ a 3 ⋅ a −2 ⋅ b −1 ⋅ b 2 Commutative and associative laws of multiplication = −10 ⋅ a 3 − 2 ⋅ b −1 + 2 The product rule = −10 a b Simplify . ⓔ ( x 2 2 ) 4 ( x 2 2 ) −4 = ( x 2 2 ) 4 − 4 The product rule = ( x 2 2 ) 0 Simplify . = 1 The zero exponent rule ( x 2 2 ) 4 ( x 2 2 ) −4 = ( x 2 2 ) 4 − 4 The product rule = ( x 2 2 ) 0 Simplify . = 1 The zero exponent rule ⓕ ( 3 w 2 ) 5 ( 6 w −2 ) 2 = ( 3 ) 5 ⋅ ( w 2 ) 5 ( 6 ) 2 ⋅ ( w −2 ) 2 The power of a product rule = 3 5 w 2 ⋅ 5 6 2 w −2 ⋅ 2 The power rule = 243 w 10 36 w −4 Simplify . = 27 w 10 − ( −4 ) 4 The quotient rule and reduce fraction = 27 w 14 4 Simplify . ( 3 w 2 ) 5 ( 6 w −2 ) 2 = ( 3 ) 5 ⋅ ( w 2 ) 5 ( 6 ) 2 ⋅ ( w −2 ) 2 The power of a product rule = 3 5 w 2 ⋅ 5 6 2 w −2 ⋅ 2 The power rule = 243 w 10 36 w −4 Simplify . = 27 w 10 − ( −4 ) 4 The quotient rule and reduce fraction = 27 w 14 4 Simplify . Try It  #9 Simplify each expression and write the answer with positive exponents only. ⓐ ( 2 u v − 2 ) −3 ( 2 u v − 2 ) −3 ⓑ x 8 ⋅ x −12 ⋅ x x 8 ⋅ x −12 ⋅ x ⓒ ( e 2 f − 3 f −1 ) 2 ( e 2 f − 3 f −1 ) 2 ⓓ ( 9 r −5 s 3 ) ( 3 r 6 s −4 ) ( 9 r −5 s 3 ) ( 3 r 6 s −4 ) ⓔ ( 4 9 t w −2 ) −3 ( 4 9 t w −2 ) 3 ( 4 9 t w −2 ) −3 ( 4 9 t w −2 ) 3 ⓕ ( 2 h 2 k ) 4 ( 7 h −1 k 2 ) 2 ( 2 h 2 k ) 4 ( 7 h −1 k 2 ) 2 Using Scientific Notation Recall at the beginning of the section that we found the number  1.3 × 10 13 1.3 × 10 13  when describing bits of information in digital images. Other extreme numbers include the width of a human hair, which is about 0.00005 m, and the radius of an electron, which is about 0.00000000000047 m. How can we effectively work read, compare, and calculate with numbers such as these? A shorthand method of writing very small and very large numbers is called  scientific notation , in which we express numbers in terms of exponents of 10. To write a number in scientific notation, move the decimal point to the right of the first digit in the number. Write the digits as a decimal number between 1 and 10. Count the number of places  n  that you moved the decimal point. Multiply the decimal number by 10 raised to a power of  n . If you moved the decimal left as in a very large number,  n n  is positive. If you moved the decimal right as in a small large number,  n n  is negative. For example, consider the number 2,780,418. Move the decimal left until it is to the right of the first nonzero digit, which is 2. We obtain 2.780418 by moving the decimal point 6 places to the left. Therefore, the exponent of 10 is 6, and it is positive because we moved the decimal point to the left. This is what we should expect for a large number. 2.780418 × 10 6 2.780418 × 10 6 Working with small numbers is similar. Take, for example, the radius of an electron, 0.00000000000047 m. Perform the same series of steps as above, except move the decimal point to the right. Be careful not to include the leading 0 in your count. We move the decimal point 13 places to the right, so the exponent of 10 is 13. The exponent is negative because we moved the decimal point to the right. This is what we should expect for a small number. 4.7 × 10 −13 4.7 × 10 −13 Scientific Notation A number is written in  scientific notation  if it is written in the form  a × 10 n , a × 10 n ,  where  1 ≤ | a | < 10 1 ≤ | a | < 10  and  n n  is an integer. Example  10 Converting Standard Notation to Scientific Notation Write each number in scientific notation. ⓐ Distance to Andromeda Galaxy from Earth: 24,000,000,000,000,000,000,000 m ⓑ Diameter of Andromeda Galaxy: 1,300,000,000,000,000,000,000 m ⓒ Number of stars in Andromeda Galaxy: 1,000,000,000,000 ⓓ Diameter of electron: 0.00000000000094 m ⓔ Probability of being struck by lightning in any single year: 0.00000143 Solution ⓐ 24,000,000,000,000,000,000,000 m 24,000,000,000,000,000,000,000 m ← 22 places 2.4 × 10 22 m 24,000,000,000,000,000,000,000 m 24,000,000,000,000,000,000,000 m ← 22 places 2.4 × 10 22 m ⓑ 1,300,000,000,000,000,000,000 m 1,300,000,000,000,000,000,000 m ← 21 places 1.3 × 10 21 m 1,300,000,000,000,000,000,000 m 1,300,000,000,000,000,000,000 m ← 21 places 1.3 × 10 21 m ⓒ 1,000,000,000,000 1,000,000,000,000 ← 12 places 1 × 10 12 1,000,000,000,000 1,000,000,000,000 ← 12 places 1 × 10 12 ⓓ 0.00000000000094 m 0.00000000000094 m → 13 places 9.4 × 10 −13 m 0.00000000000094 m 0.00000000000094 m → 13 places 9.4 × 10 −13 m ⓔ 0.00000143 0.00000143 → 6 places 1.43 × 10 −6 0.00000143 0.00000143 → 6 places 1.43 × 10 −6 Analysis  Observe that, if the given number is greater than 1, as in examples a–c, the exponent of 10 is positive; and if the number is less than 1, as in examples d–e, the exponent is negative. Try It  #10 Write each number in scientific notation. ⓐ U.S. national debt per taxpayer (April 2014): $152,000 ⓑ World population (April 2014): 7,158,000,000 ⓒ World gross national income (April 2014): $85,500,000,000,000 ⓓ Time for light to travel 1 m: 0.00000000334 s ⓔ Probability of winning lottery (match 6 of 49 possible numbers): 0.0000000715 Converting from Scientific to Standard Notation  To convert a number in  scientific notation  to standard notation, simply reverse the process. Move the decimal  n n  places to the right if  n n  is positive or  n n  places to the left if  n n  is negative and add zeros as needed. Remember, if  n n  is positive, the absolute value of the number is greater than 1, and if  n n  is negative, the absolute value of the number is less than one. Example  11 Converting Scientific Notation to Standard Notation Convert each number in scientific notation to standard notation. ⓐ 3.547 × 10 14 3.547 × 10 14 ⓑ −2 × 10 6 −2 × 10 6 ⓒ 7.91 × 10 −7 7.91 × 10 −7 ⓓ −8.05 × 10 −12 −8.05 × 10 −12 Solution ⓐ 3.547 × 10 14 3.54700000000000 → 14 places 354,700,000,000,000 3.547 × 10 14 3.54700000000000 → 14 places 354,700,000,000,000 ⓑ −2 × 10 6 −2.000000 → 6 places −2,000,000 −2 × 10 6 −2.000000 → 6 places −2,000,000 ⓒ 7.91 × 10 −7 0000007.91 → 7 places 0.000000791 7.91 × 10 −7 0000007.91 → 7 places 0.000000791 ⓓ −8.05 × 10 −12 −000000000008.05 → 12 places −0.00000000000805 −8.05 × 10 −12 −000000000008.05 → 12 places −0.00000000000805 Try It  #11 Convert each number in scientific notation to standard notation. ⓐ 7.03 × 10 5 7.03 × 10 5 ⓑ −8.16 × 10 11 −8.16 × 10 11 ⓒ −3.9 × 10 −13 −3.9 × 10 −13 ⓓ 8 × 10 −6 8 × 10 −6 Using Scientific Notation in Applications Scientific notation, used with the rules of exponents, makes calculating with large or small numbers much easier than doing so using standard notation. For example, suppose we are asked to calculate the number of atoms in 1 L of water. Each water molecule contains 3 atoms (2 hydrogen and 1 oxygen). The average drop of water contains around  1.32 × 10 21 1.32 × 10 21  molecules of water and 1 L of water holds about  1.22 × 10 4 1.22 × 10 4  average drops. Therefore, there are approximately  3 ⋅ ( 1.32 × 10 21 ) ⋅ ( 1.22 × 10 4 ) ≈ 4.83 × 10 25 3 ⋅ ( 1.32 × 10 21 ) ⋅ ( 1.22 × 10 4 ) ≈ 4.83 × 10 25  atoms in 1 L of water. We simply multiply the decimal terms and add the exponents. Imagine having to perform the calculation without using scientific notation! When performing calculations with scientific notation, be sure to write the answer in proper scientific notation. For example, consider the product  ( 7 × 10 4 ) ⋅ ( 5 × 10 6 ) = 35 × 10 10 . ( 7 × 10 4 ) ⋅ ( 5 × 10 6 ) = 35 × 10 10 .  The answer is not in proper scientific notation because 35 is greater than 10. Consider 35 as  3.5 × 10. 3.5 × 10.  That adds a ten to the exponent of the answer. ( 35 ) × 10 10 = ( 3.5 × 10 ) × 10 10 = 3.5 × ( 10 × 10 10 ) = 3.5 × 10 11 ( 35 ) × 10 10 = ( 3.5 × 10 ) × 10 10 = 3.5 × ( 10 × 10 10 ) = 3.5 × 10 11 Example  12 Using Scientific Notation Perform the operations and write the answer in scientific notation. ⓐ ( 8.14 × 10 −7 ) ( 6.5 × 10 10 ) ( 8.14 × 10 −7 ) ( 6.5 × 10 10 ) ⓑ ( 4 × 10 5 ) ÷ ( −1.52 × 10 9 ) ( 4 × 10 5 ) ÷ ( −1.52 × 10 9 ) ⓒ ( 2.7 × 10 5 ) ( 6.04 × 10 13 ) ( 2.7 × 10 5 ) ( 6.04 × 10 13 ) ⓓ ( 1.2 × 10 8 ) ÷ ( 9.6 × 10 5 ) ( 1.2 × 10 8 ) ÷ ( 9.6 × 10 5 ) ⓔ ( 3.33 × 10 4 ) ( −1.05 × 10 7 ) ( 5.62 × 10 5 ) ( 3.33 × 10 4 ) ( −1.05 × 10 7 ) ( 5.62 × 10 5 ) Solution ⓐ ( 8.14 × 10 −7 ) ( 6.5 × 10 10 ) = ( 8.14 × 6.5 ) ( 10 −7 × 10 10 ) Commutative and associative properties of multiplication = ( 52.91 ) ( 10 3 ) Product rule of exponents = 5.291 × 10 4 Scientific notation ( 8.14 × 10 −7 ) ( 6.5 × 10 10 ) = ( 8.14 × 6.5 ) ( 10 −7 × 10 10 ) Commutative and associative properties of multiplication = ( 52.91 ) ( 10 3 ) Product rule of exponents = 5.291 × 10 4 Scientific notation ⓑ ( 4 × 10 5 ) ÷ ( −1.52 × 10 9 ) = ( 4 −1.52 ) ( 10 5 10 9 ) Commutative and associative properties of multiplication ≈ ( −2.63 ) ( 10 −4 ) Quotient rule of exponents = −2.63 × 10 −4 Scientific notation ( 4 × 10 5 ) ÷ ( −1.52 × 10 9 ) = ( 4 −1.52 ) ( 10 5 10 9 ) Commutative and associative properties of multiplication ≈ ( −2.63 ) ( 10 −4 ) Quotient rule of exponents = −2.63 × 10 −4 Scientific notation ⓒ ( 2.7 × 10 5 ) ( 6.04 × 10 13 ) = ( 2.7 × 6.04 ) ( 10 5 × 10 13 ) Commutative and associative properties of multiplication = ( 16.308 ) ( 10 18 ) Product rule of exponents = 1.6308 × 10 19 Scientific notation ( 2.7 × 10 5 ) ( 6.04 × 10 13 ) = ( 2.7 × 6.04 ) ( 10 5 × 10 13 ) Commutative and associative properties of multiplication = ( 16.308 ) ( 10 18 ) Product rule of exponents = 1.6308 × 10 19 Scientific notation ⓓ ( 1.2 × 10 8 ) ÷ ( 9.6 × 10 5 ) = ( 1.2 9.6 ) ( 10 8 10 5 ) Commutative and associative properties of multiplication = ( 0.125 ) ( 10 3 ) Quotient rule of exponents = 1.25 × 10 2 Scientific notation ( 1.2 × 10 8 ) ÷ ( 9.6 × 10 5 ) = ( 1.2 9.6 ) ( 10 8 10 5 ) Commutative and associative properties of multiplication = ( 0.125 ) ( 10 3 ) Quotient rule of exponents = 1.25 × 10 2 Scientific notation ⓔ ( 3.33 × 10 4 ) ( −1.05 × 10 7 ) ( 5.62 × 10 5 ) = [ 3.33 × ( −1.05 ) × 5.62 ] ( 10 4 × 10 7 × 10 5 ) ≈ ( −19.65 ) ( 10 16 ) = −1.965 × 10 17 ( 3.33 × 10 4 ) ( −1.05 × 10 7 ) ( 5.62 × 10 5 ) = [ 3.33 × ( −1.05 ) × 5.62 ] ( 10 4 × 10 7 × 10 5 ) ≈ ( −19.65 ) ( 10 16 ) = −1.965 × 10 17 Try It  #12 Perform the operations and write the answer in scientific notation. ⓐ ( −7.5 × 10 8 ) ( 1.13 × 10 −2 ) ( −7.5 × 10 8 ) ( 1.13 × 10 −2 ) ⓑ ( 1.24 × 10 11 ) ÷ ( 1.55 × 10 18 ) ( 1.24 × 10 11 ) ÷ ( 1.55 × 10 18 ) ⓒ ( 3.72 × 10 9 ) ( 8 × 10 3 ) ( 3.72 × 10 9 ) ( 8 × 10 3 ) ⓓ ( 9.933 × 10 23 ) ÷ ( − 2.31 × 10 17 ) ( 9.933 × 10 23 ) ÷ ( − 2.31 × 10 17 ) ⓔ ( −6.04 × 10 9 ) ( 7.3 × 10 2 ) ( −2.81 × 10 2 ) ( −6.04 × 10 9 ) ( 7.3 × 10 2 ) ( −2.81 × 10 2 ) Example  13 Applying Scientific Notation to Solve Problems In April 2014, the population of the United States was about 308,000,000 people. The national debt was about $17,547,000,000,000. Write each number in scientific notation, rounding figures to two decimal places, and find the amount of the debt per U.S. citizen. Write the answer in both scientific and standard notations. Solution The population was  308,000,000 = 3.08 × 10 8 . 308,000,000 = 3.08 × 10 8 . The national debt was  $ 17,547,000,000,000 ≈ $ 1.75 × 10 13 . $ 17,547,000,000,000 ≈ $ 1.75 × 10 13 . To find the amount of debt per citizen, divide the national debt by the number of citizens. ( 1.75 × 10 13 ) ÷ ( 3.08 × 10 8 ) = ( 1.75 3.08 ) ⋅ ( 10 13 10 8 ) ≈ 0.57 × 10 5 = 5.7 × 10 4 ( 1.75 × 10 13 ) ÷ ( 3.08 × 10 8 ) = ( 1.75 3.08 ) ⋅ ( 10 13 10 8 ) ≈ 0.57 × 10 5 = 5.7 × 10 4 The debt per citizen at the time was about  $ 5.7 × 10 4 , $ 5.7 × 10 4 ,  or $57,000. Try It  #13 An average human body contains around 30,000,000,000,000 red blood cells. Each cell measures approximately 0.000008 m long. Write each number in scientific notation and find the total length if the cells were laid end-to-end. Write the answer in both scientific and standard notations. Media Access these online resources for additional instruction and practice with exponents and scientific notation. Exponential Notation Properties of Exponents Zero Exponent Simplify Exponent Expressions Quotient Rule for Exponents Scientific Notation Converting to Decimal Notation 1.2 Section Exercises Verbal 1 .  Is  2 3 2 3  the same as  3 2 ? 3 2 ?  Explain. 2 .  When can you add two exponents? 3 .  What is the purpose of scientific notation? 4 .  Explain what a negative exponent does. Numeric For the following exercises, simplify the given expression. Write answers with positive exponents. 5 .  9 2 9 2 6 .  15 −2 15 −2 7 .  3 2 × 3 3 3 2 × 3 3 8 .  4 4 ÷ 4 4 4 ÷ 4 9 .  ( 2 2 ) −2 ( 2 2 ) −2 10 .  ( 5 − 8 ) 0 ( 5 − 8 ) 0 11 .  11 3 ÷ 11 4 11 3 ÷ 11 4 12 .  6 5 × 6 −7 6 5 × 6 −7 13 .  ( 8 0 ) 2 ( 8 0 ) 2 14 .  5 −2 ÷ 5 2 5 −2 ÷ 5 2 For the following exercises, write each expression with a single base. Do not simplify further. Write answers with positive exponents. 15 .  4 2 × 4 3 ÷ 4 −4 4 2 × 4 3 ÷ 4 −4 16 .  6 12 6 9 6 12 6 9 17 .  ( 12 3 × 12 ) 10 ( 12 3 × 12 ) 10 18 .  10 6 ÷ ( 10 10 ) −2 10 6 ÷ ( 10 10 ) −2 19 .  7 −6 × 7 −3 7 −6 × 7 −3 20 .  ( 3 3 ÷ 3 4 ) 5 ( 3 3 ÷ 3 4 ) 5 For the following exercises, express the decimal in scientific notation. 21 .  0.0000314 22 .  148,000,000 For the following exercises, convert each number in scientific notation to standard notation. 23 .  1.6 × 10 10 1.6 × 10 10 24 .  9.8 × 10 −9 9.8 × 10 −9 Algebraic For the following exercises, simplify the given expression. Write answers with positive exponents. 25 .  a 3 a 2 a a 3 a 2 a 26 .  m n 2 m −2 m n 2 m −2 27 .  ( b 3 c 4 ) 2 ( b 3 c 4 ) 2 28 .  ( x −3 y 2 ) −5 ( x −3 y 2 ) −5 29 .  a b 2 ÷ d −3 a b 2 ÷ d −3 30 .  ( w 0 x 5 ) −1 ( w 0 x 5 ) −1 31 .  m 4 n 0 m 4 n 0 32 .  y −4 ( y 2 ) 2 y −4 ( y 2 ) 2 33 .  p −4 q 2 p 2 q −3 p −4 q 2 p 2 q −3 34 .  ( l × w ) 2 ( l × w ) 2 35 .  ( y 7 ) 3 ÷ x 14 ( y 7 ) 3 ÷ x 14 36 .  ( a 2 3 ) 2 ( a 2 3 ) 2 37 .  ( 25 m ) ÷ ( 5 0 m ) ( 25 m ) ÷ ( 5 0 m ) 38 .  ( 16 x ) 2 y −1 ( 16 x ) 2 y −1 39 .  2 3 ( 3 a ) −2 2 3 ( 3 a ) −2 40 .  ( m a 6 ) 2 1 m 3 a 2 ( m a 6 ) 2 1 m 3 a 2 41 .  ( b −3 c ) 3 ( b −3 c ) 3 42 .  ( x 2 y 13 ÷ y 0 ) 2 ( x 2 y 13 ÷ y 0 ) 2 43 .  ( 9 z 3 ) −2 y ( 9 z 3 ) −2 y Real-World Applications 44 .  To reach escape velocity, a rocket must travel at the rate of  2.2 × 10 6 2.2 × 10 6  ft/min. Rewrite the rate in standard notation. 45 .  A dime is the thinnest coin in U.S. currency. A dime’s thickness measures  1.35 × 10 −3 1.35 × 10 −3  m. Rewrite the number in standard notation. 46 .  The average distance between Earth and the Sun is 92,960,000 mi. Rewrite the distance using scientific notation. 47 .  A terabyte is made of approximately 1,099,500,000,000 bytes. Rewrite in scientific notation. 48 .  The Gross Domestic Product (GDP) for the United States in the first quarter of 2014 was  $ 1.71496 × 10 13 . $ 1.71496 × 10 13 .  Rewrite the GDP in standard notation. 49 .  One picometer is approximately  3.397 × 10 −11 3.397 × 10 −11  in. Rewrite this length using standard notation. 50 .  The value of the services sector of the U.S. economy in the first quarter of 2012 was $10,633.6 billion. Rewrite this amount in scientific notation. Technology For the following exercises, use a graphing calculator to simplify. Round the answers to the nearest hundredth. 51 .  ( 12 3 m 33 4 −3 ) 2 ( 12 3 m 33 4 −3 ) 2 52 .  17 3 ÷ 15 2 x 3 17 3 ÷ 15 2 x 3 Extensions For the following exercises, simplify the given expression. Write answers with positive exponents. 53 .  ( 3 2 a 3 ) −2 ( a 4 2 2 ) 2 ( 3 2 a 3 ) −2 ( a 4 2 2 ) 2 54 .  ( 6 2 −24 ) 2 ÷ ( x y ) −5 ( 6 2 −24 ) 2 ÷ ( x y ) −5 55 .  m 2 n 3 a 2 c −3 ⋅ a −7 n −2 m 2 c 4 m 2 n 3 a 2 c −3 ⋅ a −7 n −2 m 2 c 4 56 .  ( x 6 y 3 x 3 y −3 ⋅ y −7 x −3 ) 10 ( x 6 y 3 x 3 y −3 ⋅ y −7 x −3 ) 10 57 .  ( ( a b 2 c ) −3 b −3 ) 2 ( ( a b 2 c ) −3 b −3 ) 2 58 .  Avogadro’s constant is used to calculate the number of particles in a mole. A mole is a basic unit in chemistry to measure the amount of a substance. The constant is  6.0221413 × 10 23 . 6.0221413 × 10 23 .  Write Avogadro’s constant in standard notation. 59 .  Planck’s constant is an important unit of measure in quantum physics. It describes the relationship between energy and frequency. The constant is written as  6.62606957 × 10 −34 . 6.62606957 × 10 −34 .  Write Planck’s constant in standard notation. \",\"Learning Objectives In this section, you will: Evaluate square roots. Use the product rule to simplify square roots. Use the quotient rule to simplify square roots. Add and subtract square roots. Rationalize denominators. Use rational roots. A hardware store sells 16-ft ladders and 24-ft ladders. A window is located 12 feet above the ground. A ladder needs to be purchased that will reach the window from a point on the ground 5 feet from the building. To find out the length of ladder needed, we can draw a right triangle as shown in  Figure 1 , and use the Pythagorean Theorem. Figure  1 a 2 + b 2 = c 2 5 2 + 12 2 = c 2 169 = c 2 a 2 + b 2 = c 2 5 2 + 12 2 = c 2 169 = c 2 Now, we need to find out the length that, when squared, is 169, to determine which ladder to choose. In other words, we need to find a square root. In this section, we will investigate methods of finding solutions to problems such as this one. Evaluating Square Roots When the square root of a number is squared, the result is the original number. Since  4 2 = 16 , 4 2 = 16 ,  the square root of  16 16  is  4. 4.  The square root function is the inverse of the squaring function just as subtraction is the inverse of addition. To undo squaring, we take the square root. In general terms, if  a a  is a positive real number, then the square root of  a a  is a number that, when multiplied by itself, gives  a . a .  The square root could be positive or negative because multiplying two negative numbers gives a positive number. The  principal square root  is the nonnegative number that when multiplied by itself equals  a . a .  The square root obtained using a calculator is the principal square root. The principal square root of  a a  is written as  a . a .  The symbol is called a  radical , the term under the symbol is called the  radicand , and the entire expression is called a  radical expression . Principal Square Root The  principal square root  of  a a  is the nonnegative number that, when multiplied by itself, equals  a . a .  It is written as a  radical expression ,  with a symbol called a  radical  over the term called the  radicand :  a . a . Q&A Does 25 = ± 5 ? 25 = ± 5 ? No. Although both 5 2 5 2 and ( −5 ) 2 ( −5 ) 2 are 25 , 25 , the radical symbol implies only a nonnegative root, the principal square root. The principal square root of 25 is 25 = 5. 25 = 5. Example  1 Evaluating Square Roots Evaluate each expression. ⓐ 100 100 ⓑ 16 16 ⓒ 25 + 144 25 + 144 ⓓ 49 − 81 49 − 81 Solution ⓐ 100 = 10 100 = 10  because  10 2 = 100 10 2 = 100 ⓑ 16 = 4 = 2 16 = 4 = 2  because  4 2 = 16 4 2 = 16  and  2 2 = 4 2 2 = 4 ⓒ 25 + 144 = 169 = 13 25 + 144 = 169 = 13  because  13 2 = 169 13 2 = 169 ⓓ 49 − 81 = 7 − 9 = −2 49 − 81 = 7 − 9 = −2  because  7 2 = 49 7 2 = 49  and  9 2 = 81 9 2 = 81 Q&A For  25 + 144 , 25 + 144 ,  can we find the square roots before adding? No. 25 + 144 = 5 + 12 = 17. 25 + 144 = 5 + 12 = 17. This is not equivalent to 25 + 144 = 13. 25 + 144 = 13. The order of operations requires us to add the terms in the radicand before finding the square root. Try It  #1 Evaluate each expression. ⓐ 225 225 ⓑ 81 81 ⓒ 25 − 9 25 − 9 ⓓ 36 + 121 36 + 121 Using the Product Rule to Simplify Square Roots To simplify a square root, we rewrite it such that there are no perfect squares in the radicand. There are several properties of square roots that allow us to simplify complicated radical expressions. The first rule we will look at is the  product rule for simplifying square roots,  which allows us to separate the square root of a product of two numbers into the product of two separate rational expressions. For instance, we can rewrite  15 15  as  3 ⋅ 5 . 3 ⋅ 5 .  We can also use the product rule to express the product of multiple radical expressions as a single radical expression. The Product Rule for Simplifying Square Roots If  a a  and  b b  are nonnegative, the square root of the product  a b a b  is equal to the product of the square roots of  a a  and  b . b . a b = a ⋅ b a b = a ⋅ b How To Given a square root radical expression, use the product rule to simplify it.  Factor any perfect squares from the radicand. Write the radical expression as a product of radical expressions. Simplify. Example  2 Using the Product Rule to Simplify Square Roots Simplify the radical expression. ⓐ 300 300 ⓑ 162 a 5 b 4 162 a 5 b 4 Solution ⓐ 100 ⋅ 3 Factor perfect square from radicand . 100 ⋅ 3 Write radical expression as product of radical expressions . 10 3 Simplify . 100 ⋅ 3 Factor perfect square from radicand . 100 ⋅ 3 Write radical expression as product of radical expressions . 10 3 Simplify . ⓑ 81 a 4 b 4 ⋅ 2 a Factor perfect square from radicand . 81 a 4 b 4 ⋅ 2 a Write radical expression as product of radical expressions . 9 a 2 b 2 2 a Simplify . 81 a 4 b 4 ⋅ 2 a Factor perfect square from radicand . 81 a 4 b 4 ⋅ 2 a Write radical expression as product of radical expressions . 9 a 2 b 2 2 a Simplify . Try It  #2 Simplify  50 x 2 y 3 z . 50 x 2 y 3 z . How To Given the product of multiple radical expressions, use the product rule to combine them into one radical expression.  Express the product of multiple radical expressions as a single radical expression. Simplify. Example  3 Using the Product Rule to Simplify the Product of Multiple Square Roots Simplify the radical expression. 12 ⋅ 3 12 ⋅ 3 Solution 12 ⋅ 3 Express the product as a single radical expression . 36 Simplify . 6 12 ⋅ 3 Express the product as a single radical expression . 36 Simplify . 6 Try It  #3 Simplify  50 x ⋅ 2 x 50 x ⋅ 2 x  assuming  x > 0. x > 0. Using the Quotient Rule to Simplify Square Roots Just as we can rewrite the square root of a product as a product of square roots, so too can we rewrite the square root of a quotient as a quotient of square roots, using the  quotient rule for simplifying square roots.  It can be helpful to separate the numerator and denominator of a fraction under a radical so that we can take their square roots separately. We can rewrite  5 2 5 2  as  5 2 . 5 2 . The Quotient Rule for Simplifying Square Roots The square root of the quotient  a b a b  is equal to the quotient of the square roots of  a a  and  b , b ,  where  b ≠ 0. b ≠ 0. a b = a b a b = a b How To Given a radical expression, use the quotient rule to simplify it.  Write the radical expression as the quotient of two radical expressions. Simplify the numerator and denominator. Example  4 Using the Quotient Rule to Simplify Square Roots Simplify the radical expression. 5 36 5 36 Solution 5 36 Write as quotient of two radical expressions . 5 6 Simplify denominator . 5 36 Write as quotient of two radical expressions . 5 6 Simplify denominator . Try It  #4 Simplify  2 x 2 9 y 4 . 2 x 2 9 y 4 . Example  5 Using the Quotient Rule to Simplify an Expression with Two Square Roots Simplify the radical expression. 234 x 11 y 26 x 7 y 234 x 11 y 26 x 7 y Solution 234 x 11 y 26 x 7 y Combine numerator and denominator into one radical expression . 9 x 4 Simplify fraction . 3 x 2 Simplify square root . 234 x 11 y 26 x 7 y Combine numerator and denominator into one radical expression . 9 x 4 Simplify fraction . 3 x 2 Simplify square root . Try It  #5 Simplify  9 a 5 b 14 3 a 4 b 5 . 9 a 5 b 14 3 a 4 b 5 . Adding and Subtracting Square Roots We can add or subtract radical expressions only when they have the same radicand and when they have the same radical type such as square roots. For example, the sum of  2 2  and  3 2 3 2  is  4 2 . 4 2 .  However, it is often possible to simplify radical expressions, and that may change the radicand. The radical expression  18 18  can be written with a  2 2  in the radicand, as  3 2 , 3 2 ,  so  2 + 18 = 2 + 3 2 = 4 2 . 2 + 18 = 2 + 3 2 = 4 2 . How To Given a radical expression requiring addition or subtraction of square roots, simplify. Simplify each radical expression. Add or subtract expressions with equal radicands. Example  6 Adding Square Roots Add  5 12 + 2 3 . 5 12 + 2 3 . Solution We can rewrite  5 12 5 12  as  5 4 · 3 . 5 4 · 3 .  According the product rule, this becomes  5 4 3 . 5 4 3 .  The square root of  4 4  is 2, so the expression becomes  5 ( 2 ) 3 , 5 ( 2 ) 3 ,  which is  10 3 . 10 3 .  Now the terms have the same radicand so we can add. 10 3 + 2 3 = 12 3 10 3 + 2 3 = 12 3 Try It  #6 Add  5 + 6 20 . 5 + 6 20 . Example  7 Subtracting Square Roots Subtract  20 72 a 3 b 4 c − 14 8 a 3 b 4 c . 20 72 a 3 b 4 c − 14 8 a 3 b 4 c . Solution Factor 9 out of the first term so that both terms have equal radicands. 20 72 a 3 b 4 c = 20 9 ⋅ 8 a 3 b 4 c = 20 9 8 a 3 b 4 c = 20 ( 3 ) 8 a 3 b 4 c = 60 8 a 3 b 4 c 20 72 a 3 b 4 c = 20 9 ⋅ 8 a 3 b 4 c = 20 9 8 a 3 b 4 c = 20 ( 3 ) 8 a 3 b 4 c = 60 8 a 3 b 4 c So 20 72 a 3 b 4 c − 14 8 a 3 b 4 c = 60 8 a 3 b 4 c − 14 8 a 3 b 4 c = 46 8 a 3 b 4 c 20 72 a 3 b 4 c − 14 8 a 3 b 4 c = 60 8 a 3 b 4 c − 14 8 a 3 b 4 c = 46 8 a 3 b 4 c Try It  #7 Subtract  3 80 x − 4 45 x . 3 80 x − 4 45 x . Rationalizing Denominators When an expression involving square root radicals is written in simplest form, it will not contain a radical in the denominator. We can remove radicals from the denominators of fractions using a process called  rationalizing the denominator . We know that multiplying by 1 does not change the value of an expression. We use this property of multiplication to change expressions that contain radicals in the denominator. To remove radicals from the denominators of fractions, multiply by the form of 1 that will eliminate the radical. For a denominator containing a single term, multiply by the radical in the denominator over itself. In other words, if the denominator is  b c , b c ,  multiply by  c c . c c . For a denominator containing the sum or difference of a rational and an irrational term, multiply the numerator and denominator by the conjugate of the denominator, which is found by changing the sign of the radical portion of the denominator. If the denominator is  a + b c , a + b c ,  then the conjugate is  a − b c . a − b c . How To Given an expression with a single square root radical term in the denominator, rationalize the denominator. Multiply the numerator and denominator by the radical in the denominator. Simplify. Example  8 Rationalizing a Denominator Containing a Single Term Write  2 3 3 10 2 3 3 10  in simplest form. Solution The radical in the denominator is  10 . 10 .  So multiply the fraction by  10 10 . 10 10 .  Then simplify. 2 3 3 10 ⋅ 10 10 2 30 30 30 15 2 3 3 10 ⋅ 10 10 2 30 30 30 15 Try It  #8 Write  12 3 2 12 3 2  in simplest form. How To Given an expression with a radical term and a constant in the denominator, rationalize the denominator. Find the conjugate of the denominator. Multiply the numerator and denominator by the conjugate. Use the distributive property. Simplify. Example  9 Rationalizing a Denominator Containing Two Terms Write  4 1 + 5 4 1 + 5  in simplest form. Solution Begin by finding the conjugate of the denominator by writing the denominator and changing the sign. So the conjugate of  1 + 5 1 + 5  is  1 − 5 . 1 − 5 .  Then multiply the fraction by  1 − 5 1 − 5 . 1 − 5 1 − 5 . 4 1 + 5 ⋅ 1 − 5 1 − 5 4 − 4 5 − 4 Use the distributive property . 5 − 1 Simplify . 4 1 + 5 ⋅ 1 − 5 1 − 5 4 − 4 5 − 4 Use the distributive property . 5 − 1 Simplify . Try It  #9 Write  7 2 + 3 7 2 + 3  in simplest form. Using Rational Roots Although square roots are the most common rational roots, we can also find cube roots, 4th roots, 5th roots, and more. Just as the square root function is the inverse of the squaring function, these roots are the inverse of their respective power functions. These functions can be useful when we need to determine the number that, when raised to a certain power, gives a certain number. Understanding  n th Roots Suppose we know that  a 3 = 8. a 3 = 8.  We want to find what number raised to the 3rd power is equal to 8. Since  2 3 = 8 , 2 3 = 8 ,  we say that 2 is the cube root of 8. The  n th root of  a a  is a number that, when raised to the  n th power, gives  a . a .  For example,  −3 −3  is the 5th root of  −243 −243  because  ( −3 ) 5 = −243. ( −3 ) 5 = −243.  If  a a  is a real number with at least one  n th root, then the  principal  n th root  of  a a  is the number with the same sign as  a a  that, when raised to the  n th power, equals  a . a . The principal  n th root of  a a  is written as  a n , a n ,  where  n n  is a positive integer greater than or equal to 2. In the radical expression,  n n  is called the  index  of the radical. Principal  n n  th Root If  a a  is a real number with at least one  n th root, then the  principal  n th root  of  a , a ,  written as  a n , a n ,  is the number with the same sign as  a a  that, when raised to the  n th power, equals  a . a .  The  index  of the radical is  n . n . Example  10 Simplifying  n th Roots Simplify each of the following: ⓐ −32 5 −32 5 ⓑ 4 4 ⋅ 1 , 024 4 4 4 ⋅ 1 , 024 4 ⓒ − 8 x 6 125 3 − 8 x 6 125 3 ⓓ 8 3 4 − 48 4 8 3 4 − 48 4 Solution ⓐ −32 5 = −2 −32 5 = −2  because  ( −2 ) 5 = −32 ( −2 ) 5 = −32 ⓑ First, express the product as a single radical expression.  4,096 4 = 8 4,096 4 = 8  because  8 4 = 4,096 8 4 = 4,096 ⓒ − 8 x 6 3 125 3 Write as quotient of two radical expressions . − 2 x 2 5 Simplify . − 8 x 6 3 125 3 Write as quotient of two radical expressions . − 2 x 2 5 Simplify . ⓓ 8 3 4 − 2 3 4 Simplify to get equal radicands . 6 3 4 Add . 8 3 4 − 2 3 4 Simplify to get equal radicands . 6 3 4 Add . Try It  #10 Simplify. ⓐ −216 3 −216 3 ⓑ 3 80 4 5 4 3 80 4 5 4 ⓒ 6 9 , 000 3 + 7 576 3 6 9 , 000 3 + 7 576 3 Using Rational Exponents Radical expressions  can also be written without using the radical symbol. We can use rational (fractional) exponents. The index must be a positive integer. If the index  n n  is even, then  a a  cannot be negative. a 1 n = a n a 1 n = a n We can also have rational exponents with numerators other than 1. In these cases, the exponent must be a fraction in lowest terms. We raise the base to a power and take an  n th root. The numerator tells us the power and the denominator tells us the root. a m n = ( a n ) m = a m n a m n = ( a n ) m = a m n All of the properties of exponents that we learned for integer exponents also hold for rational exponents. Rational Exponents Rational exponents are another way to express principal  n th roots. The general form for converting between a radical expression with a radical symbol and one with a rational exponent is a m n = ( a n ) m = a m n a m n = ( a n ) m = a m n How To Given an expression with a rational exponent, write the expression as a radical. Determine the power by looking at the numerator of the exponent. Determine the root by looking at the denominator of the exponent. Using the base as the radicand, raise the radicand to the power and use the root as the index. Example  11 Writing Rational Exponents as Radicals Write  343 2 3 343 2 3  as a radical. Simplify. Solution The 2 tells us the power and the 3 tells us the root. 343 2 3 = ( 343 3 ) 2 = 343 2 3 343 2 3 = ( 343 3 ) 2 = 343 2 3 We know that  343 3 = 7 343 3 = 7  because  7 3 = 343. 7 3 = 343.  Because the cube root is easy to find, it is easiest to find the cube root before squaring for this problem. In general, it is easier to find the root first and then raise it to a power. 343 2 3 = ( 343 3 ) 2 = 7 2 = 49 343 2 3 = ( 343 3 ) 2 = 7 2 = 49 Try It  #11 Write  9 5 2 9 5 2  as a radical. Simplify. Example  12 Writing Radicals as Rational Exponents Write  4 a 2 7 4 a 2 7  using a rational exponent. Solution The power is 2 and the root is 7, so the rational exponent will be  2 7 . 2 7 .  We get  4 a 2 7 . 4 a 2 7 .  Using properties of exponents, we get  4 a 2 7 = 4 a −2 7 . 4 a 2 7 = 4 a −2 7 . Try It  #12 Write  x ( 5 y ) 9 x ( 5 y ) 9  using a rational exponent. Example  13 Simplifying Rational Exponents Simplify: ⓐ 5 ( 2 x 3 4 ) ( 3 x 1 5 ) 5 ( 2 x 3 4 ) ( 3 x 1 5 ) ⓑ ( 16 9 ) − 1 2 ( 16 9 ) − 1 2 Solution ⓐ 30 x 3 4 x 1 5 Multiply the coefficients . 30 x 3 4 + 1 5 Use properties of exponents . 30 x 19 20 Simplify . 30 x 3 4 x 1 5 Multiply the coefficients . 30 x 3 4 + 1 5 Use properties of exponents . 30 x 19 20 Simplify . ⓑ ( 9 16 ) 1 2 Use definition of negative exponents . 9 16 Rewrite as a radical . 9 16 Use the quotient rule . 3 4 Simplify . ( 9 16 ) 1 2 Use definition of negative exponents . 9 16 Rewrite as a radical . 9 16 Use the quotient rule . 3 4 Simplify . Try It  #13 Simplify  ( 8 x ) 1 3 ( 14 x 6 5 ) . ( 8 x ) 1 3 ( 14 x 6 5 ) . Media Access these online resources for additional instruction and practice with radicals and rational exponents. Radicals Rational Exponents Simplify Radicals Rationalize Denominator 1.3 Section Exercises Verbal 1 .  What does it mean when a radical does not have an index? Is the expression equal to the radicand? Explain. 2 .  Where would radicals come in the order of operations? Explain why. 3 .  Every number will have two square roots. What is the principal square root? 4 .  Can a radical with a negative radicand have a real square root? Why or why not? Numeric For the following exercises, simplify each expression. 5 .  256 256 6 .  256 256 7 .  4 ( 9 + 16 ) 4 ( 9 + 16 ) 8 .  289 − 121 289 − 121 9 .  196 196 10 .  1 1 11 .  98 98 12 .  27 64 27 64 13 .  81 5 81 5 14 .  800 800 15 .  169 + 144 169 + 144 16 .  8 50 8 50 17 .  18 162 18 162 18 .  192 192 19 .  14 6 − 6 24 14 6 − 6 24 20 .  15 5 + 7 45 15 5 + 7 45 21 .  150 150 22 .  96 100 96 100 23 .  ( 42 ) ( 30 ) ( 42 ) ( 30 ) 24 .  12 3 − 4 75 12 3 − 4 75 25 .  4 225 4 225 26 .  405 324 405 324 27 .  360 361 360 361 28 .  5 1 + 3 5 1 + 3 29 .  8 1 − 17 8 1 − 17 30 .  16 4 16 4 31 .  128 3 + 3 2 3 128 3 + 3 2 3 32 .  −32 243 5 −32 243 5 33 .  15 125 4 5 4 15 125 4 5 4 34 .  3 −432 3 + 16 3 3 −432 3 + 16 3 Algebraic For the following exercises, simplify each expression. 35 .  400 x 4 400 x 4 36 .  4 y 2 4 y 2 37 .  49 p 49 p 38 .  ( 144 p 2 q 6 ) 1 2 ( 144 p 2 q 6 ) 1 2 39 .  m 5 2 289 m 5 2 289 40 .  9 3 m 2 + 27 9 3 m 2 + 27 41 .  3 a b 2 − b a 3 a b 2 − b a 42 .  4 2 n 16 n 4 4 2 n 16 n 4 43 .  225 x 3 49 x 225 x 3 49 x 44 .  3 44 z + 99 z 3 44 z + 99 z 45 .  50 y 8 50 y 8 46 .  490 b c 2 490 b c 2 47 .  32 14 d 32 14 d 48 .  q 3 2 63 p q 3 2 63 p 49 .  8 1 − 3 x 8 1 − 3 x 50 .  20 121 d 4 20 121 d 4 51 .  w 3 2 32 − w 3 2 50 w 3 2 32 − w 3 2 50 52 .  108 x 4 + 27 x 4 108 x 4 + 27 x 4 53 .  12 x 2 + 2 3 12 x 2 + 2 3 54 .  147 k 3 147 k 3 55 .  125 n 10 125 n 10 56 .  42 q 36 q 3 42 q 36 q 3 57 .  81 m 361 m 2 81 m 361 m 2 58 .  72 c − 2 2 c 72 c − 2 2 c 59 .  144 324 d 2 144 324 d 2 60 .  24 x 6 3 + 81 x 6 3 24 x 6 3 + 81 x 6 3 61 .  162 x 6 16 x 4 4 162 x 6 16 x 4 4 62 .  64 y 3 64 y 3 63 .  128 z 3 3 − −16 z 3 3 128 z 3 3 − −16 z 3 3 64 .  1,024 c 10 5 1,024 c 10 5 Real-World Applications 65 .  A guy wire for a suspension bridge runs from the ground diagonally to the top of the closest pylon to make a triangle. We can use the Pythagorean Theorem to find the length of guy wire needed. The square of the distance between the wire on the ground and the pylon on the ground is 90,000 feet. The square of the height of the pylon is 160,000 feet. So the length of the guy wire can be found by evaluating  90,000 + 160,000 . 90,000 + 160,000 .  What is the length of the guy wire? 66 .  A car accelerates at a rate of  6 − 4 t m/s 2 6 − 4 t m/s 2  where  t  is the time in seconds after the car moves from rest. Simplify the expression. Extensions For the following exercises, simplify each expression. 67 .  8 − 16 4 − 2 − 2 1 2 8 − 16 4 − 2 − 2 1 2 68 .  4 3 2 − 16 3 2 8 1 3 4 3 2 − 16 3 2 8 1 3 69 .  m n 3 a 2 c −3 ⋅ a −7 n −2 m 2 c 4 m n 3 a 2 c −3 ⋅ a −7 n −2 m 2 c 4 70 .  a a − c a a − c 71 .  x 64 y + 4 y 128 y x 64 y + 4 y 128 y 72 .  ( 250 x 2 100 b 3 ) ( 7 b 125 x ) ( 250 x 2 100 b 3 ) ( 7 b 125 x ) 73 .  64 3 + 256 4 64 + 256 64 3 + 256 4 64 + 256 \",\"Learning Objectives In this section, you will: Identify the degree and leading coefficient of polynomials. Add and subtract polynomials. Multiply polynomials. Use FOIL to multiply binomials. Perform operations with polynomials of several variables. Maahi is building a little free library (a small house-shaped book repository), whose front is in the shape of a square topped with a triangle. There will be a rectangular door through which people can take and donate books. Maahi wants to find the area of the front of the library so that they can purchase the correct amount of paint. Using the measurements of the front of the house, shown in  Figure 1 , we can create an expression that combines several variable terms, allowing us to solve this problem and others like it. Figure  1 First find the area of the square in square feet. A = s 2 = ( 2 x ) 2 = 4 x 2 A = s 2 = ( 2 x ) 2 = 4 x 2 Then find the area of the triangle in square feet. A = 1 2 b h = 1 2 ( 2 x ) ( 3 2 ) = 3 2 x A = 1 2 b h = 1 2 ( 2 x ) ( 3 2 ) = 3 2 x Next find the area of the rectangular door in square feet. A = l w = x ⋅ 1 = x A = l w = x ⋅ 1 = x The area of the front of the library can be found by adding the areas of the square and the triangle, and then subtracting the area of the rectangle. When we do this, we get  4 x 2 + 3 2 x − x ft 2 , 4 x 2 + 3 2 x − x ft 2 ,  or  4 x 2 + 1 2 x 4 x 2 + 1 2 x  ft 2 . In this section, we will examine expressions such as this one, which combine several variable terms. Identifying the Degree and Leading Coefficient of Polynomials The formula just found is an example of a  polynomial , which is a sum of or difference of terms, each consisting of a variable raised to a nonnegative integer power. A number multiplied by a variable raised to an exponent, such as  384 π , 384 π ,  is known as a  coefficient . Coefficients can be positive, negative, or zero, and can be whole numbers, decimals, or fractions. Each product  a i x i , a i x i ,  such as  384 π w , 384 π w ,  is a  term of a polynomial . If a term does not contain a variable, it is called a  constant . A polynomial containing only one term, such as  5 x 4 , 5 x 4 ,  is called a  monomial . A polynomial containing two terms, such as  2 x − 9 , 2 x − 9 ,  is called a  binomial . A polynomial containing three terms, such as  −3 x 2 + 8 x − 7 , −3 x 2 + 8 x − 7 ,  is called a  trinomial . We can find the  degree  of a polynomial by identifying the highest power of the variable that occurs in the polynomial. The term with the highest degree is called the  leading term  because it is usually written first. The coefficient of the leading term is called the  leading coefficient . When a polynomial is written so that the powers are descending, we say that it is in standard form. Polynomials A  polynomial  is an expression that can be written in the form a n x n + ... + a 2 x 2 + a 1 x + a 0 a n x n + ... + a 2 x 2 + a 1 x + a 0 Each real number  a i is called a  coefficient . The number  a 0 a 0  that is not multiplied by a variable is called a  constant . Each product  a i x i a i x i  is a  term of a polynomial . The highest power of the variable that occurs in the polynomial is called the  degree  of a polynomial. The  leading term  is the term with the highest power, and its coefficient is called the  leading coefficient . How To Given a polynomial expression, identify the degree and leading coefficient . Find the highest power of  x  to determine the degree. Identify the term containing the highest power of  x  to find the leading term. Identify the coefficient of the leading term. Example  1 Identifying the Degree and Leading Coefficient of a Polynomial  For the following polynomials, identify the degree, the leading term, and the leading coefficient. ⓐ 3 + 2 x 2 − 4 x 3 3 + 2 x 2 − 4 x 3 ⓑ 5 t 5 − 2 t 3 + 7 t 5 t 5 − 2 t 3 + 7 t ⓒ 6 p − p 3 − 2 6 p − p 3 − 2 Solution ⓐ The highest power of  x  is 3, so the degree is 3. The leading term is the term containing that degree,  −4 x 3 . −4 x 3 .  The leading coefficient is the coefficient of that term,  −4. −4. ⓑ The highest power of  t  is  5 , 5 ,  so the degree is  5. 5.  The leading term is the term containing that degree,  5 t 5 . 5 t 5 .  The leading coefficient is the coefficient of that term,  5. 5. ⓒ The highest power of  p  is  3 , 3 ,  so the degree is  3. 3.  The leading term is the term containing that degree,  − p 3 , − p 3 ,  The leading coefficient is the coefficient of that term,  −1. −1. Try It  #1 Identify the degree, leading term, and leading coefficient of the polynomial  4 x 2 − x 6 + 2 x − 6. 4 x 2 − x 6 + 2 x − 6. Adding and Subtracting Polynomials We can add and subtract polynomials by combining like terms, which are terms that contain the same variables raised to the same exponents. For example,  5 x 2 5 x 2  and  −2 x 2 −2 x 2  are like terms, and can be added to get  3 x 2 , 3 x 2 ,  but  3 x 3 x  and  3 x 2 3 x 2  are not like terms, and therefore cannot be added. How To Given multiple polynomials, add or subtract them to simplify the expressions.  Combine like terms. Simplify and write in standard form. Example  2 Adding Polynomials Find the sum. ( 12 x 2 + 9 x − 21 ) + ( 4 x 3 + 8 x 2 − 5 x + 20 ) ( 12 x 2 + 9 x − 21 ) + ( 4 x 3 + 8 x 2 − 5 x + 20 ) Solution 4 x 3 + ( 12 x 2 + 8 x 2 ) + ( 9 x − 5 x ) + ( −21 + 20 ) Combine like terms . 4 x 3 + 20 x 2 + 4 x − 1 Simplify . 4 x 3 + ( 12 x 2 + 8 x 2 ) + ( 9 x − 5 x ) + ( −21 + 20 ) Combine like terms . 4 x 3 + 20 x 2 + 4 x − 1 Simplify . Analysis  We can check our answers to these types of problems using a graphing calculator. To check, graph the problem as given along with the simplified answer. The two graphs should be equivalent. Be sure to use the same window to compare the graphs. Using different windows can make the expressions seem equivalent when they are not.  Try It  #2 Find the sum. ( 2 x 3 + 5 x 2 − x + 1 ) + ( 2 x 2 − 3 x − 4 ) ( 2 x 3 + 5 x 2 − x + 1 ) + ( 2 x 2 − 3 x − 4 ) Example  3 Subtracting Polynomials Find the difference. ( 7 x 4 − x 2 + 6 x + 1 ) − ( 5 x 3 − 2 x 2 + 3 x + 2 ) ( 7 x 4 − x 2 + 6 x + 1 ) − ( 5 x 3 − 2 x 2 + 3 x + 2 ) Solution 7 x 4 − x 2 + 6 x + 1 - 5 x 3 + 2 x 3 − 2 Distribute negative sign. 7 x 4 − 5 x 3 + x 2 + 6 x − 3 x + 1 - 2 Group like terms. 7 x 4 − 5 x 3 + x 2 + 3 x - 1 Combine/simplify. 7 x 4 − x 2 + 6 x + 1 - 5 x 3 + 2 x 3 − 2 Distribute negative sign. 7 x 4 − 5 x 3 + x 2 + 6 x − 3 x + 1 - 2 Group like terms. 7 x 4 − 5 x 3 + x 2 + 3 x - 1 Combine/simplify. Analysis Note that finding the difference between two polynomials is the same as adding the opposite of the second polynomial to the first. Try It  #3 Find the difference. ( −7 x 3 − 7 x 2 + 6 x − 2 ) − ( 4 x 3 − 6 x 2 − x + 7 ) ( −7 x 3 − 7 x 2 + 6 x − 2 ) − ( 4 x 3 − 6 x 2 − x + 7 ) Multiplying Polynomials Multiplying polynomials is a bit more challenging than adding and subtracting polynomials. We must use the distributive property to multiply each term in the first polynomial by each term in the second polynomial. We then combine like terms. We can also use a shortcut called the  FOIL  method when multiplying binomials. Certain special products follow patterns that we can memorize and use instead of multiplying the polynomials by hand each time. We will look at a variety of ways to multiply polynomials. Multiplying Polynomials Using the Distributive Property To multiply a number by a polynomial, we use the distributive property. The number must be distributed to each term of the polynomial. We can distribute the  2 2  in  2 ( x + 7 ) 2 ( x + 7 )  to obtain the equivalent expression  2 x + 14. 2 x + 14.  When multiplying polynomials, the distributive property allows us to multiply each term of the first polynomial by each term of the second. We then add the products together and combine like terms to simplify. How To Given the multiplication of two polynomials, use the distributive property to simplify the expression. Multiply each term of the first polynomial by each term of the second. Combine like terms. Simplify. Example  4 Multiplying Polynomials Using the Distributive Property Find the product. ( 2 x + 1 ) ( 3 x 2 − x + 4 ) ( 2 x + 1 ) ( 3 x 2 − x + 4 ) Solution 2 x ( 3 x 2 − x + 4 ) + 1 ( 3 x 2 − x + 4 ) Use the distributive property . ( 6 x 3 − 2 x 2 + 8 x ) + ( 3 x 2 − x + 4 ) Multiply . 6 x 3 + ( −2 x 2 + 3 x 2 ) + ( 8 x − x ) + 4 Combine like terms . 6 x 3 + x 2 + 7 x + 4 Simplify . 2 x ( 3 x 2 − x + 4 ) + 1 ( 3 x 2 − x + 4 ) Use the distributive property . ( 6 x 3 − 2 x 2 + 8 x ) + ( 3 x 2 − x + 4 ) Multiply . 6 x 3 + ( −2 x 2 + 3 x 2 ) + ( 8 x − x ) + 4 Combine like terms . 6 x 3 + x 2 + 7 x + 4 Simplify . Analysis  We can use a table to keep track of our work, as shown in  Table 1 . Write one polynomial across the top and the other down the side. For each box in the table, multiply the term for that row by the term for that column. Then add all of the terms together, combine like terms, and simplify. 3 x 2 3 x 2 − x − x + 4 + 4 2 x 2 x 6 x 3 6 x 3 −2 x 2 −2 x 2 8 x 8 x + 1 + 1 3 x 2 3 x 2 − x − x 4 4 Table  1 Try It  #4 Find the product. ( 3 x + 2 ) ( x 3 − 4 x 2 + 7 ) ( 3 x + 2 ) ( x 3 − 4 x 2 + 7 ) Using FOIL to Multiply Binomials A shortcut called FOIL is sometimes used to find the product of two binomials. It is called FOIL because we multiply the  f irst terms, the  o uter terms, the  i nner terms, and then the  l ast terms of each binomial. The FOIL method arises out of the distributive property. We are simply multiplying each term of the first binomial by each term of the second binomial, and then combining like terms. How To Given two binomials, use FOIL to simplify the expression. Multiply the first terms of each binomial. Multiply the outer terms of the binomials. Multiply the inner terms of the binomials. Multiply the last terms of each binomial. Add the products. Combine like terms and simplify. Example  5 Using FOIL to Multiply Binomials Use FOIL to find the product. ( 2 x - 18 ) ( 3 x + 3 ) ( 2 x - 18 ) ( 3 x + 3 ) Solution Find the product of the first terms. Find the product of the outer terms. Find the product of the inner terms. Find the product of the last terms. 6 x 2 + 6 x − 54 x − 54 Add the products . 6 x 2 + ( 6 x − 54 x ) − 54 Combine like terms . 6 x 2 − 48 x − 54 Simplify . 6 x 2 + 6 x − 54 x − 54 Add the products . 6 x 2 + ( 6 x − 54 x ) − 54 Combine like terms . 6 x 2 − 48 x − 54 Simplify . Try It  #5 Use FOIL to find the product. ( x + 7 ) ( 3 x − 5 ) ( x + 7 ) ( 3 x − 5 ) Perfect Square Trinomials Certain binomial products have special forms. When a binomial is squared, the result is called a  perfect square trinomial . We can find the square by multiplying the binomial by itself. However, there is a special form that each of these perfect square trinomials takes, and memorizing the form makes squaring binomials much easier and faster. Let’s look at a few perfect square trinomials to familiarize ourselves with the form. ( x + 5 ) 2 = x 2 + 10 x + 25 ( x − 3 ) 2 = x 2 − 6 x + 9 ( 4 x − 1 ) 2 = 16 x 2 − 8 x + 1 ( x + 5 ) 2 = x 2 + 10 x + 25 ( x − 3 ) 2 = x 2 − 6 x + 9 ( 4 x − 1 ) 2 = 16 x 2 − 8 x + 1 Notice that the first term of each trinomial is the square of the first term of the binomial and, similarly, the last term of each trinomial is the square of the last term of the binomial. The middle term is double the product of the two terms. Lastly, we see that the first sign of the trinomial is the same as the sign of the binomial. Perfect Square Trinomials When a binomial is squared, the result is the first term squared added to double the product of both terms and the last term squared. ( x + a ) 2 = ( x + a ) ( x + a ) = x 2 + 2 a x + a 2 ( x + a ) 2 = ( x + a ) ( x + a ) = x 2 + 2 a x + a 2 How To Given a binomial, square it using the formula for perfect square trinomials.  Square the first term of the binomial. Square the last term of the binomial. For the middle term of the trinomial, double the product of the two terms. Add and simplify. Example  6 Expanding Perfect Squares Expand  ( 3 x − 8 ) 2 . ( 3 x − 8 ) 2 . Solution Begin by squaring the first term and the last term. For the middle term of the trinomial, double the product of the two terms. ( 3 x ) 2 − 2 ( 3 x ) ( 8 ) + ( −8 ) 2 ( 3 x ) 2 − 2 ( 3 x ) ( 8 ) + ( −8 ) 2 Simplify. 9 x 2 − 48 x + 64. 9 x 2 − 48 x + 64. Try It  #6 Expand  ( 4 x − 1 ) 2 . ( 4 x − 1 ) 2 . Difference of Squares Another special product is called the  difference of squares , which occurs when we multiply a binomial by another binomial with the same terms but the opposite sign. Let’s see what happens when we multiply  ( x + 1 ) ( x − 1 ) ( x + 1 ) ( x − 1 )  using the FOIL method. ( x + 1 ) ( x − 1 ) = x 2 − x + x − 1 = x 2 − 1 ( x + 1 ) ( x − 1 ) = x 2 − x + x − 1 = x 2 − 1 The middle term drops out, resulting in a difference of squares. Just as we did with the perfect squares, let’s look at a few examples. ( x + 5 ) ( x − 5 ) = x 2 − 25 ( x + 11 ) ( x − 11 ) = x 2 − 121 ( 2 x + 3 ) ( 2 x − 3 ) = 4 x 2 − 9 ( x + 5 ) ( x − 5 ) = x 2 − 25 ( x + 11 ) ( x − 11 ) = x 2 − 121 ( 2 x + 3 ) ( 2 x − 3 ) = 4 x 2 − 9 Because the sign changes in the second binomial, the outer and inner terms cancel each other out, and we are left only with the square of the first term minus the square of the last term. Q&A Is there a special form for the sum of squares? No. The difference of squares occurs because the opposite signs of the binomials cause the middle terms to disappear. There are no two binomials that multiply to equal a sum of squares. Difference of Squares When a binomial is multiplied by a binomial with the same terms separated by the opposite sign, the result is the square of the first term minus the square of the last term. ( a + b ) ( a − b ) = a 2 − b 2 ( a + b ) ( a − b ) = a 2 − b 2 How To Given a binomial multiplied by a binomial with the same terms but the opposite sign, find the difference of squares. Square the first term of the binomials. Square the last term of the binomials. Subtract the square of the last term from the square of the first term. Example  7 Multiplying Binomials Resulting in a Difference of Squares Multiply  ( 9 x + 4 ) ( 9 x − 4 ) . ( 9 x + 4 ) ( 9 x − 4 ) . Solution Square the first term to get  ( 9 x ) 2 = 81 x 2 . ( 9 x ) 2 = 81 x 2 .  Square the last term to get  4 2 = 16. 4 2 = 16.  Subtract the square of the last term from the square of the first term to find the product of  81 x 2 − 16. 81 x 2 − 16. Try It  #7 Multiply  ( 2 x + 7 ) ( 2 x − 7 ) . ( 2 x + 7 ) ( 2 x − 7 ) . Performing Operations with Polynomials of Several Variables We have looked at polynomials containing only one variable. However, a polynomial can contain several variables. All of the same rules apply when working with polynomials containing several variables. Consider an example: ( a + 2 b ) ( 4 a − b − c ) a ( 4 a − b − c ) + 2 b ( 4 a − b − c ) Use the distributive property . 4 a 2 − a b − a c + 8 a b − 2 b 2 − 2 b c Multiply . 4 a 2 + ( − a b + 8 a b ) − a c − 2 b 2 − 2 b c Combine like terms . 4 a 2 + 7 a b − a c − 2 b c − 2 b 2 Simplify . ( a + 2 b ) ( 4 a − b − c ) a ( 4 a − b − c ) + 2 b ( 4 a − b − c ) Use the distributive property . 4 a 2 − a b − a c + 8 a b − 2 b 2 − 2 b c Multiply . 4 a 2 + ( − a b + 8 a b ) − a c − 2 b 2 − 2 b c Combine like terms . 4 a 2 + 7 a b − a c − 2 b c − 2 b 2 Simplify . Example  8 Multiplying Polynomials Containing Several Variables Multiply  ( x + 4 ) ( 3 x − 2 y + 5 ) . ( x + 4 ) ( 3 x − 2 y + 5 ) . Solution Follow the same steps that we used to multiply polynomials containing only one variable. x ( 3 x − 2 y + 5 ) + 4 ( 3 x − 2 y + 5 ) Use the distributive property . 3 x 2 − 2 x y + 5 x + 12 x − 8 y + 20 Multiply . 3 x 2 − 2 x y + ( 5 x + 12 x ) − 8 y + 20 Combine like terms . 3 x 2 − 2 x y + 17 x − 8 y + 20 Simplify . x ( 3 x − 2 y + 5 ) + 4 ( 3 x − 2 y + 5 ) Use the distributive property . 3 x 2 − 2 x y + 5 x + 12 x − 8 y + 20 Multiply . 3 x 2 − 2 x y + ( 5 x + 12 x ) − 8 y + 20 Combine like terms . 3 x 2 − 2 x y + 17 x − 8 y + 20 Simplify . Try It  #8 Multiply  ( 3 x − 1 ) ( 2 x + 7 y − 9 ) . ( 3 x − 1 ) ( 2 x + 7 y − 9 ) . Media Access these online resources for additional instruction and practice with polynomials. Adding and Subtracting Polynomials Multiplying Polynomials Special Products of Polynomials 1.4 Section Exercises Verbal 1 .  Evaluate the following statement: The degree of a polynomial in standard form is the exponent of the leading term. Explain why the statement is true or false. 2 .  Many times, multiplying two binomials with two variables results in a trinomial. This is not the case when there is a difference of two squares. Explain why the product in this case is also a binomial. 3 .  You can multiply polynomials with any number of terms and any number of variables using four basic steps over and over until you reach the expanded polynomial. What are the four steps? 4 .  State whether the following statement is true and explain why or why not: A trinomial is always a higher degree than a monomial. Algebraic For the following exercises, identify the degree of the polynomial. 5 .  7 x − 2 x 2 + 13 7 x − 2 x 2 + 13 6 .  14 m 3 + m 2 − 16 m + 8 14 m 3 + m 2 − 16 m + 8 7 .  −625 a 8 + 16 b 4 −625 a 8 + 16 b 4 8 .  200 p − 30 p 2 m + 40 m 3 200 p − 30 p 2 m + 40 m 3 9 .  x 2 + 4 x + 4 x 2 + 4 x + 4 10 .  6 y 4 − y 5 + 3 y − 4 6 y 4 − y 5 + 3 y − 4 For the following exercises, find the sum or difference. 11 .  ( 12 x 2 + 3 x ) − ( 8 x 2 −19 ) ( 12 x 2 + 3 x ) − ( 8 x 2 −19 ) 12 .  ( 4 z 3 + 8 z 2 − z ) + ( −2 z 2 + z + 6 ) ( 4 z 3 + 8 z 2 − z ) + ( −2 z 2 + z + 6 ) 13 .  ( 6 w 2 + 24 w + 24 ) − ( 3 w − 2 6 w + 3 ) ( 6 w 2 + 24 w + 24 ) − ( 3 w − 2 6 w + 3 ) 14 .  ( 7 a 3 + 6 a 2 − 4 a − 13 ) + ( − 3 a 3 − 4 a 2 + 6 a + 17 ) ( 7 a 3 + 6 a 2 − 4 a − 13 ) + ( − 3 a 3 − 4 a 2 + 6 a + 17 ) 15 .  ( 11 b 4 − 6 b 3 + 18 b 2 − 4 b + 8 ) − ( 3 b 3 + 6 b 2 + 3 b ) ( 11 b 4 − 6 b 3 + 18 b 2 − 4 b + 8 ) − ( 3 b 3 + 6 b 2 + 3 b ) 16 .  ( 49 p 2 − 25 ) + ( 16 p 4 − 32 p 2 + 16 ) ( 49 p 2 − 25 ) + ( 16 p 4 − 32 p 2 + 16 ) For the following exercises, find the product. 17 .  ( 4 x + 2 ) ( 6 x − 4 ) ( 4 x + 2 ) ( 6 x − 4 ) 18 .  ( 14 c 2 + 4 c ) ( 2 c 2 − 3 c ) ( 14 c 2 + 4 c ) ( 2 c 2 − 3 c ) 19 .  ( 6 b 2 − 6 ) ( 4 b 2 − 4 ) ( 6 b 2 − 6 ) ( 4 b 2 − 4 ) 20 .  ( 3 d − 5 ) ( 2 d + 9 ) ( 3 d − 5 ) ( 2 d + 9 ) 21 .  ( 9 v − 11 ) ( 11 v − 9 ) ( 9 v − 11 ) ( 11 v − 9 ) 22 .  ( 4 t 2 + 7 t ) ( −3 t 2 + 4 ) ( 4 t 2 + 7 t ) ( −3 t 2 + 4 ) 23 .  ( 8 n − 4 ) ( n 2 + 9 ) ( 8 n − 4 ) ( n 2 + 9 ) For the following exercises, expand the binomial. 24 .  ( 4 x + 5 ) 2 ( 4 x + 5 ) 2 25 .  ( 3 y − 7 ) 2 ( 3 y − 7 ) 2 26 .  ( 12 − 4 x ) 2 ( 12 − 4 x ) 2 27 .  ( 4 p + 9 ) 2 ( 4 p + 9 ) 2 28 .  ( 2 m − 3 ) 2 ( 2 m − 3 ) 2 29 .  ( 3 y − 6 ) 2 ( 3 y − 6 ) 2 30 .  ( 9 b + 1 ) 2 ( 9 b + 1 ) 2 For the following exercises, multiply the binomials. 31 .  ( 4 c + 1 ) ( 4 c − 1 ) ( 4 c + 1 ) ( 4 c − 1 ) 32 .  ( 9 a − 4 ) ( 9 a + 4 ) ( 9 a − 4 ) ( 9 a + 4 ) 33 .  ( 15 n − 6 ) ( 15 n + 6 ) ( 15 n − 6 ) ( 15 n + 6 ) 34 .  ( 25 b + 2 ) ( 25 b − 2 ) ( 25 b + 2 ) ( 25 b − 2 ) 35 .  ( 4 + 4 m ) ( 4 − 4 m ) ( 4 + 4 m ) ( 4 − 4 m ) 36 .  ( 14 p + 7 ) ( 14 p − 7 ) ( 14 p + 7 ) ( 14 p − 7 ) 37 .  ( 11 q − 10 ) ( 11 q + 10 ) ( 11 q − 10 ) ( 11 q + 10 ) For the following exercises, multiply the polynomials. 38 .  ( 2 x 2 + 2 x + 1 ) ( 4 x − 1 ) ( 2 x 2 + 2 x + 1 ) ( 4 x − 1 ) 39 .  ( 4 t 2 + t − 7 ) ( 4 t 2 − 1 ) ( 4 t 2 + t − 7 ) ( 4 t 2 − 1 ) 40 .  ( x − 1 ) ( x 2 − 2 x + 1 ) ( x − 1 ) ( x 2 − 2 x + 1 ) 41 .  ( y − 2 ) ( y 2 − 4 y − 9 ) ( y − 2 ) ( y 2 − 4 y − 9 ) 42 .  ( 6 k − 5 ) ( 6 k 2 + 5 k − 1 ) ( 6 k − 5 ) ( 6 k 2 + 5 k − 1 ) 43 .  ( 3 p 2 + 2 p − 10 ) ( p − 1 ) ( 3 p 2 + 2 p − 10 ) ( p − 1 ) 44 .  ( 4 m − 13 ) ( 2 m 2 − 7 m + 9 ) ( 4 m − 13 ) ( 2 m 2 − 7 m + 9 ) 45 .  ( a + b ) ( a − b ) ( a + b ) ( a − b ) 46 .  ( 4 x − 6 y ) ( 6 x − 4 y ) ( 4 x − 6 y ) ( 6 x − 4 y ) 47 .  ( 4 t − 5 u ) 2 ( 4 t − 5 u ) 2 48 .  ( 9 m + 4 n − 1 ) ( 2 m + 8 ) ( 9 m + 4 n − 1 ) ( 2 m + 8 ) 49 .  ( 4 t − x ) ( t − x + 1 ) ( 4 t − x ) ( t − x + 1 ) 50 .  ( b 2 − 1 ) ( a 2 + 2 a b + b 2 ) ( b 2 − 1 ) ( a 2 + 2 a b + b 2 ) 51 .  ( 4 r − d ) ( 6 r + 7 d ) ( 4 r − d ) ( 6 r + 7 d ) 52 .  ( x + y ) ( x 2 − x y + y 2 ) ( x + y ) ( x 2 − x y + y 2 ) Real-World Applications 53 .  A developer wants to purchase a plot of land to build a house. The area of the plot can be described by the following expression:  ( 4 x + 1 ) ( 8 x − 3 ) ( 4 x + 1 ) ( 8 x − 3 )  where  x  is measured in meters. Multiply the binomials to find the area of the plot in standard form. 54 .  A prospective buyer wants to know how much grain a specific silo can hold. The area of the floor of the silo is  ( 2 x + 9 ) 2 . ( 2 x + 9 ) 2 .  The height of the silo is  10 x + 10 , 10 x + 10 ,  where  x  is measured in feet. Expand the square and multiply by the height to find the expression that shows how much grain the silo can hold. Extensions For the following exercises, perform the given operations. 55 .  ( 4 t − 7 ) 2 ( 2 t + 1 ) − ( 4 t 2 + 2 t + 11 ) ( 4 t − 7 ) 2 ( 2 t + 1 ) − ( 4 t 2 + 2 t + 11 ) 56 .  ( 3 b + 6 ) ( 3 b − 6 ) ( 9 b 2 − 36 ) ( 3 b + 6 ) ( 3 b − 6 ) ( 9 b 2 − 36 ) 57 .  ( a 2 + 4 a c + 4 c 2 ) ( a 2 − 4 c 2 ) ( a 2 + 4 a c + 4 c 2 ) ( a 2 − 4 c 2 ) \",\"Learning Objectives In this section, you will: Factor the greatest common factor of a polynomial. Factor a trinomial. Factor by grouping. Factor a perfect square trinomial. Factor a difference of squares. Factor the sum and difference of cubes. Factor expressions using fractional or negative exponents. Imagine that we are trying to find the area of a lawn so that we can determine how much grass seed to purchase. The lawn is the green portion in  Figure 1 . Figure  1 The area of the entire region can be found using the formula for the area of a rectangle. A = l w = 10 x ⋅ 6 x = 60 x 2 units 2 A = l w = 10 x ⋅ 6 x = 60 x 2 units 2 The areas of the portions that do not require grass seed need to be subtracted from the area of the entire region. The two square regions each have an area of  A = s 2 = 4 2 = 16 A = s 2 = 4 2 = 16  units 2 . The other rectangular region has one side of length  10 x − 8 10 x − 8  and one side of length  4 , 4 ,  giving an area of  A = l w = 4 ( 10 x − 8 ) = 40 x − 32 A = l w = 4 ( 10 x − 8 ) = 40 x − 32  units 2 . So the region that must be subtracted has an area of  2 ( 16 ) + 40 x − 32 = 40 x 2 ( 16 ) + 40 x − 32 = 40 x  units 2 . The area of the region that requires grass seed is found by subtracting  60 x 2 − 40 x 60 x 2 − 40 x  units 2 . This area can also be expressed in factored form as  20 x ( 3 x − 2 ) 20 x ( 3 x − 2 )  units 2 . We can confirm that this is an equivalent expression by multiplying. Many polynomial expressions can be written in simpler forms by factoring. In this section, we will look at a variety of methods that can be used to factor polynomial expressions. Factoring the Greatest Common Factor of a Polynomial When we study fractions, we learn that the  greatest common factor  (GCF) of two numbers is the largest number that divides evenly into both numbers. For instance,  4 4  is the GCF of  16 16  and  20 20  because it is the largest number that divides evenly into both  16 16  and  20 20  The GCF of polynomials works the same way:  4 x 4 x  is the GCF of  16 x 16 x  and  20 x 2 20 x 2  because it is the largest polynomial that divides evenly into both  16 x 16 x  and  20 x 2 . 20 x 2 . When factoring a polynomial expression, our first step should be to check for a GCF. Look for the GCF of the coefficients, and then look for the GCF of the variables. Greatest Common Factor The  greatest common factor  (GCF) of polynomials is the largest polynomial that divides evenly into the polynomials. How To Given a polynomial expression, factor out the greatest common factor.  Identify the GCF of the coefficients. Identify the GCF of the variables. Combine to find the GCF of the expression. Determine what the GCF needs to be multiplied by to obtain each term in the expression. Write the factored expression as the product of the GCF and the sum of the terms we need to multiply by. Example  1 Factoring the Greatest Common Factor Factor  6 x 3 y 3 + 45 x 2 y 2 + 21 x y . 6 x 3 y 3 + 45 x 2 y 2 + 21 x y . Solution First, find the GCF of the expression. The GCF of 6, 45, and 21 is 3. The GCF of  x 3 , x 2 x 3 , x 2  , and  x x  is  x x  . (Note that the GCF of a set of expressions in the form  x n x n  will always be the exponent of lowest degree.) And the GCF of  y 3 , y 2 y 3 , y 2  , and  y y  is  y y  . Combine these to find the GCF of the polynomial,  3 x y 3 x y  .  Next, determine what the GCF needs to be multiplied by to obtain each term of the polynomial. We find that  3 x y ( 2 x 2 y 2 ) = 6 x 3 y 3 , 3 x y ( 15 x y ) = 45 x 2 y 2 3 x y ( 2 x 2 y 2 ) = 6 x 3 y 3 , 3 x y ( 15 x y ) = 45 x 2 y 2  , and  3 x y ( 7 ) = 21 x y . 3 x y ( 7 ) = 21 x y . Finally, write the factored expression as the product of the GCF and the sum of the terms we needed to multiply by. ( 3 x y ) ( 2 x 2 y 2 + 15 x y + 7 ) ( 3 x y ) ( 2 x 2 y 2 + 15 x y + 7 ) Analysis  After factoring, we can check our work by multiplying. Use the distributive property to confirm that  ( 3 x y ) ( 2 x 2 y 2 + 15 x y + 7 ) = 6 x 3 y 3 + 45 x 2 y 2 + 21 x y . ( 3 x y ) ( 2 x 2 y 2 + 15 x y + 7 ) = 6 x 3 y 3 + 45 x 2 y 2 + 21 x y . Try It  #1 Factor  x ( b 2 − a ) + 6 ( b 2 − a ) x ( b 2 − a ) + 6 ( b 2 − a )  by pulling out the GCF. Factoring a Trinomial with Leading Coefficient 1 Although we should always begin by looking for a GCF, pulling out the GCF is not the only way that polynomial expressions can be factored. The polynomial  x 2 + 5 x + 6 x 2 + 5 x + 6  has a GCF of 1, but it can be written as the product of the factors  ( x + 2 ) ( x + 2 )  and  ( x + 3 ) . ( x + 3 ) . Trinomials of the form  x 2 + b x + c x 2 + b x + c  can be factored by finding two numbers with a product of  c c  and a sum of  b . b .  The trinomial  x 2 + 10 x + 16 , x 2 + 10 x + 16 ,  for example, can be factored using the numbers  2 2  and  8 8  because the product of those numbers is  16 16  and their sum is  10. 10.  The trinomial can be rewritten as the product of  ( x + 2 ) ( x + 2 )  and  ( x + 8 ) . ( x + 8 ) . Factoring a Trinomial with Leading Coefficient 1 A trinomial of the form  x 2 + b x + c x 2 + b x + c  can be written in factored form as  ( x + p ) ( x + q ) ( x + p ) ( x + q )  where  p q = c p q = c  and  p + q = b . p + q = b . Q&A Can every trinomial be factored as a product of binomials? No. Some polynomials cannot be factored. These polynomials are said to be prime. How To Given a trinomial in the form  x 2 + b x + c , x 2 + b x + c ,  factor it. List factors of  c . c . Find  p p  and  q , q ,  a pair of factors of  c c  with a sum of  b . b . Write the factored expression  ( x + p ) ( x + q ) . ( x + p ) ( x + q ) . Example  2 Factoring a Trinomial with Leading Coefficient 1 Factor  x 2 + 2 x − 15. x 2 + 2 x − 15. Solution We have a trinomial with leading coefficient  1 , b = 2 , 1 , b = 2 ,  and  c = −15. c = −15.  We need to find two numbers with a product of  −15 −15  and a sum of  2. 2.  In the table below, we list factors until we find a pair with the desired sum. Factors of  −15 −15 Sum of Factors 1 , −15 1 , −15 −14 −14 −1 , 15 −1 , 15 14 3 , −5 3 , −5 −2 −2 −3 , 5 −3 , 5 2 Now that we have identified  p p  and  q q  as  −3 −3  and  5 , 5 ,  write the factored form as  ( x − 3 ) ( x + 5 ) . ( x − 3 ) ( x + 5 ) . Analysis  We can check our work by multiplying. Use FOIL to confirm that  ( x − 3 ) ( x + 5 ) = x 2 + 2 x − 15. ( x − 3 ) ( x + 5 ) = x 2 + 2 x − 15. Q&A Does the order of the factors matter? No. Multiplication is commutative, so the order of the factors does not matter. Try It  #2 Factor  x 2 − 7 x + 6. x 2 − 7 x + 6. Factoring by Grouping Trinomials with leading coefficients other than 1 are slightly more complicated to factor. For these trinomials, we can  factor by grouping  by dividing the  x  term into the sum of two terms, factoring each portion of the expression separately, and then factoring out the GCF of the entire expression. The trinomial  2 x 2 + 5 x + 3 2 x 2 + 5 x + 3  can be rewritten as  ( 2 x + 3 ) ( x + 1 ) ( 2 x + 3 ) ( x + 1 )  using this process. We begin by rewriting the original expression as  2 x 2 + 2 x + 3 x + 3 2 x 2 + 2 x + 3 x + 3  and then factor each portion of the expression to obtain  2 x ( x + 1 ) + 3 ( x + 1 ) . 2 x ( x + 1 ) + 3 ( x + 1 ) .  We then pull out the GCF of  ( x + 1 ) ( x + 1 )  to find the factored expression. Factor by Grouping To factor a trinomial in the form  a x 2 + b x + c a x 2 + b x + c  by grouping, we find two numbers with a product of  a c a c  and a sum of  b . b .  We use these numbers to divide the  x x  term into the sum of two terms and factor each portion of the expression separately, then factor out the GCF of the entire expression. How To Given a trinomial in the form  a x 2 + b x + c , a x 2 + b x + c ,  factor by grouping. List factors of  a c . a c . Find  p p  and  q , q ,  a pair of factors of  a c a c  with a sum of  b . b . Rewrite the original expression as  a x 2 + p x + q x + c . a x 2 + p x + q x + c . Pull out the GCF of  a x 2 + p x . a x 2 + p x . Pull out the GCF of  q x + c . q x + c . Factor out the GCF of the expression. Example  3 Factoring a Trinomial by Grouping Factor  5 x 2 + 7 x − 6 5 x 2 + 7 x − 6  by grouping. Solution We have a trinomial with  a = 5 , b = 7 , a = 5 , b = 7 ,  and  c = −6. c = −6.  First, determine  a c = −30. a c = −30.  We need to find two numbers with a product of  −30 −30  and a sum of  7. 7.  In the table below, we list factors until we find a pair with the desired sum. Factors of  −30 −30 Sum of Factors 1 , −30 1 , −30 −29 −29 −1 , 30 −1 , 30 29 2 , −15 2 , −15 −13 −13 −2 , 15 −2 , 15 13 3 , −10 3 , −10 −7 −7 −3 , 10 −3 , 10 7 So  p = −3 p = −3  and  q = 10. q = 10. 5 x 2 − 3 x + 10 x − 6 Rewrite the original expression as  a x 2 + p x + q x + c . x ( 5 x − 3 ) + 2 ( 5 x − 3 ) Factor out the GCF of each part . ( 5 x − 3 ) ( x + 2 ) Factor out the GCF ​ of the expression . 5 x 2 − 3 x + 10 x − 6 Rewrite the original expression as  a x 2 + p x + q x + c . x ( 5 x − 3 ) + 2 ( 5 x − 3 ) Factor out the GCF of each part . ( 5 x − 3 ) ( x + 2 ) Factor out the GCF ​ of the expression . Analysis  We can check our work by multiplying. Use FOIL to confirm that  ( 5 x − 3 ) ( x + 2 ) = 5 x 2 + 7 x − 6. ( 5 x − 3 ) ( x + 2 ) = 5 x 2 + 7 x − 6. Try It  #3 Factor  ⓐ 2 x 2 + 9 x + 9 2 x 2 + 9 x + 9 ⓑ 6 x 2 + x − 1 6 x 2 + x − 1  Factoring a Perfect Square Trinomial A perfect square trinomial is a trinomial that can be written as the square of a binomial. Recall that when a binomial is squared, the result is the square of the first term added to twice the product of the two terms and the square of the last term. a 2 + 2 a b + b 2 = ( a + b ) 2 and a 2 − 2 a b + b 2 = ( a − b ) 2 a 2 + 2 a b + b 2 = ( a + b ) 2 and a 2 − 2 a b + b 2 = ( a − b ) 2 We can use this equation to factor any perfect square trinomial. Perfect Square Trinomials A perfect square trinomial can be written as the square of a binomial: a 2 + 2 a b + b 2 = ( a + b ) 2 a 2 + 2 a b + b 2 = ( a + b ) 2 How To Given a perfect square trinomial, factor it into the square of a binomial.  Confirm that the first and last term are perfect squares. Confirm that the middle term is twice the product of  a b . a b . Write the factored form as  ( a + b ) 2 . ( a + b ) 2 . Example  4 Factoring a Perfect Square Trinomial Factor  25 x 2 + 20 x + 4. 25 x 2 + 20 x + 4. Solution Notice that  25 x 2 25 x 2  and  4 4  are perfect squares because  25 x 2 = ( 5 x ) 2 25 x 2 = ( 5 x ) 2  and  4 = 2 2 . 4 = 2 2 .  Then check to see if the middle term is twice the product of  5 x 5 x  and  2. 2.  The middle term is, indeed, twice the product:  2 ( 5 x ) ( 2 ) = 20 x . 2 ( 5 x ) ( 2 ) = 20 x .  Therefore, the trinomial is a perfect square trinomial and can be written as  ( 5 x + 2 ) 2 . ( 5 x + 2 ) 2 . Try It  #4 Factor  49 x 2 − 14 x + 1. 49 x 2 − 14 x + 1. Factoring a Difference of Squares A difference of squares is a perfect square subtracted from a perfect square. Recall that a difference of squares can be rewritten as factors containing the same terms but opposite signs because the middle terms cancel each other out when the two factors are multiplied. a 2 − b 2 = ( a + b ) ( a − b ) a 2 − b 2 = ( a + b ) ( a − b ) We can use this equation to factor any differences of squares. Differences of Squares A difference of squares can be rewritten as two factors containing the same terms but opposite signs. a 2 − b 2 = ( a + b ) ( a − b ) a 2 − b 2 = ( a + b ) ( a − b ) How To Given a difference of squares, factor it into binomials. Confirm that the first and last term are perfect squares. Write the factored form as  ( a + b ) ( a − b ) . ( a + b ) ( a − b ) . Example  5 Factoring a Difference of Squares Factor  9 x 2 − 25. 9 x 2 − 25. Solution Notice that  9 x 2 9 x 2  and  25 25  are perfect squares because  9 x 2 = ( 3 x ) 2 9 x 2 = ( 3 x ) 2  and  25 = 5 2 . 25 = 5 2 .  The polynomial represents a difference of squares and can be rewritten as  ( 3 x + 5 ) ( 3 x − 5 ) . ( 3 x + 5 ) ( 3 x − 5 ) . Try It  #5 Factor  81 y 2 − 100. 81 y 2 − 100. Q&A Is there a formula to factor the sum of squares? No. A sum of squares cannot be factored. Factoring the Sum and Difference of Cubes Now, we will look at two new special products: the sum and difference of cubes. Although the sum of squares cannot be factored, the sum of cubes can be factored into a binomial and a trinomial. a 3 + b 3 = ( a + b ) ( a 2 − a b + b 2 ) a 3 + b 3 = ( a + b ) ( a 2 − a b + b 2 ) Similarly, the difference of cubes can be factored into a binomial and a trinomial, but with different signs. a 3 − b 3 = ( a − b ) ( a 2 + a b + b 2 ) a 3 − b 3 = ( a − b ) ( a 2 + a b + b 2 ) We can use the acronym SOAP to remember the signs when factoring the sum or difference of cubes. The first letter of each word relates to the signs:  S ame  O pposite  A lways  P ositive. For example, consider the following example. x 3 − 2 3 = ( x − 2 ) ( x 2 + 2 x + 4 ) x 3 − 2 3 = ( x − 2 ) ( x 2 + 2 x + 4 ) The sign of the first 2 is the  same  as the sign between  x 3 − 2 3 . x 3 − 2 3 .  The sign of the  2 x 2 x  term is  opposite  the sign between  x 3 − 2 3 . x 3 − 2 3 .  And the sign of the last term, 4, is  always positive . Sum and Difference of Cubes We can factor the sum of two cubes as a 3 + b 3 = ( a + b ) ( a 2 − a b + b 2 ) a 3 + b 3 = ( a + b ) ( a 2 − a b + b 2 ) We can factor the difference of two cubes as a 3 − b 3 = ( a − b ) ( a 2 + a b + b 2 ) a 3 − b 3 = ( a − b ) ( a 2 + a b + b 2 ) How To Given a sum of cubes or difference of cubes, factor it. Confirm that the first and last term are cubes,  a 3 + b 3 a 3 + b 3  or  a 3 − b 3 . a 3 − b 3 . For a sum of cubes, write the factored form as  ( a + b ) ( a 2 − a b + b 2 ) . ( a + b ) ( a 2 − a b + b 2 ) .  For a difference of cubes, write the factored form as  ( a − b ) ( a 2 + a b + b 2 ) . ( a − b ) ( a 2 + a b + b 2 ) . Example  6 Factoring a Sum of Cubes Factor  x 3 + 512. x 3 + 512. Solution Notice that  x 3 x 3  and  512 512  are cubes because  8 3 = 512. 8 3 = 512.  Rewrite the sum of cubes as  ( x + 8 ) ( x 2 − 8 x + 64 ) . ( x + 8 ) ( x 2 − 8 x + 64 ) . Analysis After writing the sum of cubes this way, we might think we should check to see if the trinomial portion can be factored further. However, the trinomial portion cannot be factored, so we do not need to check. Try It  #6 Factor the sum of cubes:  216 a 3 + b 3 . 216 a 3 + b 3 . Example  7 Factoring a Difference of Cubes Factor  8 x 3 − 125. 8 x 3 − 125. Solution Notice that  8 x 3 8 x 3  and  125 125  are cubes because  8 x 3 = ( 2 x ) 3 8 x 3 = ( 2 x ) 3  and  125 = 5 3 . 125 = 5 3 .  Write the difference of cubes as  ( 2 x − 5 ) ( 4 x 2 + 10 x + 25 ) . ( 2 x − 5 ) ( 4 x 2 + 10 x + 25 ) . Analysis Just as with the sum of cubes, we will not be able to further factor the trinomial portion. Try It  #7 Factor the difference of cubes:  1,000 x 3 − 1. 1,000 x 3 − 1. Factoring Expressions with Fractional or Negative Exponents Expressions with fractional or negative exponents can be factored by pulling out a GCF. Look for the variable or exponent that is common to each term of the expression and pull out that variable or exponent raised to the lowest power. These expressions follow the same factoring rules as those with integer exponents. For instance,  2 x 1 4 + 5 x 3 4 2 x 1 4 + 5 x 3 4  can be factored by pulling out  x 1 4 x 1 4  and being rewritten as  x 1 4 ( 2 + 5 x 1 2 ) . x 1 4 ( 2 + 5 x 1 2 ) . Example  8 Factoring an Expression with Fractional or Negative Exponents Factor  3 x ( x + 2 ) −1 3 + 4 ( x + 2 ) 2 3 . 3 x ( x + 2 ) −1 3 + 4 ( x + 2 ) 2 3 . Solution Factor out the term with the lowest value of the exponent. In this case, that would be  ( x + 2 ) − 1 3 . ( x + 2 ) − 1 3 . ( x + 2 ) − 1 3 ( 3 x + 4 ( x + 2 ) ) Factor out the GCF . ( x + 2 ) − 1 3 ( 3 x + 4 x + 8 ) Simplify . ( x + 2 ) − 1 3 ( 7 x + 8 ) ( x + 2 ) − 1 3 ( 3 x + 4 ( x + 2 ) ) Factor out the GCF . ( x + 2 ) − 1 3 ( 3 x + 4 x + 8 ) Simplify . ( x + 2 ) − 1 3 ( 7 x + 8 ) Try It  #8 Factor  2 ( 5 a − 1 ) 3 4 + 7 a ( 5 a − 1 ) − 1 4 . 2 ( 5 a − 1 ) 3 4 + 7 a ( 5 a − 1 ) − 1 4 . Media Access these online resources for additional instruction and practice with factoring polynomials. Identify GCF Factor Trinomials when a Equals 1 Factor Trinomials when a is not equal to 1 Factor Sum or Difference of Cubes 1.5 Section Exercises Verbal 1 .  If the terms of a polynomial do not have a GCF, does that mean it is not factorable? Explain. 2 .  A polynomial is factorable, but it is not a perfect square trinomial or a difference of two squares. Can you factor the polynomial without finding the GCF? 3 .  How do you factor by grouping? Algebraic For the following exercises, find the greatest common factor. 4 .  14 x + 4 x y − 18 x y 2 14 x + 4 x y − 18 x y 2 5 .  49 m b 2 − 35 m 2 b a + 77 m a 2 49 m b 2 − 35 m 2 b a + 77 m a 2 6 .  30 x 3 y − 45 x 2 y 2 + 135 x y 3 30 x 3 y − 45 x 2 y 2 + 135 x y 3 7 .  200 p 3 m 3 − 30 p 2 m 3 + 40 m 3 200 p 3 m 3 − 30 p 2 m 3 + 40 m 3 8 .  36 j 4 k 2 − 18 j 3 k 3 + 54 j 2 k 4 36 j 4 k 2 − 18 j 3 k 3 + 54 j 2 k 4 9 .  6 y 4 − 2 y 3 + 3 y 2 − y 6 y 4 − 2 y 3 + 3 y 2 − y For the following exercises, factor by grouping. 10 .  6 x 2 + 5 x − 4 6 x 2 + 5 x − 4 11 .  2 a 2 + 9 a − 18 2 a 2 + 9 a − 18 12 .  6 c 2 + 41 c + 63 6 c 2 + 41 c + 63 13 .  6 n 2 − 19 n − 11 6 n 2 − 19 n − 11 14 .  20 w 2 − 47 w + 24 20 w 2 − 47 w + 24 15 .  2 p 2 − 5 p − 7 2 p 2 − 5 p − 7 For the following exercises, factor the polynomial. 16 .  7 x 2 + 48 x − 7 7 x 2 + 48 x − 7 17 .  10 h 2 − 9 h − 9 10 h 2 − 9 h − 9 18 .  2 b 2 − 25 b − 247 2 b 2 − 25 b − 247 19 .  9 d 2 −73 d + 8 9 d 2 −73 d + 8 20 .  90 v 2 −181 v + 90 90 v 2 −181 v + 90 21 .  12 t 2 + t − 13 12 t 2 + t − 13 22 .  2 n 2 − n − 15 2 n 2 − n − 15 23 .  16 x 2 − 100 16 x 2 − 100 24 .  25 y 2 − 196 25 y 2 − 196 25 .  121 p 2 − 169 121 p 2 − 169 26 .  4 m 2 − 9 4 m 2 − 9 27 .  361 d 2 − 81 361 d 2 − 81 28 .  324 x 2 − 121 324 x 2 − 121 29 .  144 b 2 − 25 c 2 144 b 2 − 25 c 2 30 .  16 a 2 − 8 a + 1 16 a 2 − 8 a + 1 31 .  49 n 2 + 168 n + 144 49 n 2 + 168 n + 144 32 .  121 x 2 − 88 x + 16 121 x 2 − 88 x + 16 33 .  225 y 2 + 120 y + 16 225 y 2 + 120 y + 16 34 .  m 2 − 20 m + 100 m 2 − 20 m + 100 35 .  25 p 2 − 120 p + 144 25 p 2 − 120 p + 144 36 .  36 q 2 + 60 q + 25 36 q 2 + 60 q + 25 For the following exercises, factor the polynomials. 37 .  x 3 + 216 x 3 + 216 38 .  27 y 3 − 8 27 y 3 − 8 39 .  125 a 3 + 343 125 a 3 + 343 40 .  b 3 − 8 d 3 b 3 − 8 d 3 41 .  64 x 3 −125 64 x 3 −125 42 .  729 q 3 + 1331 729 q 3 + 1331 43 .  125 r 3 + 1,728 s 3 125 r 3 + 1,728 s 3 44 .  4 x ( x − 1 ) − 2 3 + 3 ( x − 1 ) 1 3 4 x ( x − 1 ) − 2 3 + 3 ( x − 1 ) 1 3 45 .  3 c ( 2 c + 3 ) − 1 4 − 5 ( 2 c + 3 ) 3 4 3 c ( 2 c + 3 ) − 1 4 − 5 ( 2 c + 3 ) 3 4 46 .  3 t ( 10 t + 3 ) 1 3 + 7 ( 10 t + 3 ) 4 3 3 t ( 10 t + 3 ) 1 3 + 7 ( 10 t + 3 ) 4 3 47 .  14 x ( x + 2 ) − 2 5 + 5 ( x + 2 ) 3 5 14 x ( x + 2 ) − 2 5 + 5 ( x + 2 ) 3 5 48 .  9 y ( 3 y − 13 ) 1 5 − 2 ( 3 y − 13 ) 6 5 9 y ( 3 y − 13 ) 1 5 − 2 ( 3 y − 13 ) 6 5 49 .  5 z ( 2 z − 9 ) − 3 2 + 11 ( 2 z − 9 ) − 1 2 5 z ( 2 z − 9 ) − 3 2 + 11 ( 2 z − 9 ) − 1 2 50 .  6 d ( 2 d + 3 ) − 1 6 + 5 ( 2 d + 3 ) 5 6 6 d ( 2 d + 3 ) − 1 6 + 5 ( 2 d + 3 ) 5 6 Real-World Applications For the following exercises, consider this scenario: Charlotte has appointed a chairperson to lead a city beautification project. The first act is to install statues and fountains in one of the city’s parks. The park is a rectangle with an area of  98 x 2 + 105 x − 27 98 x 2 + 105 x − 27  m 2 , as shown in the figure below. The length and width of the park are perfect factors of the area. 51 .  Factor by grouping to find the length and width of the park. 52 .  A statue is to be placed in the center of the park. The area of the base of the statue is  4 x 2 + 12 x + 9 m 2 . 4 x 2 + 12 x + 9 m 2 .  Factor the area to find the lengths of the sides of the statue. 53 .  At the northwest corner of the park, the city is going to install a fountain. The area of the base of the fountain is  9 x 2 − 25 m 2 . 9 x 2 − 25 m 2 .  Factor the area to find the lengths of the sides of the fountain. For the following exercise, consider the following scenario: A school is installing a flagpole in the central plaza. The plaza is a square with side length 100 yd. as shown in the figure below. The flagpole will take up a square plot with area  x 2 − 6 x + 9 x 2 − 6 x + 9  yd 2 . 54 .  Find the length of the base of the flagpole by factoring. Extensions For the following exercises, factor the polynomials completely. 55 .  16 x 4 − 200 x 2 + 625 16 x 4 − 200 x 2 + 625 56 .  81 y 4 − 256 81 y 4 − 256 57 .  16 z 4 − 2,401 a 4 16 z 4 − 2,401 a 4 58 .  5 x ( 3 x + 2 ) − 2 4 + ( 12 x + 8 ) 3 2 5 x ( 3 x + 2 ) − 2 4 + ( 12 x + 8 ) 3 2 59 .  ( 32 x 3 + 48 x 2 − 162 x − 243 ) −1 ( 32 x 3 + 48 x 2 − 162 x − 243 ) −1 \",...,\"What are external sources of technology and innovation development, and when are they best used? The external processes for developing and acquiring technology and innovation include a variety of options. They are most successfully used under the following circumstances: The product line or the processes of the firm have fallen behind those of its competitors. A new entrant into the market of the industry has changed the competitive dynamics. A firm believes that its product mix or way of doing things is not going to be successful in the long run. The major advantage of using an external process is speed—for the focal firm, the time needed to blend an acquired technology or innovation is usually much shorter than the time required to try to make a discovery and bring it to market or implement it within the firm. Often, the external processes are less costly. The disadvantages are tied to the need to blend different firms or bring “others” into the activities of the firm. For example, there may be cultural conflicts in an acquisition or there may be resistance to acceptance of the newness that is brought into the firm. The most common types of external processes used to enhance technology and innovation in a firm include: Mergers/acquisitions (M&A) , which involve ownership changes within the firms. For an acquisition, one firm buys another; for a merger, the two firms come together and form a new firm. The essence of both of these approaches is that a new, larger organizational entity is formed. The new firm should have more market power (be larger) and should gain knowledge about a technology or domain of activity. The blending of two cultures, two sets of processes, and two structures are all potential disadvantages of M&A activity. Joint ventures  are long-term alliances that involve the creation of a new entity to specifically carry out a product/process innovation. The entity is usually governed by a contractual relationship that specifies the contributions and obligations of the partners in the joint venture. There are potential culture clashes as well as the potential for  strategic drift —losing strategic focus on the reasons for the joint venture. Franchise agreements  are usually long-term agreements that involve long payoffs for the sharing of known technology. Fast food restaurants, such as McDonald’s, use franchise agreements with store owners. McDonald’s provides R&D for new processes and new products. The store owners (franchisees) pay a fee for the use of the name and the marketing of the product. The contract and monitoring costs associated with franchise agreements are the big disadvantage of this type of alliance. Licensing agreements  involve technology acquisition without R&D. For example, Dolby contracts with producers of various type of sound equipment to allow them to use their technology to have better sound quality. Licensing agreements are quite common in high-tech industries. The contract costs and constraints are the disadvantages of licensing agreements. Formal and informal contracts  are used to allow firms to share technology between them. For formal contracts, the length of time the contract is enforceable is a defining characteristic. The more formal a contract, usually the longer it is, and it usually includes more details about the usage and limitations of the technology. For the informal contract, the advantage is that if the activity is no longer beneficial, it is much easier to disband. All of the methods are of use to firms large and small. In the opening case, Acer used a number of methods to externally acquire technology. Concept Check Look at the Acer case at the beginning of the chapter and respond to the following items. Identify the times Acer used external methods of acquiring newness for their organization. What goals did they accomplish? \",\"What are internal sources of technology and innovation development, and when are they best used? The most common type of internal process for technology and innovation in the organization is  research and development (R&D) .  R&D involves the seeking and developing of new technologies, products, and/or processes through creative efforts within the firm. The benefits of internal processes include ownership of the technology/innovation that provide legal protections (i.e., patents and trademarks). In addition, the understanding and the knowledge gained from the process of R&D can give the firm a head start on the next generation of technology. Apple’s place as a first mover in the technology of laptops and telephones allowed it to maintain a creative advantage for a number of years. The disadvantages of R&D are that it is usually slower and more costly and can be disrupted by the departure of key personnel. The death of Steve Jobs has slowed the innovation of Apple in the eyes of many consumers. Ethics in Practice Unearthing Your Secrets Cybercrimes in our technologically driven world are on the increase—identity theft, pornography, and sexual predator victim access, to name a few. The FBI’s computer analysis response team confirms their caseload includes 800 cases reported  per day  in 2017. To keep up with the changing world we live in, law enforcement, corporations, and government agencies have turned to new crime-fighting tools, one of the most effective being digital forensics. The leader in this technology is Guidance Software, founded in 1997 to develop solutions that search, identify, recover, and deliver digital information in a forensically sound and cost-effective manner. Headquartered in Pasadena, California, the company employs 391 people at offices and training facilities in Chicago, Illinois; Washington, DC; San Francisco, California; Houston, Texas; New York City; and Brazil, England, and Singapore. The company’s more than 20,000 high-profile clients include leading police agencies, government investigation and law enforcement agencies, and Fortune 1000 corporations in the financial service, insurance, high-tech and consulting, health care, and utility industries. Guidance Software’s suite of EnCase® solutions is the first computer forensics tool able to provide world-class electronic investigative capabilities for large-scale complex investigations. Law enforcement officers, government/corporate investigators, and consultants around the world can now benefit from computer forensics that exceed anything previously available. The software offers an investigative infrastructure that provides network-enabled investigations, enterprise-wide integration with other security technologies, and powerful search and collection tools. With EnCase, clients can conduct digital investigations, handle large-scale data collection needs, and respond to external attacks. Notably, the company’s software was used by law enforcement in the Casey Anthony murder case and the Sony PlayStation security breach, and was used to examine data retrieved by U.S. special forces in the Osama bin Laden raid. Guidance Software also helps reduce corporate and personal liability when investigating computer-related fraud, intellectual property theft, and employee misconduct. It protects against network threats such as hackers, worms, and viruses and hidden threats such as malicious code. In response to increases in the number and scope of discovery requests, Guidance Software developed its eDiscovery Suite. The software package dramatically improves the practice of large-scale discovery—the identification, collection, cataloging, and saving of evidence—required in almost every major legal case these days. eDiscovery integrates with other litigation-support software to significantly decrease the time for corporations to accomplish these tasks. At the same time, it improves regulatory compliance and reduces disruption. The result is many millions of dollars in cost savings. In late 2017, Guidance Software was acquired by OpenText, an enterprise information management company that employs more than 10,000 people worldwide. Sources: FBI website, https://www.fbi.gov, accessed January 15, 2018; Guidance Software website, https://www.guidancesoftware.com, accessed January 15, 2018; OpenText website, https://www.opentext.com, accessed January 15, 2018; “Casey Anthony: The Computer Forensics,”  The State v Casey Anthony website , https://statevcasey.wordpress.com, July 18, 2011; Declan McCullagh, “Finding Treasures in Bin Laden Computers,”  CBS News , https://www.cbsnews.com, May 6, 2011; Evan Narcisse, “ Who’s Cleaning Up the PSN Debacle for Sony?”  Time,  http://techland.time.com, May 4, 2011. Critical Thinking Questions How is Guidance Software responding to and helping to manage changes in our technology-driven world? What other types of forensics software do you foresee a need for in the future? Do you think there are ethical issues in using forensics software, and why or why not? What are the benefits and risks of Guidance Software being acquired by a larger company? Concept Check Look at the Acer case at the beginning of the chapter. Identify the times they used internal methods of acquiring newness for their organization. What goals did they accomplish? \",\"How and why do entrepreneurs need to develop MTI skills? Entrepreneurial activities  in the marketplace often signal newness in a product or process. For an entrepreneurial firm, the value proposition is a key factor. The  value proposition  answers the follow two questions: How will the firm make money on the product and/or services offered? How will the firm be positioned in the marketplace? New business entities (a type of entrepreneurial activity) are usually more flexible and agile in the marketplace. The entrepreneur is very dedicated to the success of the firm because the new business is the “baby” of the entrepreneur. The starting of a new business is the riskiest approach for introducing new products and processes. The failure rate for entrepreneurs is high. Because the firm is new, there is usually very little slack in resources available—money is tight, labor is limited, and time is fleeting. Therefore, entrepreneurial activities are most successful when the  lean start-up  process can be used. It is applicable where development costs are low and revisions are not very costly. One reason there are many startups in the development of applications for mobile phones is that the costs are low and improvement of the product (once successful) is relatively easy. Entrepreneurs have the ability to adapt their plans incrementally, especially when using lean start-up methods. 5  For entrepreneurs, the capabilities to sense, seize, and transform can be an advantage if they stay agile and avoid overcommitting to a course of action. 6  Entrepreneurs, by definition, are more agile than the more-established organizations. This agility is true within large firms that want to continue to be entrepreneurial in their activities. Firms such as Google and 3M allow their employees to work on innovative projects during their working hours. Google modeled their policy of allowing employees time to explore other potential products and processes after 3M’s longtime policy. Both of these firms are known as innovative firms because they encourage employees to look for and test innovative and valuable propositions. The flexibility allowed employees gives both Google and 3M the agility to find new ways of doing things. Concept Check In the beginning, Acer was very entrepreneurial. However, the firm realized that if it was to continue to grow, it needed to develop some structures and processes. What adjustments did Acer make to become a global firm? \",\"No matter what method is used, what skills do you need to successfully manage technology and innovation? There are a number of skills needed to successfully manage technology and innovation in the organization. No matter what organization you are a part of, there are two skills the organization must develop to be successful—the ability to manage learning and knowledge processes, and the ability to analyze and forecast future trends. Individual skills that are critical to the organization’s success include leadership/followship and creative thinking. Organizational skills involve how the firm puts people and resources together to create value—building capabilities. With the right capabilities, the organization can develop a competitive advantage. In the world of technology and innovation, the management of learning and knowledge processes is critical. The organization needs to have systems in place that allow it to collect data that can be analyzed to form information. The information needs to be used to gain knowledge and insight. At each step, learning takes place.  Organizational learning  is the acquisition of knowledge through the collection of data that is analyzed to gather information, which is then transferred and shared through communication among members of the organization. This communication process provides the foundation for knowledge acquisition and enhancement within the firm. There are two types of knowledge that must be managed:  explicit knowledge  (codified or written down as rules or guidelines) and  tacit knowledge  (which emerges from experience of an individual). Tacit knowledge can become explicit at some point if the expert is able to codify the knowledge for others. However, it is not always possible to codify tacit knowledge. For example, Henry Bessemer was sued by the patent purchasers who could not get his steel-making process to work. In the end Bessemer set up his own steel company because he knew how to gauge when to add and subtract heat based on the impurities in the iron ore, even though he could not convey it to his patent users. Bessemer’s company became one of the largest in the world and changed the face of steelmaking. After the introduction of the Bessemer process, steel and wrought iron became similarly priced, and some users, primarily railroads, turned to steel. 7  The insights and experiences that are gained from the gathering of data and converting that data into information are key to successful MTI. Organizational knowledge is the sharing and utilization of the learning that takes place in the firm. Exhibit  18.8 Ben Fried In today’s high-tech world, CIOs must possess not only the technical smarts to implement global IT infrastructures, integrate communications systems with partners, and protect customer data from insidious hackers, but they must also have strong business acumen. Google’s acclaimed tech chief Ben Fried manages the technology necessary to deliver more than nine billion searches daily, with an eye towards greater business efficiency, growth, and profits.  Why is it important for CIOs to possess both technological and business expertise?  (Credit: Enterprise 2.0 Conference/ flickr/ Attribution 2.0 Generic (CC BY 2.0)) The ability to forecast the future is another key organizational skill in the management of technology and innovation. This involves scanning the environment for trends and possible areas of value-creation opportunities. It also involves understanding the risk involved with newness in the firm and the risk involved in not seeking newness—both can cause the firm to lose value. Any method of forecasting comes with limitations. These include: Forecasting methods, by definition, are uncertain in their outcomes. Usually the firm is trying to develop scenarios concerning best, worst, and most likely outcomes. With this information, risk can be assessed. Forecasts are imperfect—the firm cannot predict all potential influences in the competitive marketplace. Bessemer knew he had a better process, but he did not predict the problems he had licensing his patent. Forecasts are at best an educated guess. Many forecast techniques rely on statistical analysis, but the numbers used in the analysis are forecasts themselves or rely on patterns of behavior continuing in the marketplace. With all the issues with forecasting, a company that produces excellent forecasts will most likely formulate better strategy and capture more value. The knowledge-management system of the firm can help the ability of the firm to forecast. Experience and learning about industry and general environment trends can help individuals and teams forecast more accurately. Individuals within the firm also need to have certain skills to enhance the management of technology and innovation processes. These skills include a balance of leadership and followship and the ability to think creatively. Exhibit  18.9 Needed Skills for MTI (Attribution: Copyright Rice University, OpenStax, under CC-BY 4.0 license) Most individuals in the organization understand what  leadership  is. For MTI, it is important that the right person be in the leadership position when needed. For example, in new product development, the leader during the design phase is likely to be an engineer, the leader in the prototype development phase may be an engineer or a production person, and as the product is introduced to the marketplace the leader may be a marketing person. It is necessary for these individuals to communicate, and they may all be on a project team that is under the direction/coordination of a dedicated project manager. However, the leadership on the project shifts within the creation-to-market process. While leadership is critical, so is  followship . Followship is the mirror image of leadership. Most will never have taken a class in followship. You cannot have leaders without followers. There is a skill set for leadership and a skill set for followship. It is the actions of followers that determine the success of a leader. The success of organizations is more the result of good followship than of great leadership. Leadership is influencing others, and followship is seeking or accepting influence. In the case of new product development outlined above, each of the individuals were leaders during some point in the project and each were followers during the project. Individuals spend a lot of time seeking and learning about leadership, but followship is also critical to organizational success. Innovative companies are often lead by a combination of two individuals who lead and follow each other. For example, Microsoft was founded by Bill Gates and Paul Allen. The names of firms started or built by two people are common: Sears & Roebuck, Proctor & Gamble, Marks and Spencer. The characteristics of a good follower include: They are truthful. Followers who tell the truth and leaders who listen are an unbeatable combination. They are supportive. Don’t blame your boss for an unpopular decision or policy. “I know this is an unpopular decision, but…” Absent person example of trust. [I call it confessing the sins of the boss in the hallway after the meeting.] They give the boss the benefit of their knowledge and experience. Your job is to make the organization successful. They take the Initiative to solve problems by providing solutions, not just issues. They keep the leader Informed. The higher a manager is in an organization, the more people are less inclined to talk openly with them. Great followers provide the good, the bad, and the ugly of information, knowledge, and experience. Concept Check What is organizational learning? What are the differences between leadership and followship? What forecasting techniques are used in the management of technology and innovation? \",\"How do you look into the future to keep pace? To keep pace with changes in technology and to keep up with needed innovation processes, individuals within the firm must keep track of what competitors are doing as well as what inventions or discoveries may usurp an industry’s place in the market. This is an external process, and that involves scanning the environment. The information gathered during scanning should inform the firm about the general trends and opportunities to create new value. Internally, the firm wants to understand the task and processes as well as understand the skills that currently exist in the organization. By identifying potential future scenarios in the external environment and understanding what resources and capabilities the firm has, the task for those managing technology and innovation becomes answering the key questions: Where are we now? Where do we want to be? What do we need to move from here to there? Concept Check How do you keep up with a constantly evolving environment of technology and innovation? \"]]\n",
       "terms: [[[\"natural numbers\",\"whole numbers\",\"integers\",\"rational numbers\",\"irrational numbers\",...,\"constant\",\"variable\",\"algebraic expression\",\"equation\",\"formula\"],[\"scientific notation\",\"scientific notation\",\"scientific notation\"],...,[\"Organizational learning\",\"explicit knowledge\",\"tacit knowledge\",\"leadership\",\"followship\"],[]]]\n",
       "no_emphasis_terms: [[[],[],...,[],[]]]\n",
       "term_indices: [[\"[(2133, 2148, None), (2561, 2574, None), (2682, 2690, None), (3314, 3330, None), (5577, 5595, None), (7536, 7548, None), (8365, 8381, None), (9922, 9937, None), (10036, 10049, None), (10157, 10165, None), (10337, 10353, None), (10488, 10506, None), (11515, 11535, None), (11802, 11806, None), (11833, 11841, None), (12190, 12209, None), (17848, 17880, None), (18128, 18166, None), (18638, 18676, None), (19005, 19037, None), (19791, 19812, None), (21654, 21683, None), (21843, 21878, None), (22253, 22281, None), (22628, 22662, None), (26530, 26538, None), (26586, 26594, None), (26701, 26721, None), (30672, 30680, None), (31190, 31197, None)]\",\"[(23288, 23307, None), (24718, 24737, None), (26614, 26633, None)]\",\"[(1512, 1533, None), (1766, 1773, None), (1817, 1825, None), (1867, 1885, None), (1915, 1936, None), (2043, 2061, None), (2089, 2096, None), (2124, 2132, None), (12189, 12199, None), (12202, 12209, None), (12488, 12493, None), (12601, 12611, None), (12614, 12621, None), (12763, 12768, None), (13589, 13608, None)]\",\"[(1599, 1609, None), (1821, 1832, None), (2005, 2025, None), (2172, 2180, None), (2261, 2269, None), (2370, 2379, None), (2399, 2405, None), (2551, 2563, None), (2653, 2672, None), (2790, 2800, None), (2962, 2973, None), (3095, 3115, None), (3197, 3203, None), (3227, 3239, None), (3312, 3331, None), (7090, 7094, None), (10616, 10640, None), (12443, 12464, None)]\",\"[(1731, 1753, None), (2370, 2392, None), (6703, 6721, None)]\",...,\"[(1241, 1267, None), (1765, 1779, None), (2117, 2132, None), (2195, 2215, None), (2681, 2701, None), (3039, 3068, None)]\",\"[(192, 222, None)]\",\"[(57, 83, None), (223, 240, None)]\",\"[(1084, 1107, None), (1472, 1490, None), (1547, 1562, None), (5081, 5091, None), (5758, 5768, None)]\",\"[]\"]]"
      ]
     },
     "execution_count": 99,
     "metadata": {},
     "output_type": "execute_result"
    }
   ],
   "source": [
    "pa.Table.from_pandas(test_frame)"
   ]
  },
  {
   "cell_type": "code",
   "execution_count": 96,
   "id": "4cade2c1-f085-496b-926f-7faac04c652d",
   "metadata": {},
   "outputs": [
    {
     "ename": "ArrowInvalid",
     "evalue": "('Could not convert <pyarrow.lib.StructArray object at 0x7f84a43c4d60>\\n-- is_valid: all not null\\n-- child 0 type: uint64\\n  [\\n    2133,\\n    2561,\\n    2682,\\n    3314,\\n    5577,\\n    7536,\\n    8365,\\n    9922,\\n    10036,\\n    10157,\\n    ...\\n    19791,\\n    21654,\\n    21843,\\n    22253,\\n    22628,\\n    26530,\\n    26586,\\n    26701,\\n    30672,\\n    31190\\n  ]\\n-- child 1 type: uint64\\n  [\\n    2148,\\n    2574,\\n    2690,\\n    3330,\\n    5595,\\n    7548,\\n    8381,\\n    9937,\\n    10049,\\n    10165,\\n    ...\\n    19812,\\n    21683,\\n    21878,\\n    22281,\\n    22662,\\n    26538,\\n    26594,\\n    26721,\\n    30680,\\n    31197\\n  ]\\n-- child 2 type: string\\n  [\\n    null,\\n    null,\\n    null,\\n    null,\\n    null,\\n    null,\\n    null,\\n    null,\\n    null,\\n    null,\\n    ...\\n    null,\\n    null,\\n    null,\\n    null,\\n    null,\\n    null,\\n    null,\\n    null,\\n    null,\\n    null\\n  ] with type pyarrow.lib.StructArray: did not recognize Python value type when inferring an Arrow data type', 'Conversion failed for column term_indices with type object')",
     "output_type": "error",
     "traceback": [
      "\u001b[0;31m---------------------------------------------------------------------------\u001b[0m",
      "\u001b[0;31mArrowInvalid\u001b[0m                              Traceback (most recent call last)",
      "Input \u001b[0;32mIn [96]\u001b[0m, in \u001b[0;36m<cell line: 1>\u001b[0;34m()\u001b[0m\n\u001b[0;32m----> 1\u001b[0m \u001b[43mtest_frame\u001b[49m\u001b[38;5;241;43m.\u001b[39;49m\u001b[43mto_parquet\u001b[49m\u001b[43m(\u001b[49m\u001b[38;5;124;43m'\u001b[39;49m\u001b[38;5;124;43m../data/open-stax-texts-terms.parquet\u001b[39;49m\u001b[38;5;124;43m'\u001b[39;49m\u001b[43m,\u001b[49m\u001b[43m \u001b[49m\u001b[43mindex\u001b[49m\u001b[38;5;241;43m=\u001b[39;49m\u001b[38;5;28;43;01mFalse\u001b[39;49;00m\u001b[43m)\u001b[49m\n",
      "File \u001b[0;32m~/conda_envs/webscrape/lib/python3.10/site-packages/pandas/util/_decorators.py:207\u001b[0m, in \u001b[0;36mdeprecate_kwarg.<locals>._deprecate_kwarg.<locals>.wrapper\u001b[0;34m(*args, **kwargs)\u001b[0m\n\u001b[1;32m    205\u001b[0m     \u001b[38;5;28;01melse\u001b[39;00m:\n\u001b[1;32m    206\u001b[0m         kwargs[new_arg_name] \u001b[38;5;241m=\u001b[39m new_arg_value\n\u001b[0;32m--> 207\u001b[0m \u001b[38;5;28;01mreturn\u001b[39;00m \u001b[43mfunc\u001b[49m\u001b[43m(\u001b[49m\u001b[38;5;241;43m*\u001b[39;49m\u001b[43margs\u001b[49m\u001b[43m,\u001b[49m\u001b[43m \u001b[49m\u001b[38;5;241;43m*\u001b[39;49m\u001b[38;5;241;43m*\u001b[39;49m\u001b[43mkwargs\u001b[49m\u001b[43m)\u001b[49m\n",
      "File \u001b[0;32m~/conda_envs/webscrape/lib/python3.10/site-packages/pandas/core/frame.py:2835\u001b[0m, in \u001b[0;36mDataFrame.to_parquet\u001b[0;34m(self, path, engine, compression, index, partition_cols, storage_options, **kwargs)\u001b[0m\n\u001b[1;32m   2749\u001b[0m \u001b[38;5;124;03m\"\"\"\u001b[39;00m\n\u001b[1;32m   2750\u001b[0m \u001b[38;5;124;03mWrite a DataFrame to the binary parquet format.\u001b[39;00m\n\u001b[1;32m   2751\u001b[0m \n\u001b[0;32m   (...)\u001b[0m\n\u001b[1;32m   2831\u001b[0m \u001b[38;5;124;03m>>> content = f.read()\u001b[39;00m\n\u001b[1;32m   2832\u001b[0m \u001b[38;5;124;03m\"\"\"\u001b[39;00m\n\u001b[1;32m   2833\u001b[0m \u001b[38;5;28;01mfrom\u001b[39;00m \u001b[38;5;21;01mpandas\u001b[39;00m\u001b[38;5;21;01m.\u001b[39;00m\u001b[38;5;21;01mio\u001b[39;00m\u001b[38;5;21;01m.\u001b[39;00m\u001b[38;5;21;01mparquet\u001b[39;00m \u001b[38;5;28;01mimport\u001b[39;00m to_parquet\n\u001b[0;32m-> 2835\u001b[0m \u001b[38;5;28;01mreturn\u001b[39;00m \u001b[43mto_parquet\u001b[49m\u001b[43m(\u001b[49m\n\u001b[1;32m   2836\u001b[0m \u001b[43m    \u001b[49m\u001b[38;5;28;43mself\u001b[39;49m\u001b[43m,\u001b[49m\n\u001b[1;32m   2837\u001b[0m \u001b[43m    \u001b[49m\u001b[43mpath\u001b[49m\u001b[43m,\u001b[49m\n\u001b[1;32m   2838\u001b[0m \u001b[43m    \u001b[49m\u001b[43mengine\u001b[49m\u001b[43m,\u001b[49m\n\u001b[1;32m   2839\u001b[0m \u001b[43m    \u001b[49m\u001b[43mcompression\u001b[49m\u001b[38;5;241;43m=\u001b[39;49m\u001b[43mcompression\u001b[49m\u001b[43m,\u001b[49m\n\u001b[1;32m   2840\u001b[0m \u001b[43m    \u001b[49m\u001b[43mindex\u001b[49m\u001b[38;5;241;43m=\u001b[39;49m\u001b[43mindex\u001b[49m\u001b[43m,\u001b[49m\n\u001b[1;32m   2841\u001b[0m \u001b[43m    \u001b[49m\u001b[43mpartition_cols\u001b[49m\u001b[38;5;241;43m=\u001b[39;49m\u001b[43mpartition_cols\u001b[49m\u001b[43m,\u001b[49m\n\u001b[1;32m   2842\u001b[0m \u001b[43m    \u001b[49m\u001b[43mstorage_options\u001b[49m\u001b[38;5;241;43m=\u001b[39;49m\u001b[43mstorage_options\u001b[49m\u001b[43m,\u001b[49m\n\u001b[1;32m   2843\u001b[0m \u001b[43m    \u001b[49m\u001b[38;5;241;43m*\u001b[39;49m\u001b[38;5;241;43m*\u001b[39;49m\u001b[43mkwargs\u001b[49m\u001b[43m,\u001b[49m\n\u001b[1;32m   2844\u001b[0m \u001b[43m\u001b[49m\u001b[43m)\u001b[49m\n",
      "File \u001b[0;32m~/conda_envs/webscrape/lib/python3.10/site-packages/pandas/io/parquet.py:420\u001b[0m, in \u001b[0;36mto_parquet\u001b[0;34m(df, path, engine, compression, index, storage_options, partition_cols, **kwargs)\u001b[0m\n\u001b[1;32m    416\u001b[0m impl \u001b[38;5;241m=\u001b[39m get_engine(engine)\n\u001b[1;32m    418\u001b[0m path_or_buf: FilePath \u001b[38;5;241m|\u001b[39m WriteBuffer[\u001b[38;5;28mbytes\u001b[39m] \u001b[38;5;241m=\u001b[39m io\u001b[38;5;241m.\u001b[39mBytesIO() \u001b[38;5;28;01mif\u001b[39;00m path \u001b[38;5;129;01mis\u001b[39;00m \u001b[38;5;28;01mNone\u001b[39;00m \u001b[38;5;28;01melse\u001b[39;00m path\n\u001b[0;32m--> 420\u001b[0m \u001b[43mimpl\u001b[49m\u001b[38;5;241;43m.\u001b[39;49m\u001b[43mwrite\u001b[49m\u001b[43m(\u001b[49m\n\u001b[1;32m    421\u001b[0m \u001b[43m    \u001b[49m\u001b[43mdf\u001b[49m\u001b[43m,\u001b[49m\n\u001b[1;32m    422\u001b[0m \u001b[43m    \u001b[49m\u001b[43mpath_or_buf\u001b[49m\u001b[43m,\u001b[49m\n\u001b[1;32m    423\u001b[0m \u001b[43m    \u001b[49m\u001b[43mcompression\u001b[49m\u001b[38;5;241;43m=\u001b[39;49m\u001b[43mcompression\u001b[49m\u001b[43m,\u001b[49m\n\u001b[1;32m    424\u001b[0m \u001b[43m    \u001b[49m\u001b[43mindex\u001b[49m\u001b[38;5;241;43m=\u001b[39;49m\u001b[43mindex\u001b[49m\u001b[43m,\u001b[49m\n\u001b[1;32m    425\u001b[0m \u001b[43m    \u001b[49m\u001b[43mpartition_cols\u001b[49m\u001b[38;5;241;43m=\u001b[39;49m\u001b[43mpartition_cols\u001b[49m\u001b[43m,\u001b[49m\n\u001b[1;32m    426\u001b[0m \u001b[43m    \u001b[49m\u001b[43mstorage_options\u001b[49m\u001b[38;5;241;43m=\u001b[39;49m\u001b[43mstorage_options\u001b[49m\u001b[43m,\u001b[49m\n\u001b[1;32m    427\u001b[0m \u001b[43m    \u001b[49m\u001b[38;5;241;43m*\u001b[39;49m\u001b[38;5;241;43m*\u001b[39;49m\u001b[43mkwargs\u001b[49m\u001b[43m,\u001b[49m\n\u001b[1;32m    428\u001b[0m \u001b[43m\u001b[49m\u001b[43m)\u001b[49m\n\u001b[1;32m    430\u001b[0m \u001b[38;5;28;01mif\u001b[39;00m path \u001b[38;5;129;01mis\u001b[39;00m \u001b[38;5;28;01mNone\u001b[39;00m:\n\u001b[1;32m    431\u001b[0m     \u001b[38;5;28;01massert\u001b[39;00m \u001b[38;5;28misinstance\u001b[39m(path_or_buf, io\u001b[38;5;241m.\u001b[39mBytesIO)\n",
      "File \u001b[0;32m~/conda_envs/webscrape/lib/python3.10/site-packages/pandas/io/parquet.py:174\u001b[0m, in \u001b[0;36mPyArrowImpl.write\u001b[0;34m(self, df, path, compression, index, storage_options, partition_cols, **kwargs)\u001b[0m\n\u001b[1;32m    171\u001b[0m \u001b[38;5;28;01mif\u001b[39;00m index \u001b[38;5;129;01mis\u001b[39;00m \u001b[38;5;129;01mnot\u001b[39;00m \u001b[38;5;28;01mNone\u001b[39;00m:\n\u001b[1;32m    172\u001b[0m     from_pandas_kwargs[\u001b[38;5;124m\"\u001b[39m\u001b[38;5;124mpreserve_index\u001b[39m\u001b[38;5;124m\"\u001b[39m] \u001b[38;5;241m=\u001b[39m index\n\u001b[0;32m--> 174\u001b[0m table \u001b[38;5;241m=\u001b[39m \u001b[38;5;28;43mself\u001b[39;49m\u001b[38;5;241;43m.\u001b[39;49m\u001b[43mapi\u001b[49m\u001b[38;5;241;43m.\u001b[39;49m\u001b[43mTable\u001b[49m\u001b[38;5;241;43m.\u001b[39;49m\u001b[43mfrom_pandas\u001b[49m\u001b[43m(\u001b[49m\u001b[43mdf\u001b[49m\u001b[43m,\u001b[49m\u001b[43m \u001b[49m\u001b[38;5;241;43m*\u001b[39;49m\u001b[38;5;241;43m*\u001b[39;49m\u001b[43mfrom_pandas_kwargs\u001b[49m\u001b[43m)\u001b[49m\n\u001b[1;32m    176\u001b[0m path_or_handle, handles, kwargs[\u001b[38;5;124m\"\u001b[39m\u001b[38;5;124mfilesystem\u001b[39m\u001b[38;5;124m\"\u001b[39m] \u001b[38;5;241m=\u001b[39m _get_path_or_handle(\n\u001b[1;32m    177\u001b[0m     path,\n\u001b[1;32m    178\u001b[0m     kwargs\u001b[38;5;241m.\u001b[39mpop(\u001b[38;5;124m\"\u001b[39m\u001b[38;5;124mfilesystem\u001b[39m\u001b[38;5;124m\"\u001b[39m, \u001b[38;5;28;01mNone\u001b[39;00m),\n\u001b[0;32m   (...)\u001b[0m\n\u001b[1;32m    181\u001b[0m     is_dir\u001b[38;5;241m=\u001b[39mpartition_cols \u001b[38;5;129;01mis\u001b[39;00m \u001b[38;5;129;01mnot\u001b[39;00m \u001b[38;5;28;01mNone\u001b[39;00m,\n\u001b[1;32m    182\u001b[0m )\n\u001b[1;32m    183\u001b[0m \u001b[38;5;28;01mtry\u001b[39;00m:\n",
      "File \u001b[0;32m~/conda_envs/webscrape/lib/python3.10/site-packages/pyarrow/table.pxi:3475\u001b[0m, in \u001b[0;36mpyarrow.lib.Table.from_pandas\u001b[0;34m()\u001b[0m\n",
      "File \u001b[0;32m~/conda_envs/webscrape/lib/python3.10/site-packages/pyarrow/pandas_compat.py:624\u001b[0m, in \u001b[0;36mdataframe_to_arrays\u001b[0;34m(df, schema, preserve_index, nthreads, columns, safe)\u001b[0m\n\u001b[1;32m    622\u001b[0m     \u001b[38;5;28;01mfor\u001b[39;00m i, maybe_fut \u001b[38;5;129;01min\u001b[39;00m \u001b[38;5;28menumerate\u001b[39m(arrays):\n\u001b[1;32m    623\u001b[0m         \u001b[38;5;28;01mif\u001b[39;00m \u001b[38;5;28misinstance\u001b[39m(maybe_fut, futures\u001b[38;5;241m.\u001b[39mFuture):\n\u001b[0;32m--> 624\u001b[0m             arrays[i] \u001b[38;5;241m=\u001b[39m \u001b[43mmaybe_fut\u001b[49m\u001b[38;5;241;43m.\u001b[39;49m\u001b[43mresult\u001b[49m\u001b[43m(\u001b[49m\u001b[43m)\u001b[49m\n\u001b[1;32m    626\u001b[0m types \u001b[38;5;241m=\u001b[39m [x\u001b[38;5;241m.\u001b[39mtype \u001b[38;5;28;01mfor\u001b[39;00m x \u001b[38;5;129;01min\u001b[39;00m arrays]\n\u001b[1;32m    628\u001b[0m \u001b[38;5;28;01mif\u001b[39;00m schema \u001b[38;5;129;01mis\u001b[39;00m \u001b[38;5;28;01mNone\u001b[39;00m:\n",
      "File \u001b[0;32m~/conda_envs/webscrape/lib/python3.10/concurrent/futures/_base.py:451\u001b[0m, in \u001b[0;36mFuture.result\u001b[0;34m(self, timeout)\u001b[0m\n\u001b[1;32m    449\u001b[0m     \u001b[38;5;28;01mraise\u001b[39;00m CancelledError()\n\u001b[1;32m    450\u001b[0m \u001b[38;5;28;01melif\u001b[39;00m \u001b[38;5;28mself\u001b[39m\u001b[38;5;241m.\u001b[39m_state \u001b[38;5;241m==\u001b[39m FINISHED:\n\u001b[0;32m--> 451\u001b[0m     \u001b[38;5;28;01mreturn\u001b[39;00m \u001b[38;5;28;43mself\u001b[39;49m\u001b[38;5;241;43m.\u001b[39;49m\u001b[43m__get_result\u001b[49m\u001b[43m(\u001b[49m\u001b[43m)\u001b[49m\n\u001b[1;32m    453\u001b[0m \u001b[38;5;28mself\u001b[39m\u001b[38;5;241m.\u001b[39m_condition\u001b[38;5;241m.\u001b[39mwait(timeout)\n\u001b[1;32m    455\u001b[0m \u001b[38;5;28;01mif\u001b[39;00m \u001b[38;5;28mself\u001b[39m\u001b[38;5;241m.\u001b[39m_state \u001b[38;5;129;01min\u001b[39;00m [CANCELLED, CANCELLED_AND_NOTIFIED]:\n",
      "File \u001b[0;32m~/conda_envs/webscrape/lib/python3.10/concurrent/futures/_base.py:403\u001b[0m, in \u001b[0;36mFuture.__get_result\u001b[0;34m(self)\u001b[0m\n\u001b[1;32m    401\u001b[0m \u001b[38;5;28;01mif\u001b[39;00m \u001b[38;5;28mself\u001b[39m\u001b[38;5;241m.\u001b[39m_exception:\n\u001b[1;32m    402\u001b[0m     \u001b[38;5;28;01mtry\u001b[39;00m:\n\u001b[0;32m--> 403\u001b[0m         \u001b[38;5;28;01mraise\u001b[39;00m \u001b[38;5;28mself\u001b[39m\u001b[38;5;241m.\u001b[39m_exception\n\u001b[1;32m    404\u001b[0m     \u001b[38;5;28;01mfinally\u001b[39;00m:\n\u001b[1;32m    405\u001b[0m         \u001b[38;5;66;03m# Break a reference cycle with the exception in self._exception\u001b[39;00m\n\u001b[1;32m    406\u001b[0m         \u001b[38;5;28mself\u001b[39m \u001b[38;5;241m=\u001b[39m \u001b[38;5;28;01mNone\u001b[39;00m\n",
      "File \u001b[0;32m~/conda_envs/webscrape/lib/python3.10/concurrent/futures/thread.py:58\u001b[0m, in \u001b[0;36m_WorkItem.run\u001b[0;34m(self)\u001b[0m\n\u001b[1;32m     55\u001b[0m     \u001b[38;5;28;01mreturn\u001b[39;00m\n\u001b[1;32m     57\u001b[0m \u001b[38;5;28;01mtry\u001b[39;00m:\n\u001b[0;32m---> 58\u001b[0m     result \u001b[38;5;241m=\u001b[39m \u001b[38;5;28;43mself\u001b[39;49m\u001b[38;5;241;43m.\u001b[39;49m\u001b[43mfn\u001b[49m\u001b[43m(\u001b[49m\u001b[38;5;241;43m*\u001b[39;49m\u001b[38;5;28;43mself\u001b[39;49m\u001b[38;5;241;43m.\u001b[39;49m\u001b[43margs\u001b[49m\u001b[43m,\u001b[49m\u001b[43m \u001b[49m\u001b[38;5;241;43m*\u001b[39;49m\u001b[38;5;241;43m*\u001b[39;49m\u001b[38;5;28;43mself\u001b[39;49m\u001b[38;5;241;43m.\u001b[39;49m\u001b[43mkwargs\u001b[49m\u001b[43m)\u001b[49m\n\u001b[1;32m     59\u001b[0m \u001b[38;5;28;01mexcept\u001b[39;00m \u001b[38;5;167;01mBaseException\u001b[39;00m \u001b[38;5;28;01mas\u001b[39;00m exc:\n\u001b[1;32m     60\u001b[0m     \u001b[38;5;28mself\u001b[39m\u001b[38;5;241m.\u001b[39mfuture\u001b[38;5;241m.\u001b[39mset_exception(exc)\n",
      "File \u001b[0;32m~/conda_envs/webscrape/lib/python3.10/site-packages/pyarrow/pandas_compat.py:598\u001b[0m, in \u001b[0;36mdataframe_to_arrays.<locals>.convert_column\u001b[0;34m(col, field)\u001b[0m\n\u001b[1;32m    593\u001b[0m \u001b[38;5;28;01mexcept\u001b[39;00m (pa\u001b[38;5;241m.\u001b[39mArrowInvalid,\n\u001b[1;32m    594\u001b[0m         pa\u001b[38;5;241m.\u001b[39mArrowNotImplementedError,\n\u001b[1;32m    595\u001b[0m         pa\u001b[38;5;241m.\u001b[39mArrowTypeError) \u001b[38;5;28;01mas\u001b[39;00m e:\n\u001b[1;32m    596\u001b[0m     e\u001b[38;5;241m.\u001b[39margs \u001b[38;5;241m+\u001b[39m\u001b[38;5;241m=\u001b[39m (\u001b[38;5;124m\"\u001b[39m\u001b[38;5;124mConversion failed for column \u001b[39m\u001b[38;5;132;01m{!s}\u001b[39;00m\u001b[38;5;124m with type \u001b[39m\u001b[38;5;132;01m{!s}\u001b[39;00m\u001b[38;5;124m\"\u001b[39m\n\u001b[1;32m    597\u001b[0m                \u001b[38;5;241m.\u001b[39mformat(col\u001b[38;5;241m.\u001b[39mname, col\u001b[38;5;241m.\u001b[39mdtype),)\n\u001b[0;32m--> 598\u001b[0m     \u001b[38;5;28;01mraise\u001b[39;00m e\n\u001b[1;32m    599\u001b[0m \u001b[38;5;28;01mif\u001b[39;00m \u001b[38;5;129;01mnot\u001b[39;00m field_nullable \u001b[38;5;129;01mand\u001b[39;00m result\u001b[38;5;241m.\u001b[39mnull_count \u001b[38;5;241m>\u001b[39m \u001b[38;5;241m0\u001b[39m:\n\u001b[1;32m    600\u001b[0m     \u001b[38;5;28;01mraise\u001b[39;00m \u001b[38;5;167;01mValueError\u001b[39;00m(\u001b[38;5;124m\"\u001b[39m\u001b[38;5;124mField \u001b[39m\u001b[38;5;132;01m{}\u001b[39;00m\u001b[38;5;124m was non-nullable but pandas column \u001b[39m\u001b[38;5;124m\"\u001b[39m\n\u001b[1;32m    601\u001b[0m                      \u001b[38;5;124m\"\u001b[39m\u001b[38;5;124mhad \u001b[39m\u001b[38;5;132;01m{}\u001b[39;00m\u001b[38;5;124m null values\u001b[39m\u001b[38;5;124m\"\u001b[39m\u001b[38;5;241m.\u001b[39mformat(\u001b[38;5;28mstr\u001b[39m(field),\n\u001b[1;32m    602\u001b[0m                                                  result\u001b[38;5;241m.\u001b[39mnull_count))\n",
      "File \u001b[0;32m~/conda_envs/webscrape/lib/python3.10/site-packages/pyarrow/pandas_compat.py:592\u001b[0m, in \u001b[0;36mdataframe_to_arrays.<locals>.convert_column\u001b[0;34m(col, field)\u001b[0m\n\u001b[1;32m    589\u001b[0m     type_ \u001b[38;5;241m=\u001b[39m field\u001b[38;5;241m.\u001b[39mtype\n\u001b[1;32m    591\u001b[0m \u001b[38;5;28;01mtry\u001b[39;00m:\n\u001b[0;32m--> 592\u001b[0m     result \u001b[38;5;241m=\u001b[39m \u001b[43mpa\u001b[49m\u001b[38;5;241;43m.\u001b[39;49m\u001b[43marray\u001b[49m\u001b[43m(\u001b[49m\u001b[43mcol\u001b[49m\u001b[43m,\u001b[49m\u001b[43m \u001b[49m\u001b[38;5;28;43mtype\u001b[39;49m\u001b[38;5;241;43m=\u001b[39;49m\u001b[43mtype_\u001b[49m\u001b[43m,\u001b[49m\u001b[43m \u001b[49m\u001b[43mfrom_pandas\u001b[49m\u001b[38;5;241;43m=\u001b[39;49m\u001b[38;5;28;43;01mTrue\u001b[39;49;00m\u001b[43m,\u001b[49m\u001b[43m \u001b[49m\u001b[43msafe\u001b[49m\u001b[38;5;241;43m=\u001b[39;49m\u001b[43msafe\u001b[49m\u001b[43m)\u001b[49m\n\u001b[1;32m    593\u001b[0m \u001b[38;5;28;01mexcept\u001b[39;00m (pa\u001b[38;5;241m.\u001b[39mArrowInvalid,\n\u001b[1;32m    594\u001b[0m         pa\u001b[38;5;241m.\u001b[39mArrowNotImplementedError,\n\u001b[1;32m    595\u001b[0m         pa\u001b[38;5;241m.\u001b[39mArrowTypeError) \u001b[38;5;28;01mas\u001b[39;00m e:\n\u001b[1;32m    596\u001b[0m     e\u001b[38;5;241m.\u001b[39margs \u001b[38;5;241m+\u001b[39m\u001b[38;5;241m=\u001b[39m (\u001b[38;5;124m\"\u001b[39m\u001b[38;5;124mConversion failed for column \u001b[39m\u001b[38;5;132;01m{!s}\u001b[39;00m\u001b[38;5;124m with type \u001b[39m\u001b[38;5;132;01m{!s}\u001b[39;00m\u001b[38;5;124m\"\u001b[39m\n\u001b[1;32m    597\u001b[0m                \u001b[38;5;241m.\u001b[39mformat(col\u001b[38;5;241m.\u001b[39mname, col\u001b[38;5;241m.\u001b[39mdtype),)\n",
      "File \u001b[0;32m~/conda_envs/webscrape/lib/python3.10/site-packages/pyarrow/array.pxi:316\u001b[0m, in \u001b[0;36mpyarrow.lib.array\u001b[0;34m()\u001b[0m\n",
      "File \u001b[0;32m~/conda_envs/webscrape/lib/python3.10/site-packages/pyarrow/array.pxi:83\u001b[0m, in \u001b[0;36mpyarrow.lib._ndarray_to_array\u001b[0;34m()\u001b[0m\n",
      "File \u001b[0;32m~/conda_envs/webscrape/lib/python3.10/site-packages/pyarrow/error.pxi:100\u001b[0m, in \u001b[0;36mpyarrow.lib.check_status\u001b[0;34m()\u001b[0m\n",
      "\u001b[0;31mArrowInvalid\u001b[0m: ('Could not convert <pyarrow.lib.StructArray object at 0x7f84a43c4d60>\\n-- is_valid: all not null\\n-- child 0 type: uint64\\n  [\\n    2133,\\n    2561,\\n    2682,\\n    3314,\\n    5577,\\n    7536,\\n    8365,\\n    9922,\\n    10036,\\n    10157,\\n    ...\\n    19791,\\n    21654,\\n    21843,\\n    22253,\\n    22628,\\n    26530,\\n    26586,\\n    26701,\\n    30672,\\n    31190\\n  ]\\n-- child 1 type: uint64\\n  [\\n    2148,\\n    2574,\\n    2690,\\n    3330,\\n    5595,\\n    7548,\\n    8381,\\n    9937,\\n    10049,\\n    10165,\\n    ...\\n    19812,\\n    21683,\\n    21878,\\n    22281,\\n    22662,\\n    26538,\\n    26594,\\n    26721,\\n    30680,\\n    31197\\n  ]\\n-- child 2 type: string\\n  [\\n    null,\\n    null,\\n    null,\\n    null,\\n    null,\\n    null,\\n    null,\\n    null,\\n    null,\\n    null,\\n    ...\\n    null,\\n    null,\\n    null,\\n    null,\\n    null,\\n    null,\\n    null,\\n    null,\\n    null,\\n    null\\n  ] with type pyarrow.lib.StructArray: did not recognize Python value type when inferring an Arrow data type', 'Conversion failed for column term_indices with type object')"
     ]
    }
   ],
   "source": [
    "test_frame.to_parquet('../data/open-stax-texts-terms.parquet', index=False)"
   ]
  },
  {
   "cell_type": "code",
   "execution_count": 37,
   "id": "6c8e85e3-7726-4e66-9d8e-a5e134161b28",
   "metadata": {},
   "outputs": [],
   "source": [
    "book_frame.to_csv('../data/open-stax-texts-terms.csv', index=False)"
   ]
  },
  {
   "cell_type": "markdown",
   "id": "e35796c1-2d1a-487f-b33a-85cde9b8f34d",
   "metadata": {},
   "source": [
    "# Descriptives\n",
    "\n",
    "\n",
    "\n",
    "|  | Value |\n",
    "|---|---|\n",
    "| textbooks | 50 |\n",
    "| sections | 4,892 |\n",
    "|Mean Word Count | 3,098 |\n",
    "|Total Keyterms (bold) | 27,930 |\n",
    "|Total Keyterms (no bold) | 18,876 |\n",
    "|Total Keyterms (total) | 46,903 |\n",
    "|Mean Keyterms (bold) | 5.71 |\n",
    "|Mean Keyterms (no bold) | 3.86 |\n",
    "|Mean Keyterms (total) | 9.6 |\n"
   ]
  },
  {
   "cell_type": "code",
   "execution_count": 1,
   "id": "96ff7587-b543-4b4a-978e-4844357b452f",
   "metadata": {},
   "outputs": [
    {
     "data": {
      "text/html": [
       "<div>\n",
       "<style scoped>\n",
       "    .dataframe tbody tr th:only-of-type {\n",
       "        vertical-align: middle;\n",
       "    }\n",
       "\n",
       "    .dataframe tbody tr th {\n",
       "        vertical-align: top;\n",
       "    }\n",
       "\n",
       "    .dataframe thead th {\n",
       "        text-align: right;\n",
       "    }\n",
       "</style>\n",
       "<table border=\"1\" class=\"dataframe\">\n",
       "  <thead>\n",
       "    <tr style=\"text-align: right;\">\n",
       "      <th></th>\n",
       "      <th>book</th>\n",
       "      <th>section</th>\n",
       "      <th>url</th>\n",
       "      <th>text</th>\n",
       "      <th>terms</th>\n",
       "      <th>term_indices</th>\n",
       "    </tr>\n",
       "  </thead>\n",
       "  <tbody>\n",
       "    <tr>\n",
       "      <th>0</th>\n",
       "      <td>algebra-and-trigonometry-2e</td>\n",
       "      <td>1-1</td>\n",
       "      <td>https://openstax.org/books/algebra-and-trigono...</td>\n",
       "      <td>Learning Objectives In this section, you will:...</td>\n",
       "      <td>[natural numbers, whole numbers, integers, rat...</td>\n",
       "      <td>[[2133, 2148], [2561, 2574], [2682, 2690], [33...</td>\n",
       "    </tr>\n",
       "    <tr>\n",
       "      <th>1</th>\n",
       "      <td>algebra-and-trigonometry-2e</td>\n",
       "      <td>1-2</td>\n",
       "      <td>https://openstax.org/books/algebra-and-trigono...</td>\n",
       "      <td>Learning Objectives In this section, you will:...</td>\n",
       "      <td>[scientific notation, scientific notation, sci...</td>\n",
       "      <td>[[23288, 23307], [24718, 24737], [26614, 26633]]</td>\n",
       "    </tr>\n",
       "    <tr>\n",
       "      <th>2</th>\n",
       "      <td>algebra-and-trigonometry-2e</td>\n",
       "      <td>1-3</td>\n",
       "      <td>https://openstax.org/books/algebra-and-trigono...</td>\n",
       "      <td>Learning Objectives In this section, you will:...</td>\n",
       "      <td>[principal square root, radical, radicand, rad...</td>\n",
       "      <td>[[1512, 1533], [1766, 1773], [1817, 1825], [18...</td>\n",
       "    </tr>\n",
       "    <tr>\n",
       "      <th>3</th>\n",
       "      <td>algebra-and-trigonometry-2e</td>\n",
       "      <td>1-4</td>\n",
       "      <td>https://openstax.org/books/algebra-and-trigono...</td>\n",
       "      <td>Learning Objectives In this section, you will:...</td>\n",
       "      <td>[polynomial, coefficient, term of a polynomial...</td>\n",
       "      <td>[[1599, 1609], [1821, 1832], [2005, 2025], [21...</td>\n",
       "    </tr>\n",
       "    <tr>\n",
       "      <th>4</th>\n",
       "      <td>algebra-and-trigonometry-2e</td>\n",
       "      <td>1-5</td>\n",
       "      <td>https://openstax.org/books/algebra-and-trigono...</td>\n",
       "      <td>Learning Objectives In this section, you will:...</td>\n",
       "      <td>[greatest common factor, greatest common facto...</td>\n",
       "      <td>[[1731, 1753], [2370, 2392], [6703, 6721]]</td>\n",
       "    </tr>\n",
       "    <tr>\n",
       "      <th>...</th>\n",
       "      <td>...</td>\n",
       "      <td>...</td>\n",
       "      <td>...</td>\n",
       "      <td>...</td>\n",
       "      <td>...</td>\n",
       "      <td>...</td>\n",
       "    </tr>\n",
       "    <tr>\n",
       "      <th>4887</th>\n",
       "      <td>principles-management</td>\n",
       "      <td>18-3</td>\n",
       "      <td>https://openstax.org/books/principles-manageme...</td>\n",
       "      <td>What are external sources of technology and in...</td>\n",
       "      <td>[Mergers/acquisitions (M&amp;A), Joint ventures, s...</td>\n",
       "      <td>[[1241, 1267], [1765, 1779], [2117, 2132], [21...</td>\n",
       "    </tr>\n",
       "    <tr>\n",
       "      <th>4888</th>\n",
       "      <td>principles-management</td>\n",
       "      <td>18-4</td>\n",
       "      <td>https://openstax.org/books/principles-manageme...</td>\n",
       "      <td>What are internal sources of technology and in...</td>\n",
       "      <td>[research and development (R&amp;D)]</td>\n",
       "      <td>[[192, 222]]</td>\n",
       "    </tr>\n",
       "    <tr>\n",
       "      <th>4889</th>\n",
       "      <td>principles-management</td>\n",
       "      <td>18-5</td>\n",
       "      <td>https://openstax.org/books/principles-manageme...</td>\n",
       "      <td>How and why do entrepreneurs need to develop M...</td>\n",
       "      <td>[Entrepreneurial activities, value proposition]</td>\n",
       "      <td>[[57, 83], [223, 240]]</td>\n",
       "    </tr>\n",
       "    <tr>\n",
       "      <th>4890</th>\n",
       "      <td>principles-management</td>\n",
       "      <td>18-6</td>\n",
       "      <td>https://openstax.org/books/principles-manageme...</td>\n",
       "      <td>No matter what method is used, what skills do ...</td>\n",
       "      <td>[Organizational learning, explicit knowledge, ...</td>\n",
       "      <td>[[1084, 1107], [1472, 1490], [1547, 1562], [50...</td>\n",
       "    </tr>\n",
       "    <tr>\n",
       "      <th>4891</th>\n",
       "      <td>principles-management</td>\n",
       "      <td>18-7</td>\n",
       "      <td>https://openstax.org/books/principles-manageme...</td>\n",
       "      <td>How do you look into the future to keep pace? ...</td>\n",
       "      <td>[]</td>\n",
       "      <td>[]</td>\n",
       "    </tr>\n",
       "  </tbody>\n",
       "</table>\n",
       "<p>4892 rows × 6 columns</p>\n",
       "</div>"
      ],
      "text/plain": [
       "                             book section  \\\n",
       "0     algebra-and-trigonometry-2e     1-1   \n",
       "1     algebra-and-trigonometry-2e     1-2   \n",
       "2     algebra-and-trigonometry-2e     1-3   \n",
       "3     algebra-and-trigonometry-2e     1-4   \n",
       "4     algebra-and-trigonometry-2e     1-5   \n",
       "...                           ...     ...   \n",
       "4887        principles-management    18-3   \n",
       "4888        principles-management    18-4   \n",
       "4889        principles-management    18-5   \n",
       "4890        principles-management    18-6   \n",
       "4891        principles-management    18-7   \n",
       "\n",
       "                                                    url  \\\n",
       "0     https://openstax.org/books/algebra-and-trigono...   \n",
       "1     https://openstax.org/books/algebra-and-trigono...   \n",
       "2     https://openstax.org/books/algebra-and-trigono...   \n",
       "3     https://openstax.org/books/algebra-and-trigono...   \n",
       "4     https://openstax.org/books/algebra-and-trigono...   \n",
       "...                                                 ...   \n",
       "4887  https://openstax.org/books/principles-manageme...   \n",
       "4888  https://openstax.org/books/principles-manageme...   \n",
       "4889  https://openstax.org/books/principles-manageme...   \n",
       "4890  https://openstax.org/books/principles-manageme...   \n",
       "4891  https://openstax.org/books/principles-manageme...   \n",
       "\n",
       "                                                   text  \\\n",
       "0     Learning Objectives In this section, you will:...   \n",
       "1     Learning Objectives In this section, you will:...   \n",
       "2     Learning Objectives In this section, you will:...   \n",
       "3     Learning Objectives In this section, you will:...   \n",
       "4     Learning Objectives In this section, you will:...   \n",
       "...                                                 ...   \n",
       "4887  What are external sources of technology and in...   \n",
       "4888  What are internal sources of technology and in...   \n",
       "4889  How and why do entrepreneurs need to develop M...   \n",
       "4890  No matter what method is used, what skills do ...   \n",
       "4891  How do you look into the future to keep pace? ...   \n",
       "\n",
       "                                                  terms  \\\n",
       "0     [natural numbers, whole numbers, integers, rat...   \n",
       "1     [scientific notation, scientific notation, sci...   \n",
       "2     [principal square root, radical, radicand, rad...   \n",
       "3     [polynomial, coefficient, term of a polynomial...   \n",
       "4     [greatest common factor, greatest common facto...   \n",
       "...                                                 ...   \n",
       "4887  [Mergers/acquisitions (M&A), Joint ventures, s...   \n",
       "4888                   [research and development (R&D)]   \n",
       "4889    [Entrepreneurial activities, value proposition]   \n",
       "4890  [Organizational learning, explicit knowledge, ...   \n",
       "4891                                                 []   \n",
       "\n",
       "                                           term_indices  \n",
       "0     [[2133, 2148], [2561, 2574], [2682, 2690], [33...  \n",
       "1      [[23288, 23307], [24718, 24737], [26614, 26633]]  \n",
       "2     [[1512, 1533], [1766, 1773], [1817, 1825], [18...  \n",
       "3     [[1599, 1609], [1821, 1832], [2005, 2025], [21...  \n",
       "4            [[1731, 1753], [2370, 2392], [6703, 6721]]  \n",
       "...                                                 ...  \n",
       "4887  [[1241, 1267], [1765, 1779], [2117, 2132], [21...  \n",
       "4888                                       [[192, 222]]  \n",
       "4889                             [[57, 83], [223, 240]]  \n",
       "4890  [[1084, 1107], [1472, 1490], [1547, 1562], [50...  \n",
       "4891                                                 []  \n",
       "\n",
       "[4892 rows x 6 columns]"
      ]
     },
     "metadata": {},
     "output_type": "display_data"
    }
   ],
   "source": [
    "import pandas as pd\n",
    "book_frame = pd.read_parquet('../data/open-stax-texts-terms.parquet')\n",
    "display(book_frame)"
   ]
  },
  {
   "cell_type": "code",
   "execution_count": 64,
   "id": "5823783c-4a65-4c3c-9de8-9088e031f4f9",
   "metadata": {},
   "outputs": [
    {
     "data": {
      "text/plain": [
       "book                 algebra-and-trigonometry-2ealgebra-and-trigono...\n",
       "section              1-11-21-31-41-51-62-12-22-32-42-52-62-73-13-23...\n",
       "terms                [natural numbers, whole numbers, integers, rat...\n",
       "no_emphasis_terms    [Pythagorean Theorem, rational number, rationa...\n",
       "term_indices         [(2133, 2148, None), (2561, 2574, None), (2682...\n",
       "word_count                                                    15154646\n",
       "num_terms_bold                                                   27930\n",
       "num_terms_no_bold                                                18876\n",
       "num_terms_total                                                  46903\n",
       "dtype: object"
      ]
     },
     "execution_count": 64,
     "metadata": {},
     "output_type": "execute_result"
    }
   ],
   "source": [
    "book_frame.assign(\n",
    "    word_count = lambda x: x.text.str.split().str.len(),\n",
    "    num_terms_bold = lambda x: x.terms.apply(len),\n",
    "    num_terms_no_bold = lambda x: x.no_emphasis_terms.apply(len),\n",
    "    num_terms_total = lambda x: x.term_indices.apply(len),\n",
    ").drop(columns=['book', 'section', 'url', 'text', 'terms', 'no_emphasis_terms', 'term_indices']).sum()\n"
   ]
  }
 ],
 "metadata": {
  "kernelspec": {
   "display_name": "Python [conda env:webscrape]",
   "language": "python",
   "name": "conda-env-webscrape-py"
  },
  "language_info": {
   "codemirror_mode": {
    "name": "ipython",
    "version": 3
   },
   "file_extension": ".py",
   "mimetype": "text/x-python",
   "name": "python",
   "nbconvert_exporter": "python",
   "pygments_lexer": "ipython3",
   "version": "3.10.8"
  }
 },
 "nbformat": 4,
 "nbformat_minor": 5
}
