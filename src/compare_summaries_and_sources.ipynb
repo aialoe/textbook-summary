{
 "cells": [
  {
   "cell_type": "code",
   "execution_count": 1,
   "id": "b2df1298-ac27-498b-aed0-963302517eb1",
   "metadata": {},
   "outputs": [],
   "source": [
    "%%capture\n",
    "from pathlib import Path\n",
    "import pandas as pd\n",
    "import numpy as np\n",
    "from datasets import Dataset\n",
    "import seaborn as sns\n",
    "from scipy import spatial\n",
    "\n",
    "!pip install SentencePiece\n"
   ]
  },
  {
   "cell_type": "markdown",
   "id": "97f25ba7-922b-4b8c-aa8b-68e4942be901",
   "metadata": {},
   "source": [
    "## Load and prepare the dataframe"
   ]
  },
  {
   "cell_type": "code",
   "execution_count": 2,
   "id": "ab578dc3-7534-43f8-b805-18b0474649a6",
   "metadata": {},
   "outputs": [],
   "source": [
    "DATA = Path.cwd().parent / 'data'\n",
    "SUMM_FOLDER = DATA / 'summaries_finetune'\n",
    "TEXT_FILES = SUMM_FOLDER / 'text_files_copy'\n",
    "SOURCE_TEXTS = SUMM_FOLDER / 'source_texts_clean'"
   ]
  },
  {
   "cell_type": "code",
   "execution_count": 3,
   "id": "2b639158-e4ca-4158-b2b1-f5f84e8e5fd0",
   "metadata": {},
   "outputs": [],
   "source": [
    "summaries_df = pd.read_csv(SUMM_FOLDER / 'final_summaries_ai_aloe_fixed.csv', index_col=False)"
   ]
  },
  {
   "cell_type": "code",
   "execution_count": 4,
   "id": "6ff53bc1-59c6-4a94-ae18-ffad2793b0c2",
   "metadata": {},
   "outputs": [
    {
     "name": "stdout",
     "output_type": "stream",
     "text": [
      "4690\n"
     ]
    }
   ],
   "source": [
    "df = summaries_df[['text', 'source', 'Main.Point', 'Details']]\n",
    "ds = Dataset.from_pandas(df.reset_index(drop=True))\n",
    "print(len(df))"
   ]
  },
  {
   "cell_type": "markdown",
   "id": "609dc179-dca0-4a08-ba27-aa065d44e1f6",
   "metadata": {},
   "source": [
    "## Run the transformer"
   ]
  },
  {
   "cell_type": "code",
   "execution_count": 5,
   "id": "854f5641-14af-411e-86f6-6e23c77450e0",
   "metadata": {},
   "outputs": [
    {
     "name": "stderr",
     "output_type": "stream",
     "text": [
      "Some weights of the model checkpoint at allenai/longformer-base-4096 were not used when initializing LongformerModel: ['lm_head.layer_norm.weight', 'lm_head.decoder.weight', 'lm_head.dense.weight', 'lm_head.bias', 'lm_head.dense.bias', 'lm_head.layer_norm.bias']\n",
      "- This IS expected if you are initializing LongformerModel from the checkpoint of a model trained on another task or with another architecture (e.g. initializing a BertForSequenceClassification model from a BertForPreTraining model).\n",
      "- This IS NOT expected if you are initializing LongformerModel from the checkpoint of a model that you expect to be exactly identical (initializing a BertForSequenceClassification model from a BertForSequenceClassification model).\n"
     ]
    }
   ],
   "source": [
    "from transformers import AutoModel, AutoTokenizer, BigBirdTokenizer, DataCollatorWithPadding\n",
    "from transformers import LongformerTokenizer\n",
    "\n",
    "import torch\n",
    "\n",
    "seed = 42\n",
    "model_name = \"allenai/longformer-base-4096\" #\"google/bigbird-roberta-base\"\n",
    "DEVICE = torch.device('cuda' if torch.cuda.is_available() else 'cpu')\n",
    "\n",
    "model = AutoModel.from_pretrained(model_name, output_hidden_states=True).to(DEVICE)\n",
    "tokenizer = LongformerTokenizer.from_pretrained(model_name, use_fast=True)\n",
    "\n"
   ]
  },
  {
   "cell_type": "code",
   "execution_count": 6,
   "id": "28b10ec6-c64b-4c5e-ae00-ca418795349d",
   "metadata": {},
   "outputs": [
    {
     "data": {
      "text/plain": [
       "device(type='cuda')"
      ]
     },
     "execution_count": 6,
     "metadata": {},
     "output_type": "execute_result"
    }
   ],
   "source": [
    "# Check the device\n",
    "DEVICE"
   ]
  },
  {
   "cell_type": "markdown",
   "id": "666cc7fd-dcfc-4b79-8bef-c54f0af50670",
   "metadata": {},
   "source": [
    "### Run the transformer operation in cuda, then detach results and compare to make list of cos similarities"
   ]
  },
  {
   "cell_type": "code",
   "execution_count": 7,
   "id": "c71190ca-a7ff-4bac-840f-3544c0ae09d3",
   "metadata": {},
   "outputs": [
    {
     "name": "stdout",
     "output_type": "stream",
     "text": [
      "4689\r"
     ]
    }
   ],
   "source": [
    "def getLastState(text):\n",
    "    tokenized_text = tokenizer(text, return_tensors='pt').to(DEVICE)\n",
    "    outputs = model(**tokenized_text)\n",
    "    return outputs.last_hidden_state[0][0]\n",
    "\n",
    "cos_similarities = []\n",
    "counter = 0\n",
    "for row in df.iterrows():\n",
    "    print(counter, end='\\r')\n",
    "    text = row[1]['text']\n",
    "    source = row[1]['source']\n",
    "    text_embedding = getLastState(text).cpu().detach().numpy()\n",
    "    source_embedding = getLastState(source).cpu().detach().numpy()\n",
    "    cos_similarities.append(1 - spatial.distance.cosine(text_embedding, source_embedding))\n",
    "    counter += 1"
   ]
  },
  {
   "cell_type": "markdown",
   "id": "2a28d09c-1702-4846-8fc5-c0b381e1faab",
   "metadata": {},
   "source": [
    "### Attach the list to the dataframe"
   ]
  },
  {
   "cell_type": "code",
   "execution_count": 8,
   "id": "332ee2d8-73f2-4efe-a5ed-f945fc698e5b",
   "metadata": {},
   "outputs": [
    {
     "name": "stderr",
     "output_type": "stream",
     "text": [
      "/tmp/ipykernel_1596/1001860385.py:1: SettingWithCopyWarning: \n",
      "A value is trying to be set on a copy of a slice from a DataFrame.\n",
      "Try using .loc[row_indexer,col_indexer] = value instead\n",
      "\n",
      "See the caveats in the documentation: https://pandas.pydata.org/pandas-docs/stable/user_guide/indexing.html#returning-a-view-versus-a-copy\n",
      "  df['cos_similarity'] = cos_similarities\n"
     ]
    },
    {
     "data": {
      "text/html": [
       "<div>\n",
       "<style scoped>\n",
       "    .dataframe tbody tr th:only-of-type {\n",
       "        vertical-align: middle;\n",
       "    }\n",
       "\n",
       "    .dataframe tbody tr th {\n",
       "        vertical-align: top;\n",
       "    }\n",
       "\n",
       "    .dataframe thead th {\n",
       "        text-align: right;\n",
       "    }\n",
       "</style>\n",
       "<table border=\"1\" class=\"dataframe\">\n",
       "  <thead>\n",
       "    <tr style=\"text-align: right;\">\n",
       "      <th></th>\n",
       "      <th>text</th>\n",
       "      <th>source</th>\n",
       "      <th>Main.Point</th>\n",
       "      <th>Details</th>\n",
       "      <th>cos_similarity</th>\n",
       "    </tr>\n",
       "  </thead>\n",
       "  <tbody>\n",
       "    <tr>\n",
       "      <th>0</th>\n",
       "      <td>hard work pays off  /  / \\n</td>\n",
       "      <td>\\nCivil service offers jobs to thousands of me...</td>\n",
       "      <td>0.5</td>\n",
       "      <td>0.5</td>\n",
       "      <td>0.993066</td>\n",
       "    </tr>\n",
       "    <tr>\n",
       "      <th>1</th>\n",
       "      <td>There will be a more petroleum  product coming...</td>\n",
       "      <td>\\nGasoline prices are getting higher and highe...</td>\n",
       "      <td>0.5</td>\n",
       "      <td>0.5</td>\n",
       "      <td>0.987460</td>\n",
       "    </tr>\n",
       "    <tr>\n",
       "      <th>2</th>\n",
       "      <td>Males have one Y chromosome and one X chromoso...</td>\n",
       "      <td>Mode of Inheritance: Sex Determination\\nRecall...</td>\n",
       "      <td>1.0</td>\n",
       "      <td>2.0</td>\n",
       "      <td>0.996559</td>\n",
       "    </tr>\n",
       "    <tr>\n",
       "      <th>3</th>\n",
       "      <td>Electromagnetic radiation with an energy and s...</td>\n",
       "      <td>Ultraviolet radiation\\n\\nUltraviolet radiation...</td>\n",
       "      <td>2.5</td>\n",
       "      <td>2.0</td>\n",
       "      <td>0.990732</td>\n",
       "    </tr>\n",
       "    <tr>\n",
       "      <th>4</th>\n",
       "      <td>It is highly recommended by doctors that peopl...</td>\n",
       "      <td>Research indicates that sufficient amounts of ...</td>\n",
       "      <td>2.5</td>\n",
       "      <td>2.0</td>\n",
       "      <td>0.991904</td>\n",
       "    </tr>\n",
       "    <tr>\n",
       "      <th>...</th>\n",
       "      <td>...</td>\n",
       "      <td>...</td>\n",
       "      <td>...</td>\n",
       "      <td>...</td>\n",
       "      <td>...</td>\n",
       "    </tr>\n",
       "    <tr>\n",
       "      <th>4685</th>\n",
       "      <td>The results from many studies indicate that vi...</td>\n",
       "      <td>Research indicates that sufficient amounts of ...</td>\n",
       "      <td>2.5</td>\n",
       "      <td>2.0</td>\n",
       "      <td>0.996139</td>\n",
       "    </tr>\n",
       "    <tr>\n",
       "      <th>4686</th>\n",
       "      <td>People are being advised to spend less time in...</td>\n",
       "      <td>The sun counteracts cancer\\n\\nSunrays that hit...</td>\n",
       "      <td>2.5</td>\n",
       "      <td>2.0</td>\n",
       "      <td>0.996726</td>\n",
       "    </tr>\n",
       "    <tr>\n",
       "      <th>4687</th>\n",
       "      <td>We are thus in a situation where people are re...</td>\n",
       "      <td>Sunbathing causes cancer \\n\\nBy Alex McFadden,...</td>\n",
       "      <td>2.5</td>\n",
       "      <td>2.5</td>\n",
       "      <td>0.995225</td>\n",
       "    </tr>\n",
       "    <tr>\n",
       "      <th>4688</th>\n",
       "      <td>There are two types of cancers, melanoma and b...</td>\n",
       "      <td>American Cancer Society\\n\\n \\n\\nUV radiation a...</td>\n",
       "      <td>2.5</td>\n",
       "      <td>3.0</td>\n",
       "      <td>0.992790</td>\n",
       "    </tr>\n",
       "    <tr>\n",
       "      <th>4689</th>\n",
       "      <td>Tnning beds can damage are DNA. The damage to ...</td>\n",
       "      <td>American Cancer Society\\n\\n \\n\\nUV radiation a...</td>\n",
       "      <td>2.5</td>\n",
       "      <td>2.5</td>\n",
       "      <td>0.994052</td>\n",
       "    </tr>\n",
       "  </tbody>\n",
       "</table>\n",
       "<p>4690 rows × 5 columns</p>\n",
       "</div>"
      ],
      "text/plain": [
       "                                                   text  \\\n",
       "0                           hard work pays off  /  / \\n   \n",
       "1     There will be a more petroleum  product coming...   \n",
       "2     Males have one Y chromosome and one X chromoso...   \n",
       "3     Electromagnetic radiation with an energy and s...   \n",
       "4     It is highly recommended by doctors that peopl...   \n",
       "...                                                 ...   \n",
       "4685  The results from many studies indicate that vi...   \n",
       "4686  People are being advised to spend less time in...   \n",
       "4687  We are thus in a situation where people are re...   \n",
       "4688  There are two types of cancers, melanoma and b...   \n",
       "4689  Tnning beds can damage are DNA. The damage to ...   \n",
       "\n",
       "                                                 source  Main.Point  Details  \\\n",
       "0     \\nCivil service offers jobs to thousands of me...         0.5      0.5   \n",
       "1     \\nGasoline prices are getting higher and highe...         0.5      0.5   \n",
       "2     Mode of Inheritance: Sex Determination\\nRecall...         1.0      2.0   \n",
       "3     Ultraviolet radiation\\n\\nUltraviolet radiation...         2.5      2.0   \n",
       "4     Research indicates that sufficient amounts of ...         2.5      2.0   \n",
       "...                                                 ...         ...      ...   \n",
       "4685  Research indicates that sufficient amounts of ...         2.5      2.0   \n",
       "4686  The sun counteracts cancer\\n\\nSunrays that hit...         2.5      2.0   \n",
       "4687  Sunbathing causes cancer \\n\\nBy Alex McFadden,...         2.5      2.5   \n",
       "4688  American Cancer Society\\n\\n \\n\\nUV radiation a...         2.5      3.0   \n",
       "4689  American Cancer Society\\n\\n \\n\\nUV radiation a...         2.5      2.5   \n",
       "\n",
       "      cos_similarity  \n",
       "0           0.993066  \n",
       "1           0.987460  \n",
       "2           0.996559  \n",
       "3           0.990732  \n",
       "4           0.991904  \n",
       "...              ...  \n",
       "4685        0.996139  \n",
       "4686        0.996726  \n",
       "4687        0.995225  \n",
       "4688        0.992790  \n",
       "4689        0.994052  \n",
       "\n",
       "[4690 rows x 5 columns]"
      ]
     },
     "execution_count": 8,
     "metadata": {},
     "output_type": "execute_result"
    }
   ],
   "source": [
    "df['cos_similarity'] = cos_similarities\n",
    "df"
   ]
  },
  {
   "cell_type": "code",
   "execution_count": 9,
   "id": "aab0d275-a566-444e-804a-e821be1514f8",
   "metadata": {},
   "outputs": [],
   "source": [
    "# def get_doc_embed(dataset, source=None):\n",
    "#     # make sure the correct source (prompt/text) is tokenized\n",
    "#     tokenization = lambda x: tokenizer(x[source], padding=True, return_tensors='pt').to(DEVICE)\n",
    "\n",
    "#     dataset = dataset.map(tokenization, batched=True)\n",
    "#     dataset = dataset.with_format('torch',\n",
    "#                                   columns=['input_ids', 'attention_mask'],\n",
    "#                                   device=DEVICE)\n",
    "    \n",
    "#     # load data efficiently\n",
    "#     loader = torch.utils.data.DataLoader(dataset,\n",
    "#                                          batch_size=16,\n",
    "#                                          collate_fn=data_collator)\n",
    "    \n",
    "#     features = np.empty([0,768])\n",
    "#     for batch in tqdm(loader):\n",
    "#         batch = {k: v.to(DEVICE) for k, v in batch.items()}\n",
    "#         with torch.no_grad():\n",
    "#             cls_tok = model(batch['input_ids'],\n",
    "#                             batch['attention_mask']).last_hidden_state[:,0,:]\n",
    "#             features = np.vstack((features,\n",
    "#                                   cls_tok.cpu().numpy()))\n",
    "            \n",
    "#     return features"
   ]
  },
  {
   "cell_type": "code",
   "execution_count": 10,
   "id": "ced662d6-6f37-40f4-b095-7cc99b96902b",
   "metadata": {},
   "outputs": [],
   "source": [
    "# ds_sample = ds#.shuffle().select(range(100))\n",
    "\n",
    "# prompt_embeds = get_doc_embed(ds_sample, source='prompt')\n",
    "# text_embeds = get_doc_embed(ds_sample, source='text')"
   ]
  },
  {
   "cell_type": "code",
   "execution_count": 11,
   "id": "a1cde063-e861-493d-8a37-e72f5a274603",
   "metadata": {},
   "outputs": [],
   "source": [
    "# from scipy import spatial\n",
    "# cos_similarities = []\n",
    "# for text_embed, prompt_embed in zip(text_embeds, prompt_embeds):\n",
    "#     cos_similarities.append(1 - spatial.distance.cosine(text_embed, prompt_embed))"
   ]
  },
  {
   "cell_type": "code",
   "execution_count": 12,
   "id": "2272b644-20ab-4274-827d-f4e1fe12ed11",
   "metadata": {},
   "outputs": [],
   "source": [
    "# summaries_df['cos_similarity'] = pd.Series(cos_similarities)"
   ]
  },
  {
   "cell_type": "code",
   "execution_count": 13,
   "id": "4c13f649-d7d8-49d8-8bde-527588a45ae1",
   "metadata": {},
   "outputs": [],
   "source": [
    "# from scipy import spatial\n",
    "\n",
    "# def getSimilarity(df):\n",
    "#     text_embedding = getLastState(ds['text']).detach().numpy()\n",
    "#     prompt_embedding = getLastState(df['prompt']).detach().numpy()\n",
    "#     return 1 - spatial.distance.cosine(text_embedding, prompt_embedding)\n",
    "\n",
    "# df['cos_similarity'] = df.apply(lambda x: getSimilarity(x), axis = 1)"
   ]
  },
  {
   "cell_type": "markdown",
   "id": "2f7ee1c1-6aee-4bb0-9580-dca2f1e02b93",
   "metadata": {},
   "source": [
    "## Examine the Results"
   ]
  },
  {
   "cell_type": "code",
   "execution_count": 14,
   "id": "d91f811f-76f7-4ab5-9326-5b9ad467b116",
   "metadata": {},
   "outputs": [
    {
     "name": "stdout",
     "output_type": "stream",
     "text": [
      "Correlation with number of words:\n",
      "                 cos_similarity  num_words\n",
      "cos_similarity        1.000000   0.347158\n",
      "num_words             0.347158   1.000000 \n",
      "\n",
      "Correlation with main point:\n",
      "                 cos_similarity  Main.Point\n",
      "cos_similarity        1.000000    0.390716\n",
      "Main.Point            0.390716    1.000000 \n",
      "\n",
      "Correlation with details:\n",
      "                 cos_similarity   Details\n",
      "cos_similarity        1.000000  0.426577\n",
      "Details               0.426577  1.000000 \n",
      "\n"
     ]
    },
    {
     "name": "stderr",
     "output_type": "stream",
     "text": [
      "/tmp/ipykernel_1596/2987149325.py:2: SettingWithCopyWarning: \n",
      "A value is trying to be set on a copy of a slice from a DataFrame.\n",
      "Try using .loc[row_indexer,col_indexer] = value instead\n",
      "\n",
      "See the caveats in the documentation: https://pandas.pydata.org/pandas-docs/stable/user_guide/indexing.html#returning-a-view-versus-a-copy\n",
      "  df['num_words'] = df['text'].apply(lambda x: len(x.split()))\n"
     ]
    }
   ],
   "source": [
    "# Get number of words\n",
    "df['num_words'] = df['text'].apply(lambda x: len(x.split()))\n",
    "\n",
    "# Adjust the window for cosine similarity\n",
    "min_similarity = 0\n",
    "max_similarity = 1\n",
    "df1 = df[df['cos_similarity'] > min_similarity]\n",
    "df1 = df1[df1['cos_similarity'] < max_similarity]\n",
    "\n",
    "print('Correlation with number of words:\\n', df1[['cos_similarity', 'num_words']].corr(), '\\n')\n",
    "print('Correlation with main point:\\n', df1[['cos_similarity', 'Main.Point']].corr(), '\\n')\n",
    "print('Correlation with details:\\n', df1[['cos_similarity', 'Details']].corr(), '\\n')"
   ]
  },
  {
   "cell_type": "markdown",
   "id": "5112ce73-7bfc-494c-b5e1-7ddc6ace3f75",
   "metadata": {},
   "source": [
    "### Chart the correlation between cosine similarity and score"
   ]
  },
  {
   "cell_type": "code",
   "execution_count": 15,
   "id": "5f26a0ab-a13a-4a84-b0ac-1d4579b150a4",
   "metadata": {},
   "outputs": [
    {
     "name": "stdout",
     "output_type": "stream",
     "text": [
      "                cos_similarity  Main.Point\n",
      "cos_similarity        1.000000    0.390716\n",
      "Main.Point            0.390716    1.000000\n"
     ]
    },
    {
     "data": {
      "image/png": "[encoded data removed]",
      "text/plain": [
       "<Figure size 720x288 with 2 Axes>"
      ]
     },
     "metadata": {
      "needs_background": "light"
     },
     "output_type": "display_data"
    }
   ],
   "source": [
    "import seaborn as sns\n",
    "from matplotlib import pyplot as plt\n",
    "\n",
    "print(df1[df1['cos_similarity'] > 0][['cos_similarity', 'Main.Point']].corr())\n",
    "\n",
    "fig, axs = plt.subplots(ncols=2)\n",
    "fig.set_figwidth(10)\n",
    "\n",
    "sns.regplot(data=df1[df1['cos_similarity'] > 0], x='cos_similarity', y='Main.Point', ax = axs[0])\n",
    "#plt.title('Correlation between Cosine Similarity and Main Point')\n",
    "plt.ylabel('Main Point')\n",
    "plt.xlabel('Cosine Similarity')\n",
    "axs[0].set_title('Cosine Similarity and Main Point')\n",
    "\n",
    "sns.regplot(data=df1, x='cos_similarity', y='Details', ax = axs[1])\n",
    "#plt.title('Correlation between Cosine Similarity and Details')\n",
    "plt.ylabel('Details')\n",
    "plt.xlabel('Cosine Similarity')\n",
    "axs[1].set_title('Cosine Similarity and Details')\n",
    "plt.show()\n"
   ]
  },
  {
   "cell_type": "code",
   "execution_count": 16,
   "id": "680f3a0d-b0b8-4b9e-96e8-36d0cd7eadd6",
   "metadata": {},
   "outputs": [
    {
     "data": {
      "text/plain": [
       "Text(0.5, 1.0, 'Histogram of Cosine Similarity')"
      ]
     },
     "execution_count": 16,
     "metadata": {},
     "output_type": "execute_result"
    },
    {
     "data": {
      "image/png": "[encoded data removed]",
      "text/plain": [
       "<Figure size 432x288 with 1 Axes>"
      ]
     },
     "metadata": {
      "needs_background": "light"
     },
     "output_type": "display_data"
    }
   ],
   "source": [
    "sns.histplot(data=df1, x='cos_similarity')\n",
    "plt.title('Histogram of Cosine Similarity')"
   ]
  },
  {
   "cell_type": "markdown",
   "id": "e0fb338f-a5b3-430a-a069-3c1dae370681",
   "metadata": {},
   "source": [
    "### Examine the texts themselves"
   ]
  },
  {
   "cell_type": "code",
   "execution_count": 29,
   "id": "18283bd6-561e-445d-8682-a2034c495b57",
   "metadata": {},
   "outputs": [
    {
     "name": "stdout",
     "output_type": "stream",
     "text": [
      "4690\n",
      "SUMMARY 7 - SIMILARITY TO SOURCE: 0.9846436381340027 \n",
      "American cancer society of an UV radiation cancer divide and damage. cancer types skin cancer based cell. |Uv radiation is an comman skin care statements UV occurs in the primary sun light. it is an tanning bed get an tan to the outdoor headwear UV protection direction. Offen the sun glass of the such sun glass damages accumate over the years childern\n",
      "\n"
     ]
    }
   ],
   "source": [
    "\n",
    "print(len(df1))\n",
    "df1_sorted = df1.sort_values(by='cos_similarity').reset_index()\n",
    "\n",
    "i = 7\n",
    "\n",
    "text = df1_sorted.iloc[i]['text']\n",
    "sim = df1_sorted.iloc[i]['cos_similarity']\n",
    "print('SUMMARY', i, '- SIMILARITY TO SOURCE:', sim, '\\n' + text)"
   ]
  }
 ],
 "metadata": {
  "kernelspec": {
   "display_name": "Python [conda env:root] *",
   "language": "python",
   "name": "conda-root-py"
  },
  "language_info": {
   "codemirror_mode": {
    "name": "ipython",
    "version": 3
   },
   "file_extension": ".py",
   "mimetype": "text/x-python",
   "name": "python",
   "nbconvert_exporter": "python",
   "pygments_lexer": "ipython3",
   "version": "3.10.5"
  }
 },
 "nbformat": 4,
 "nbformat_minor": 5
}
