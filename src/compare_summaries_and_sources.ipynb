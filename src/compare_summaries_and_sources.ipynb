{
 "cells": [
  {
   "cell_type": "code",
   "execution_count": 6,
   "id": "b2df1298-ac27-498b-aed0-963302517eb1",
   "metadata": {},
   "outputs": [],
   "source": [
    "%%capture\n",
    "from pathlib import Path\n",
    "import pandas as pd\n",
    "import numpy as np\n",
    "from datasets import Dataset"
   ]
  },
  {
   "cell_type": "code",
   "execution_count": 7,
   "id": "ab578dc3-7534-43f8-b805-18b0474649a6",
   "metadata": {},
   "outputs": [],
   "source": [
    "DATA = Path.cwd().parent / 'data'\n",
    "SUMM_FOLDER = DATA / 'summaries_finetune'\n",
    "TEXT_FILES = SUMM_FOLDER / 'text_files_copy'\n",
    "SOURCE_TEXTS = SUMM_FOLDER / 'source_texts_clean'"
   ]
  },
  {
   "cell_type": "code",
   "execution_count": 8,
   "id": "2b639158-e4ca-4158-b2b1-f5f84e8e5fd0",
   "metadata": {},
   "outputs": [],
   "source": [
    "summaries_df = pd.read_csv(SUMM_FOLDER / 'final_summaries_ai_aloe_fixed.csv', index_col=False)"
   ]
  },
  {
   "cell_type": "code",
   "execution_count": 12,
   "id": "c0be614c-1b87-4951-888b-e04bfc557ac8",
   "metadata": {},
   "outputs": [],
   "source": [
    "df = summaries_df[['text', 'prompt', 'content_pca', 'paraphrase_pca']]\n",
    "ds = Dataset.from_pandas(df.reset_index(drop=True))\n"
   ]
  },
  {
   "cell_type": "code",
   "execution_count": 10,
   "id": "854f5641-14af-411e-86f6-6e23c77450e0",
   "metadata": {},
   "outputs": [
    {
     "name": "stderr",
     "output_type": "stream",
     "text": [
      "Some weights of the model checkpoint at google/bigbird-roberta-base were not used when initializing BigBirdModel: ['cls.seq_relationship.bias', 'cls.predictions.transform.dense.weight', 'cls.predictions.transform.LayerNorm.bias', 'cls.predictions.decoder.bias', 'cls.predictions.bias', 'cls.predictions.transform.LayerNorm.weight', 'cls.seq_relationship.weight', 'cls.predictions.decoder.weight', 'cls.predictions.transform.dense.bias']\n",
      "- This IS expected if you are initializing BigBirdModel from the checkpoint of a model trained on another task or with another architecture (e.g. initializing a BertForSequenceClassification model from a BertForPreTraining model).\n",
      "- This IS NOT expected if you are initializing BigBirdModel from the checkpoint of a model that you expect to be exactly identical (initializing a BertForSequenceClassification model from a BertForSequenceClassification model).\n"
     ]
    }
   ],
   "source": [
    "from transformers import AutoModel, BigBirdTokenizer, DataCollatorWithPadding\n",
    "import torch\n",
    "\n",
    "seed = 42\n",
    "model_name = \"google/bigbird-roberta-base\"\n",
    "DEVICE = torch.device('cuda' if torch.cuda.is_available() else 'cpu')\n",
    "\n",
    "model = AutoModel.from_pretrained(model_name).to(DEVICE)\n",
    "tokenizer = BigBirdTokenizer.from_pretrained(model_name)\n",
    "\n",
    "def getLastState(text):\n",
    "    tokenized_text = tokenizer(text, return_tensors='pt').to(DEVICE)\n",
    "    outputs = model(**tokenized_text)\n",
    "    return outputs.last_hidden_state[0][0]"
   ]
  },
  {
   "cell_type": "code",
   "execution_count": null,
   "id": "6846842c-9088-4807-96cc-c8996d0c3b9b",
   "metadata": {},
   "outputs": [],
   "source": [
    "def get_doc_embed(dataset):\n",
    "    loader = torch.utils.data.DataLoader(dataset, batch_size=BATCH_SIZE)\n",
    "    features = np.empty([0,768])\n",
    "    for batch in tqdm(loader):\n",
    "        with torch.no_grad():\n",
    "            cls_tok = model(batch['input_ids'],\n",
    "                            batch['attention_mask'])['hidden_states'][-1][:,0,:]\n",
    "            features = np.vstack((features,\n",
    "                                  cls_tok.cpu().numpy()))\n",
    "    print(features.shape)\n",
    "    \n",
    "    outdf = dataset.to_pandas().rename(\n",
    "        columns={\n",
    "            'Prompt': 'prompt',\n",
    "            'Participant': 'id',\n",
    "        }\n",
    "    )[[\n",
    "        'Filename',\n",
    "        'id',\n",
    "        'prompt',\n",
    "        'VST',\n",
    "        'label',\n",
    "    ]]\n",
    "    \n",
    "    outdf['is_test'] = is_test\n",
    "    \n",
    "    return pd.concat([outdf, pd.DataFrame(features)], axis='columns')"
   ]
  },
  {
   "cell_type": "code",
   "execution_count": 6,
   "id": "4c13f649-d7d8-49d8-8bde-527588a45ae1",
   "metadata": {},
   "outputs": [
    {
     "name": "stderr",
     "output_type": "stream",
     "text": [
      "Attention type 'block_sparse' is not possible if sequence_length: 10 <= num global tokens: 2 * config.block_size + min. num sliding tokens: 3 * config.block_size + config.num_random_blocks * config.block_size + additional buffer: config.num_random_blocks * config.block_size = 704 with config.block_size = 64, config.num_random_blocks = 3. Changing attention type to 'original_full'...\n"
     ]
    },
    {
     "ename": "TypeError",
     "evalue": "can't convert cuda:0 device type tensor to numpy. Use Tensor.cpu() to copy the tensor to host memory first.",
     "output_type": "error",
     "traceback": [
      "\u001b[0;31m---------------------------------------------------------------------------\u001b[0m",
      "\u001b[0;31mTypeError\u001b[0m                                 Traceback (most recent call last)",
      "Input \u001b[0;32mIn [6]\u001b[0m, in \u001b[0;36m<cell line: 8>\u001b[0;34m()\u001b[0m\n\u001b[1;32m      5\u001b[0m     prompt_embedding \u001b[38;5;241m=\u001b[39m getLastState(df[\u001b[38;5;124m'\u001b[39m\u001b[38;5;124mprompt\u001b[39m\u001b[38;5;124m'\u001b[39m])\u001b[38;5;241m.\u001b[39mdetach()\u001b[38;5;241m.\u001b[39mnumpy()\n\u001b[1;32m      6\u001b[0m     \u001b[38;5;28;01mreturn\u001b[39;00m \u001b[38;5;241m1\u001b[39m \u001b[38;5;241m-\u001b[39m spatial\u001b[38;5;241m.\u001b[39mdistance\u001b[38;5;241m.\u001b[39mcosine(text_embedding, prompt_embedding)\n\u001b[0;32m----> 8\u001b[0m df[\u001b[38;5;124m'\u001b[39m\u001b[38;5;124mcos_similarity\u001b[39m\u001b[38;5;124m'\u001b[39m] \u001b[38;5;241m=\u001b[39m \u001b[43mdf\u001b[49m\u001b[38;5;241;43m.\u001b[39;49m\u001b[43mapply\u001b[49m\u001b[43m(\u001b[49m\u001b[38;5;28;43;01mlambda\u001b[39;49;00m\u001b[43m \u001b[49m\u001b[43mx\u001b[49m\u001b[43m:\u001b[49m\u001b[43m \u001b[49m\u001b[43mgetSimilarity\u001b[49m\u001b[43m(\u001b[49m\u001b[43mx\u001b[49m\u001b[43m)\u001b[49m\u001b[43m,\u001b[49m\u001b[43m \u001b[49m\u001b[43maxis\u001b[49m\u001b[43m \u001b[49m\u001b[38;5;241;43m=\u001b[39;49m\u001b[43m \u001b[49m\u001b[38;5;241;43m1\u001b[39;49m\u001b[43m)\u001b[49m\n",
      "File \u001b[0;32m/opt/conda/lib/python3.10/site-packages/pandas/core/frame.py:8839\u001b[0m, in \u001b[0;36mDataFrame.apply\u001b[0;34m(self, func, axis, raw, result_type, args, **kwargs)\u001b[0m\n\u001b[1;32m   8828\u001b[0m \u001b[38;5;28;01mfrom\u001b[39;00m \u001b[38;5;21;01mpandas\u001b[39;00m\u001b[38;5;21;01m.\u001b[39;00m\u001b[38;5;21;01mcore\u001b[39;00m\u001b[38;5;21;01m.\u001b[39;00m\u001b[38;5;21;01mapply\u001b[39;00m \u001b[38;5;28;01mimport\u001b[39;00m frame_apply\n\u001b[1;32m   8830\u001b[0m op \u001b[38;5;241m=\u001b[39m frame_apply(\n\u001b[1;32m   8831\u001b[0m     \u001b[38;5;28mself\u001b[39m,\n\u001b[1;32m   8832\u001b[0m     func\u001b[38;5;241m=\u001b[39mfunc,\n\u001b[0;32m   (...)\u001b[0m\n\u001b[1;32m   8837\u001b[0m     kwargs\u001b[38;5;241m=\u001b[39mkwargs,\n\u001b[1;32m   8838\u001b[0m )\n\u001b[0;32m-> 8839\u001b[0m \u001b[38;5;28;01mreturn\u001b[39;00m \u001b[43mop\u001b[49m\u001b[38;5;241;43m.\u001b[39;49m\u001b[43mapply\u001b[49m\u001b[43m(\u001b[49m\u001b[43m)\u001b[49m\u001b[38;5;241m.\u001b[39m__finalize__(\u001b[38;5;28mself\u001b[39m, method\u001b[38;5;241m=\u001b[39m\u001b[38;5;124m\"\u001b[39m\u001b[38;5;124mapply\u001b[39m\u001b[38;5;124m\"\u001b[39m)\n",
      "File \u001b[0;32m/opt/conda/lib/python3.10/site-packages/pandas/core/apply.py:727\u001b[0m, in \u001b[0;36mFrameApply.apply\u001b[0;34m(self)\u001b[0m\n\u001b[1;32m    724\u001b[0m \u001b[38;5;28;01melif\u001b[39;00m \u001b[38;5;28mself\u001b[39m\u001b[38;5;241m.\u001b[39mraw:\n\u001b[1;32m    725\u001b[0m     \u001b[38;5;28;01mreturn\u001b[39;00m \u001b[38;5;28mself\u001b[39m\u001b[38;5;241m.\u001b[39mapply_raw()\n\u001b[0;32m--> 727\u001b[0m \u001b[38;5;28;01mreturn\u001b[39;00m \u001b[38;5;28;43mself\u001b[39;49m\u001b[38;5;241;43m.\u001b[39;49m\u001b[43mapply_standard\u001b[49m\u001b[43m(\u001b[49m\u001b[43m)\u001b[49m\n",
      "File \u001b[0;32m/opt/conda/lib/python3.10/site-packages/pandas/core/apply.py:851\u001b[0m, in \u001b[0;36mFrameApply.apply_standard\u001b[0;34m(self)\u001b[0m\n\u001b[1;32m    850\u001b[0m \u001b[38;5;28;01mdef\u001b[39;00m \u001b[38;5;21mapply_standard\u001b[39m(\u001b[38;5;28mself\u001b[39m):\n\u001b[0;32m--> 851\u001b[0m     results, res_index \u001b[38;5;241m=\u001b[39m \u001b[38;5;28;43mself\u001b[39;49m\u001b[38;5;241;43m.\u001b[39;49m\u001b[43mapply_series_generator\u001b[49m\u001b[43m(\u001b[49m\u001b[43m)\u001b[49m\n\u001b[1;32m    853\u001b[0m     \u001b[38;5;66;03m# wrap results\u001b[39;00m\n\u001b[1;32m    854\u001b[0m     \u001b[38;5;28;01mreturn\u001b[39;00m \u001b[38;5;28mself\u001b[39m\u001b[38;5;241m.\u001b[39mwrap_results(results, res_index)\n",
      "File \u001b[0;32m/opt/conda/lib/python3.10/site-packages/pandas/core/apply.py:867\u001b[0m, in \u001b[0;36mFrameApply.apply_series_generator\u001b[0;34m(self)\u001b[0m\n\u001b[1;32m    864\u001b[0m \u001b[38;5;28;01mwith\u001b[39;00m option_context(\u001b[38;5;124m\"\u001b[39m\u001b[38;5;124mmode.chained_assignment\u001b[39m\u001b[38;5;124m\"\u001b[39m, \u001b[38;5;28;01mNone\u001b[39;00m):\n\u001b[1;32m    865\u001b[0m     \u001b[38;5;28;01mfor\u001b[39;00m i, v \u001b[38;5;129;01min\u001b[39;00m \u001b[38;5;28menumerate\u001b[39m(series_gen):\n\u001b[1;32m    866\u001b[0m         \u001b[38;5;66;03m# ignore SettingWithCopy here in case the user mutates\u001b[39;00m\n\u001b[0;32m--> 867\u001b[0m         results[i] \u001b[38;5;241m=\u001b[39m \u001b[38;5;28;43mself\u001b[39;49m\u001b[38;5;241;43m.\u001b[39;49m\u001b[43mf\u001b[49m\u001b[43m(\u001b[49m\u001b[43mv\u001b[49m\u001b[43m)\u001b[49m\n\u001b[1;32m    868\u001b[0m         \u001b[38;5;28;01mif\u001b[39;00m \u001b[38;5;28misinstance\u001b[39m(results[i], ABCSeries):\n\u001b[1;32m    869\u001b[0m             \u001b[38;5;66;03m# If we have a view on v, we need to make a copy because\u001b[39;00m\n\u001b[1;32m    870\u001b[0m             \u001b[38;5;66;03m#  series_generator will swap out the underlying data\u001b[39;00m\n\u001b[1;32m    871\u001b[0m             results[i] \u001b[38;5;241m=\u001b[39m results[i]\u001b[38;5;241m.\u001b[39mcopy(deep\u001b[38;5;241m=\u001b[39m\u001b[38;5;28;01mFalse\u001b[39;00m)\n",
      "Input \u001b[0;32mIn [6]\u001b[0m, in \u001b[0;36m<lambda>\u001b[0;34m(x)\u001b[0m\n\u001b[1;32m      5\u001b[0m     prompt_embedding \u001b[38;5;241m=\u001b[39m getLastState(df[\u001b[38;5;124m'\u001b[39m\u001b[38;5;124mprompt\u001b[39m\u001b[38;5;124m'\u001b[39m])\u001b[38;5;241m.\u001b[39mdetach()\u001b[38;5;241m.\u001b[39mnumpy()\n\u001b[1;32m      6\u001b[0m     \u001b[38;5;28;01mreturn\u001b[39;00m \u001b[38;5;241m1\u001b[39m \u001b[38;5;241m-\u001b[39m spatial\u001b[38;5;241m.\u001b[39mdistance\u001b[38;5;241m.\u001b[39mcosine(text_embedding, prompt_embedding)\n\u001b[0;32m----> 8\u001b[0m df[\u001b[38;5;124m'\u001b[39m\u001b[38;5;124mcos_similarity\u001b[39m\u001b[38;5;124m'\u001b[39m] \u001b[38;5;241m=\u001b[39m df\u001b[38;5;241m.\u001b[39mapply(\u001b[38;5;28;01mlambda\u001b[39;00m x: \u001b[43mgetSimilarity\u001b[49m\u001b[43m(\u001b[49m\u001b[43mx\u001b[49m\u001b[43m)\u001b[49m, axis \u001b[38;5;241m=\u001b[39m \u001b[38;5;241m1\u001b[39m)\n",
      "Input \u001b[0;32mIn [6]\u001b[0m, in \u001b[0;36mgetSimilarity\u001b[0;34m(df)\u001b[0m\n\u001b[1;32m      3\u001b[0m \u001b[38;5;28;01mdef\u001b[39;00m \u001b[38;5;21mgetSimilarity\u001b[39m(df):\n\u001b[0;32m----> 4\u001b[0m     text_embedding \u001b[38;5;241m=\u001b[39m \u001b[43mgetLastState\u001b[49m\u001b[43m(\u001b[49m\u001b[43mdf\u001b[49m\u001b[43m[\u001b[49m\u001b[38;5;124;43m'\u001b[39;49m\u001b[38;5;124;43mtext\u001b[39;49m\u001b[38;5;124;43m'\u001b[39;49m\u001b[43m]\u001b[49m\u001b[43m)\u001b[49m\u001b[38;5;241;43m.\u001b[39;49m\u001b[43mdetach\u001b[49m\u001b[43m(\u001b[49m\u001b[43m)\u001b[49m\u001b[38;5;241;43m.\u001b[39;49m\u001b[43mnumpy\u001b[49m\u001b[43m(\u001b[49m\u001b[43m)\u001b[49m\n\u001b[1;32m      5\u001b[0m     prompt_embedding \u001b[38;5;241m=\u001b[39m getLastState(df[\u001b[38;5;124m'\u001b[39m\u001b[38;5;124mprompt\u001b[39m\u001b[38;5;124m'\u001b[39m])\u001b[38;5;241m.\u001b[39mdetach()\u001b[38;5;241m.\u001b[39mnumpy()\n\u001b[1;32m      6\u001b[0m     \u001b[38;5;28;01mreturn\u001b[39;00m \u001b[38;5;241m1\u001b[39m \u001b[38;5;241m-\u001b[39m spatial\u001b[38;5;241m.\u001b[39mdistance\u001b[38;5;241m.\u001b[39mcosine(text_embedding, prompt_embedding)\n",
      "\u001b[0;31mTypeError\u001b[0m: can't convert cuda:0 device type tensor to numpy. Use Tensor.cpu() to copy the tensor to host memory first."
     ]
    }
   ],
   "source": [
    "from scipy import spatial\n",
    "\n",
    "def getSimilarity(df):\n",
    "    text_embedding = getLastState(ds['text']).detach().numpy()\n",
    "    prompt_embedding = getLastState(df['prompt']).detach().numpy()\n",
    "    return 1 - spatial.distance.cosine(text_embedding, prompt_embedding)\n",
    "\n",
    "df['cos_similarity'] = df.apply(lambda x: getSimilarity(x), axis = 1)"
   ]
  },
  {
   "cell_type": "code",
   "execution_count": 36,
   "id": "75bdcaa4-278f-4a98-bde8-7567a9bc39c7",
   "metadata": {},
   "outputs": [
    {
     "data": {
      "text/html": [
       "<div>\n",
       "<style scoped>\n",
       "    .dataframe tbody tr th:only-of-type {\n",
       "        vertical-align: middle;\n",
       "    }\n",
       "\n",
       "    .dataframe tbody tr th {\n",
       "        vertical-align: top;\n",
       "    }\n",
       "\n",
       "    .dataframe thead th {\n",
       "        text-align: right;\n",
       "    }\n",
       "</style>\n",
       "<table border=\"1\" class=\"dataframe\">\n",
       "  <thead>\n",
       "    <tr style=\"text-align: right;\">\n",
       "      <th></th>\n",
       "      <th>cos_similarity</th>\n",
       "      <th>paraphrase_pca</th>\n",
       "    </tr>\n",
       "  </thead>\n",
       "  <tbody>\n",
       "    <tr>\n",
       "      <th>cos_similarity</th>\n",
       "      <td>1.000000</td>\n",
       "      <td>0.205329</td>\n",
       "    </tr>\n",
       "    <tr>\n",
       "      <th>paraphrase_pca</th>\n",
       "      <td>0.205329</td>\n",
       "      <td>1.000000</td>\n",
       "    </tr>\n",
       "  </tbody>\n",
       "</table>\n",
       "</div>"
      ],
      "text/plain": [
       "                cos_similarity  paraphrase_pca\n",
       "cos_similarity        1.000000        0.205329\n",
       "paraphrase_pca        0.205329        1.000000"
      ]
     },
     "execution_count": 36,
     "metadata": {},
     "output_type": "execute_result"
    }
   ],
   "source": [
    "df[['cos_similarity', 'paraphrase_pca']].corr()"
   ]
  },
  {
   "cell_type": "code",
   "execution_count": 37,
   "id": "8dbea87b-82ab-4111-8760-8ca893723ed3",
   "metadata": {},
   "outputs": [
    {
     "data": {
      "text/html": [
       "<div>\n",
       "<style scoped>\n",
       "    .dataframe tbody tr th:only-of-type {\n",
       "        vertical-align: middle;\n",
       "    }\n",
       "\n",
       "    .dataframe tbody tr th {\n",
       "        vertical-align: top;\n",
       "    }\n",
       "\n",
       "    .dataframe thead th {\n",
       "        text-align: right;\n",
       "    }\n",
       "</style>\n",
       "<table border=\"1\" class=\"dataframe\">\n",
       "  <thead>\n",
       "    <tr style=\"text-align: right;\">\n",
       "      <th></th>\n",
       "      <th>cos_similarity</th>\n",
       "      <th>content_pca</th>\n",
       "    </tr>\n",
       "  </thead>\n",
       "  <tbody>\n",
       "    <tr>\n",
       "      <th>cos_similarity</th>\n",
       "      <td>1.000000</td>\n",
       "      <td>0.286041</td>\n",
       "    </tr>\n",
       "    <tr>\n",
       "      <th>content_pca</th>\n",
       "      <td>0.286041</td>\n",
       "      <td>1.000000</td>\n",
       "    </tr>\n",
       "  </tbody>\n",
       "</table>\n",
       "</div>"
      ],
      "text/plain": [
       "                cos_similarity  content_pca\n",
       "cos_similarity        1.000000     0.286041\n",
       "content_pca           0.286041     1.000000"
      ]
     },
     "execution_count": 37,
     "metadata": {},
     "output_type": "execute_result"
    }
   ],
   "source": [
    "df[['cos_similarity', 'content_pca']].corr()"
   ]
  },
  {
   "cell_type": "code",
   "execution_count": 38,
   "id": "5f26a0ab-a13a-4a84-b0ac-1d4579b150a4",
   "metadata": {},
   "outputs": [
    {
     "ename": "NameError",
     "evalue": "name 'savefig' is not defined",
     "output_type": "error",
     "traceback": [
      "\u001b[0;31m---------------------------------------------------------------------------\u001b[0m",
      "\u001b[0;31mNameError\u001b[0m                                 Traceback (most recent call last)",
      "Input \u001b[0;32mIn [38]\u001b[0m, in \u001b[0;36m<cell line: 4>\u001b[0;34m()\u001b[0m\n\u001b[1;32m      1\u001b[0m \u001b[38;5;28;01mimport\u001b[39;00m \u001b[38;5;21;01mseaborn\u001b[39;00m \u001b[38;5;28;01mas\u001b[39;00m \u001b[38;5;21;01msns\u001b[39;00m\n\u001b[1;32m      3\u001b[0m sns\u001b[38;5;241m.\u001b[39mlmplot(data\u001b[38;5;241m=\u001b[39mdf, x\u001b[38;5;241m=\u001b[39m\u001b[38;5;124m'\u001b[39m\u001b[38;5;124mcos_similarity\u001b[39m\u001b[38;5;124m'\u001b[39m, y\u001b[38;5;241m=\u001b[39m\u001b[38;5;124m'\u001b[39m\u001b[38;5;124mcontent_pca\u001b[39m\u001b[38;5;124m'\u001b[39m)\n\u001b[0;32m----> 4\u001b[0m \u001b[43msavefig\u001b[49m\n",
      "\u001b[0;31mNameError\u001b[0m: name 'savefig' is not defined"
     ]
    },
    {
     "data": {
      "image/png": "[encoded data removed]",
      "text/plain": [
       "<Figure size 360x360 with 1 Axes>"
      ]
     },
     "metadata": {
      "needs_background": "light"
     },
     "output_type": "display_data"
    }
   ],
   "source": [
    "import seaborn as sns\n",
    "\n",
    "sns.lmplot(data=df, x='cos_similarity', y='content_pca')\n",
    "savefig"
   ]
  },
  {
   "cell_type": "code",
   "execution_count": 78,
   "id": "2e8ef502-af08-4699-9586-073daeb42ac3",
   "metadata": {},
   "outputs": [
    {
     "data": {
      "text/plain": [
       "Index(['text', 'prompt', 'content_pca', 'paraphrase_pca', 'cos_similarity'], dtype='object')"
      ]
     },
     "execution_count": 78,
     "metadata": {},
     "output_type": "execute_result"
    }
   ],
   "source": [
    "df.to_csv('cos_similarity.csv')"
   ]
  },
  {
   "cell_type": "code",
   "execution_count": 77,
   "id": "c52f9c5c-d487-4d18-a59d-15fc3c6d8793",
   "metadata": {},
   "outputs": [
    {
     "name": "stdout",
     "output_type": "stream",
     "text": [
      "4690\n",
      "cosine similarity\n",
      " 0.9386657476425171\n",
      "SOURCE\n",
      " Text 1\n",
      "\n",
      "\n",
      "\n",
      "Different types of radiation\n",
      "\n",
      "Houghton Mifflin Harcourt\n",
      "\n",
      "Excerpt from “From particles to quasars”, a textbook in physics for upper secondary school \n",
      "\n",
      "By science teachers Sara Thompson and Brett Livingston \n",
      "\n",
      "\n",
      "\n",
      "Ultraviolet radiation\n",
      "\n",
      "Ultraviolet radiation (UV) is electromagnetic radiation with a higher energy than visible light. UV radiation comes naturally from the sun, but is also produced in tanning beds.\n",
      "\n",
      "\n",
      "\n",
      "The UV index is a measure of the strength of UV radiation. A higher UV-index means stronger radiation, and the following categories are used: 1-2 (low radiation), 3-5 (moderate radiation), 6-7 (high radiation), 8-10 (very high radiation) and 11→ (extreme radiation). Radiation levels can be high or low depending on the seasons and elevation levels.  For example, a thick cloud cover and/or a thick ozone layer can reduce UV radiation, while UV radiation can increase when the sun is high in the sky. Snow and water also reflect more UV radiation than grass and dark surfaces. For example, in Norway, on a clear summer’s day in the lowlands, the UV index will typically range from 4 to 6, while in January it rarely exceeds 0.5. In addition to season, there are other factors that influence the strength of the UV radiation. This means that UV radiation can be stronger near water and when there is snow (for example in the mountains). \n",
      "\n",
      "\n",
      "\n",
      "Three different types of UV radiation \n",
      "\n",
      "UVA radiation is closest to visible light and has the least energy of the three types of UV radiation. When sunbathing, the UVA rays give us our tan. UVA accounts for up to 98% of the UV-radiation that reaches the Earth’s surface.\n",
      "\n",
      "\n",
      "\n",
      "UVB radiation has higher energy that UVA radiation. With too much sun exposure, the UVB rays give us sunburn. UVB also gives us a somewhat thicker skin, which provides a certain protection against further UV radiation. The ozone layer prevents 70‒90% of UVB radiation from reaching the Earth’s surface.\n",
      "\n",
      "\n",
      "\n",
      "UVC rays are the most energy-rich form of UV rays. The UVC rays are effectively absorbed by the ozone layer and other gases in the atmosphere, and they therefore do not occur naturally at the Earth’s surface.\n",
      "\n",
      " \n",
      "\n",
      "UV radiation and health\n",
      "\n",
      "Many researchers investigate the influence of UV radiation on our health. Some researchers have been concerned with the potentially health-damaging effects of UV radiation. For example, it has been claimed that UV radiation can lead to an increased risk of skin cancer. Other researchers have documented that UV radiation has a positive effect through the generation of vitamin D, which prevents certain forms of cancer. There is therefore a need for more research on the effects of UV radiation on our health.\n",
      "\n",
      "\n",
      "\n",
      "\n",
      "Text 2\n",
      "\n",
      "\n",
      "Are you getting enough sun? Well-respected cancer researcher warns against sun deficiency\n",
      "\n",
      "Journalist Blake Stein – August 25, 2008   \n",
      "\n",
      "Boston Globe\n",
      "\n",
      "\n",
      "\n",
      "Research indicates that sufficient amounts of vitamin D can reduce the risk of developing cancer by a third. We obtain vitamin D from the sun. Thirty minutes of sun every day can have a large effect.\n",
      "\n",
      "Can sunrays protect against cancer? This was a surprising claim presented in an American study on the role of vitamin D. Having sufficient amounts of vitamin D can reduce the risk of developing cancer. This may appear confusing to most people. For years, we have been told that too much tanning is harmful. Long working days and increasing use of sunscreen mean that a lot of people are less exposed to sunlight – and this may have serious consequences.\n",
      "\n",
      "\n",
      "\n",
      "Sunrays are important for generating vitamin D in our cells. Vitamin D can counteract osteoporosis and muscle problems. Now, however, proof has also been presented showing that vitamin D helps prevent cancer. \n",
      "\n",
      "\n",
      "\n",
      "New American research\n",
      "\n",
      "A team led by Professor Edward Gillies at Harvard University in Boston has conducted a long-term study of 50,000 men. It was discovered that those who have a high level of vitamin D in their bodies are less susceptible to cancer. In people who ingest at least 5 micrograms (µg) of vitamin D through their meals and regular periods of outdoor activity, the risk of cancer is reduced by one-third. The researchers expect to arrive at the same results when the study is repeated with women.\n",
      "\n",
      "\n",
      "\n",
      "The results from many studies indicate that vitamin D is good for our health and can protect against breast, colon and prostate cancer. Now it appears as though vitamin D can also protect against all forms of cancer. This nutrient counteracts abnormal cell development, which is what happens in cancer. Professor Gillies thinks that the cells in the body use vitamin D to “stay normal”. He also thinks that everybody can protect themselves with vitamin D. If everybody has a sufficient intake of vitamin D (between 15 µg and 25 µg) it would be equivalent to finding a cure for cancer.\n",
      "\n",
      "\n",
      "\n",
      "\n",
      "\n",
      "\n",
      "\n",
      "\n",
      "Text 3 \n",
      "\n",
      "\n",
      "\n",
      "American Cancer Society\n",
      "\n",
      " \n",
      "\n",
      "UV radiation and cancer\n",
      "\n",
      "Ultraviolet (UV) radiation from the sun and tanning beds can damage our DNA. This is the most important genetic material in our cells. The DNA controls how cells grow and divide, and damage caused by the sun impedes it from doing this. Such damage can cause skin cancer.\n",
      "\n",
      " \n",
      "\n",
      "Cancer types \n",
      "\n",
      "There are two types of skin cancer: basal-cell carcinoma and melanoma. Basal-cell carcinoma is the most frequent type. It occurs in the basal cells, which are found in the outer layer of the skin. Melanoma is rarer, and is a malignant tumor. \n",
      "\n",
      "UV radiation is the most common cause of skin cancer. People who live in sunny regions are highly susceptible to skin cancer. In addition, lip cancer is associated with UV radiation. People who work outdoors for prolonged periods have a higher risk of developing lip cancer.\n",
      "\n",
      "\n",
      "\n",
      "UV radiation occurs primarily in sunlight. Tanning beds are another source. People who sunbathe have a higher risk of developing basal-cell carcinoma and melanoma. The risk depends on the amount of UV radiation, that is, the strength of the light and how long the skin is exposed to radiation. This means that the risk of developing skin cancer is twice as high in Jerusalem as in Milan. Protection of the skin with clothing and sunscreen also matters.\n",
      "\n",
      " \n",
      "\n",
      "How to reduce the risk \n",
      "\n",
      "It is easy to reduce the risk of developing skin cancer, since people can choose their level of sun exposure. Some simple advice:\n",
      "\n",
      "·       Do not use a tanning bed. This is not a safe way to get a tan.\n",
      "\n",
      "·       When outdoors it is best to stay in the shade, especially between 10 a.m. and 4 p.m. when the sunlight is at its strongest.\n",
      "\n",
      "·       Clothing protects. Use long-sleeved tops and headwear.\n",
      "\n",
      "·       Use sunglasses that fit properly and provide 99% to 100% UV protection. Such glasses provide the best protection for your eyes.\n",
      "\n",
      "·       Always use a sunscreen with an SPF of at least 15, even on cloudy days. UV radiation will penetrate the clouds. \n",
      "\n",
      "·       Apply sunscreen often. The protection provided by the sunscreen can disappear when you go swimming or if you are perspiring.\n",
      "\n",
      "\n",
      "\n",
      "Sun damage can accumulate over the years. Children and adolescents can be exposed to large amounts of UV radiation. Although this may seem harmless when they are young, it will increase their risk of developing cancer later in life. Infants and small children are especially vulnerable.\n",
      "\n",
      "\n",
      "\n",
      "\n",
      "Text 4\n",
      "\n",
      "\n",
      "\n",
      "Research magazine from Stanford University Journalist Anne Simonson – January 13, 2008\n",
      "\n",
      "\n",
      "\n",
      "The sun counteracts cancer\n",
      "\n",
      "Sunrays that hit our skin reinforce the body’s own defense against cancer. The campaigns to get people out of the sun have gone too far, according to the researcher Johan Moan.\n",
      "\n",
      "\n",
      "\n",
      "“The rays of the sun speed up the body’s production of vitamin D. This can prevent cancer as well as many other diseases.” So says Johan Moan, Professor at the Cancer Center at Boston Medical Center. Along with colleagues from Norway, he is presenting results that support the theory that sun exposure provides the body with a more effective defense against cancer. The findings show, for example, that people who live closer to the equator, and whose bodies hence are more exposed to the sun, have a better chance of survival if they develop cancer in their internal organs. Moreover, they show that cancer patients have a better prognosis if they are diagnosed in summer or autumn, when their store of vitamin D has been replenished. Their research has been published in the prestigious scientific journal Proceedings of the National Academy of Sciences.\n",
      "\n",
      "\n",
      "\n",
      "Sunbathing or cod-liver oil is important to northerners\n",
      "\n",
      "Vitamin D has also been shown to play a protective role in many types of cancer of internal organs, and possibly also for a number of other diseases. Avoiding the sun can thus do more harm than good, according to Richard Setlow, who is one of Moan’s collaborators. He thinks that this applies especially to us northerners, who see little of the sun for long periods of the year. Setlow is a biophysicist at the Brookhaven National Laboratory and is one of the world’s most recognized experts on the relationship between solar radiation and skin cancer.\n",
      "\n",
      "\n",
      "\n",
      "“People are being advised to spend less time in the sun, but some sun without sunscreen is healthy for us. If you stay outside for half an hour in midsummer, you obtain the same amount of vitamin D as you would from drinking a small bottle of cod-liver oil,” Moan says. He claims that in addition, it would be beneficial to use a tanning bed once or twice a week during the dark winter months, because this provides an excellent supplement of vitamin D at that time of year. “From November to March we obtain no vitamin D from the sun, and we therefore need to ingest it or obtain it from a tanning bed,” Moan explains.\n",
      "\n",
      "\n",
      "\n",
      "Melanomas are triggered by the type of solar radiation known as UVA. The body’s production of vitamin D is stimulated by the type of solar radiation known as UVB. Perhaps we should change the sunscreens so that they do not block as much of the UVB radiation, while still protecting us against the UVA rays, according to Setlow.\n",
      "\n",
      "\n",
      "\n",
      "\n",
      "\n",
      "\n",
      "Text 5\n",
      "\n",
      "\n",
      "\n",
      "Sunbathing causes cancer \n",
      "\n",
      "By Alex McFadden, Journalist at slate.com\n",
      "\n",
      " \n",
      "\n",
      "According to a recent study, there is no safe way to sunbathe. Even small doses of ultraviolet radiation from the sun and tanning beds may cause cancer.\n",
      "\n",
      "Ultraviolet (UV) radiation is one of the most frequent causes of cancer, but it can be avoided. So says Professor David E. Fisher in an interview with slate.com about his most recent study of the relationship between UV radiation and skin cancer.\n",
      "\n",
      " \n",
      "\n",
      "Fisher’s study shows that people who have used a tanning bed before the age of 35 have a 75% higher likelihood of developing skin cancer than those who have not used a tanning bed at such an early age. In fact, the results show that having used a tanning bed even once results in a higher risk of skin cancer.\n",
      "\n",
      " \n",
      "\n",
      "According to a study conducted in Norway, “each year, approximately 250 people die in Norway from skin cancer primarily because of excessive sunbathing. The risk of cancer increases, since many are not sufficiently careful in applying sunscreen and taking breaks in the shade. There are grounds for serious concern when nearly 30% of adolescents report that they are “completely certain” that they will be sunburned during their holidays. Having sunburn increases the overall risk of skin cancer.\n",
      " \n",
      "\n",
      "Sunbathing is a dangerous source of vitamin D \n",
      "\n",
      "Fisher points out how some researchers recommend the population to sunbathe to obtain sufficient vitamin D, but he warns that such a recommendation has many problems.\n",
      "\n",
      " \n",
      "\n",
      "“We are thus in a situation where people are recommended to use something that we know is carcinogenic to obtain a vitamin. There are many far safer ways to obtain this vitamin. If you suspect that you have too little vitamin D, go to your doctor to have a blood sample taken. If the test shows that you have too little of this important vitamin, the solution ought to be cod-liver oil or a vitamin D supplement. From a medical point of view, this is a very simple issue, and we have a clear and unambiguous answer to the question of whether people should sunbathe to obtain enough vitamin D. We have safe ways to measure people’s level of vitamin D, and we have safe ways to treat vitamin D deficiency if necessary. There is thus no reason to try to guess how much UV radiation one needs to stay healthy. This is neither very smart, nor very healthy,” Fisher says.\n",
      "TEXT\n",
      " Different radiations\n",
      "\n",
      "There are different types of UV radiation: UVA, UVB, (and UVC, which does not occur naturally at the earth's surface and is absorbed the ozone level.)\n",
      "UVA radiation has the least energy of the three types of radiation, and this is what gives us a tan. UVB radiation has higher energy and it can give you sunburn. UVB also give you thicker skin and provides protection against certain cancer. There is controversy among researchers as some think UV radiation is more harmful than helpful, and others point out that it is helpful because it generates vitamin D which helps fight cancer. More research is needed on UV radiation.\n",
      "\n"
     ]
    }
   ],
   "source": [
    "i = 1260\n",
    "print(len(df))\n",
    "print('cosine similarity\\n', df.sort_values(by='cos_similarity').reset_index().iloc[i]['cos_similarity'])\n",
    "print('SOURCE\\n', df.sort_values(by='cos_similarity').reset_index().iloc[i]['prompt'])\n",
    "print('TEXT\\n', df.sort_values(by='cos_similarity').reset_index().iloc[i]['text'])"
   ]
  }
 ],
 "metadata": {
  "kernelspec": {
   "display_name": "Python [conda env:transformers]",
   "language": "python",
   "name": "conda-env-transformers-py"
  },
  "language_info": {
   "codemirror_mode": {
    "name": "ipython",
    "version": 3
   },
   "file_extension": ".py",
   "mimetype": "text/x-python",
   "name": "python",
   "nbconvert_exporter": "python",
   "pygments_lexer": "ipython3",
   "version": "3.10.5"
  }
 },
 "nbformat": 4,
 "nbformat_minor": 5
}
